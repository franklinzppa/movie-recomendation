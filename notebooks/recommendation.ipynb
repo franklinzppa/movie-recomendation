{
 "cells": [
  {
   "cell_type": "markdown",
   "id": "ba0fa819",
   "metadata": {},
   "source": [
    "# Movie Recommendations"
   ]
  },
  {
   "cell_type": "markdown",
   "id": "593fcd47",
   "metadata": {},
   "source": [
    "Recommendation systems are used to filter among a catalog of possibilities, which ones should be presented to the user. Those systems can be used to enhance the user experience by making the content available to user relavant. In this project, we're going to explore a <a href=\"https://grouplens.org/datasets/movielens/25m/\">movie dataset</a>, and present some of the key types of recommendations systems."
   ]
  },
  {
   "cell_type": "markdown",
   "id": "d6bbb9cc",
   "metadata": {},
   "source": [
    "## 1. Importing and inspecting data"
   ]
  },
  {
   "cell_type": "markdown",
   "id": "daa4fd53",
   "metadata": {
    "ExecuteTime": {
     "end_time": "2023-09-10T16:36:35.116674Z",
     "start_time": "2023-09-10T16:36:35.113852Z"
    }
   },
   "source": [
    "### 1.1 Inspection"
   ]
  },
  {
   "cell_type": "code",
   "execution_count": 1,
   "id": "ee4a88f1",
   "metadata": {
    "ExecuteTime": {
     "end_time": "2023-10-02T14:49:10.374697Z",
     "start_time": "2023-10-02T14:49:08.665935Z"
    }
   },
   "outputs": [],
   "source": [
    "import pandas as pd\n",
    "import numpy as np\n",
    "import seaborn as sns\n",
    "import matplotlib.pyplot as plt"
   ]
  },
  {
   "cell_type": "markdown",
   "id": "1c47dd31",
   "metadata": {},
   "source": [
    "We start by importing and checking our data."
   ]
  },
  {
   "cell_type": "code",
   "execution_count": 2,
   "id": "ca568945",
   "metadata": {
    "ExecuteTime": {
     "end_time": "2023-10-02T14:49:12.373899Z",
     "start_time": "2023-10-02T14:49:10.377206Z"
    }
   },
   "outputs": [],
   "source": [
    "movies = pd.read_parquet(\"../data/movies.parquet\")\n",
    "ratings = pd.read_parquet(\"../data/ratings.parquet\")"
   ]
  },
  {
   "cell_type": "code",
   "execution_count": 3,
   "id": "dddb5c0e",
   "metadata": {
    "ExecuteTime": {
     "end_time": "2023-10-02T14:49:12.437601Z",
     "start_time": "2023-10-02T14:49:12.376895Z"
    }
   },
   "outputs": [
    {
     "data": {
      "text/html": [
       "<div>\n",
       "<style scoped>\n",
       "    .dataframe tbody tr th:only-of-type {\n",
       "        vertical-align: middle;\n",
       "    }\n",
       "\n",
       "    .dataframe tbody tr th {\n",
       "        vertical-align: top;\n",
       "    }\n",
       "\n",
       "    .dataframe thead th {\n",
       "        text-align: right;\n",
       "    }\n",
       "</style>\n",
       "<table border=\"1\" class=\"dataframe\">\n",
       "  <thead>\n",
       "    <tr style=\"text-align: right;\">\n",
       "      <th></th>\n",
       "      <th>movieId</th>\n",
       "      <th>title</th>\n",
       "      <th>genres</th>\n",
       "    </tr>\n",
       "  </thead>\n",
       "  <tbody>\n",
       "    <tr>\n",
       "      <th>0</th>\n",
       "      <td>1</td>\n",
       "      <td>Toy Story (1995)</td>\n",
       "      <td>Adventure|Animation|Children|Comedy|Fantasy</td>\n",
       "    </tr>\n",
       "    <tr>\n",
       "      <th>1</th>\n",
       "      <td>2</td>\n",
       "      <td>Jumanji (1995)</td>\n",
       "      <td>Adventure|Children|Fantasy</td>\n",
       "    </tr>\n",
       "    <tr>\n",
       "      <th>2</th>\n",
       "      <td>3</td>\n",
       "      <td>Grumpier Old Men (1995)</td>\n",
       "      <td>Comedy|Romance</td>\n",
       "    </tr>\n",
       "    <tr>\n",
       "      <th>3</th>\n",
       "      <td>4</td>\n",
       "      <td>Waiting to Exhale (1995)</td>\n",
       "      <td>Comedy|Drama|Romance</td>\n",
       "    </tr>\n",
       "    <tr>\n",
       "      <th>4</th>\n",
       "      <td>5</td>\n",
       "      <td>Father of the Bride Part II (1995)</td>\n",
       "      <td>Comedy</td>\n",
       "    </tr>\n",
       "  </tbody>\n",
       "</table>\n",
       "</div>"
      ],
      "text/plain": [
       "   movieId                               title  \\\n",
       "0        1                    Toy Story (1995)   \n",
       "1        2                      Jumanji (1995)   \n",
       "2        3             Grumpier Old Men (1995)   \n",
       "3        4            Waiting to Exhale (1995)   \n",
       "4        5  Father of the Bride Part II (1995)   \n",
       "\n",
       "                                        genres  \n",
       "0  Adventure|Animation|Children|Comedy|Fantasy  \n",
       "1                   Adventure|Children|Fantasy  \n",
       "2                               Comedy|Romance  \n",
       "3                         Comedy|Drama|Romance  \n",
       "4                                       Comedy  "
      ]
     },
     "execution_count": 3,
     "metadata": {},
     "output_type": "execute_result"
    }
   ],
   "source": [
    "movies.head()"
   ]
  },
  {
   "cell_type": "code",
   "execution_count": 4,
   "id": "e0342a25",
   "metadata": {
    "ExecuteTime": {
     "end_time": "2023-10-02T14:49:12.457770Z",
     "start_time": "2023-10-02T14:49:12.441436Z"
    }
   },
   "outputs": [
    {
     "data": {
      "text/html": [
       "<div>\n",
       "<style scoped>\n",
       "    .dataframe tbody tr th:only-of-type {\n",
       "        vertical-align: middle;\n",
       "    }\n",
       "\n",
       "    .dataframe tbody tr th {\n",
       "        vertical-align: top;\n",
       "    }\n",
       "\n",
       "    .dataframe thead th {\n",
       "        text-align: right;\n",
       "    }\n",
       "</style>\n",
       "<table border=\"1\" class=\"dataframe\">\n",
       "  <thead>\n",
       "    <tr style=\"text-align: right;\">\n",
       "      <th></th>\n",
       "      <th>userId</th>\n",
       "      <th>movieId</th>\n",
       "      <th>rating</th>\n",
       "      <th>timestamp</th>\n",
       "    </tr>\n",
       "  </thead>\n",
       "  <tbody>\n",
       "    <tr>\n",
       "      <th>0</th>\n",
       "      <td>1</td>\n",
       "      <td>296</td>\n",
       "      <td>5.0</td>\n",
       "      <td>1147880044</td>\n",
       "    </tr>\n",
       "    <tr>\n",
       "      <th>1</th>\n",
       "      <td>1</td>\n",
       "      <td>306</td>\n",
       "      <td>3.5</td>\n",
       "      <td>1147868817</td>\n",
       "    </tr>\n",
       "    <tr>\n",
       "      <th>2</th>\n",
       "      <td>1</td>\n",
       "      <td>307</td>\n",
       "      <td>5.0</td>\n",
       "      <td>1147868828</td>\n",
       "    </tr>\n",
       "    <tr>\n",
       "      <th>3</th>\n",
       "      <td>1</td>\n",
       "      <td>665</td>\n",
       "      <td>5.0</td>\n",
       "      <td>1147878820</td>\n",
       "    </tr>\n",
       "    <tr>\n",
       "      <th>4</th>\n",
       "      <td>1</td>\n",
       "      <td>899</td>\n",
       "      <td>3.5</td>\n",
       "      <td>1147868510</td>\n",
       "    </tr>\n",
       "  </tbody>\n",
       "</table>\n",
       "</div>"
      ],
      "text/plain": [
       "   userId  movieId  rating   timestamp\n",
       "0       1      296     5.0  1147880044\n",
       "1       1      306     3.5  1147868817\n",
       "2       1      307     5.0  1147868828\n",
       "3       1      665     5.0  1147878820\n",
       "4       1      899     3.5  1147868510"
      ]
     },
     "execution_count": 4,
     "metadata": {},
     "output_type": "execute_result"
    }
   ],
   "source": [
    "ratings.head()"
   ]
  },
  {
   "cell_type": "code",
   "execution_count": 5,
   "id": "ac9f393b",
   "metadata": {
    "ExecuteTime": {
     "end_time": "2023-10-02T14:49:12.525594Z",
     "start_time": "2023-10-02T14:49:12.460259Z"
    }
   },
   "outputs": [
    {
     "name": "stdout",
     "output_type": "stream",
     "text": [
      "<class 'pandas.core.frame.DataFrame'>\n",
      "RangeIndex: 62423 entries, 0 to 62422\n",
      "Data columns (total 3 columns):\n",
      " #   Column   Non-Null Count  Dtype \n",
      "---  ------   --------------  ----- \n",
      " 0   movieId  62423 non-null  int64 \n",
      " 1   title    62423 non-null  object\n",
      " 2   genres   62423 non-null  object\n",
      "dtypes: int64(1), object(2)\n",
      "memory usage: 1.4+ MB\n"
     ]
    }
   ],
   "source": [
    "movies.info()"
   ]
  },
  {
   "cell_type": "code",
   "execution_count": 6,
   "id": "9324962f",
   "metadata": {
    "ExecuteTime": {
     "end_time": "2023-10-02T14:49:12.544978Z",
     "start_time": "2023-10-02T14:49:12.531966Z"
    },
    "scrolled": false
   },
   "outputs": [
    {
     "name": "stdout",
     "output_type": "stream",
     "text": [
      "<class 'pandas.core.frame.DataFrame'>\n",
      "RangeIndex: 25000095 entries, 0 to 25000094\n",
      "Data columns (total 4 columns):\n",
      " #   Column     Dtype  \n",
      "---  ------     -----  \n",
      " 0   userId     int64  \n",
      " 1   movieId    int64  \n",
      " 2   rating     float64\n",
      " 3   timestamp  int64  \n",
      "dtypes: float64(1), int64(3)\n",
      "memory usage: 762.9 MB\n"
     ]
    }
   ],
   "source": [
    "ratings.info()"
   ]
  },
  {
   "cell_type": "code",
   "execution_count": 7,
   "id": "79b923e8",
   "metadata": {
    "ExecuteTime": {
     "end_time": "2023-10-02T14:49:12.589063Z",
     "start_time": "2023-10-02T14:49:12.548203Z"
    }
   },
   "outputs": [
    {
     "data": {
      "text/html": [
       "<div>\n",
       "<style scoped>\n",
       "    .dataframe tbody tr th:only-of-type {\n",
       "        vertical-align: middle;\n",
       "    }\n",
       "\n",
       "    .dataframe tbody tr th {\n",
       "        vertical-align: top;\n",
       "    }\n",
       "\n",
       "    .dataframe thead th {\n",
       "        text-align: right;\n",
       "    }\n",
       "</style>\n",
       "<table border=\"1\" class=\"dataframe\">\n",
       "  <thead>\n",
       "    <tr style=\"text-align: right;\">\n",
       "      <th></th>\n",
       "      <th>movieId</th>\n",
       "    </tr>\n",
       "  </thead>\n",
       "  <tbody>\n",
       "    <tr>\n",
       "      <th>count</th>\n",
       "      <td>62423.000000</td>\n",
       "    </tr>\n",
       "    <tr>\n",
       "      <th>mean</th>\n",
       "      <td>122220.387646</td>\n",
       "    </tr>\n",
       "    <tr>\n",
       "      <th>std</th>\n",
       "      <td>63264.744844</td>\n",
       "    </tr>\n",
       "    <tr>\n",
       "      <th>min</th>\n",
       "      <td>1.000000</td>\n",
       "    </tr>\n",
       "    <tr>\n",
       "      <th>25%</th>\n",
       "      <td>82146.500000</td>\n",
       "    </tr>\n",
       "    <tr>\n",
       "      <th>50%</th>\n",
       "      <td>138022.000000</td>\n",
       "    </tr>\n",
       "    <tr>\n",
       "      <th>75%</th>\n",
       "      <td>173222.000000</td>\n",
       "    </tr>\n",
       "    <tr>\n",
       "      <th>max</th>\n",
       "      <td>209171.000000</td>\n",
       "    </tr>\n",
       "  </tbody>\n",
       "</table>\n",
       "</div>"
      ],
      "text/plain": [
       "             movieId\n",
       "count   62423.000000\n",
       "mean   122220.387646\n",
       "std     63264.744844\n",
       "min         1.000000\n",
       "25%     82146.500000\n",
       "50%    138022.000000\n",
       "75%    173222.000000\n",
       "max    209171.000000"
      ]
     },
     "execution_count": 7,
     "metadata": {},
     "output_type": "execute_result"
    }
   ],
   "source": [
    "movies.describe()"
   ]
  },
  {
   "cell_type": "code",
   "execution_count": 8,
   "id": "26d140be",
   "metadata": {
    "ExecuteTime": {
     "end_time": "2023-10-02T14:49:19.220581Z",
     "start_time": "2023-10-02T14:49:12.595986Z"
    },
    "scrolled": true
   },
   "outputs": [
    {
     "data": {
      "text/html": [
       "<div>\n",
       "<style scoped>\n",
       "    .dataframe tbody tr th:only-of-type {\n",
       "        vertical-align: middle;\n",
       "    }\n",
       "\n",
       "    .dataframe tbody tr th {\n",
       "        vertical-align: top;\n",
       "    }\n",
       "\n",
       "    .dataframe thead th {\n",
       "        text-align: right;\n",
       "    }\n",
       "</style>\n",
       "<table border=\"1\" class=\"dataframe\">\n",
       "  <thead>\n",
       "    <tr style=\"text-align: right;\">\n",
       "      <th></th>\n",
       "      <th>userId</th>\n",
       "      <th>movieId</th>\n",
       "      <th>rating</th>\n",
       "      <th>timestamp</th>\n",
       "    </tr>\n",
       "  </thead>\n",
       "  <tbody>\n",
       "    <tr>\n",
       "      <th>count</th>\n",
       "      <td>2.500010e+07</td>\n",
       "      <td>2.500010e+07</td>\n",
       "      <td>2.500010e+07</td>\n",
       "      <td>2.500010e+07</td>\n",
       "    </tr>\n",
       "    <tr>\n",
       "      <th>mean</th>\n",
       "      <td>8.118928e+04</td>\n",
       "      <td>2.138798e+04</td>\n",
       "      <td>3.533854e+00</td>\n",
       "      <td>1.215601e+09</td>\n",
       "    </tr>\n",
       "    <tr>\n",
       "      <th>std</th>\n",
       "      <td>4.679172e+04</td>\n",
       "      <td>3.919886e+04</td>\n",
       "      <td>1.060744e+00</td>\n",
       "      <td>2.268758e+08</td>\n",
       "    </tr>\n",
       "    <tr>\n",
       "      <th>min</th>\n",
       "      <td>1.000000e+00</td>\n",
       "      <td>1.000000e+00</td>\n",
       "      <td>5.000000e-01</td>\n",
       "      <td>7.896520e+08</td>\n",
       "    </tr>\n",
       "    <tr>\n",
       "      <th>25%</th>\n",
       "      <td>4.051000e+04</td>\n",
       "      <td>1.196000e+03</td>\n",
       "      <td>3.000000e+00</td>\n",
       "      <td>1.011747e+09</td>\n",
       "    </tr>\n",
       "    <tr>\n",
       "      <th>50%</th>\n",
       "      <td>8.091400e+04</td>\n",
       "      <td>2.947000e+03</td>\n",
       "      <td>3.500000e+00</td>\n",
       "      <td>1.198868e+09</td>\n",
       "    </tr>\n",
       "    <tr>\n",
       "      <th>75%</th>\n",
       "      <td>1.215570e+05</td>\n",
       "      <td>8.623000e+03</td>\n",
       "      <td>4.000000e+00</td>\n",
       "      <td>1.447205e+09</td>\n",
       "    </tr>\n",
       "    <tr>\n",
       "      <th>max</th>\n",
       "      <td>1.625410e+05</td>\n",
       "      <td>2.091710e+05</td>\n",
       "      <td>5.000000e+00</td>\n",
       "      <td>1.574328e+09</td>\n",
       "    </tr>\n",
       "  </tbody>\n",
       "</table>\n",
       "</div>"
      ],
      "text/plain": [
       "             userId       movieId        rating     timestamp\n",
       "count  2.500010e+07  2.500010e+07  2.500010e+07  2.500010e+07\n",
       "mean   8.118928e+04  2.138798e+04  3.533854e+00  1.215601e+09\n",
       "std    4.679172e+04  3.919886e+04  1.060744e+00  2.268758e+08\n",
       "min    1.000000e+00  1.000000e+00  5.000000e-01  7.896520e+08\n",
       "25%    4.051000e+04  1.196000e+03  3.000000e+00  1.011747e+09\n",
       "50%    8.091400e+04  2.947000e+03  3.500000e+00  1.198868e+09\n",
       "75%    1.215570e+05  8.623000e+03  4.000000e+00  1.447205e+09\n",
       "max    1.625410e+05  2.091710e+05  5.000000e+00  1.574328e+09"
      ]
     },
     "execution_count": 8,
     "metadata": {},
     "output_type": "execute_result"
    }
   ],
   "source": [
    "ratings.describe()"
   ]
  },
  {
   "cell_type": "code",
   "execution_count": 9,
   "id": "f38c1825",
   "metadata": {
    "ExecuteTime": {
     "end_time": "2023-10-02T14:49:19.521492Z",
     "start_time": "2023-10-02T14:49:19.223643Z"
    }
   },
   "outputs": [
    {
     "data": {
      "text/plain": [
       "4.0    6639798\n",
       "3.0    4896928\n",
       "5.0    3612474\n",
       "3.5    3177318\n",
       "4.5    2200539\n",
       "2.0    1640868\n",
       "2.5    1262797\n",
       "1.0     776815\n",
       "1.5     399490\n",
       "0.5     393068\n",
       "Name: rating, dtype: int64"
      ]
     },
     "execution_count": 9,
     "metadata": {},
     "output_type": "execute_result"
    }
   ],
   "source": [
    "ratings['rating'].value_counts()"
   ]
  },
  {
   "cell_type": "markdown",
   "id": "592d8764",
   "metadata": {},
   "source": [
    "`dtype` for ratings seems to be a bit too much."
   ]
  },
  {
   "cell_type": "markdown",
   "id": "f0349af3",
   "metadata": {},
   "source": [
    "Checking for missing data."
   ]
  },
  {
   "cell_type": "code",
   "execution_count": 10,
   "id": "017da663",
   "metadata": {
    "ExecuteTime": {
     "end_time": "2023-10-02T14:49:19.551411Z",
     "start_time": "2023-10-02T14:49:19.523562Z"
    }
   },
   "outputs": [
    {
     "data": {
      "text/plain": [
       "movieId    0\n",
       "title      0\n",
       "genres     0\n",
       "dtype: int64"
      ]
     },
     "execution_count": 10,
     "metadata": {},
     "output_type": "execute_result"
    }
   ],
   "source": [
    "movies.isna().sum()"
   ]
  },
  {
   "cell_type": "code",
   "execution_count": 11,
   "id": "bd52db5e",
   "metadata": {
    "ExecuteTime": {
     "end_time": "2023-10-02T14:49:19.686404Z",
     "start_time": "2023-10-02T14:49:19.553587Z"
    }
   },
   "outputs": [
    {
     "data": {
      "text/plain": [
       "userId       0\n",
       "movieId      0\n",
       "rating       0\n",
       "timestamp    0\n",
       "dtype: int64"
      ]
     },
     "execution_count": 11,
     "metadata": {},
     "output_type": "execute_result"
    }
   ],
   "source": [
    "ratings.isna().sum()"
   ]
  },
  {
   "cell_type": "markdown",
   "id": "fc3afe5f",
   "metadata": {},
   "source": [
    "Checking duplicates."
   ]
  },
  {
   "cell_type": "code",
   "execution_count": 12,
   "id": "701e02d2",
   "metadata": {
    "ExecuteTime": {
     "end_time": "2023-10-02T14:49:19.725600Z",
     "start_time": "2023-10-02T14:49:19.689048Z"
    }
   },
   "outputs": [
    {
     "data": {
      "text/plain": [
       "0"
      ]
     },
     "execution_count": 12,
     "metadata": {},
     "output_type": "execute_result"
    }
   ],
   "source": [
    "movies.duplicated().sum()"
   ]
  },
  {
   "cell_type": "code",
   "execution_count": 13,
   "id": "f3d172b3",
   "metadata": {
    "ExecuteTime": {
     "end_time": "2023-10-02T14:49:32.654645Z",
     "start_time": "2023-10-02T14:49:19.727925Z"
    }
   },
   "outputs": [
    {
     "data": {
      "text/plain": [
       "0"
      ]
     },
     "execution_count": 13,
     "metadata": {},
     "output_type": "execute_result"
    }
   ],
   "source": [
    "ratings.duplicated().sum()"
   ]
  },
  {
   "cell_type": "code",
   "execution_count": 14,
   "id": "d532eec6",
   "metadata": {
    "ExecuteTime": {
     "end_time": "2023-10-02T14:49:32.678779Z",
     "start_time": "2023-10-02T14:49:32.657113Z"
    }
   },
   "outputs": [
    {
     "data": {
      "text/plain": [
       "98"
      ]
     },
     "execution_count": 14,
     "metadata": {},
     "output_type": "execute_result"
    }
   ],
   "source": [
    "# There are duplicated titles\n",
    "movies['title'].duplicated().sum()"
   ]
  },
  {
   "cell_type": "markdown",
   "id": "3aa1458c",
   "metadata": {},
   "source": [
    "We don't have any nulls or duplicated data. But be mindful that there are duplicated movies titles."
   ]
  },
  {
   "cell_type": "markdown",
   "id": "ba5ba0f2",
   "metadata": {},
   "source": [
    "### 1.2 Preprocessing"
   ]
  },
  {
   "cell_type": "code",
   "execution_count": 15,
   "id": "22f5f8e1",
   "metadata": {
    "ExecuteTime": {
     "end_time": "2023-10-02T14:49:32.689805Z",
     "start_time": "2023-10-02T14:49:32.680971Z"
    }
   },
   "outputs": [],
   "source": [
    "# We can set the movieId as index for the table\n",
    "\n",
    "movies = movies.set_index('movieId')"
   ]
  },
  {
   "cell_type": "code",
   "execution_count": 16,
   "id": "44634bd0",
   "metadata": {
    "ExecuteTime": {
     "end_time": "2023-10-02T14:49:33.757998Z",
     "start_time": "2023-10-02T14:49:32.691687Z"
    }
   },
   "outputs": [],
   "source": [
    "# We won't be using the timestamp\n",
    "\n",
    "ratings = ratings.drop('timestamp', axis=1)"
   ]
  },
  {
   "cell_type": "code",
   "execution_count": 17,
   "id": "6173b153",
   "metadata": {
    "ExecuteTime": {
     "end_time": "2023-10-02T14:49:34.112791Z",
     "start_time": "2023-10-02T14:49:33.760498Z"
    }
   },
   "outputs": [],
   "source": [
    "ratings['rating'] = ratings['rating'].astype(np.float32)"
   ]
  },
  {
   "cell_type": "code",
   "execution_count": 18,
   "id": "83388c24",
   "metadata": {
    "ExecuteTime": {
     "end_time": "2023-10-02T14:49:34.124622Z",
     "start_time": "2023-10-02T14:49:34.115218Z"
    }
   },
   "outputs": [
    {
     "data": {
      "text/html": [
       "<div>\n",
       "<style scoped>\n",
       "    .dataframe tbody tr th:only-of-type {\n",
       "        vertical-align: middle;\n",
       "    }\n",
       "\n",
       "    .dataframe tbody tr th {\n",
       "        vertical-align: top;\n",
       "    }\n",
       "\n",
       "    .dataframe thead th {\n",
       "        text-align: right;\n",
       "    }\n",
       "</style>\n",
       "<table border=\"1\" class=\"dataframe\">\n",
       "  <thead>\n",
       "    <tr style=\"text-align: right;\">\n",
       "      <th></th>\n",
       "      <th>title</th>\n",
       "      <th>genres</th>\n",
       "    </tr>\n",
       "    <tr>\n",
       "      <th>movieId</th>\n",
       "      <th></th>\n",
       "      <th></th>\n",
       "    </tr>\n",
       "  </thead>\n",
       "  <tbody>\n",
       "    <tr>\n",
       "      <th>1</th>\n",
       "      <td>Toy Story (1995)</td>\n",
       "      <td>Adventure|Animation|Children|Comedy|Fantasy</td>\n",
       "    </tr>\n",
       "    <tr>\n",
       "      <th>2</th>\n",
       "      <td>Jumanji (1995)</td>\n",
       "      <td>Adventure|Children|Fantasy</td>\n",
       "    </tr>\n",
       "    <tr>\n",
       "      <th>3</th>\n",
       "      <td>Grumpier Old Men (1995)</td>\n",
       "      <td>Comedy|Romance</td>\n",
       "    </tr>\n",
       "    <tr>\n",
       "      <th>4</th>\n",
       "      <td>Waiting to Exhale (1995)</td>\n",
       "      <td>Comedy|Drama|Romance</td>\n",
       "    </tr>\n",
       "    <tr>\n",
       "      <th>5</th>\n",
       "      <td>Father of the Bride Part II (1995)</td>\n",
       "      <td>Comedy</td>\n",
       "    </tr>\n",
       "  </tbody>\n",
       "</table>\n",
       "</div>"
      ],
      "text/plain": [
       "                                      title  \\\n",
       "movieId                                       \n",
       "1                          Toy Story (1995)   \n",
       "2                            Jumanji (1995)   \n",
       "3                   Grumpier Old Men (1995)   \n",
       "4                  Waiting to Exhale (1995)   \n",
       "5        Father of the Bride Part II (1995)   \n",
       "\n",
       "                                              genres  \n",
       "movieId                                               \n",
       "1        Adventure|Animation|Children|Comedy|Fantasy  \n",
       "2                         Adventure|Children|Fantasy  \n",
       "3                                     Comedy|Romance  \n",
       "4                               Comedy|Drama|Romance  \n",
       "5                                             Comedy  "
      ]
     },
     "execution_count": 18,
     "metadata": {},
     "output_type": "execute_result"
    }
   ],
   "source": [
    "movies.head()"
   ]
  },
  {
   "cell_type": "code",
   "execution_count": 19,
   "id": "a5906225",
   "metadata": {
    "ExecuteTime": {
     "end_time": "2023-10-02T14:49:34.143615Z",
     "start_time": "2023-10-02T14:49:34.127940Z"
    }
   },
   "outputs": [
    {
     "data": {
      "text/html": [
       "<div>\n",
       "<style scoped>\n",
       "    .dataframe tbody tr th:only-of-type {\n",
       "        vertical-align: middle;\n",
       "    }\n",
       "\n",
       "    .dataframe tbody tr th {\n",
       "        vertical-align: top;\n",
       "    }\n",
       "\n",
       "    .dataframe thead th {\n",
       "        text-align: right;\n",
       "    }\n",
       "</style>\n",
       "<table border=\"1\" class=\"dataframe\">\n",
       "  <thead>\n",
       "    <tr style=\"text-align: right;\">\n",
       "      <th></th>\n",
       "      <th>userId</th>\n",
       "      <th>movieId</th>\n",
       "      <th>rating</th>\n",
       "    </tr>\n",
       "  </thead>\n",
       "  <tbody>\n",
       "    <tr>\n",
       "      <th>0</th>\n",
       "      <td>1</td>\n",
       "      <td>296</td>\n",
       "      <td>5.0</td>\n",
       "    </tr>\n",
       "    <tr>\n",
       "      <th>1</th>\n",
       "      <td>1</td>\n",
       "      <td>306</td>\n",
       "      <td>3.5</td>\n",
       "    </tr>\n",
       "    <tr>\n",
       "      <th>2</th>\n",
       "      <td>1</td>\n",
       "      <td>307</td>\n",
       "      <td>5.0</td>\n",
       "    </tr>\n",
       "    <tr>\n",
       "      <th>3</th>\n",
       "      <td>1</td>\n",
       "      <td>665</td>\n",
       "      <td>5.0</td>\n",
       "    </tr>\n",
       "    <tr>\n",
       "      <th>4</th>\n",
       "      <td>1</td>\n",
       "      <td>899</td>\n",
       "      <td>3.5</td>\n",
       "    </tr>\n",
       "  </tbody>\n",
       "</table>\n",
       "</div>"
      ],
      "text/plain": [
       "   userId  movieId  rating\n",
       "0       1      296     5.0\n",
       "1       1      306     3.5\n",
       "2       1      307     5.0\n",
       "3       1      665     5.0\n",
       "4       1      899     3.5"
      ]
     },
     "execution_count": 19,
     "metadata": {},
     "output_type": "execute_result"
    }
   ],
   "source": [
    "ratings.head()"
   ]
  },
  {
   "cell_type": "code",
   "execution_count": 20,
   "id": "f521ee51",
   "metadata": {
    "ExecuteTime": {
     "end_time": "2023-10-02T14:49:34.154537Z",
     "start_time": "2023-10-02T14:49:34.145729Z"
    }
   },
   "outputs": [
    {
     "name": "stdout",
     "output_type": "stream",
     "text": [
      "<class 'pandas.core.frame.DataFrame'>\n",
      "RangeIndex: 25000095 entries, 0 to 25000094\n",
      "Data columns (total 3 columns):\n",
      " #   Column   Dtype  \n",
      "---  ------   -----  \n",
      " 0   userId   int64  \n",
      " 1   movieId  int64  \n",
      " 2   rating   float32\n",
      "dtypes: float32(1), int64(2)\n",
      "memory usage: 476.8 MB\n"
     ]
    }
   ],
   "source": [
    "ratings.info()"
   ]
  },
  {
   "cell_type": "markdown",
   "id": "9769a35e",
   "metadata": {},
   "source": [
    "Reduced memory usage significantly without any loss."
   ]
  },
  {
   "cell_type": "markdown",
   "id": "51d84480",
   "metadata": {},
   "source": [
    "## 2. Feature extraction"
   ]
  },
  {
   "cell_type": "markdown",
   "id": "19f6f530",
   "metadata": {},
   "source": [
    "We are going to extract the year from the title of the movie and create genres columns."
   ]
  },
  {
   "cell_type": "code",
   "execution_count": 21,
   "id": "cc25a6da",
   "metadata": {
    "ExecuteTime": {
     "end_time": "2023-10-02T14:49:34.310764Z",
     "start_time": "2023-10-02T14:49:34.158095Z"
    }
   },
   "outputs": [
    {
     "data": {
      "text/html": [
       "<div>\n",
       "<style scoped>\n",
       "    .dataframe tbody tr th:only-of-type {\n",
       "        vertical-align: middle;\n",
       "    }\n",
       "\n",
       "    .dataframe tbody tr th {\n",
       "        vertical-align: top;\n",
       "    }\n",
       "\n",
       "    .dataframe thead th {\n",
       "        text-align: right;\n",
       "    }\n",
       "</style>\n",
       "<table border=\"1\" class=\"dataframe\">\n",
       "  <thead>\n",
       "    <tr style=\"text-align: right;\">\n",
       "      <th></th>\n",
       "      <th>year</th>\n",
       "    </tr>\n",
       "    <tr>\n",
       "      <th>movieId</th>\n",
       "      <th></th>\n",
       "    </tr>\n",
       "  </thead>\n",
       "  <tbody>\n",
       "    <tr>\n",
       "      <th>1</th>\n",
       "      <td>1995</td>\n",
       "    </tr>\n",
       "    <tr>\n",
       "      <th>2</th>\n",
       "      <td>1995</td>\n",
       "    </tr>\n",
       "    <tr>\n",
       "      <th>3</th>\n",
       "      <td>1995</td>\n",
       "    </tr>\n",
       "    <tr>\n",
       "      <th>4</th>\n",
       "      <td>1995</td>\n",
       "    </tr>\n",
       "    <tr>\n",
       "      <th>5</th>\n",
       "      <td>1995</td>\n",
       "    </tr>\n",
       "    <tr>\n",
       "      <th>...</th>\n",
       "      <td>...</td>\n",
       "    </tr>\n",
       "    <tr>\n",
       "      <th>209157</th>\n",
       "      <td>2018</td>\n",
       "    </tr>\n",
       "    <tr>\n",
       "      <th>209159</th>\n",
       "      <td>2001</td>\n",
       "    </tr>\n",
       "    <tr>\n",
       "      <th>209163</th>\n",
       "      <td>2018</td>\n",
       "    </tr>\n",
       "    <tr>\n",
       "      <th>209169</th>\n",
       "      <td>2001</td>\n",
       "    </tr>\n",
       "    <tr>\n",
       "      <th>209171</th>\n",
       "      <td>1962</td>\n",
       "    </tr>\n",
       "  </tbody>\n",
       "</table>\n",
       "<p>62423 rows × 1 columns</p>\n",
       "</div>"
      ],
      "text/plain": [
       "         year\n",
       "movieId      \n",
       "1        1995\n",
       "2        1995\n",
       "3        1995\n",
       "4        1995\n",
       "5        1995\n",
       "...       ...\n",
       "209157   2018\n",
       "209159   2001\n",
       "209163   2018\n",
       "209169   2001\n",
       "209171   1962\n",
       "\n",
       "[62423 rows x 1 columns]"
      ]
     },
     "execution_count": 21,
     "metadata": {},
     "output_type": "execute_result"
    }
   ],
   "source": [
    "# Extracting year from title with regex\n",
    "movies_year = movies['title'].str.extract(r'\\((\\d{4})\\)')\n",
    "movies_year.columns = ['year']\n",
    "movies_year"
   ]
  },
  {
   "cell_type": "code",
   "execution_count": 22,
   "id": "69d51106",
   "metadata": {
    "ExecuteTime": {
     "end_time": "2023-10-02T14:49:34.902102Z",
     "start_time": "2023-10-02T14:49:34.313287Z"
    }
   },
   "outputs": [
    {
     "data": {
      "text/html": [
       "<div>\n",
       "<style scoped>\n",
       "    .dataframe tbody tr th:only-of-type {\n",
       "        vertical-align: middle;\n",
       "    }\n",
       "\n",
       "    .dataframe tbody tr th {\n",
       "        vertical-align: top;\n",
       "    }\n",
       "\n",
       "    .dataframe thead th {\n",
       "        text-align: right;\n",
       "    }\n",
       "</style>\n",
       "<table border=\"1\" class=\"dataframe\">\n",
       "  <thead>\n",
       "    <tr style=\"text-align: right;\">\n",
       "      <th></th>\n",
       "      <th>(no genres listed)</th>\n",
       "      <th>Action</th>\n",
       "      <th>Adventure</th>\n",
       "      <th>Animation</th>\n",
       "      <th>Children</th>\n",
       "      <th>Comedy</th>\n",
       "      <th>Crime</th>\n",
       "      <th>Documentary</th>\n",
       "      <th>Drama</th>\n",
       "      <th>Fantasy</th>\n",
       "      <th>Film-Noir</th>\n",
       "      <th>Horror</th>\n",
       "      <th>IMAX</th>\n",
       "      <th>Musical</th>\n",
       "      <th>Mystery</th>\n",
       "      <th>Romance</th>\n",
       "      <th>Sci-Fi</th>\n",
       "      <th>Thriller</th>\n",
       "      <th>War</th>\n",
       "      <th>Western</th>\n",
       "    </tr>\n",
       "    <tr>\n",
       "      <th>movieId</th>\n",
       "      <th></th>\n",
       "      <th></th>\n",
       "      <th></th>\n",
       "      <th></th>\n",
       "      <th></th>\n",
       "      <th></th>\n",
       "      <th></th>\n",
       "      <th></th>\n",
       "      <th></th>\n",
       "      <th></th>\n",
       "      <th></th>\n",
       "      <th></th>\n",
       "      <th></th>\n",
       "      <th></th>\n",
       "      <th></th>\n",
       "      <th></th>\n",
       "      <th></th>\n",
       "      <th></th>\n",
       "      <th></th>\n",
       "      <th></th>\n",
       "    </tr>\n",
       "  </thead>\n",
       "  <tbody>\n",
       "    <tr>\n",
       "      <th>1</th>\n",
       "      <td>0</td>\n",
       "      <td>0</td>\n",
       "      <td>1</td>\n",
       "      <td>1</td>\n",
       "      <td>1</td>\n",
       "      <td>1</td>\n",
       "      <td>0</td>\n",
       "      <td>0</td>\n",
       "      <td>0</td>\n",
       "      <td>1</td>\n",
       "      <td>0</td>\n",
       "      <td>0</td>\n",
       "      <td>0</td>\n",
       "      <td>0</td>\n",
       "      <td>0</td>\n",
       "      <td>0</td>\n",
       "      <td>0</td>\n",
       "      <td>0</td>\n",
       "      <td>0</td>\n",
       "      <td>0</td>\n",
       "    </tr>\n",
       "    <tr>\n",
       "      <th>2</th>\n",
       "      <td>0</td>\n",
       "      <td>0</td>\n",
       "      <td>1</td>\n",
       "      <td>0</td>\n",
       "      <td>1</td>\n",
       "      <td>0</td>\n",
       "      <td>0</td>\n",
       "      <td>0</td>\n",
       "      <td>0</td>\n",
       "      <td>1</td>\n",
       "      <td>0</td>\n",
       "      <td>0</td>\n",
       "      <td>0</td>\n",
       "      <td>0</td>\n",
       "      <td>0</td>\n",
       "      <td>0</td>\n",
       "      <td>0</td>\n",
       "      <td>0</td>\n",
       "      <td>0</td>\n",
       "      <td>0</td>\n",
       "    </tr>\n",
       "    <tr>\n",
       "      <th>3</th>\n",
       "      <td>0</td>\n",
       "      <td>0</td>\n",
       "      <td>0</td>\n",
       "      <td>0</td>\n",
       "      <td>0</td>\n",
       "      <td>1</td>\n",
       "      <td>0</td>\n",
       "      <td>0</td>\n",
       "      <td>0</td>\n",
       "      <td>0</td>\n",
       "      <td>0</td>\n",
       "      <td>0</td>\n",
       "      <td>0</td>\n",
       "      <td>0</td>\n",
       "      <td>0</td>\n",
       "      <td>1</td>\n",
       "      <td>0</td>\n",
       "      <td>0</td>\n",
       "      <td>0</td>\n",
       "      <td>0</td>\n",
       "    </tr>\n",
       "    <tr>\n",
       "      <th>4</th>\n",
       "      <td>0</td>\n",
       "      <td>0</td>\n",
       "      <td>0</td>\n",
       "      <td>0</td>\n",
       "      <td>0</td>\n",
       "      <td>1</td>\n",
       "      <td>0</td>\n",
       "      <td>0</td>\n",
       "      <td>1</td>\n",
       "      <td>0</td>\n",
       "      <td>0</td>\n",
       "      <td>0</td>\n",
       "      <td>0</td>\n",
       "      <td>0</td>\n",
       "      <td>0</td>\n",
       "      <td>1</td>\n",
       "      <td>0</td>\n",
       "      <td>0</td>\n",
       "      <td>0</td>\n",
       "      <td>0</td>\n",
       "    </tr>\n",
       "    <tr>\n",
       "      <th>5</th>\n",
       "      <td>0</td>\n",
       "      <td>0</td>\n",
       "      <td>0</td>\n",
       "      <td>0</td>\n",
       "      <td>0</td>\n",
       "      <td>1</td>\n",
       "      <td>0</td>\n",
       "      <td>0</td>\n",
       "      <td>0</td>\n",
       "      <td>0</td>\n",
       "      <td>0</td>\n",
       "      <td>0</td>\n",
       "      <td>0</td>\n",
       "      <td>0</td>\n",
       "      <td>0</td>\n",
       "      <td>0</td>\n",
       "      <td>0</td>\n",
       "      <td>0</td>\n",
       "      <td>0</td>\n",
       "      <td>0</td>\n",
       "    </tr>\n",
       "    <tr>\n",
       "      <th>...</th>\n",
       "      <td>...</td>\n",
       "      <td>...</td>\n",
       "      <td>...</td>\n",
       "      <td>...</td>\n",
       "      <td>...</td>\n",
       "      <td>...</td>\n",
       "      <td>...</td>\n",
       "      <td>...</td>\n",
       "      <td>...</td>\n",
       "      <td>...</td>\n",
       "      <td>...</td>\n",
       "      <td>...</td>\n",
       "      <td>...</td>\n",
       "      <td>...</td>\n",
       "      <td>...</td>\n",
       "      <td>...</td>\n",
       "      <td>...</td>\n",
       "      <td>...</td>\n",
       "      <td>...</td>\n",
       "      <td>...</td>\n",
       "    </tr>\n",
       "    <tr>\n",
       "      <th>209157</th>\n",
       "      <td>0</td>\n",
       "      <td>0</td>\n",
       "      <td>0</td>\n",
       "      <td>0</td>\n",
       "      <td>0</td>\n",
       "      <td>0</td>\n",
       "      <td>0</td>\n",
       "      <td>0</td>\n",
       "      <td>1</td>\n",
       "      <td>0</td>\n",
       "      <td>0</td>\n",
       "      <td>0</td>\n",
       "      <td>0</td>\n",
       "      <td>0</td>\n",
       "      <td>0</td>\n",
       "      <td>0</td>\n",
       "      <td>0</td>\n",
       "      <td>0</td>\n",
       "      <td>0</td>\n",
       "      <td>0</td>\n",
       "    </tr>\n",
       "    <tr>\n",
       "      <th>209159</th>\n",
       "      <td>0</td>\n",
       "      <td>0</td>\n",
       "      <td>0</td>\n",
       "      <td>0</td>\n",
       "      <td>0</td>\n",
       "      <td>0</td>\n",
       "      <td>0</td>\n",
       "      <td>1</td>\n",
       "      <td>0</td>\n",
       "      <td>0</td>\n",
       "      <td>0</td>\n",
       "      <td>0</td>\n",
       "      <td>0</td>\n",
       "      <td>0</td>\n",
       "      <td>0</td>\n",
       "      <td>0</td>\n",
       "      <td>0</td>\n",
       "      <td>0</td>\n",
       "      <td>0</td>\n",
       "      <td>0</td>\n",
       "    </tr>\n",
       "    <tr>\n",
       "      <th>209163</th>\n",
       "      <td>0</td>\n",
       "      <td>0</td>\n",
       "      <td>0</td>\n",
       "      <td>0</td>\n",
       "      <td>0</td>\n",
       "      <td>1</td>\n",
       "      <td>0</td>\n",
       "      <td>0</td>\n",
       "      <td>1</td>\n",
       "      <td>0</td>\n",
       "      <td>0</td>\n",
       "      <td>0</td>\n",
       "      <td>0</td>\n",
       "      <td>0</td>\n",
       "      <td>0</td>\n",
       "      <td>0</td>\n",
       "      <td>0</td>\n",
       "      <td>0</td>\n",
       "      <td>0</td>\n",
       "      <td>0</td>\n",
       "    </tr>\n",
       "    <tr>\n",
       "      <th>209169</th>\n",
       "      <td>1</td>\n",
       "      <td>0</td>\n",
       "      <td>0</td>\n",
       "      <td>0</td>\n",
       "      <td>0</td>\n",
       "      <td>0</td>\n",
       "      <td>0</td>\n",
       "      <td>0</td>\n",
       "      <td>0</td>\n",
       "      <td>0</td>\n",
       "      <td>0</td>\n",
       "      <td>0</td>\n",
       "      <td>0</td>\n",
       "      <td>0</td>\n",
       "      <td>0</td>\n",
       "      <td>0</td>\n",
       "      <td>0</td>\n",
       "      <td>0</td>\n",
       "      <td>0</td>\n",
       "      <td>0</td>\n",
       "    </tr>\n",
       "    <tr>\n",
       "      <th>209171</th>\n",
       "      <td>0</td>\n",
       "      <td>1</td>\n",
       "      <td>1</td>\n",
       "      <td>0</td>\n",
       "      <td>0</td>\n",
       "      <td>0</td>\n",
       "      <td>0</td>\n",
       "      <td>0</td>\n",
       "      <td>1</td>\n",
       "      <td>0</td>\n",
       "      <td>0</td>\n",
       "      <td>0</td>\n",
       "      <td>0</td>\n",
       "      <td>0</td>\n",
       "      <td>0</td>\n",
       "      <td>0</td>\n",
       "      <td>0</td>\n",
       "      <td>0</td>\n",
       "      <td>0</td>\n",
       "      <td>0</td>\n",
       "    </tr>\n",
       "  </tbody>\n",
       "</table>\n",
       "<p>62423 rows × 20 columns</p>\n",
       "</div>"
      ],
      "text/plain": [
       "         (no genres listed)  Action  Adventure  Animation  Children  Comedy  \\\n",
       "movieId                                                                       \n",
       "1                         0       0          1          1         1       1   \n",
       "2                         0       0          1          0         1       0   \n",
       "3                         0       0          0          0         0       1   \n",
       "4                         0       0          0          0         0       1   \n",
       "5                         0       0          0          0         0       1   \n",
       "...                     ...     ...        ...        ...       ...     ...   \n",
       "209157                    0       0          0          0         0       0   \n",
       "209159                    0       0          0          0         0       0   \n",
       "209163                    0       0          0          0         0       1   \n",
       "209169                    1       0          0          0         0       0   \n",
       "209171                    0       1          1          0         0       0   \n",
       "\n",
       "         Crime  Documentary  Drama  Fantasy  Film-Noir  Horror  IMAX  Musical  \\\n",
       "movieId                                                                         \n",
       "1            0            0      0        1          0       0     0        0   \n",
       "2            0            0      0        1          0       0     0        0   \n",
       "3            0            0      0        0          0       0     0        0   \n",
       "4            0            0      1        0          0       0     0        0   \n",
       "5            0            0      0        0          0       0     0        0   \n",
       "...        ...          ...    ...      ...        ...     ...   ...      ...   \n",
       "209157       0            0      1        0          0       0     0        0   \n",
       "209159       0            1      0        0          0       0     0        0   \n",
       "209163       0            0      1        0          0       0     0        0   \n",
       "209169       0            0      0        0          0       0     0        0   \n",
       "209171       0            0      1        0          0       0     0        0   \n",
       "\n",
       "         Mystery  Romance  Sci-Fi  Thriller  War  Western  \n",
       "movieId                                                    \n",
       "1              0        0       0         0    0        0  \n",
       "2              0        0       0         0    0        0  \n",
       "3              0        1       0         0    0        0  \n",
       "4              0        1       0         0    0        0  \n",
       "5              0        0       0         0    0        0  \n",
       "...          ...      ...     ...       ...  ...      ...  \n",
       "209157         0        0       0         0    0        0  \n",
       "209159         0        0       0         0    0        0  \n",
       "209163         0        0       0         0    0        0  \n",
       "209169         0        0       0         0    0        0  \n",
       "209171         0        0       0         0    0        0  \n",
       "\n",
       "[62423 rows x 20 columns]"
      ]
     },
     "execution_count": 22,
     "metadata": {},
     "output_type": "execute_result"
    }
   ],
   "source": [
    "# Creating genres columns\n",
    "movies_genres = movies['genres'].str.get_dummies('|')\n",
    "movies_genres"
   ]
  },
  {
   "cell_type": "markdown",
   "id": "d4f59117",
   "metadata": {
    "ExecuteTime": {
     "end_time": "2023-08-31T23:14:45.008862Z",
     "start_time": "2023-08-31T23:14:45.005479Z"
    }
   },
   "source": [
    "We could convert the timestamp to datetime to get temporal features. But for now, we stick to those features."
   ]
  },
  {
   "cell_type": "markdown",
   "id": "e180cf27",
   "metadata": {
    "ExecuteTime": {
     "end_time": "2023-08-31T21:19:41.115570Z",
     "start_time": "2023-08-31T21:19:41.109690Z"
    }
   },
   "source": [
    "## 3. EDA"
   ]
  },
  {
   "cell_type": "code",
   "execution_count": 23,
   "id": "17cfeba8",
   "metadata": {
    "ExecuteTime": {
     "end_time": "2023-10-02T14:49:34.914629Z",
     "start_time": "2023-10-02T14:49:34.910963Z"
    }
   },
   "outputs": [],
   "source": [
    "# Auxiliary functions\n",
    "\n",
    "def get_id_from_title(title):\n",
    "    return movies.loc[movies['title'] == title].index.item()\n",
    "\n",
    "def get_title_from_id(movieId):\n",
    "    return movies.loc[movieId].title"
   ]
  },
  {
   "cell_type": "markdown",
   "id": "6c3428c2",
   "metadata": {},
   "source": [
    "Let's explore the dataset to get some insights."
   ]
  },
  {
   "cell_type": "code",
   "execution_count": 24,
   "id": "44f4cfae",
   "metadata": {
    "ExecuteTime": {
     "end_time": "2023-10-02T14:49:35.332181Z",
     "start_time": "2023-10-02T14:49:34.920570Z"
    },
    "scrolled": true
   },
   "outputs": [
    {
     "data": {
      "image/png": "[encoded data removed]",
      "text/plain": [
       "<Figure size 432x288 with 1 Axes>"
      ]
     },
     "metadata": {
      "needs_background": "light"
     },
     "output_type": "display_data"
    }
   ],
   "source": [
    "# Most present genres\n",
    "movies_genres.sum().sort_values(ascending=False).plot(kind='bar')\n",
    "plt.title('Genres')\n",
    "plt.show()"
   ]
  },
  {
   "cell_type": "code",
   "execution_count": 25,
   "id": "3d0a5a03",
   "metadata": {
    "ExecuteTime": {
     "end_time": "2023-10-02T14:49:36.089586Z",
     "start_time": "2023-10-02T14:49:35.335073Z"
    },
    "scrolled": true
   },
   "outputs": [
    {
     "data": {
      "image/png": "[encoded data removed]",
      "text/plain": [
       "<Figure size 432x288 with 1 Axes>"
      ]
     },
     "metadata": {
      "needs_background": "light"
     },
     "output_type": "display_data"
    }
   ],
   "source": [
    "# Choose a movie, and check the rating distribution\n",
    "plt.hist(ratings.loc[ratings['movieId'] == get_id_from_title('Toy Story (1995)'), 'rating'])\n",
    "plt.xlabel('Rating')\n",
    "plt.title('Toy Story (1995) ratings')\n",
    "plt.show()"
   ]
  },
  {
   "cell_type": "code",
   "execution_count": 26,
   "id": "6ce1879c",
   "metadata": {
    "ExecuteTime": {
     "end_time": "2023-10-02T14:49:37.474107Z",
     "start_time": "2023-10-02T14:49:36.091899Z"
    },
    "scrolled": true
   },
   "outputs": [
    {
     "data": {
      "text/html": [
       "<div>\n",
       "<style scoped>\n",
       "    .dataframe tbody tr th:only-of-type {\n",
       "        vertical-align: middle;\n",
       "    }\n",
       "\n",
       "    .dataframe tbody tr th {\n",
       "        vertical-align: top;\n",
       "    }\n",
       "\n",
       "    .dataframe thead th {\n",
       "        text-align: right;\n",
       "    }\n",
       "</style>\n",
       "<table border=\"1\" class=\"dataframe\">\n",
       "  <thead>\n",
       "    <tr style=\"text-align: right;\">\n",
       "      <th></th>\n",
       "      <th>rating_percentage</th>\n",
       "      <th>title</th>\n",
       "      <th>rating_percentage_cum</th>\n",
       "    </tr>\n",
       "    <tr>\n",
       "      <th>movieId</th>\n",
       "      <th></th>\n",
       "      <th></th>\n",
       "      <th></th>\n",
       "    </tr>\n",
       "  </thead>\n",
       "  <tbody>\n",
       "    <tr>\n",
       "      <th>356</th>\n",
       "      <td>0.003260</td>\n",
       "      <td>Forrest Gump (1994)</td>\n",
       "      <td>0.003260</td>\n",
       "    </tr>\n",
       "    <tr>\n",
       "      <th>318</th>\n",
       "      <td>0.003259</td>\n",
       "      <td>Shawshank Redemption, The (1994)</td>\n",
       "      <td>0.006519</td>\n",
       "    </tr>\n",
       "    <tr>\n",
       "      <th>296</th>\n",
       "      <td>0.003187</td>\n",
       "      <td>Pulp Fiction (1994)</td>\n",
       "      <td>0.009706</td>\n",
       "    </tr>\n",
       "    <tr>\n",
       "      <th>593</th>\n",
       "      <td>0.002965</td>\n",
       "      <td>Silence of the Lambs, The (1991)</td>\n",
       "      <td>0.012671</td>\n",
       "    </tr>\n",
       "    <tr>\n",
       "      <th>2571</th>\n",
       "      <td>0.002907</td>\n",
       "      <td>Matrix, The (1999)</td>\n",
       "      <td>0.015578</td>\n",
       "    </tr>\n",
       "    <tr>\n",
       "      <th>260</th>\n",
       "      <td>0.002749</td>\n",
       "      <td>Star Wars: Episode IV - A New Hope (1977)</td>\n",
       "      <td>0.018326</td>\n",
       "    </tr>\n",
       "    <tr>\n",
       "      <th>480</th>\n",
       "      <td>0.002566</td>\n",
       "      <td>Jurassic Park (1993)</td>\n",
       "      <td>0.020892</td>\n",
       "    </tr>\n",
       "    <tr>\n",
       "      <th>527</th>\n",
       "      <td>0.002416</td>\n",
       "      <td>Schindler's List (1993)</td>\n",
       "      <td>0.023309</td>\n",
       "    </tr>\n",
       "    <tr>\n",
       "      <th>110</th>\n",
       "      <td>0.002367</td>\n",
       "      <td>Braveheart (1995)</td>\n",
       "      <td>0.025676</td>\n",
       "    </tr>\n",
       "    <tr>\n",
       "      <th>2959</th>\n",
       "      <td>0.002351</td>\n",
       "      <td>Fight Club (1999)</td>\n",
       "      <td>0.028027</td>\n",
       "    </tr>\n",
       "  </tbody>\n",
       "</table>\n",
       "</div>"
      ],
      "text/plain": [
       "         rating_percentage                                      title  \\\n",
       "movieId                                                                 \n",
       "356               0.003260                        Forrest Gump (1994)   \n",
       "318               0.003259           Shawshank Redemption, The (1994)   \n",
       "296               0.003187                        Pulp Fiction (1994)   \n",
       "593               0.002965           Silence of the Lambs, The (1991)   \n",
       "2571              0.002907                         Matrix, The (1999)   \n",
       "260               0.002749  Star Wars: Episode IV - A New Hope (1977)   \n",
       "480               0.002566                       Jurassic Park (1993)   \n",
       "527               0.002416                    Schindler's List (1993)   \n",
       "110               0.002367                          Braveheart (1995)   \n",
       "2959              0.002351                          Fight Club (1999)   \n",
       "\n",
       "         rating_percentage_cum  \n",
       "movieId                         \n",
       "356                   0.003260  \n",
       "318                   0.006519  \n",
       "296                   0.009706  \n",
       "593                   0.012671  \n",
       "2571                  0.015578  \n",
       "260                   0.018326  \n",
       "480                   0.020892  \n",
       "527                   0.023309  \n",
       "110                   0.025676  \n",
       "2959                  0.028027  "
      ]
     },
     "execution_count": 26,
     "metadata": {},
     "output_type": "execute_result"
    }
   ],
   "source": [
    "# Ratings count - What are the top 3% most rated movies?\n",
    "\n",
    "ratings_count_percentage = ratings['movieId'].value_counts(normalize=True)\n",
    "\n",
    "top_3_percent = ratings_count_percentage[ratings_count_percentage.cumsum() < 0.03]\n",
    "top_3_percent.rename('rating_percentage', inplace=True)\n",
    "top_3_percent = pd.merge(left=top_3_percent, right=movies['title'], left_index=True, right_on='movieId')\n",
    "\n",
    "top_3_percent['rating_percentage_cum'] = top_3_percent['rating_percentage'].cumsum()\n",
    "\n",
    "top_3_percent"
   ]
  },
  {
   "cell_type": "code",
   "execution_count": 27,
   "id": "02a18d40",
   "metadata": {
    "ExecuteTime": {
     "end_time": "2023-10-02T14:49:37.797440Z",
     "start_time": "2023-10-02T14:49:37.481849Z"
    },
    "scrolled": true
   },
   "outputs": [
    {
     "data": {
      "image/png": "[encoded data removed]",
      "text/plain": [
       "<Figure size 432x288 with 1 Axes>"
      ]
     },
     "metadata": {
      "needs_background": "light"
     },
     "output_type": "display_data"
    }
   ],
   "source": [
    "# Movies per year\n",
    "\n",
    "movies_year.groupby('year').size().plot()\n",
    "plt.ylabel('# Movies')\n",
    "plt.title('Number of movies per year')\n",
    "plt.show()"
   ]
  },
  {
   "cell_type": "code",
   "execution_count": 28,
   "id": "6c47657d",
   "metadata": {
    "ExecuteTime": {
     "end_time": "2023-10-02T14:49:37.872484Z",
     "start_time": "2023-10-02T14:49:37.800614Z"
    },
    "scrolled": false
   },
   "outputs": [
    {
     "data": {
      "text/html": [
       "<div>\n",
       "<style scoped>\n",
       "    .dataframe tbody tr th:only-of-type {\n",
       "        vertical-align: middle;\n",
       "    }\n",
       "\n",
       "    .dataframe tbody tr th {\n",
       "        vertical-align: top;\n",
       "    }\n",
       "\n",
       "    .dataframe thead th {\n",
       "        text-align: right;\n",
       "    }\n",
       "</style>\n",
       "<table border=\"1\" class=\"dataframe\">\n",
       "  <thead>\n",
       "    <tr style=\"text-align: right;\">\n",
       "      <th></th>\n",
       "      <th>movieId</th>\n",
       "      <th>rating</th>\n",
       "      <th>title</th>\n",
       "      <th>genres</th>\n",
       "    </tr>\n",
       "  </thead>\n",
       "  <tbody>\n",
       "    <tr>\n",
       "      <th>1253</th>\n",
       "      <td>161</td>\n",
       "      <td>2.0</td>\n",
       "      <td>Crimson Tide (1995)</td>\n",
       "      <td>Drama|Thriller|War</td>\n",
       "    </tr>\n",
       "    <tr>\n",
       "      <th>1254</th>\n",
       "      <td>260</td>\n",
       "      <td>5.0</td>\n",
       "      <td>Star Wars: Episode IV - A New Hope (1977)</td>\n",
       "      <td>Action|Adventure|Sci-Fi</td>\n",
       "    </tr>\n",
       "    <tr>\n",
       "      <th>1255</th>\n",
       "      <td>318</td>\n",
       "      <td>5.0</td>\n",
       "      <td>Shawshank Redemption, The (1994)</td>\n",
       "      <td>Crime|Drama</td>\n",
       "    </tr>\n",
       "    <tr>\n",
       "      <th>1256</th>\n",
       "      <td>527</td>\n",
       "      <td>5.0</td>\n",
       "      <td>Schindler's List (1993)</td>\n",
       "      <td>Drama|War</td>\n",
       "    </tr>\n",
       "    <tr>\n",
       "      <th>1257</th>\n",
       "      <td>593</td>\n",
       "      <td>4.0</td>\n",
       "      <td>Silence of the Lambs, The (1991)</td>\n",
       "      <td>Crime|Horror|Thriller</td>\n",
       "    </tr>\n",
       "    <tr>\n",
       "      <th>1258</th>\n",
       "      <td>608</td>\n",
       "      <td>5.0</td>\n",
       "      <td>Fargo (1996)</td>\n",
       "      <td>Comedy|Crime|Drama|Thriller</td>\n",
       "    </tr>\n",
       "    <tr>\n",
       "      <th>1259</th>\n",
       "      <td>858</td>\n",
       "      <td>5.0</td>\n",
       "      <td>Godfather, The (1972)</td>\n",
       "      <td>Crime|Drama</td>\n",
       "    </tr>\n",
       "    <tr>\n",
       "      <th>1260</th>\n",
       "      <td>902</td>\n",
       "      <td>4.0</td>\n",
       "      <td>Breakfast at Tiffany's (1961)</td>\n",
       "      <td>Drama|Romance</td>\n",
       "    </tr>\n",
       "    <tr>\n",
       "      <th>1261</th>\n",
       "      <td>912</td>\n",
       "      <td>4.0</td>\n",
       "      <td>Casablanca (1942)</td>\n",
       "      <td>Drama|Romance</td>\n",
       "    </tr>\n",
       "    <tr>\n",
       "      <th>1262</th>\n",
       "      <td>913</td>\n",
       "      <td>4.0</td>\n",
       "      <td>Maltese Falcon, The (1941)</td>\n",
       "      <td>Film-Noir|Mystery</td>\n",
       "    </tr>\n",
       "    <tr>\n",
       "      <th>1263</th>\n",
       "      <td>919</td>\n",
       "      <td>5.0</td>\n",
       "      <td>Wizard of Oz, The (1939)</td>\n",
       "      <td>Adventure|Children|Fantasy|Musical</td>\n",
       "    </tr>\n",
       "    <tr>\n",
       "      <th>1264</th>\n",
       "      <td>924</td>\n",
       "      <td>4.0</td>\n",
       "      <td>2001: A Space Odyssey (1968)</td>\n",
       "      <td>Adventure|Drama|Sci-Fi</td>\n",
       "    </tr>\n",
       "    <tr>\n",
       "      <th>1265</th>\n",
       "      <td>1097</td>\n",
       "      <td>4.0</td>\n",
       "      <td>E.T. the Extra-Terrestrial (1982)</td>\n",
       "      <td>Children|Drama|Sci-Fi</td>\n",
       "    </tr>\n",
       "    <tr>\n",
       "      <th>1266</th>\n",
       "      <td>1183</td>\n",
       "      <td>2.0</td>\n",
       "      <td>English Patient, The (1996)</td>\n",
       "      <td>Drama|Romance|War</td>\n",
       "    </tr>\n",
       "    <tr>\n",
       "      <th>1267</th>\n",
       "      <td>1196</td>\n",
       "      <td>5.0</td>\n",
       "      <td>Star Wars: Episode V - The Empire Strikes Back...</td>\n",
       "      <td>Action|Adventure|Sci-Fi</td>\n",
       "    </tr>\n",
       "    <tr>\n",
       "      <th>1268</th>\n",
       "      <td>1198</td>\n",
       "      <td>5.0</td>\n",
       "      <td>Raiders of the Lost Ark (Indiana Jones and the...</td>\n",
       "      <td>Action|Adventure</td>\n",
       "    </tr>\n",
       "    <tr>\n",
       "      <th>1269</th>\n",
       "      <td>1203</td>\n",
       "      <td>5.0</td>\n",
       "      <td>12 Angry Men (1957)</td>\n",
       "      <td>Drama</td>\n",
       "    </tr>\n",
       "    <tr>\n",
       "      <th>1270</th>\n",
       "      <td>1213</td>\n",
       "      <td>5.0</td>\n",
       "      <td>Goodfellas (1990)</td>\n",
       "      <td>Crime|Drama</td>\n",
       "    </tr>\n",
       "    <tr>\n",
       "      <th>1271</th>\n",
       "      <td>1466</td>\n",
       "      <td>3.0</td>\n",
       "      <td>Donnie Brasco (1997)</td>\n",
       "      <td>Crime|Drama</td>\n",
       "    </tr>\n",
       "    <tr>\n",
       "      <th>1272</th>\n",
       "      <td>1704</td>\n",
       "      <td>5.0</td>\n",
       "      <td>Good Will Hunting (1997)</td>\n",
       "      <td>Drama|Romance</td>\n",
       "    </tr>\n",
       "    <tr>\n",
       "      <th>1273</th>\n",
       "      <td>1951</td>\n",
       "      <td>4.0</td>\n",
       "      <td>Oliver! (1968)</td>\n",
       "      <td>Drama|Musical</td>\n",
       "    </tr>\n",
       "    <tr>\n",
       "      <th>1274</th>\n",
       "      <td>2028</td>\n",
       "      <td>3.0</td>\n",
       "      <td>Saving Private Ryan (1998)</td>\n",
       "      <td>Action|Drama|War</td>\n",
       "    </tr>\n",
       "    <tr>\n",
       "      <th>1275</th>\n",
       "      <td>2396</td>\n",
       "      <td>4.0</td>\n",
       "      <td>Shakespeare in Love (1998)</td>\n",
       "      <td>Comedy|Drama|Romance</td>\n",
       "    </tr>\n",
       "    <tr>\n",
       "      <th>1276</th>\n",
       "      <td>2421</td>\n",
       "      <td>3.0</td>\n",
       "      <td>Karate Kid, Part II, The (1986)</td>\n",
       "      <td>Action|Adventure|Drama</td>\n",
       "    </tr>\n",
       "    <tr>\n",
       "      <th>1277</th>\n",
       "      <td>2815</td>\n",
       "      <td>3.0</td>\n",
       "      <td>Iron Eagle (1986)</td>\n",
       "      <td>Action|War</td>\n",
       "    </tr>\n",
       "    <tr>\n",
       "      <th>1278</th>\n",
       "      <td>2858</td>\n",
       "      <td>5.0</td>\n",
       "      <td>American Beauty (1999)</td>\n",
       "      <td>Drama|Romance</td>\n",
       "    </tr>\n",
       "  </tbody>\n",
       "</table>\n",
       "</div>"
      ],
      "text/plain": [
       "      movieId  rating                                              title  \\\n",
       "1253      161     2.0                                Crimson Tide (1995)   \n",
       "1254      260     5.0          Star Wars: Episode IV - A New Hope (1977)   \n",
       "1255      318     5.0                   Shawshank Redemption, The (1994)   \n",
       "1256      527     5.0                            Schindler's List (1993)   \n",
       "1257      593     4.0                   Silence of the Lambs, The (1991)   \n",
       "1258      608     5.0                                       Fargo (1996)   \n",
       "1259      858     5.0                              Godfather, The (1972)   \n",
       "1260      902     4.0                      Breakfast at Tiffany's (1961)   \n",
       "1261      912     4.0                                  Casablanca (1942)   \n",
       "1262      913     4.0                         Maltese Falcon, The (1941)   \n",
       "1263      919     5.0                           Wizard of Oz, The (1939)   \n",
       "1264      924     4.0                       2001: A Space Odyssey (1968)   \n",
       "1265     1097     4.0                  E.T. the Extra-Terrestrial (1982)   \n",
       "1266     1183     2.0                        English Patient, The (1996)   \n",
       "1267     1196     5.0  Star Wars: Episode V - The Empire Strikes Back...   \n",
       "1268     1198     5.0  Raiders of the Lost Ark (Indiana Jones and the...   \n",
       "1269     1203     5.0                                12 Angry Men (1957)   \n",
       "1270     1213     5.0                                  Goodfellas (1990)   \n",
       "1271     1466     3.0                               Donnie Brasco (1997)   \n",
       "1272     1704     5.0                           Good Will Hunting (1997)   \n",
       "1273     1951     4.0                                     Oliver! (1968)   \n",
       "1274     2028     3.0                         Saving Private Ryan (1998)   \n",
       "1275     2396     4.0                         Shakespeare in Love (1998)   \n",
       "1276     2421     3.0                    Karate Kid, Part II, The (1986)   \n",
       "1277     2815     3.0                                  Iron Eagle (1986)   \n",
       "1278     2858     5.0                             American Beauty (1999)   \n",
       "\n",
       "                                  genres  \n",
       "1253                  Drama|Thriller|War  \n",
       "1254             Action|Adventure|Sci-Fi  \n",
       "1255                         Crime|Drama  \n",
       "1256                           Drama|War  \n",
       "1257               Crime|Horror|Thriller  \n",
       "1258         Comedy|Crime|Drama|Thriller  \n",
       "1259                         Crime|Drama  \n",
       "1260                       Drama|Romance  \n",
       "1261                       Drama|Romance  \n",
       "1262                   Film-Noir|Mystery  \n",
       "1263  Adventure|Children|Fantasy|Musical  \n",
       "1264              Adventure|Drama|Sci-Fi  \n",
       "1265               Children|Drama|Sci-Fi  \n",
       "1266                   Drama|Romance|War  \n",
       "1267             Action|Adventure|Sci-Fi  \n",
       "1268                    Action|Adventure  \n",
       "1269                               Drama  \n",
       "1270                         Crime|Drama  \n",
       "1271                         Crime|Drama  \n",
       "1272                       Drama|Romance  \n",
       "1273                       Drama|Musical  \n",
       "1274                    Action|Drama|War  \n",
       "1275                Comedy|Drama|Romance  \n",
       "1276              Action|Adventure|Drama  \n",
       "1277                          Action|War  \n",
       "1278                       Drama|Romance  "
      ]
     },
     "execution_count": 28,
     "metadata": {},
     "output_type": "execute_result"
    }
   ],
   "source": [
    "# Lets inspect User 6 movies\n",
    "\n",
    "user_6_ratings = ratings.loc[ratings[\"userId\"] == 6, [\"movieId\",\"rating\"]]\n",
    "user_6_ratings.merge(movies[[\"title\", \"genres\"]], left_on=\"movieId\", right_index=True)"
   ]
  },
  {
   "cell_type": "markdown",
   "id": "765799e9",
   "metadata": {},
   "source": [
    "**What's the average/median number of reviewed movies per user?**"
   ]
  },
  {
   "cell_type": "code",
   "execution_count": 29,
   "id": "ac0a5830",
   "metadata": {
    "ExecuteTime": {
     "end_time": "2023-10-02T14:49:39.080474Z",
     "start_time": "2023-10-02T14:49:37.874681Z"
    }
   },
   "outputs": [],
   "source": [
    "movies_per_user = ratings.groupby(\"userId\").count()[[\"rating\"]].sort_values(by=\"rating\", ascending=False)"
   ]
  },
  {
   "cell_type": "code",
   "execution_count": 30,
   "id": "8cfd8509",
   "metadata": {
    "ExecuteTime": {
     "end_time": "2023-10-02T14:49:39.089936Z",
     "start_time": "2023-10-02T14:49:39.083005Z"
    }
   },
   "outputs": [
    {
     "data": {
      "text/html": [
       "<div>\n",
       "<style scoped>\n",
       "    .dataframe tbody tr th:only-of-type {\n",
       "        vertical-align: middle;\n",
       "    }\n",
       "\n",
       "    .dataframe tbody tr th {\n",
       "        vertical-align: top;\n",
       "    }\n",
       "\n",
       "    .dataframe thead th {\n",
       "        text-align: right;\n",
       "    }\n",
       "</style>\n",
       "<table border=\"1\" class=\"dataframe\">\n",
       "  <thead>\n",
       "    <tr style=\"text-align: right;\">\n",
       "      <th></th>\n",
       "      <th>rating</th>\n",
       "    </tr>\n",
       "    <tr>\n",
       "      <th>userId</th>\n",
       "      <th></th>\n",
       "    </tr>\n",
       "  </thead>\n",
       "  <tbody>\n",
       "    <tr>\n",
       "      <th>72315</th>\n",
       "      <td>32202</td>\n",
       "    </tr>\n",
       "    <tr>\n",
       "      <th>80974</th>\n",
       "      <td>9178</td>\n",
       "    </tr>\n",
       "    <tr>\n",
       "      <th>137293</th>\n",
       "      <td>8913</td>\n",
       "    </tr>\n",
       "    <tr>\n",
       "      <th>33844</th>\n",
       "      <td>7919</td>\n",
       "    </tr>\n",
       "    <tr>\n",
       "      <th>20055</th>\n",
       "      <td>7488</td>\n",
       "    </tr>\n",
       "    <tr>\n",
       "      <th>109731</th>\n",
       "      <td>6647</td>\n",
       "    </tr>\n",
       "    <tr>\n",
       "      <th>92046</th>\n",
       "      <td>6564</td>\n",
       "    </tr>\n",
       "    <tr>\n",
       "      <th>49403</th>\n",
       "      <td>6553</td>\n",
       "    </tr>\n",
       "    <tr>\n",
       "      <th>30879</th>\n",
       "      <td>5693</td>\n",
       "    </tr>\n",
       "    <tr>\n",
       "      <th>115102</th>\n",
       "      <td>5649</td>\n",
       "    </tr>\n",
       "  </tbody>\n",
       "</table>\n",
       "</div>"
      ],
      "text/plain": [
       "        rating\n",
       "userId        \n",
       "72315    32202\n",
       "80974     9178\n",
       "137293    8913\n",
       "33844     7919\n",
       "20055     7488\n",
       "109731    6647\n",
       "92046     6564\n",
       "49403     6553\n",
       "30879     5693\n",
       "115102    5649"
      ]
     },
     "execution_count": 30,
     "metadata": {},
     "output_type": "execute_result"
    }
   ],
   "source": [
    "movies_per_user.head(10)"
   ]
  },
  {
   "cell_type": "code",
   "execution_count": 31,
   "id": "4cc3ace2",
   "metadata": {
    "ExecuteTime": {
     "end_time": "2023-10-02T14:49:39.122577Z",
     "start_time": "2023-10-02T14:49:39.092614Z"
    }
   },
   "outputs": [
    {
     "data": {
      "text/html": [
       "<div>\n",
       "<style scoped>\n",
       "    .dataframe tbody tr th:only-of-type {\n",
       "        vertical-align: middle;\n",
       "    }\n",
       "\n",
       "    .dataframe tbody tr th {\n",
       "        vertical-align: top;\n",
       "    }\n",
       "\n",
       "    .dataframe thead th {\n",
       "        text-align: right;\n",
       "    }\n",
       "</style>\n",
       "<table border=\"1\" class=\"dataframe\">\n",
       "  <thead>\n",
       "    <tr style=\"text-align: right;\">\n",
       "      <th></th>\n",
       "      <th>rating</th>\n",
       "    </tr>\n",
       "  </thead>\n",
       "  <tbody>\n",
       "    <tr>\n",
       "      <th>count</th>\n",
       "      <td>162541.000000</td>\n",
       "    </tr>\n",
       "    <tr>\n",
       "      <th>mean</th>\n",
       "      <td>153.807932</td>\n",
       "    </tr>\n",
       "    <tr>\n",
       "      <th>std</th>\n",
       "      <td>268.047590</td>\n",
       "    </tr>\n",
       "    <tr>\n",
       "      <th>min</th>\n",
       "      <td>20.000000</td>\n",
       "    </tr>\n",
       "    <tr>\n",
       "      <th>25%</th>\n",
       "      <td>36.000000</td>\n",
       "    </tr>\n",
       "    <tr>\n",
       "      <th>50%</th>\n",
       "      <td>71.000000</td>\n",
       "    </tr>\n",
       "    <tr>\n",
       "      <th>75%</th>\n",
       "      <td>162.000000</td>\n",
       "    </tr>\n",
       "    <tr>\n",
       "      <th>max</th>\n",
       "      <td>32202.000000</td>\n",
       "    </tr>\n",
       "  </tbody>\n",
       "</table>\n",
       "</div>"
      ],
      "text/plain": [
       "              rating\n",
       "count  162541.000000\n",
       "mean      153.807932\n",
       "std       268.047590\n",
       "min        20.000000\n",
       "25%        36.000000\n",
       "50%        71.000000\n",
       "75%       162.000000\n",
       "max     32202.000000"
      ]
     },
     "execution_count": 31,
     "metadata": {},
     "output_type": "execute_result"
    }
   ],
   "source": [
    "movies_per_user.describe()"
   ]
  },
  {
   "cell_type": "markdown",
   "id": "3d6e3b03",
   "metadata": {},
   "source": [
    "Our data is very skewed in this sense: the median is more than the double of the mean. Some few users have watched a lot of movies. Just for visualization sake, we're going to remove temporarily those users."
   ]
  },
  {
   "cell_type": "code",
   "execution_count": 32,
   "id": "0c96445c",
   "metadata": {
    "ExecuteTime": {
     "end_time": "2023-10-02T14:49:40.467288Z",
     "start_time": "2023-10-02T14:49:39.125700Z"
    }
   },
   "outputs": [
    {
     "name": "stderr",
     "output_type": "stream",
     "text": [
      "/home/franklin/.local/lib/python3.8/site-packages/seaborn/categorical.py:82: FutureWarning: iteritems is deprecated and will be removed in a future version. Use .items instead.\n",
      "  plot_data = [np.asarray(s, float) for k, s in iter_data]\n"
     ]
    },
    {
     "data": {
      "image/png": "[encoded data removed]",
      "text/plain": [
       "<Figure size 720x288 with 2 Axes>"
      ]
     },
     "metadata": {
      "needs_background": "light"
     },
     "output_type": "display_data"
    }
   ],
   "source": [
    "movies_per_user_outliers = movies_per_user[movies_per_user['rating'] < movies_per_user.quantile(0.99).values[0]]\n",
    "\n",
    "plt.figure(figsize=(10,4))\n",
    "    \n",
    "plt.subplot(1,2,1)\n",
    "sns.histplot(movies_per_user_outliers)\n",
    "\n",
    "plt.subplot(1,2,2)\n",
    "sns.boxplot(data=movies_per_user_outliers)\n",
    "\n",
    "plt.show()"
   ]
  },
  {
   "cell_type": "code",
   "execution_count": 33,
   "id": "a9f706e8",
   "metadata": {
    "ExecuteTime": {
     "end_time": "2023-10-02T14:49:40.474539Z",
     "start_time": "2023-10-02T14:49:40.470406Z"
    }
   },
   "outputs": [],
   "source": [
    "# We could explore more questions:\n",
    "# Movie time series per gender\n",
    "# What's the highest mean rating movie?"
   ]
  },
  {
   "cell_type": "markdown",
   "id": "bcc0a1b1",
   "metadata": {},
   "source": [
    "## 4. Search engine"
   ]
  },
  {
   "cell_type": "markdown",
   "id": "dc3333a3",
   "metadata": {},
   "source": [
    "Our first task is to make a **search engine**. When a user type a movie title, a function search the most similar rows in the database. First we clean our titles to get only letters and numbers and convert every instance in a vector using **TF-IDF**. Then, we compare those vectors using **cosine similarity** and return the best items."
   ]
  },
  {
   "cell_type": "code",
   "execution_count": 34,
   "id": "305c7360",
   "metadata": {
    "ExecuteTime": {
     "end_time": "2023-10-02T14:49:40.661833Z",
     "start_time": "2023-10-02T14:49:40.477032Z"
    }
   },
   "outputs": [],
   "source": [
    "# Cleaning titles with regex\n",
    "\n",
    "import re\n",
    "\n",
    "def clean(title):\n",
    "    return re.sub(\"[^a-zA-Z0-9 ]\", \"\", title)\n",
    "\n",
    "movies[\"clean_titles\"] = movies[\"title\"].apply(clean)"
   ]
  },
  {
   "cell_type": "code",
   "execution_count": 35,
   "id": "d89e73ac",
   "metadata": {
    "ExecuteTime": {
     "end_time": "2023-10-02T14:49:41.965185Z",
     "start_time": "2023-10-02T14:49:40.665203Z"
    }
   },
   "outputs": [],
   "source": [
    "# TF-IDF\n",
    "\n",
    "from sklearn.feature_extraction.text import TfidfVectorizer\n",
    "\n",
    "vec = TfidfVectorizer(ngram_range=(1, 2), stop_words=\"english\", max_df=0.95, min_df=1)\n",
    "\n",
    "titles_vec = vec.fit_transform(movies[\"clean_titles\"])"
   ]
  },
  {
   "cell_type": "code",
   "execution_count": 36,
   "id": "c53a67bd",
   "metadata": {
    "ExecuteTime": {
     "end_time": "2023-10-02T14:49:42.025719Z",
     "start_time": "2023-10-02T14:49:41.967722Z"
    }
   },
   "outputs": [],
   "source": [
    "from sklearn.metrics.pairwise import cosine_similarity\n",
    "\n",
    "def search(title):\n",
    "    title = clean(title)\n",
    "    query_vec = vec.transform([title])\n",
    "    similarity = cosine_similarity(query_vec, titles_vec).flatten()\n",
    "    \n",
    "    # Selecting top 5 movies\n",
    "    idx = np.argpartition(similarity, kth=-5)[-5:]\n",
    "\n",
    "    results = movies.iloc[idx][::-1]\n",
    "    return results"
   ]
  },
  {
   "cell_type": "code",
   "execution_count": 37,
   "id": "64f00729",
   "metadata": {
    "ExecuteTime": {
     "end_time": "2023-10-02T14:49:42.048630Z",
     "start_time": "2023-10-02T14:49:42.028017Z"
    }
   },
   "outputs": [],
   "source": [
    "import ipywidgets as widgets\n",
    "from IPython.display import display\n",
    "\n",
    "movie_input = widgets.Text(description=\"Movie title\", value=\"Toy Story 1995\", disabled=False)\n",
    "movie_output = widgets.Output()\n",
    "\n",
    "def when_type(data):\n",
    "    with movie_output:\n",
    "        movie_output.clear_output()\n",
    "        title = data[\"new\"]\n",
    "        if len(title) > 5:\n",
    "            display(search(title))\n",
    "\n",
    "movie_input.observe(when_type, names='value')"
   ]
  },
  {
   "cell_type": "code",
   "execution_count": 38,
   "id": "8f821f46",
   "metadata": {
    "ExecuteTime": {
     "end_time": "2023-10-02T14:49:42.061572Z",
     "start_time": "2023-10-02T14:49:42.051789Z"
    }
   },
   "outputs": [
    {
     "data": {
      "application/vnd.jupyter.widget-view+json": {
       "model_id": "182bfdd11def4e99bffc2b98d88a0f9e",
       "version_major": 2,
       "version_minor": 0
      },
      "text/plain": [
       "Text(value='Toy Story 1995', description='Movie title')"
      ]
     },
     "metadata": {},
     "output_type": "display_data"
    },
    {
     "data": {
      "application/vnd.jupyter.widget-view+json": {
       "model_id": "983ea818aae347bc903b0791acfa9126",
       "version_major": 2,
       "version_minor": 0
      },
      "text/plain": [
       "Output()"
      ]
     },
     "metadata": {},
     "output_type": "display_data"
    }
   ],
   "source": [
    "display(movie_input, movie_output)"
   ]
  },
  {
   "cell_type": "markdown",
   "id": "416666bd",
   "metadata": {
    "ExecuteTime": {
     "end_time": "2023-08-26T23:22:44.291870Z",
     "start_time": "2023-08-26T23:22:44.287906Z"
    }
   },
   "source": [
    "## 5. Recomendation systems"
   ]
  },
  {
   "cell_type": "markdown",
   "id": "b2cbbb46",
   "metadata": {},
   "source": [
    "### 5.1 Non-personalized recomendations"
   ]
  },
  {
   "cell_type": "markdown",
   "id": "197e8efb",
   "metadata": {},
   "source": [
    "Our first recommenders are **non-personalized** in the sense that they are not based on the individual user information. The information used can be the global watch rate, ratings, seem together movies or content based recommendations. Those systems are useful as product showcase."
   ]
  },
  {
   "cell_type": "markdown",
   "id": "34782f6f",
   "metadata": {},
   "source": [
    "#### 5.1.1 High rate/watch movies"
   ]
  },
  {
   "cell_type": "markdown",
   "id": "0ab67a27",
   "metadata": {},
   "source": [
    "A first recommender can be made by ranking the best reviewed movies, but filtering by only movies with a certain number of reviews."
   ]
  },
  {
   "cell_type": "code",
   "execution_count": 39,
   "id": "1ebc84ae",
   "metadata": {
    "ExecuteTime": {
     "end_time": "2023-10-02T14:49:43.472532Z",
     "start_time": "2023-10-02T14:49:42.064329Z"
    }
   },
   "outputs": [],
   "source": [
    "# Movies with more than 500 reviews\n",
    "\n",
    "review_count = ratings[\"movieId\"].value_counts()\n",
    "review_count_percentage = review_count / len(ratings[\"userId\"].unique())\n",
    "pop_movies_100 = review_count_percentage.iloc[:100].index"
   ]
  },
  {
   "cell_type": "code",
   "execution_count": 40,
   "id": "153db083",
   "metadata": {
    "ExecuteTime": {
     "end_time": "2023-10-02T14:49:44.390157Z",
     "start_time": "2023-10-02T14:49:43.474743Z"
    }
   },
   "outputs": [],
   "source": [
    "# Best reviewed movies\n",
    "\n",
    "pop_movies_ratings = ratings[ratings[\"movieId\"].isin(pop_movies_100)]\n",
    "movie_rec = pop_movies_ratings[[\"rating\", \"movieId\"]].groupby(\"movieId\").mean().sort_values(by=\"rating\", \n",
    "                                                                           ascending=False)\n"
   ]
  },
  {
   "cell_type": "code",
   "execution_count": 41,
   "id": "5446602d",
   "metadata": {
    "ExecuteTime": {
     "end_time": "2023-10-02T14:49:44.422620Z",
     "start_time": "2023-10-02T14:49:44.393030Z"
    },
    "scrolled": false
   },
   "outputs": [
    {
     "data": {
      "text/html": [
       "<div>\n",
       "<style scoped>\n",
       "    .dataframe tbody tr th:only-of-type {\n",
       "        vertical-align: middle;\n",
       "    }\n",
       "\n",
       "    .dataframe tbody tr th {\n",
       "        vertical-align: top;\n",
       "    }\n",
       "\n",
       "    .dataframe thead th {\n",
       "        text-align: right;\n",
       "    }\n",
       "</style>\n",
       "<table border=\"1\" class=\"dataframe\">\n",
       "  <thead>\n",
       "    <tr style=\"text-align: right;\">\n",
       "      <th></th>\n",
       "      <th>rating</th>\n",
       "      <th>title</th>\n",
       "    </tr>\n",
       "    <tr>\n",
       "      <th>movieId</th>\n",
       "      <th></th>\n",
       "      <th></th>\n",
       "    </tr>\n",
       "  </thead>\n",
       "  <tbody>\n",
       "    <tr>\n",
       "      <th>318</th>\n",
       "      <td>4.413576</td>\n",
       "      <td>Shawshank Redemption, The (1994)</td>\n",
       "    </tr>\n",
       "    <tr>\n",
       "      <th>858</th>\n",
       "      <td>4.324336</td>\n",
       "      <td>Godfather, The (1972)</td>\n",
       "    </tr>\n",
       "    <tr>\n",
       "      <th>50</th>\n",
       "      <td>4.284353</td>\n",
       "      <td>Usual Suspects, The (1995)</td>\n",
       "    </tr>\n",
       "    <tr>\n",
       "      <th>1221</th>\n",
       "      <td>4.261758</td>\n",
       "      <td>Godfather: Part II, The (1974)</td>\n",
       "    </tr>\n",
       "    <tr>\n",
       "      <th>527</th>\n",
       "      <td>4.247579</td>\n",
       "      <td>Schindler's List (1993)</td>\n",
       "    </tr>\n",
       "    <tr>\n",
       "      <th>2959</th>\n",
       "      <td>4.228311</td>\n",
       "      <td>Fight Club (1999)</td>\n",
       "    </tr>\n",
       "    <tr>\n",
       "      <th>1193</th>\n",
       "      <td>4.218662</td>\n",
       "      <td>One Flew Over the Cuckoo's Nest (1975)</td>\n",
       "    </tr>\n",
       "    <tr>\n",
       "      <th>296</th>\n",
       "      <td>4.188912</td>\n",
       "      <td>Pulp Fiction (1994)</td>\n",
       "    </tr>\n",
       "    <tr>\n",
       "      <th>1213</th>\n",
       "      <td>4.180525</td>\n",
       "      <td>Goodfellas (1990)</td>\n",
       "    </tr>\n",
       "    <tr>\n",
       "      <th>58559</th>\n",
       "      <td>4.166538</td>\n",
       "      <td>Dark Knight, The (2008)</td>\n",
       "    </tr>\n",
       "  </tbody>\n",
       "</table>\n",
       "</div>"
      ],
      "text/plain": [
       "           rating                                   title\n",
       "movieId                                                  \n",
       "318      4.413576        Shawshank Redemption, The (1994)\n",
       "858      4.324336                   Godfather, The (1972)\n",
       "50       4.284353              Usual Suspects, The (1995)\n",
       "1221     4.261758          Godfather: Part II, The (1974)\n",
       "527      4.247579                 Schindler's List (1993)\n",
       "2959     4.228311                       Fight Club (1999)\n",
       "1193     4.218662  One Flew Over the Cuckoo's Nest (1975)\n",
       "296      4.188912                     Pulp Fiction (1994)\n",
       "1213     4.180525                       Goodfellas (1990)\n",
       "58559    4.166538                 Dark Knight, The (2008)"
      ]
     },
     "execution_count": 41,
     "metadata": {},
     "output_type": "execute_result"
    }
   ],
   "source": [
    "movie_rec.join(movies[[\"title\"]]).head(10)"
   ]
  },
  {
   "cell_type": "markdown",
   "id": "c2843103",
   "metadata": {},
   "source": [
    "It surelly works, but is *pretty generic*."
   ]
  },
  {
   "cell_type": "markdown",
   "id": "b7f1c52c",
   "metadata": {},
   "source": [
    "Another possible approach would be the weighted rating mean by the number of reviews."
   ]
  },
  {
   "cell_type": "markdown",
   "id": "4e1f957e",
   "metadata": {},
   "source": [
    "#### 5.1.2 Most seem together"
   ]
  },
  {
   "cell_type": "markdown",
   "id": "ff9bd66e",
   "metadata": {},
   "source": [
    "If a some users usually watch some movies together, those are probably a good recomendation for another user.\n",
    "The problem of this approach is the memory usage required to compute and store the permutations between the movies. The code used to generate a database with the permutations is commented due to time requirements, but once precomputed, our task is a simple query."
   ]
  },
  {
   "cell_type": "code",
   "execution_count": 42,
   "id": "8122f2d1",
   "metadata": {
    "ExecuteTime": {
     "end_time": "2023-10-02T14:49:44.432982Z",
     "start_time": "2023-10-02T14:49:44.428068Z"
    }
   },
   "outputs": [],
   "source": [
    "# from itertools import permutations\n",
    "\n",
    "# def create_pairs(x):\n",
    "#     pairs = pd.DataFrame(list(permutations(x.values, 2)), columns=[\"movie_a\", \"movie_b\"])\n",
    "#     return pairs\n",
    "\n",
    "# # Getting a smaller sample from ratings\n",
    "# n_users = 1000\n",
    "# selected_users = ratings['userId'].sample(n_users, replace=False).values\n",
    "# small_ratings = ratings.loc[ratings[\"userId\"].isin(selected_users), [\"userId\", \"movieId\"]]\n",
    "\n",
    "# # Get a smaller movie subset\n",
    "# small_ratings_count = small_ratings[\"movieId\"].value_counts()\n",
    "# small_ratings_count = small_ratings_count[small_ratings_count > 250]\n",
    "# smaller_ratings = small_ratings[small_ratings[\"movieId\"].isin(small_ratings_count.index)]\n",
    "\n",
    "# # Counting the pairs movies watched by the same user\n",
    "# pair_counts = smaller_ratings.groupby(\"userId\")[\"movieId\"].apply(create_pairs).reset_index(drop=True)\n",
    "\n",
    "# # Saving the results\n",
    "# pair_counts.to_parquet(\"../data/pair_counts.parquet\")"
   ]
  },
  {
   "cell_type": "code",
   "execution_count": 43,
   "id": "f33727ec",
   "metadata": {
    "ExecuteTime": {
     "end_time": "2023-10-02T14:49:44.838256Z",
     "start_time": "2023-10-02T14:49:44.437481Z"
    }
   },
   "outputs": [],
   "source": [
    "pair_counts = pd.read_parquet(\"../data/pair_counts.parquet\")"
   ]
  },
  {
   "cell_type": "code",
   "execution_count": 44,
   "id": "a2f5096f",
   "metadata": {
    "ExecuteTime": {
     "end_time": "2023-10-02T14:50:01.908469Z",
     "start_time": "2023-10-02T14:49:44.840965Z"
    }
   },
   "outputs": [],
   "source": [
    "# Importing the permutations previously generated\n",
    "\n",
    "pair_counts = pd.read_parquet(\"../data/pair_counts.parquet\")\n",
    "pair_counts = pair_counts.groupby([\"movie_a\", \"movie_b\"]).size().to_frame(name='size').reset_index()\n",
    "\n",
    "# Getting movie titles\n",
    "\n",
    "pair_counts[\"movie_a_title\"] = pair_counts['movie_a'].apply(get_title_from_id)\n",
    "pair_counts[\"movie_b_title\"] = pair_counts['movie_b'].apply(get_title_from_id)"
   ]
  },
  {
   "cell_type": "code",
   "execution_count": 45,
   "id": "813fef13",
   "metadata": {
    "ExecuteTime": {
     "end_time": "2023-10-02T14:50:01.915985Z",
     "start_time": "2023-10-02T14:50:01.911225Z"
    }
   },
   "outputs": [],
   "source": [
    "def seem_together_recommendation(movie_title):\n",
    "    pairs = pair_counts[pair_counts[\"movie_a_title\"] == movie_title]\n",
    "    pairs_sorted = pairs.sort_values(by=\"size\", ascending=False)[[\"movie_b_title\"]]\n",
    "    return pairs_sorted.head(10)"
   ]
  },
  {
   "cell_type": "code",
   "execution_count": 46,
   "id": "a5abdad8",
   "metadata": {
    "ExecuteTime": {
     "end_time": "2023-10-02T14:50:01.951545Z",
     "start_time": "2023-10-02T14:50:01.918831Z"
    },
    "scrolled": true
   },
   "outputs": [
    {
     "data": {
      "text/html": [
       "<div>\n",
       "<style scoped>\n",
       "    .dataframe tbody tr th:only-of-type {\n",
       "        vertical-align: middle;\n",
       "    }\n",
       "\n",
       "    .dataframe tbody tr th {\n",
       "        vertical-align: top;\n",
       "    }\n",
       "\n",
       "    .dataframe thead th {\n",
       "        text-align: right;\n",
       "    }\n",
       "</style>\n",
       "<table border=\"1\" class=\"dataframe\">\n",
       "  <thead>\n",
       "    <tr style=\"text-align: right;\">\n",
       "      <th></th>\n",
       "      <th>movie_b_title</th>\n",
       "    </tr>\n",
       "  </thead>\n",
       "  <tbody>\n",
       "    <tr>\n",
       "      <th>32</th>\n",
       "      <td>Forrest Gump (1994)</td>\n",
       "    </tr>\n",
       "    <tr>\n",
       "      <th>26</th>\n",
       "      <td>Pulp Fiction (1994)</td>\n",
       "    </tr>\n",
       "    <tr>\n",
       "      <th>185</th>\n",
       "      <td>Matrix, The (1999)</td>\n",
       "    </tr>\n",
       "    <tr>\n",
       "      <th>22</th>\n",
       "      <td>Star Wars: Episode IV - A New Hope (1977)</td>\n",
       "    </tr>\n",
       "    <tr>\n",
       "      <th>42</th>\n",
       "      <td>Jurassic Park (1993)</td>\n",
       "    </tr>\n",
       "    <tr>\n",
       "      <th>55</th>\n",
       "      <td>Silence of the Lambs, The (1991)</td>\n",
       "    </tr>\n",
       "    <tr>\n",
       "      <th>28</th>\n",
       "      <td>Shawshank Redemption, The (1994)</td>\n",
       "    </tr>\n",
       "    <tr>\n",
       "      <th>114</th>\n",
       "      <td>Back to the Future (1985)</td>\n",
       "    </tr>\n",
       "    <tr>\n",
       "      <th>91</th>\n",
       "      <td>Raiders of the Lost Ark (Indiana Jones and the...</td>\n",
       "    </tr>\n",
       "    <tr>\n",
       "      <th>98</th>\n",
       "      <td>Star Wars: Episode VI - Return of the Jedi (1983)</td>\n",
       "    </tr>\n",
       "  </tbody>\n",
       "</table>\n",
       "</div>"
      ],
      "text/plain": [
       "                                         movie_b_title\n",
       "32                                 Forrest Gump (1994)\n",
       "26                                 Pulp Fiction (1994)\n",
       "185                                 Matrix, The (1999)\n",
       "22           Star Wars: Episode IV - A New Hope (1977)\n",
       "42                                Jurassic Park (1993)\n",
       "55                    Silence of the Lambs, The (1991)\n",
       "28                    Shawshank Redemption, The (1994)\n",
       "114                          Back to the Future (1985)\n",
       "91   Raiders of the Lost Ark (Indiana Jones and the...\n",
       "98   Star Wars: Episode VI - Return of the Jedi (1983)"
      ]
     },
     "execution_count": 46,
     "metadata": {},
     "output_type": "execute_result"
    }
   ],
   "source": [
    "seem_together_recommendation(\"Toy Story (1995)\")"
   ]
  },
  {
   "cell_type": "markdown",
   "id": "d827f436",
   "metadata": {},
   "source": [
    "Now we are going somewhere. Our recomendations to Toy Story are very non-trivial."
   ]
  },
  {
   "cell_type": "markdown",
   "id": "8d310bb0",
   "metadata": {},
   "source": [
    "#### 5.1.3 Content-based recommendation"
   ]
  },
  {
   "cell_type": "markdown",
   "id": "33748fac",
   "metadata": {},
   "source": [
    "Since we have some information on our product, we can use our descriptors (in this case, the genres) to recommend similar products."
   ]
  },
  {
   "cell_type": "code",
   "execution_count": 47,
   "id": "825dd4df",
   "metadata": {
    "ExecuteTime": {
     "end_time": "2023-10-02T14:50:01.963410Z",
     "start_time": "2023-10-02T14:50:01.954040Z"
    }
   },
   "outputs": [],
   "source": [
    "from sklearn.metrics import jaccard_score\n",
    "\n",
    "def jaccard_similarities_recomendation(movieId):\n",
    "    \"\"\"\n",
    "    Get the jaccard similarities between a movie and all others and sort them.\n",
    "    Then, get the top 10 recommendations.\n",
    "    \"\"\"\n",
    "    pop_movies_1000 = review_count_percentage.iloc[:1000].index\n",
    "    pop_movies = movies.loc[pop_movies_1000]\n",
    "    movies_and_genres = pop_movies[[\"title\"]].join(movies_genres).drop(\"title\", axis=1)\n",
    "    movie_row = movies_and_genres.loc[movieId]\n",
    "    movies_and_genres['similarities'] = movies_and_genres.apply(lambda x: jaccard_score(movie_row, x), axis=1)\n",
    "    movies_and_genres = movies_and_genres.sort_values(by='similarities', ascending=False)\n",
    "    \n",
    "    return movies_and_genres.head(10).join(movies)[['title', 'genres']]"
   ]
  },
  {
   "cell_type": "code",
   "execution_count": 48,
   "id": "ed949461",
   "metadata": {
    "ExecuteTime": {
     "end_time": "2023-10-02T14:50:03.745614Z",
     "start_time": "2023-10-02T14:50:01.965850Z"
    },
    "scrolled": false
   },
   "outputs": [
    {
     "data": {
      "text/html": [
       "<div>\n",
       "<style scoped>\n",
       "    .dataframe tbody tr th:only-of-type {\n",
       "        vertical-align: middle;\n",
       "    }\n",
       "\n",
       "    .dataframe tbody tr th {\n",
       "        vertical-align: top;\n",
       "    }\n",
       "\n",
       "    .dataframe thead th {\n",
       "        text-align: right;\n",
       "    }\n",
       "</style>\n",
       "<table border=\"1\" class=\"dataframe\">\n",
       "  <thead>\n",
       "    <tr style=\"text-align: right;\">\n",
       "      <th></th>\n",
       "      <th>title</th>\n",
       "      <th>genres</th>\n",
       "    </tr>\n",
       "  </thead>\n",
       "  <tbody>\n",
       "    <tr>\n",
       "      <th>3114</th>\n",
       "      <td>Toy Story 2 (1999)</td>\n",
       "      <td>Adventure|Animation|Children|Comedy|Fantasy</td>\n",
       "    </tr>\n",
       "    <tr>\n",
       "      <th>4886</th>\n",
       "      <td>Monsters, Inc. (2001)</td>\n",
       "      <td>Adventure|Animation|Children|Comedy|Fantasy</td>\n",
       "    </tr>\n",
       "    <tr>\n",
       "      <th>4016</th>\n",
       "      <td>Emperor's New Groove, The (2000)</td>\n",
       "      <td>Adventure|Animation|Children|Comedy|Fantasy</td>\n",
       "    </tr>\n",
       "    <tr>\n",
       "      <th>2294</th>\n",
       "      <td>Antz (1998)</td>\n",
       "      <td>Adventure|Animation|Children|Comedy|Fantasy</td>\n",
       "    </tr>\n",
       "    <tr>\n",
       "      <th>1</th>\n",
       "      <td>Toy Story (1995)</td>\n",
       "      <td>Adventure|Animation|Children|Comedy|Fantasy</td>\n",
       "    </tr>\n",
       "    <tr>\n",
       "      <th>4306</th>\n",
       "      <td>Shrek (2001)</td>\n",
       "      <td>Adventure|Animation|Children|Comedy|Fantasy|Ro...</td>\n",
       "    </tr>\n",
       "    <tr>\n",
       "      <th>673</th>\n",
       "      <td>Space Jam (1996)</td>\n",
       "      <td>Adventure|Animation|Children|Comedy|Fantasy|Sc...</td>\n",
       "    </tr>\n",
       "    <tr>\n",
       "      <th>134853</th>\n",
       "      <td>Inside Out (2015)</td>\n",
       "      <td>Adventure|Animation|Children|Comedy|Drama|Fantasy</td>\n",
       "    </tr>\n",
       "    <tr>\n",
       "      <th>78499</th>\n",
       "      <td>Toy Story 3 (2010)</td>\n",
       "      <td>Adventure|Animation|Children|Comedy|Fantasy|IMAX</td>\n",
       "    </tr>\n",
       "    <tr>\n",
       "      <th>108932</th>\n",
       "      <td>The Lego Movie (2014)</td>\n",
       "      <td>Action|Adventure|Animation|Children|Comedy|Fan...</td>\n",
       "    </tr>\n",
       "  </tbody>\n",
       "</table>\n",
       "</div>"
      ],
      "text/plain": [
       "                                   title  \\\n",
       "3114                  Toy Story 2 (1999)   \n",
       "4886               Monsters, Inc. (2001)   \n",
       "4016    Emperor's New Groove, The (2000)   \n",
       "2294                         Antz (1998)   \n",
       "1                       Toy Story (1995)   \n",
       "4306                        Shrek (2001)   \n",
       "673                     Space Jam (1996)   \n",
       "134853                 Inside Out (2015)   \n",
       "78499                 Toy Story 3 (2010)   \n",
       "108932             The Lego Movie (2014)   \n",
       "\n",
       "                                                   genres  \n",
       "3114          Adventure|Animation|Children|Comedy|Fantasy  \n",
       "4886          Adventure|Animation|Children|Comedy|Fantasy  \n",
       "4016          Adventure|Animation|Children|Comedy|Fantasy  \n",
       "2294          Adventure|Animation|Children|Comedy|Fantasy  \n",
       "1             Adventure|Animation|Children|Comedy|Fantasy  \n",
       "4306    Adventure|Animation|Children|Comedy|Fantasy|Ro...  \n",
       "673     Adventure|Animation|Children|Comedy|Fantasy|Sc...  \n",
       "134853  Adventure|Animation|Children|Comedy|Drama|Fantasy  \n",
       "78499    Adventure|Animation|Children|Comedy|Fantasy|IMAX  \n",
       "108932  Action|Adventure|Animation|Children|Comedy|Fan...  "
      ]
     },
     "execution_count": 48,
     "metadata": {},
     "output_type": "execute_result"
    }
   ],
   "source": [
    "# Testing for the movieId = 1 (Toy Story 1995)\n",
    "jaccard_similarities_recomendation(1)"
   ]
  },
  {
   "cell_type": "markdown",
   "id": "faa6b17c",
   "metadata": {},
   "source": [
    "It works well when the user is searching for something similar to the watched movie."
   ]
  },
  {
   "cell_type": "markdown",
   "id": "a5307e31",
   "metadata": {},
   "source": [
    "### 5.2 Colaborative filtering"
   ]
  },
  {
   "cell_type": "markdown",
   "id": "ea8d75a1",
   "metadata": {},
   "source": [
    "Now we are going to use user ratings to create recommendations. Our strategy is to find similar users that liked the movie we just watch. Next we find the movies they liked. With this, we can create a score that takes into account the popularity of the movie - we don't want movies to be recommended just because they are popular.\n",
    "\n",
    "First we begin by making a prototype and then pack it all in a function and interface."
   ]
  },
  {
   "cell_type": "code",
   "execution_count": 49,
   "id": "0fa2e76c",
   "metadata": {
    "ExecuteTime": {
     "end_time": "2023-10-02T14:50:04.557540Z",
     "start_time": "2023-10-02T14:50:03.747860Z"
    }
   },
   "outputs": [
    {
     "data": {
      "text/plain": [
       "1      1.000000\n",
       "318    0.445607\n",
       "260    0.403770\n",
       "356    0.370215\n",
       "296    0.367295\n",
       "Name: movieId, dtype: float64"
      ]
     },
     "execution_count": 49,
     "metadata": {},
     "output_type": "execute_result"
    }
   ],
   "source": [
    "# Suppose we our user liked the movie with Id 1 (Toy Story)\n",
    "movie_id = 1\n",
    "\n",
    "# Users that watched our movie and rated > 4\n",
    "similar_users = ratings.loc[(ratings[\"movieId\"] == movie_id) & (ratings[\"rating\"] > 4.0), \"userId\"].unique()\n",
    "\n",
    "# High rated movies (>4) that our similiar users watched\n",
    "similar_users_rec = ratings.loc[(ratings[\"userId\"].isin(similar_users)) & (ratings[\"rating\"] > 4.0), \"movieId\"]\n",
    "\n",
    "# Counting how many users watched our recomendation. Getting the percentage from similar users\n",
    "similar_rec_movies_percentage = (similar_users_rec.value_counts() / len(similar_users))\n",
    "\n",
    "# Restricting ourselves to 10%\n",
    "similar_rec_movies_percentage = similar_rec_movies_percentage[similar_rec_movies_percentage > 0.1]\n",
    "\n",
    "similar_rec_movies_percentage.head(5)"
   ]
  },
  {
   "cell_type": "markdown",
   "id": "4028eb93",
   "metadata": {},
   "source": [
    "44.56% of the similar users watched movie with ID 318."
   ]
  },
  {
   "cell_type": "code",
   "execution_count": 50,
   "id": "d52e389b",
   "metadata": {
    "ExecuteTime": {
     "end_time": "2023-10-02T14:50:05.157209Z",
     "start_time": "2023-10-02T14:50:04.559909Z"
    }
   },
   "outputs": [
    {
     "data": {
      "text/plain": [
       "318     0.342220\n",
       "296     0.284674\n",
       "2571    0.244033\n",
       "356     0.235266\n",
       "593     0.225909\n",
       "Name: movieId, dtype: float64"
      ]
     },
     "execution_count": 50,
     "metadata": {},
     "output_type": "execute_result"
    }
   ],
   "source": [
    "# We don't want movies that are there just because they are already popular\n",
    "\n",
    "all_users = ratings.loc[(ratings[\"movieId\"].isin(similar_rec_movies_percentage.index)&(ratings[\"rating\"]>4.0))]\n",
    "all_users_recs_percentage = all_users[\"movieId\"].value_counts() / len(all_users[\"userId\"].unique())\n",
    "all_users_recs_percentage.head(5)"
   ]
  },
  {
   "cell_type": "markdown",
   "id": "4638a4c9",
   "metadata": {
    "ExecuteTime": {
     "end_time": "2023-09-04T23:44:35.384663Z",
     "start_time": "2023-09-04T23:44:35.380242Z"
    }
   },
   "source": [
    "But from *all users*, movie 318 is already liked by 34.22%. Thats probably generic. We should create a score:"
   ]
  },
  {
   "cell_type": "markdown",
   "id": "801e994a",
   "metadata": {},
   "source": [
    "$$score = \\frac{\\text{percentage from similar users}}{\\text{percentage from all users}} $$"
   ]
  },
  {
   "cell_type": "code",
   "execution_count": 51,
   "id": "ec4a29d9",
   "metadata": {
    "ExecuteTime": {
     "end_time": "2023-10-02T14:50:05.187548Z",
     "start_time": "2023-10-02T14:50:05.159726Z"
    }
   },
   "outputs": [
    {
     "data": {
      "text/html": [
       "<div>\n",
       "<style scoped>\n",
       "    .dataframe tbody tr th:only-of-type {\n",
       "        vertical-align: middle;\n",
       "    }\n",
       "\n",
       "    .dataframe tbody tr th {\n",
       "        vertical-align: top;\n",
       "    }\n",
       "\n",
       "    .dataframe thead th {\n",
       "        text-align: right;\n",
       "    }\n",
       "</style>\n",
       "<table border=\"1\" class=\"dataframe\">\n",
       "  <thead>\n",
       "    <tr style=\"text-align: right;\">\n",
       "      <th></th>\n",
       "      <th>title</th>\n",
       "    </tr>\n",
       "    <tr>\n",
       "      <th>movieId</th>\n",
       "      <th></th>\n",
       "    </tr>\n",
       "  </thead>\n",
       "  <tbody>\n",
       "    <tr>\n",
       "      <th>1</th>\n",
       "      <td>Toy Story (1995)</td>\n",
       "    </tr>\n",
       "    <tr>\n",
       "      <th>3114</th>\n",
       "      <td>Toy Story 2 (1999)</td>\n",
       "    </tr>\n",
       "    <tr>\n",
       "      <th>2355</th>\n",
       "      <td>Bug's Life, A (1998)</td>\n",
       "    </tr>\n",
       "    <tr>\n",
       "      <th>78499</th>\n",
       "      <td>Toy Story 3 (2010)</td>\n",
       "    </tr>\n",
       "    <tr>\n",
       "      <th>4886</th>\n",
       "      <td>Monsters, Inc. (2001)</td>\n",
       "    </tr>\n",
       "    <tr>\n",
       "      <th>588</th>\n",
       "      <td>Aladdin (1992)</td>\n",
       "    </tr>\n",
       "    <tr>\n",
       "      <th>6377</th>\n",
       "      <td>Finding Nemo (2003)</td>\n",
       "    </tr>\n",
       "    <tr>\n",
       "      <th>595</th>\n",
       "      <td>Beauty and the Beast (1991)</td>\n",
       "    </tr>\n",
       "    <tr>\n",
       "      <th>8961</th>\n",
       "      <td>Incredibles, The (2004)</td>\n",
       "    </tr>\n",
       "  </tbody>\n",
       "</table>\n",
       "</div>"
      ],
      "text/plain": [
       "                               title\n",
       "movieId                             \n",
       "1                   Toy Story (1995)\n",
       "3114              Toy Story 2 (1999)\n",
       "2355            Bug's Life, A (1998)\n",
       "78499             Toy Story 3 (2010)\n",
       "4886           Monsters, Inc. (2001)\n",
       "588                   Aladdin (1992)\n",
       "6377             Finding Nemo (2003)\n",
       "595      Beauty and the Beast (1991)\n",
       "8961         Incredibles, The (2004)"
      ]
     },
     "execution_count": 51,
     "metadata": {},
     "output_type": "execute_result"
    }
   ],
   "source": [
    "# Creating a score, sorting by it, and showing the top 10 recs\n",
    "\n",
    "rec_percentages = pd.concat([similar_rec_movies_percentage, all_users_recs_percentage], axis=1)\n",
    "rec_percentages.columns = [\"similar\", \"all\"]\n",
    "rec_percentages[\"score\"] = rec_percentages[\"similar\"] / rec_percentages[\"all\"]\n",
    "rec_percentages = rec_percentages.sort_values(\"score\", ascending=False).iloc[:9].merge(movies, left_index=True, right_on=\"movieId\")\n",
    "\n",
    "rec_percentages[['title']].head(10)"
   ]
  },
  {
   "cell_type": "code",
   "execution_count": 52,
   "id": "4eaefca3",
   "metadata": {
    "ExecuteTime": {
     "end_time": "2023-10-02T14:50:05.210308Z",
     "start_time": "2023-10-02T14:50:05.196654Z"
    }
   },
   "outputs": [],
   "source": [
    "# Wrapping in a function\n",
    "\n",
    "def colab_recommendations(movieId):\n",
    "    similar_users = ratings.loc[(ratings[\"movieId\"] == movieId) & (ratings[\"rating\"] > 4.0), \"userId\"].unique()\n",
    "    similar_users_rec = ratings.loc[(ratings[\"userId\"].isin(similar_users)) & (ratings[\"rating\"] > 4.0), \"movieId\"]\n",
    "    similar_rec_movies_percentage = (similar_users_rec.value_counts() / len(similar_users))\n",
    "    similar_rec_movies_percentage = similar_rec_movies_percentage[similar_rec_movies_percentage > 0.1]\n",
    "    \n",
    "    all_users = ratings.loc[(ratings[\"movieId\"].isin(similar_rec_movies_percentage.index)&(ratings[\"rating\"]>4.0))]\n",
    "    all_users_recs_percentage = all_users[\"movieId\"].value_counts() / len(all_users[\"userId\"].unique())\n",
    "    rec_percentages = pd.concat([similar_rec_movies_percentage, all_users_recs_percentage], axis=1)\n",
    "    rec_percentages.columns = [\"similar\", \"all\"]\n",
    "    rec_percentages[\"score\"] = rec_percentages[\"similar\"] / rec_percentages[\"all\"]\n",
    "    rec_percentages = rec_percentages.sort_values(\"score\", ascending=False).iloc[:9].merge(movies, left_index=True, right_on=\"movieId\")\n",
    "    \n",
    "    return rec_percentages[['title']].head(10)"
   ]
  },
  {
   "cell_type": "code",
   "execution_count": 53,
   "id": "33d847a4",
   "metadata": {
    "ExecuteTime": {
     "end_time": "2023-10-02T14:50:05.231021Z",
     "start_time": "2023-10-02T14:50:05.213139Z"
    }
   },
   "outputs": [],
   "source": [
    "movie_input = widgets.Text(description=\"Movie title\", value=\"The Godfather\", disabled=False)\n",
    "movie_recommendation = widgets.Output()\n",
    "\n",
    "def when_type(data):\n",
    "    with movie_recommendation:\n",
    "        movie_recommendation.clear_output()\n",
    "        title = data[\"new\"]\n",
    "        if len(title) > 5:\n",
    "            results = search(title)\n",
    "            movie_id = results.reset_index().iloc[0][\"movieId\"]\n",
    "            display(colab_recommendations(movie_id))\n",
    "\n",
    "movie_input.observe(when_type, names='value')"
   ]
  },
  {
   "cell_type": "code",
   "execution_count": 54,
   "id": "2d43d84b",
   "metadata": {
    "ExecuteTime": {
     "end_time": "2023-10-02T14:50:05.241382Z",
     "start_time": "2023-10-02T14:50:05.234430Z"
    }
   },
   "outputs": [
    {
     "data": {
      "application/vnd.jupyter.widget-view+json": {
       "model_id": "edb220ac87c34057ba4bf5738b8f2f52",
       "version_major": 2,
       "version_minor": 0
      },
      "text/plain": [
       "Text(value='The Godfather', description='Movie title')"
      ]
     },
     "metadata": {},
     "output_type": "display_data"
    },
    {
     "data": {
      "application/vnd.jupyter.widget-view+json": {
       "model_id": "fd2676574fd541afa0b12a84d3f9d0db",
       "version_major": 2,
       "version_minor": 0
      },
      "text/plain": [
       "Output()"
      ]
     },
     "metadata": {},
     "output_type": "display_data"
    }
   ],
   "source": [
    "display(movie_input, movie_recommendation)"
   ]
  },
  {
   "cell_type": "markdown",
   "id": "8fbb220b",
   "metadata": {},
   "source": [
    "## User based recommendations using KNN"
   ]
  },
  {
   "cell_type": "markdown",
   "id": "67e2ea0d",
   "metadata": {},
   "source": [
    "Suppose we want to predict the rating for the movie **Star Wars: Episode VI - Return of the Jedi (1983)** for **User 6**."
   ]
  },
  {
   "cell_type": "code",
   "execution_count": 55,
   "id": "3c4c1a01",
   "metadata": {
    "ExecuteTime": {
     "end_time": "2023-10-02T14:50:05.263136Z",
     "start_time": "2023-10-02T14:50:05.250712Z"
    }
   },
   "outputs": [],
   "source": [
    "target_user = 6\n",
    "target_movie_id = get_id_from_title(\"Star Wars: Episode VI - Return of the Jedi (1983)\")"
   ]
  },
  {
   "cell_type": "code",
   "execution_count": 56,
   "id": "8e33c4a1",
   "metadata": {
    "ExecuteTime": {
     "end_time": "2023-10-02T14:50:05.277678Z",
     "start_time": "2023-10-02T14:50:05.266017Z"
    }
   },
   "outputs": [],
   "source": [
    "def get_pop_movies(n):\n",
    "    \"\"\"Get the n-first top movies in terms of review counting.\"\"\"\n",
    "    return review_count_percentage.iloc[:n].index"
   ]
  },
  {
   "cell_type": "code",
   "execution_count": 57,
   "id": "a68969eb",
   "metadata": {
    "ExecuteTime": {
     "end_time": "2023-10-02T14:50:06.470549Z",
     "start_time": "2023-10-02T14:50:05.280453Z"
    }
   },
   "outputs": [],
   "source": [
    "# Restricting to movies that user 1 watched and pop movies 200\n",
    "user_movies = ratings.loc[ratings['userId'] == target_user, 'movieId'].unique()\n",
    "pop_movies_200 = get_pop_movies(n=200)\n",
    "\n",
    "ratings_pop = ratings.loc[(ratings['movieId'].isin(pop_movies_200)) | (ratings['movieId'].isin(user_movies))]"
   ]
  },
  {
   "cell_type": "code",
   "execution_count": 58,
   "id": "df015fd8",
   "metadata": {
    "ExecuteTime": {
     "end_time": "2023-10-02T14:50:10.404313Z",
     "start_time": "2023-10-02T14:50:06.472574Z"
    }
   },
   "outputs": [],
   "source": [
    "# User based recommendations\n",
    "ratings_pivot_user = ratings_pop.pivot(index='userId',columns='movieId',values='rating')"
   ]
  },
  {
   "cell_type": "code",
   "execution_count": 59,
   "id": "08a3597e",
   "metadata": {
    "ExecuteTime": {
     "end_time": "2023-10-02T14:50:10.533274Z",
     "start_time": "2023-10-02T14:50:10.406460Z"
    }
   },
   "outputs": [
    {
     "data": {
      "text/html": [
       "<div>\n",
       "<style scoped>\n",
       "    .dataframe tbody tr th:only-of-type {\n",
       "        vertical-align: middle;\n",
       "    }\n",
       "\n",
       "    .dataframe tbody tr th {\n",
       "        vertical-align: top;\n",
       "    }\n",
       "\n",
       "    .dataframe thead th {\n",
       "        text-align: right;\n",
       "    }\n",
       "</style>\n",
       "<table border=\"1\" class=\"dataframe\">\n",
       "  <thead>\n",
       "    <tr style=\"text-align: right;\">\n",
       "      <th>movieId</th>\n",
       "      <th>1</th>\n",
       "      <th>2</th>\n",
       "      <th>6</th>\n",
       "      <th>10</th>\n",
       "      <th>19</th>\n",
       "      <th>21</th>\n",
       "      <th>32</th>\n",
       "      <th>34</th>\n",
       "      <th>39</th>\n",
       "      <th>47</th>\n",
       "      <th>...</th>\n",
       "      <th>54286</th>\n",
       "      <th>58559</th>\n",
       "      <th>59315</th>\n",
       "      <th>60069</th>\n",
       "      <th>68157</th>\n",
       "      <th>68954</th>\n",
       "      <th>72998</th>\n",
       "      <th>79132</th>\n",
       "      <th>99114</th>\n",
       "      <th>109487</th>\n",
       "    </tr>\n",
       "    <tr>\n",
       "      <th>userId</th>\n",
       "      <th></th>\n",
       "      <th></th>\n",
       "      <th></th>\n",
       "      <th></th>\n",
       "      <th></th>\n",
       "      <th></th>\n",
       "      <th></th>\n",
       "      <th></th>\n",
       "      <th></th>\n",
       "      <th></th>\n",
       "      <th></th>\n",
       "      <th></th>\n",
       "      <th></th>\n",
       "      <th></th>\n",
       "      <th></th>\n",
       "      <th></th>\n",
       "      <th></th>\n",
       "      <th></th>\n",
       "      <th></th>\n",
       "      <th></th>\n",
       "      <th></th>\n",
       "    </tr>\n",
       "  </thead>\n",
       "  <tbody>\n",
       "    <tr>\n",
       "      <th>1</th>\n",
       "      <td>NaN</td>\n",
       "      <td>NaN</td>\n",
       "      <td>NaN</td>\n",
       "      <td>NaN</td>\n",
       "      <td>NaN</td>\n",
       "      <td>NaN</td>\n",
       "      <td>NaN</td>\n",
       "      <td>NaN</td>\n",
       "      <td>NaN</td>\n",
       "      <td>NaN</td>\n",
       "      <td>...</td>\n",
       "      <td>NaN</td>\n",
       "      <td>NaN</td>\n",
       "      <td>NaN</td>\n",
       "      <td>NaN</td>\n",
       "      <td>NaN</td>\n",
       "      <td>NaN</td>\n",
       "      <td>NaN</td>\n",
       "      <td>NaN</td>\n",
       "      <td>NaN</td>\n",
       "      <td>NaN</td>\n",
       "    </tr>\n",
       "    <tr>\n",
       "      <th>2</th>\n",
       "      <td>3.5</td>\n",
       "      <td>NaN</td>\n",
       "      <td>NaN</td>\n",
       "      <td>NaN</td>\n",
       "      <td>NaN</td>\n",
       "      <td>NaN</td>\n",
       "      <td>NaN</td>\n",
       "      <td>NaN</td>\n",
       "      <td>NaN</td>\n",
       "      <td>NaN</td>\n",
       "      <td>...</td>\n",
       "      <td>NaN</td>\n",
       "      <td>NaN</td>\n",
       "      <td>NaN</td>\n",
       "      <td>NaN</td>\n",
       "      <td>NaN</td>\n",
       "      <td>NaN</td>\n",
       "      <td>NaN</td>\n",
       "      <td>NaN</td>\n",
       "      <td>NaN</td>\n",
       "      <td>NaN</td>\n",
       "    </tr>\n",
       "    <tr>\n",
       "      <th>3</th>\n",
       "      <td>4.0</td>\n",
       "      <td>NaN</td>\n",
       "      <td>NaN</td>\n",
       "      <td>NaN</td>\n",
       "      <td>NaN</td>\n",
       "      <td>NaN</td>\n",
       "      <td>4.5</td>\n",
       "      <td>NaN</td>\n",
       "      <td>NaN</td>\n",
       "      <td>NaN</td>\n",
       "      <td>...</td>\n",
       "      <td>4.0</td>\n",
       "      <td>5.0</td>\n",
       "      <td>4.0</td>\n",
       "      <td>4.0</td>\n",
       "      <td>4.0</td>\n",
       "      <td>NaN</td>\n",
       "      <td>4.0</td>\n",
       "      <td>5.0</td>\n",
       "      <td>4.0</td>\n",
       "      <td>4.0</td>\n",
       "    </tr>\n",
       "    <tr>\n",
       "      <th>4</th>\n",
       "      <td>3.0</td>\n",
       "      <td>NaN</td>\n",
       "      <td>NaN</td>\n",
       "      <td>NaN</td>\n",
       "      <td>NaN</td>\n",
       "      <td>NaN</td>\n",
       "      <td>NaN</td>\n",
       "      <td>NaN</td>\n",
       "      <td>NaN</td>\n",
       "      <td>NaN</td>\n",
       "      <td>...</td>\n",
       "      <td>3.5</td>\n",
       "      <td>4.5</td>\n",
       "      <td>NaN</td>\n",
       "      <td>4.0</td>\n",
       "      <td>3.5</td>\n",
       "      <td>4.5</td>\n",
       "      <td>2.5</td>\n",
       "      <td>4.5</td>\n",
       "      <td>4.0</td>\n",
       "      <td>5.0</td>\n",
       "    </tr>\n",
       "    <tr>\n",
       "      <th>5</th>\n",
       "      <td>4.0</td>\n",
       "      <td>NaN</td>\n",
       "      <td>NaN</td>\n",
       "      <td>NaN</td>\n",
       "      <td>4.0</td>\n",
       "      <td>NaN</td>\n",
       "      <td>5.0</td>\n",
       "      <td>NaN</td>\n",
       "      <td>2.0</td>\n",
       "      <td>5.0</td>\n",
       "      <td>...</td>\n",
       "      <td>NaN</td>\n",
       "      <td>NaN</td>\n",
       "      <td>NaN</td>\n",
       "      <td>NaN</td>\n",
       "      <td>NaN</td>\n",
       "      <td>NaN</td>\n",
       "      <td>NaN</td>\n",
       "      <td>NaN</td>\n",
       "      <td>NaN</td>\n",
       "      <td>NaN</td>\n",
       "    </tr>\n",
       "    <tr>\n",
       "      <th>...</th>\n",
       "      <td>...</td>\n",
       "      <td>...</td>\n",
       "      <td>...</td>\n",
       "      <td>...</td>\n",
       "      <td>...</td>\n",
       "      <td>...</td>\n",
       "      <td>...</td>\n",
       "      <td>...</td>\n",
       "      <td>...</td>\n",
       "      <td>...</td>\n",
       "      <td>...</td>\n",
       "      <td>...</td>\n",
       "      <td>...</td>\n",
       "      <td>...</td>\n",
       "      <td>...</td>\n",
       "      <td>...</td>\n",
       "      <td>...</td>\n",
       "      <td>...</td>\n",
       "      <td>...</td>\n",
       "      <td>...</td>\n",
       "      <td>...</td>\n",
       "    </tr>\n",
       "    <tr>\n",
       "      <th>162537</th>\n",
       "      <td>NaN</td>\n",
       "      <td>NaN</td>\n",
       "      <td>NaN</td>\n",
       "      <td>NaN</td>\n",
       "      <td>NaN</td>\n",
       "      <td>NaN</td>\n",
       "      <td>NaN</td>\n",
       "      <td>NaN</td>\n",
       "      <td>NaN</td>\n",
       "      <td>NaN</td>\n",
       "      <td>...</td>\n",
       "      <td>NaN</td>\n",
       "      <td>NaN</td>\n",
       "      <td>NaN</td>\n",
       "      <td>NaN</td>\n",
       "      <td>NaN</td>\n",
       "      <td>NaN</td>\n",
       "      <td>NaN</td>\n",
       "      <td>NaN</td>\n",
       "      <td>NaN</td>\n",
       "      <td>NaN</td>\n",
       "    </tr>\n",
       "    <tr>\n",
       "      <th>162538</th>\n",
       "      <td>2.0</td>\n",
       "      <td>NaN</td>\n",
       "      <td>NaN</td>\n",
       "      <td>NaN</td>\n",
       "      <td>NaN</td>\n",
       "      <td>NaN</td>\n",
       "      <td>NaN</td>\n",
       "      <td>NaN</td>\n",
       "      <td>4.0</td>\n",
       "      <td>4.0</td>\n",
       "      <td>...</td>\n",
       "      <td>NaN</td>\n",
       "      <td>NaN</td>\n",
       "      <td>3.0</td>\n",
       "      <td>NaN</td>\n",
       "      <td>4.0</td>\n",
       "      <td>4.0</td>\n",
       "      <td>2.0</td>\n",
       "      <td>4.0</td>\n",
       "      <td>4.0</td>\n",
       "      <td>NaN</td>\n",
       "    </tr>\n",
       "    <tr>\n",
       "      <th>162539</th>\n",
       "      <td>NaN</td>\n",
       "      <td>NaN</td>\n",
       "      <td>NaN</td>\n",
       "      <td>NaN</td>\n",
       "      <td>NaN</td>\n",
       "      <td>NaN</td>\n",
       "      <td>NaN</td>\n",
       "      <td>NaN</td>\n",
       "      <td>NaN</td>\n",
       "      <td>NaN</td>\n",
       "      <td>...</td>\n",
       "      <td>NaN</td>\n",
       "      <td>NaN</td>\n",
       "      <td>NaN</td>\n",
       "      <td>NaN</td>\n",
       "      <td>NaN</td>\n",
       "      <td>NaN</td>\n",
       "      <td>NaN</td>\n",
       "      <td>NaN</td>\n",
       "      <td>NaN</td>\n",
       "      <td>NaN</td>\n",
       "    </tr>\n",
       "    <tr>\n",
       "      <th>162540</th>\n",
       "      <td>NaN</td>\n",
       "      <td>NaN</td>\n",
       "      <td>NaN</td>\n",
       "      <td>NaN</td>\n",
       "      <td>NaN</td>\n",
       "      <td>NaN</td>\n",
       "      <td>4.5</td>\n",
       "      <td>NaN</td>\n",
       "      <td>NaN</td>\n",
       "      <td>NaN</td>\n",
       "      <td>...</td>\n",
       "      <td>NaN</td>\n",
       "      <td>NaN</td>\n",
       "      <td>NaN</td>\n",
       "      <td>5.0</td>\n",
       "      <td>NaN</td>\n",
       "      <td>5.0</td>\n",
       "      <td>NaN</td>\n",
       "      <td>NaN</td>\n",
       "      <td>NaN</td>\n",
       "      <td>NaN</td>\n",
       "    </tr>\n",
       "    <tr>\n",
       "      <th>162541</th>\n",
       "      <td>NaN</td>\n",
       "      <td>NaN</td>\n",
       "      <td>NaN</td>\n",
       "      <td>NaN</td>\n",
       "      <td>NaN</td>\n",
       "      <td>NaN</td>\n",
       "      <td>5.0</td>\n",
       "      <td>NaN</td>\n",
       "      <td>NaN</td>\n",
       "      <td>4.5</td>\n",
       "      <td>...</td>\n",
       "      <td>NaN</td>\n",
       "      <td>4.0</td>\n",
       "      <td>NaN</td>\n",
       "      <td>NaN</td>\n",
       "      <td>NaN</td>\n",
       "      <td>NaN</td>\n",
       "      <td>NaN</td>\n",
       "      <td>NaN</td>\n",
       "      <td>NaN</td>\n",
       "      <td>NaN</td>\n",
       "    </tr>\n",
       "  </tbody>\n",
       "</table>\n",
       "<p>160837 rows × 208 columns</p>\n",
       "</div>"
      ],
      "text/plain": [
       "movieId  1       2       6       10      19      21      32      34      \\\n",
       "userId                                                                    \n",
       "1           NaN     NaN     NaN     NaN     NaN     NaN     NaN     NaN   \n",
       "2           3.5     NaN     NaN     NaN     NaN     NaN     NaN     NaN   \n",
       "3           4.0     NaN     NaN     NaN     NaN     NaN     4.5     NaN   \n",
       "4           3.0     NaN     NaN     NaN     NaN     NaN     NaN     NaN   \n",
       "5           4.0     NaN     NaN     NaN     4.0     NaN     5.0     NaN   \n",
       "...         ...     ...     ...     ...     ...     ...     ...     ...   \n",
       "162537      NaN     NaN     NaN     NaN     NaN     NaN     NaN     NaN   \n",
       "162538      2.0     NaN     NaN     NaN     NaN     NaN     NaN     NaN   \n",
       "162539      NaN     NaN     NaN     NaN     NaN     NaN     NaN     NaN   \n",
       "162540      NaN     NaN     NaN     NaN     NaN     NaN     4.5     NaN   \n",
       "162541      NaN     NaN     NaN     NaN     NaN     NaN     5.0     NaN   \n",
       "\n",
       "movieId  39      47      ...  54286   58559   59315   60069   68157   68954   \\\n",
       "userId                   ...                                                   \n",
       "1           NaN     NaN  ...     NaN     NaN     NaN     NaN     NaN     NaN   \n",
       "2           NaN     NaN  ...     NaN     NaN     NaN     NaN     NaN     NaN   \n",
       "3           NaN     NaN  ...     4.0     5.0     4.0     4.0     4.0     NaN   \n",
       "4           NaN     NaN  ...     3.5     4.5     NaN     4.0     3.5     4.5   \n",
       "5           2.0     5.0  ...     NaN     NaN     NaN     NaN     NaN     NaN   \n",
       "...         ...     ...  ...     ...     ...     ...     ...     ...     ...   \n",
       "162537      NaN     NaN  ...     NaN     NaN     NaN     NaN     NaN     NaN   \n",
       "162538      4.0     4.0  ...     NaN     NaN     3.0     NaN     4.0     4.0   \n",
       "162539      NaN     NaN  ...     NaN     NaN     NaN     NaN     NaN     NaN   \n",
       "162540      NaN     NaN  ...     NaN     NaN     NaN     5.0     NaN     5.0   \n",
       "162541      NaN     4.5  ...     NaN     4.0     NaN     NaN     NaN     NaN   \n",
       "\n",
       "movieId  72998   79132   99114   109487  \n",
       "userId                                   \n",
       "1           NaN     NaN     NaN     NaN  \n",
       "2           NaN     NaN     NaN     NaN  \n",
       "3           4.0     5.0     4.0     4.0  \n",
       "4           2.5     4.5     4.0     5.0  \n",
       "5           NaN     NaN     NaN     NaN  \n",
       "...         ...     ...     ...     ...  \n",
       "162537      NaN     NaN     NaN     NaN  \n",
       "162538      2.0     4.0     4.0     NaN  \n",
       "162539      NaN     NaN     NaN     NaN  \n",
       "162540      NaN     NaN     NaN     NaN  \n",
       "162541      NaN     NaN     NaN     NaN  \n",
       "\n",
       "[160837 rows x 208 columns]"
      ]
     },
     "execution_count": 59,
     "metadata": {},
     "output_type": "execute_result"
    }
   ],
   "source": [
    "ratings_pivot_user"
   ]
  },
  {
   "cell_type": "markdown",
   "id": "36c50d4e",
   "metadata": {},
   "source": [
    "This table contains all the ratings from all users of our reduced movie list. We can verify that this dataset is very sparse, since every user don't watch all movies and all movies aren't watched by all users."
   ]
  },
  {
   "cell_type": "code",
   "execution_count": 60,
   "id": "49a15961",
   "metadata": {
    "ExecuteTime": {
     "end_time": "2023-10-02T14:50:10.606150Z",
     "start_time": "2023-10-02T14:50:10.535635Z"
    }
   },
   "outputs": [
    {
     "name": "stdout",
     "output_type": "stream",
     "text": [
      "80.20% are NaN values.\n"
     ]
    }
   ],
   "source": [
    "# Verifying sparsity\n",
    "\n",
    "sparsity = ratings_pivot_user.count().sum() / ratings_pivot_user.size\n",
    "\n",
    "print(f\"{(1-sparsity)*100:.2f}% are NaN values.\")"
   ]
  },
  {
   "cell_type": "markdown",
   "id": "3a2f574c",
   "metadata": {},
   "source": [
    "Before we fill the missing values, we must center our distribution around zero. Otherwise, if we only naively filled our NaN with zeros, we would be adding the information that the user really disliked that movie."
   ]
  },
  {
   "cell_type": "code",
   "execution_count": 61,
   "id": "e5604ef1",
   "metadata": {
    "ExecuteTime": {
     "end_time": "2023-10-02T14:50:11.628955Z",
     "start_time": "2023-10-02T14:50:10.609336Z"
    }
   },
   "outputs": [],
   "source": [
    "# Filling missing values\n",
    "\n",
    "avg_user_rating = ratings_pivot_user.mean(axis=1)\n",
    "ratings_pivot_user_centered = ratings_pivot_user.sub(avg_user_rating, axis=0).fillna(0)"
   ]
  },
  {
   "cell_type": "code",
   "execution_count": 62,
   "id": "c1675ff0",
   "metadata": {
    "ExecuteTime": {
     "end_time": "2023-10-02T14:50:12.464814Z",
     "start_time": "2023-10-02T14:50:11.631458Z"
    }
   },
   "outputs": [
    {
     "name": "stdout",
     "output_type": "stream",
     "text": [
      "Predict rating for Star Wars: Episode VI - Return of the Jedi (1983) is 4.15\n"
     ]
    }
   ],
   "source": [
    "# KNN\n",
    "\n",
    "from sklearn.neighbors import KNeighborsRegressor\n",
    "\n",
    "knn = KNeighborsRegressor(n_neighbors=3, metric=\"cosine\")\n",
    "\n",
    "X_target_user = ratings_pivot_user_centered.loc[[target_user]].drop(target_movie_id, axis=1)\n",
    "\n",
    "other_users = ratings_pivot_user_centered.drop(target_user, axis=0)\n",
    "\n",
    "X_other_users = other_users.drop(target_movie_id, axis=1)\n",
    "y_other_users = other_users[target_movie_id]\n",
    "\n",
    "knn.fit(X_other_users, y_other_users)\n",
    "\n",
    "y_target_user = knn.predict(X_target_user)[0] + avg_user_rating.loc[target_user]\n",
    "print(f\"Predict rating for {get_title_from_id(target_movie_id)} is {y_target_user:.2f}\")"
   ]
  },
  {
   "cell_type": "markdown",
   "id": "d0cff88a",
   "metadata": {},
   "source": [
    "# SVD"
   ]
  },
  {
   "cell_type": "code",
   "execution_count": 123,
   "id": "1defad97",
   "metadata": {
    "ExecuteTime": {
     "end_time": "2023-10-02T15:06:15.380833Z",
     "start_time": "2023-10-02T15:06:15.374556Z"
    }
   },
   "outputs": [],
   "source": [
    "# We want to predict movie ratings for pop movies for user 1"
   ]
  },
  {
   "cell_type": "code",
   "execution_count": 197,
   "id": "ab93e871",
   "metadata": {
    "ExecuteTime": {
     "end_time": "2023-10-02T15:45:15.325748Z",
     "start_time": "2023-10-02T15:45:13.538538Z"
    }
   },
   "outputs": [],
   "source": [
    "# Restricting to pop movies\n",
    "\n",
    "target_user = 1\n",
    "user_movies = ratings.loc[ratings['userId'] == target_user, 'movieId'].unique()\n",
    "pop_movies_300 = get_pop_movies(n=300)\n",
    "\n",
    "ratings_pop = ratings.loc[ratings['movieId'].isin(pop_movies_300)]"
   ]
  },
  {
   "cell_type": "code",
   "execution_count": 182,
   "id": "de47cb56",
   "metadata": {
    "ExecuteTime": {
     "end_time": "2023-10-02T15:41:32.972873Z",
     "start_time": "2023-10-02T15:41:27.170033Z"
    }
   },
   "outputs": [],
   "source": [
    "ratings_pop_pivot = ratings_pop.pivot(index='userId',\n",
    "                                      columns='movieId',\n",
    "                                      values='rating')"
   ]
  },
  {
   "cell_type": "code",
   "execution_count": 183,
   "id": "bdd02b5f",
   "metadata": {
    "ExecuteTime": {
     "end_time": "2023-10-02T15:41:34.966234Z",
     "start_time": "2023-10-02T15:41:34.376429Z"
    }
   },
   "outputs": [],
   "source": [
    "rating_pop_user_mean = ratings_pop_pivot.mean(axis=1)"
   ]
  },
  {
   "cell_type": "code",
   "execution_count": 184,
   "id": "c671246c",
   "metadata": {
    "ExecuteTime": {
     "end_time": "2023-10-02T15:41:37.990625Z",
     "start_time": "2023-10-02T15:41:36.298507Z"
    }
   },
   "outputs": [
    {
     "data": {
      "text/html": [
       "<div>\n",
       "<style scoped>\n",
       "    .dataframe tbody tr th:only-of-type {\n",
       "        vertical-align: middle;\n",
       "    }\n",
       "\n",
       "    .dataframe tbody tr th {\n",
       "        vertical-align: top;\n",
       "    }\n",
       "\n",
       "    .dataframe thead th {\n",
       "        text-align: right;\n",
       "    }\n",
       "</style>\n",
       "<table border=\"1\" class=\"dataframe\">\n",
       "  <thead>\n",
       "    <tr style=\"text-align: right;\">\n",
       "      <th>movieId</th>\n",
       "      <th>1</th>\n",
       "      <th>2</th>\n",
       "      <th>6</th>\n",
       "      <th>10</th>\n",
       "      <th>11</th>\n",
       "      <th>16</th>\n",
       "      <th>17</th>\n",
       "      <th>19</th>\n",
       "      <th>21</th>\n",
       "      <th>25</th>\n",
       "      <th>...</th>\n",
       "      <th>72998</th>\n",
       "      <th>74458</th>\n",
       "      <th>79132</th>\n",
       "      <th>89745</th>\n",
       "      <th>91529</th>\n",
       "      <th>99114</th>\n",
       "      <th>106782</th>\n",
       "      <th>109487</th>\n",
       "      <th>112852</th>\n",
       "      <th>134130</th>\n",
       "    </tr>\n",
       "    <tr>\n",
       "      <th>userId</th>\n",
       "      <th></th>\n",
       "      <th></th>\n",
       "      <th></th>\n",
       "      <th></th>\n",
       "      <th></th>\n",
       "      <th></th>\n",
       "      <th></th>\n",
       "      <th></th>\n",
       "      <th></th>\n",
       "      <th></th>\n",
       "      <th></th>\n",
       "      <th></th>\n",
       "      <th></th>\n",
       "      <th></th>\n",
       "      <th></th>\n",
       "      <th></th>\n",
       "      <th></th>\n",
       "      <th></th>\n",
       "      <th></th>\n",
       "      <th></th>\n",
       "      <th></th>\n",
       "    </tr>\n",
       "  </thead>\n",
       "  <tbody>\n",
       "    <tr>\n",
       "      <th>1</th>\n",
       "      <td>0.000000</td>\n",
       "      <td>0.0</td>\n",
       "      <td>0.0</td>\n",
       "      <td>0.0</td>\n",
       "      <td>0.0</td>\n",
       "      <td>0.0</td>\n",
       "      <td>0.000000</td>\n",
       "      <td>0.00</td>\n",
       "      <td>0.0</td>\n",
       "      <td>0.0</td>\n",
       "      <td>...</td>\n",
       "      <td>0.000000</td>\n",
       "      <td>0.000000</td>\n",
       "      <td>0.000000</td>\n",
       "      <td>0.000000</td>\n",
       "      <td>0.000000</td>\n",
       "      <td>0.000000</td>\n",
       "      <td>0.000000</td>\n",
       "      <td>0.000000</td>\n",
       "      <td>0.000000</td>\n",
       "      <td>0.000000</td>\n",
       "    </tr>\n",
       "    <tr>\n",
       "      <th>2</th>\n",
       "      <td>-0.524692</td>\n",
       "      <td>0.0</td>\n",
       "      <td>0.0</td>\n",
       "      <td>0.0</td>\n",
       "      <td>0.0</td>\n",
       "      <td>0.0</td>\n",
       "      <td>0.000000</td>\n",
       "      <td>0.00</td>\n",
       "      <td>0.0</td>\n",
       "      <td>0.0</td>\n",
       "      <td>...</td>\n",
       "      <td>0.000000</td>\n",
       "      <td>0.000000</td>\n",
       "      <td>0.000000</td>\n",
       "      <td>0.000000</td>\n",
       "      <td>0.000000</td>\n",
       "      <td>0.000000</td>\n",
       "      <td>0.000000</td>\n",
       "      <td>0.000000</td>\n",
       "      <td>0.000000</td>\n",
       "      <td>0.000000</td>\n",
       "    </tr>\n",
       "    <tr>\n",
       "      <th>3</th>\n",
       "      <td>-0.093023</td>\n",
       "      <td>0.0</td>\n",
       "      <td>0.0</td>\n",
       "      <td>0.0</td>\n",
       "      <td>0.0</td>\n",
       "      <td>0.0</td>\n",
       "      <td>0.000000</td>\n",
       "      <td>0.00</td>\n",
       "      <td>0.0</td>\n",
       "      <td>0.0</td>\n",
       "      <td>...</td>\n",
       "      <td>-0.093023</td>\n",
       "      <td>-0.093023</td>\n",
       "      <td>0.906977</td>\n",
       "      <td>-0.093023</td>\n",
       "      <td>-0.093023</td>\n",
       "      <td>-0.093023</td>\n",
       "      <td>0.406977</td>\n",
       "      <td>-0.093023</td>\n",
       "      <td>-0.093023</td>\n",
       "      <td>-0.093023</td>\n",
       "    </tr>\n",
       "    <tr>\n",
       "      <th>4</th>\n",
       "      <td>-0.801370</td>\n",
       "      <td>0.0</td>\n",
       "      <td>0.0</td>\n",
       "      <td>0.0</td>\n",
       "      <td>0.0</td>\n",
       "      <td>0.0</td>\n",
       "      <td>0.000000</td>\n",
       "      <td>0.00</td>\n",
       "      <td>0.0</td>\n",
       "      <td>0.0</td>\n",
       "      <td>...</td>\n",
       "      <td>-1.301370</td>\n",
       "      <td>1.198630</td>\n",
       "      <td>0.698630</td>\n",
       "      <td>-1.301370</td>\n",
       "      <td>0.698630</td>\n",
       "      <td>0.198630</td>\n",
       "      <td>0.000000</td>\n",
       "      <td>1.198630</td>\n",
       "      <td>-0.801370</td>\n",
       "      <td>0.198630</td>\n",
       "    </tr>\n",
       "    <tr>\n",
       "      <th>5</th>\n",
       "      <td>-0.020000</td>\n",
       "      <td>0.0</td>\n",
       "      <td>0.0</td>\n",
       "      <td>0.0</td>\n",
       "      <td>0.0</td>\n",
       "      <td>0.0</td>\n",
       "      <td>0.000000</td>\n",
       "      <td>-0.02</td>\n",
       "      <td>0.0</td>\n",
       "      <td>0.0</td>\n",
       "      <td>...</td>\n",
       "      <td>0.000000</td>\n",
       "      <td>0.000000</td>\n",
       "      <td>0.000000</td>\n",
       "      <td>0.000000</td>\n",
       "      <td>0.000000</td>\n",
       "      <td>0.000000</td>\n",
       "      <td>0.000000</td>\n",
       "      <td>0.000000</td>\n",
       "      <td>0.000000</td>\n",
       "      <td>0.000000</td>\n",
       "    </tr>\n",
       "    <tr>\n",
       "      <th>...</th>\n",
       "      <td>...</td>\n",
       "      <td>...</td>\n",
       "      <td>...</td>\n",
       "      <td>...</td>\n",
       "      <td>...</td>\n",
       "      <td>...</td>\n",
       "      <td>...</td>\n",
       "      <td>...</td>\n",
       "      <td>...</td>\n",
       "      <td>...</td>\n",
       "      <td>...</td>\n",
       "      <td>...</td>\n",
       "      <td>...</td>\n",
       "      <td>...</td>\n",
       "      <td>...</td>\n",
       "      <td>...</td>\n",
       "      <td>...</td>\n",
       "      <td>...</td>\n",
       "      <td>...</td>\n",
       "      <td>...</td>\n",
       "      <td>...</td>\n",
       "    </tr>\n",
       "    <tr>\n",
       "      <th>162537</th>\n",
       "      <td>0.000000</td>\n",
       "      <td>0.0</td>\n",
       "      <td>0.0</td>\n",
       "      <td>0.0</td>\n",
       "      <td>0.0</td>\n",
       "      <td>0.0</td>\n",
       "      <td>0.000000</td>\n",
       "      <td>0.00</td>\n",
       "      <td>0.0</td>\n",
       "      <td>0.0</td>\n",
       "      <td>...</td>\n",
       "      <td>0.000000</td>\n",
       "      <td>0.000000</td>\n",
       "      <td>0.000000</td>\n",
       "      <td>0.000000</td>\n",
       "      <td>0.000000</td>\n",
       "      <td>0.000000</td>\n",
       "      <td>0.000000</td>\n",
       "      <td>0.000000</td>\n",
       "      <td>0.000000</td>\n",
       "      <td>0.000000</td>\n",
       "    </tr>\n",
       "    <tr>\n",
       "      <th>162538</th>\n",
       "      <td>-1.558824</td>\n",
       "      <td>0.0</td>\n",
       "      <td>0.0</td>\n",
       "      <td>0.0</td>\n",
       "      <td>0.0</td>\n",
       "      <td>0.0</td>\n",
       "      <td>0.441176</td>\n",
       "      <td>0.00</td>\n",
       "      <td>0.0</td>\n",
       "      <td>0.0</td>\n",
       "      <td>...</td>\n",
       "      <td>-1.558824</td>\n",
       "      <td>-0.558824</td>\n",
       "      <td>0.441176</td>\n",
       "      <td>0.000000</td>\n",
       "      <td>0.000000</td>\n",
       "      <td>0.441176</td>\n",
       "      <td>0.000000</td>\n",
       "      <td>0.000000</td>\n",
       "      <td>0.000000</td>\n",
       "      <td>0.000000</td>\n",
       "    </tr>\n",
       "    <tr>\n",
       "      <th>162539</th>\n",
       "      <td>0.000000</td>\n",
       "      <td>0.0</td>\n",
       "      <td>0.0</td>\n",
       "      <td>0.0</td>\n",
       "      <td>0.0</td>\n",
       "      <td>0.0</td>\n",
       "      <td>0.000000</td>\n",
       "      <td>0.00</td>\n",
       "      <td>0.0</td>\n",
       "      <td>0.0</td>\n",
       "      <td>...</td>\n",
       "      <td>0.000000</td>\n",
       "      <td>0.000000</td>\n",
       "      <td>0.000000</td>\n",
       "      <td>0.000000</td>\n",
       "      <td>0.000000</td>\n",
       "      <td>0.000000</td>\n",
       "      <td>0.000000</td>\n",
       "      <td>0.000000</td>\n",
       "      <td>0.000000</td>\n",
       "      <td>0.000000</td>\n",
       "    </tr>\n",
       "    <tr>\n",
       "      <th>162540</th>\n",
       "      <td>0.000000</td>\n",
       "      <td>0.0</td>\n",
       "      <td>0.0</td>\n",
       "      <td>0.0</td>\n",
       "      <td>0.0</td>\n",
       "      <td>0.0</td>\n",
       "      <td>0.000000</td>\n",
       "      <td>0.00</td>\n",
       "      <td>0.0</td>\n",
       "      <td>0.0</td>\n",
       "      <td>...</td>\n",
       "      <td>0.000000</td>\n",
       "      <td>0.000000</td>\n",
       "      <td>0.000000</td>\n",
       "      <td>0.000000</td>\n",
       "      <td>0.000000</td>\n",
       "      <td>0.000000</td>\n",
       "      <td>0.000000</td>\n",
       "      <td>0.000000</td>\n",
       "      <td>0.000000</td>\n",
       "      <td>0.000000</td>\n",
       "    </tr>\n",
       "    <tr>\n",
       "      <th>162541</th>\n",
       "      <td>0.000000</td>\n",
       "      <td>0.0</td>\n",
       "      <td>0.0</td>\n",
       "      <td>0.0</td>\n",
       "      <td>0.0</td>\n",
       "      <td>0.0</td>\n",
       "      <td>0.000000</td>\n",
       "      <td>0.00</td>\n",
       "      <td>0.0</td>\n",
       "      <td>0.0</td>\n",
       "      <td>...</td>\n",
       "      <td>0.000000</td>\n",
       "      <td>0.000000</td>\n",
       "      <td>0.000000</td>\n",
       "      <td>0.000000</td>\n",
       "      <td>0.000000</td>\n",
       "      <td>0.000000</td>\n",
       "      <td>0.000000</td>\n",
       "      <td>0.000000</td>\n",
       "      <td>0.000000</td>\n",
       "      <td>0.000000</td>\n",
       "    </tr>\n",
       "  </tbody>\n",
       "</table>\n",
       "<p>161139 rows × 300 columns</p>\n",
       "</div>"
      ],
      "text/plain": [
       "movieId    1       2       6       10      11      16        17      19      \\\n",
       "userId                                                                        \n",
       "1        0.000000     0.0     0.0     0.0     0.0     0.0  0.000000    0.00   \n",
       "2       -0.524692     0.0     0.0     0.0     0.0     0.0  0.000000    0.00   \n",
       "3       -0.093023     0.0     0.0     0.0     0.0     0.0  0.000000    0.00   \n",
       "4       -0.801370     0.0     0.0     0.0     0.0     0.0  0.000000    0.00   \n",
       "5       -0.020000     0.0     0.0     0.0     0.0     0.0  0.000000   -0.02   \n",
       "...           ...     ...     ...     ...     ...     ...       ...     ...   \n",
       "162537   0.000000     0.0     0.0     0.0     0.0     0.0  0.000000    0.00   \n",
       "162538  -1.558824     0.0     0.0     0.0     0.0     0.0  0.441176    0.00   \n",
       "162539   0.000000     0.0     0.0     0.0     0.0     0.0  0.000000    0.00   \n",
       "162540   0.000000     0.0     0.0     0.0     0.0     0.0  0.000000    0.00   \n",
       "162541   0.000000     0.0     0.0     0.0     0.0     0.0  0.000000    0.00   \n",
       "\n",
       "movieId  21      25      ...    72998     74458     79132     89745   \\\n",
       "userId                   ...                                           \n",
       "1           0.0     0.0  ...  0.000000  0.000000  0.000000  0.000000   \n",
       "2           0.0     0.0  ...  0.000000  0.000000  0.000000  0.000000   \n",
       "3           0.0     0.0  ... -0.093023 -0.093023  0.906977 -0.093023   \n",
       "4           0.0     0.0  ... -1.301370  1.198630  0.698630 -1.301370   \n",
       "5           0.0     0.0  ...  0.000000  0.000000  0.000000  0.000000   \n",
       "...         ...     ...  ...       ...       ...       ...       ...   \n",
       "162537      0.0     0.0  ...  0.000000  0.000000  0.000000  0.000000   \n",
       "162538      0.0     0.0  ... -1.558824 -0.558824  0.441176  0.000000   \n",
       "162539      0.0     0.0  ...  0.000000  0.000000  0.000000  0.000000   \n",
       "162540      0.0     0.0  ...  0.000000  0.000000  0.000000  0.000000   \n",
       "162541      0.0     0.0  ...  0.000000  0.000000  0.000000  0.000000   \n",
       "\n",
       "movieId    91529     99114     106782    109487    112852    134130  \n",
       "userId                                                               \n",
       "1        0.000000  0.000000  0.000000  0.000000  0.000000  0.000000  \n",
       "2        0.000000  0.000000  0.000000  0.000000  0.000000  0.000000  \n",
       "3       -0.093023 -0.093023  0.406977 -0.093023 -0.093023 -0.093023  \n",
       "4        0.698630  0.198630  0.000000  1.198630 -0.801370  0.198630  \n",
       "5        0.000000  0.000000  0.000000  0.000000  0.000000  0.000000  \n",
       "...           ...       ...       ...       ...       ...       ...  \n",
       "162537   0.000000  0.000000  0.000000  0.000000  0.000000  0.000000  \n",
       "162538   0.000000  0.441176  0.000000  0.000000  0.000000  0.000000  \n",
       "162539   0.000000  0.000000  0.000000  0.000000  0.000000  0.000000  \n",
       "162540   0.000000  0.000000  0.000000  0.000000  0.000000  0.000000  \n",
       "162541   0.000000  0.000000  0.000000  0.000000  0.000000  0.000000  \n",
       "\n",
       "[161139 rows x 300 columns]"
      ]
     },
     "execution_count": 184,
     "metadata": {},
     "output_type": "execute_result"
    }
   ],
   "source": [
    "ratings_pop_pivot_sub = ratings_pop_pivot.sub(rating_pop_user_mean, axis=0).fillna(0)\n",
    "ratings_pop_pivot_sub"
   ]
  },
  {
   "cell_type": "code",
   "execution_count": 185,
   "id": "c2c45262",
   "metadata": {
    "ExecuteTime": {
     "end_time": "2023-10-02T15:41:41.811639Z",
     "start_time": "2023-10-02T15:41:39.354941Z"
    }
   },
   "outputs": [],
   "source": [
    "from scipy.sparse.linalg import svds\n",
    "\n",
    "U, sigma, Vt = svds(ratings_pop_pivot_sub)"
   ]
  },
  {
   "cell_type": "code",
   "execution_count": 186,
   "id": "bd78f04d",
   "metadata": {
    "ExecuteTime": {
     "end_time": "2023-10-02T15:41:42.914524Z",
     "start_time": "2023-10-02T15:41:42.910770Z"
    }
   },
   "outputs": [],
   "source": [
    "sigma = np.diag(sigma)"
   ]
  },
  {
   "cell_type": "code",
   "execution_count": 187,
   "id": "dc7c545f",
   "metadata": {
    "ExecuteTime": {
     "end_time": "2023-10-02T15:41:44.541070Z",
     "start_time": "2023-10-02T15:41:43.907183Z"
    }
   },
   "outputs": [],
   "source": [
    "ratings_pred_centered = np.dot(np.dot(U, sigma), Vt)\n",
    "ratings_pred = ratings_pred_centered + rating_pop_user_mean.values.reshape(-1,1)"
   ]
  },
  {
   "cell_type": "code",
   "execution_count": 188,
   "id": "54dc8561",
   "metadata": {
    "ExecuteTime": {
     "end_time": "2023-10-02T15:41:45.610727Z",
     "start_time": "2023-10-02T15:41:45.607513Z"
    }
   },
   "outputs": [],
   "source": [
    "ratings_pred = pd.DataFrame(ratings_pred, index=ratings_pop_pivot_sub.index,\n",
    "                            columns=ratings_pop_pivot_sub.columns)"
   ]
  },
  {
   "cell_type": "code",
   "execution_count": 176,
   "id": "1a282e29",
   "metadata": {
    "ExecuteTime": {
     "end_time": "2023-10-02T15:40:24.842744Z",
     "start_time": "2023-10-02T15:40:24.733044Z"
    },
    "scrolled": false
   },
   "outputs": [
    {
     "data": {
      "text/html": [
       "<div>\n",
       "<style scoped>\n",
       "    .dataframe tbody tr th:only-of-type {\n",
       "        vertical-align: middle;\n",
       "    }\n",
       "\n",
       "    .dataframe tbody tr th {\n",
       "        vertical-align: top;\n",
       "    }\n",
       "\n",
       "    .dataframe thead th {\n",
       "        text-align: right;\n",
       "    }\n",
       "</style>\n",
       "<table border=\"1\" class=\"dataframe\">\n",
       "  <thead>\n",
       "    <tr style=\"text-align: right;\">\n",
       "      <th>movieId</th>\n",
       "      <th>1</th>\n",
       "      <th>2</th>\n",
       "      <th>6</th>\n",
       "      <th>10</th>\n",
       "      <th>19</th>\n",
       "      <th>21</th>\n",
       "      <th>32</th>\n",
       "      <th>34</th>\n",
       "      <th>39</th>\n",
       "      <th>47</th>\n",
       "      <th>...</th>\n",
       "      <th>54286</th>\n",
       "      <th>58559</th>\n",
       "      <th>59315</th>\n",
       "      <th>60069</th>\n",
       "      <th>68157</th>\n",
       "      <th>68954</th>\n",
       "      <th>72998</th>\n",
       "      <th>79132</th>\n",
       "      <th>99114</th>\n",
       "      <th>109487</th>\n",
       "    </tr>\n",
       "    <tr>\n",
       "      <th>userId</th>\n",
       "      <th></th>\n",
       "      <th></th>\n",
       "      <th></th>\n",
       "      <th></th>\n",
       "      <th></th>\n",
       "      <th></th>\n",
       "      <th></th>\n",
       "      <th></th>\n",
       "      <th></th>\n",
       "      <th></th>\n",
       "      <th></th>\n",
       "      <th></th>\n",
       "      <th></th>\n",
       "      <th></th>\n",
       "      <th></th>\n",
       "      <th></th>\n",
       "      <th></th>\n",
       "      <th></th>\n",
       "      <th></th>\n",
       "      <th></th>\n",
       "      <th></th>\n",
       "    </tr>\n",
       "  </thead>\n",
       "  <tbody>\n",
       "    <tr>\n",
       "      <th>1</th>\n",
       "      <td>4.018543</td>\n",
       "      <td>4.038481</td>\n",
       "      <td>4.107340</td>\n",
       "      <td>4.058426</td>\n",
       "      <td>4.061199</td>\n",
       "      <td>4.092247</td>\n",
       "      <td>4.166810</td>\n",
       "      <td>4.037768</td>\n",
       "      <td>4.066772</td>\n",
       "      <td>4.184366</td>\n",
       "      <td>...</td>\n",
       "      <td>4.077429</td>\n",
       "      <td>4.104732</td>\n",
       "      <td>4.054322</td>\n",
       "      <td>4.084188</td>\n",
       "      <td>4.119172</td>\n",
       "      <td>4.076375</td>\n",
       "      <td>4.044859</td>\n",
       "      <td>4.112164</td>\n",
       "      <td>4.106785</td>\n",
       "      <td>4.096456</td>\n",
       "    </tr>\n",
       "    <tr>\n",
       "      <th>2</th>\n",
       "      <td>4.050903</td>\n",
       "      <td>3.898971</td>\n",
       "      <td>4.091391</td>\n",
       "      <td>4.018256</td>\n",
       "      <td>3.897075</td>\n",
       "      <td>3.994068</td>\n",
       "      <td>4.016774</td>\n",
       "      <td>3.889286</td>\n",
       "      <td>3.908141</td>\n",
       "      <td>4.130045</td>\n",
       "      <td>...</td>\n",
       "      <td>4.132395</td>\n",
       "      <td>4.336689</td>\n",
       "      <td>4.156806</td>\n",
       "      <td>4.118491</td>\n",
       "      <td>4.062086</td>\n",
       "      <td>4.085712</td>\n",
       "      <td>4.147762</td>\n",
       "      <td>4.245409</td>\n",
       "      <td>4.082942</td>\n",
       "      <td>4.148173</td>\n",
       "    </tr>\n",
       "    <tr>\n",
       "      <th>3</th>\n",
       "      <td>3.881718</td>\n",
       "      <td>4.082500</td>\n",
       "      <td>4.241818</td>\n",
       "      <td>4.121169</td>\n",
       "      <td>4.324176</td>\n",
       "      <td>4.210300</td>\n",
       "      <td>4.388332</td>\n",
       "      <td>4.030018</td>\n",
       "      <td>4.156042</td>\n",
       "      <td>4.462835</td>\n",
       "      <td>...</td>\n",
       "      <td>4.146714</td>\n",
       "      <td>4.233758</td>\n",
       "      <td>4.048750</td>\n",
       "      <td>4.158189</td>\n",
       "      <td>4.286303</td>\n",
       "      <td>4.136524</td>\n",
       "      <td>4.051950</td>\n",
       "      <td>4.286080</td>\n",
       "      <td>4.250971</td>\n",
       "      <td>4.228181</td>\n",
       "    </tr>\n",
       "    <tr>\n",
       "      <th>4</th>\n",
       "      <td>3.641528</td>\n",
       "      <td>3.709071</td>\n",
       "      <td>3.824334</td>\n",
       "      <td>3.761936</td>\n",
       "      <td>3.902777</td>\n",
       "      <td>3.796374</td>\n",
       "      <td>3.868736</td>\n",
       "      <td>3.690143</td>\n",
       "      <td>3.768067</td>\n",
       "      <td>3.904990</td>\n",
       "      <td>...</td>\n",
       "      <td>3.794419</td>\n",
       "      <td>3.905659</td>\n",
       "      <td>3.749717</td>\n",
       "      <td>3.814575</td>\n",
       "      <td>3.841389</td>\n",
       "      <td>3.794497</td>\n",
       "      <td>3.758377</td>\n",
       "      <td>3.907929</td>\n",
       "      <td>3.831947</td>\n",
       "      <td>3.845422</td>\n",
       "    </tr>\n",
       "    <tr>\n",
       "      <th>5</th>\n",
       "      <td>3.890747</td>\n",
       "      <td>3.863692</td>\n",
       "      <td>4.070540</td>\n",
       "      <td>3.959278</td>\n",
       "      <td>3.797783</td>\n",
       "      <td>3.967364</td>\n",
       "      <td>4.101947</td>\n",
       "      <td>3.792384</td>\n",
       "      <td>3.844609</td>\n",
       "      <td>4.254916</td>\n",
       "      <td>...</td>\n",
       "      <td>4.047019</td>\n",
       "      <td>4.170577</td>\n",
       "      <td>4.047476</td>\n",
       "      <td>3.989614</td>\n",
       "      <td>4.060205</td>\n",
       "      <td>3.961091</td>\n",
       "      <td>4.002368</td>\n",
       "      <td>4.113953</td>\n",
       "      <td>4.053622</td>\n",
       "      <td>4.062701</td>\n",
       "    </tr>\n",
       "    <tr>\n",
       "      <th>...</th>\n",
       "      <td>...</td>\n",
       "      <td>...</td>\n",
       "      <td>...</td>\n",
       "      <td>...</td>\n",
       "      <td>...</td>\n",
       "      <td>...</td>\n",
       "      <td>...</td>\n",
       "      <td>...</td>\n",
       "      <td>...</td>\n",
       "      <td>...</td>\n",
       "      <td>...</td>\n",
       "      <td>...</td>\n",
       "      <td>...</td>\n",
       "      <td>...</td>\n",
       "      <td>...</td>\n",
       "      <td>...</td>\n",
       "      <td>...</td>\n",
       "      <td>...</td>\n",
       "      <td>...</td>\n",
       "      <td>...</td>\n",
       "      <td>...</td>\n",
       "    </tr>\n",
       "    <tr>\n",
       "      <th>162537</th>\n",
       "      <td>4.388929</td>\n",
       "      <td>4.360640</td>\n",
       "      <td>4.428592</td>\n",
       "      <td>4.360113</td>\n",
       "      <td>4.384779</td>\n",
       "      <td>4.382931</td>\n",
       "      <td>4.392531</td>\n",
       "      <td>4.375309</td>\n",
       "      <td>4.345587</td>\n",
       "      <td>4.504356</td>\n",
       "      <td>...</td>\n",
       "      <td>4.417493</td>\n",
       "      <td>4.449575</td>\n",
       "      <td>4.391497</td>\n",
       "      <td>4.397622</td>\n",
       "      <td>4.421698</td>\n",
       "      <td>4.394624</td>\n",
       "      <td>4.402837</td>\n",
       "      <td>4.452497</td>\n",
       "      <td>4.422595</td>\n",
       "      <td>4.432991</td>\n",
       "    </tr>\n",
       "    <tr>\n",
       "      <th>162538</th>\n",
       "      <td>3.691497</td>\n",
       "      <td>3.660034</td>\n",
       "      <td>3.599185</td>\n",
       "      <td>3.562127</td>\n",
       "      <td>3.632882</td>\n",
       "      <td>3.612728</td>\n",
       "      <td>3.516895</td>\n",
       "      <td>3.758974</td>\n",
       "      <td>3.643427</td>\n",
       "      <td>3.596837</td>\n",
       "      <td>...</td>\n",
       "      <td>3.605741</td>\n",
       "      <td>3.556341</td>\n",
       "      <td>3.546106</td>\n",
       "      <td>3.631290</td>\n",
       "      <td>3.599577</td>\n",
       "      <td>3.652366</td>\n",
       "      <td>3.634235</td>\n",
       "      <td>3.641107</td>\n",
       "      <td>3.608837</td>\n",
       "      <td>3.628736</td>\n",
       "    </tr>\n",
       "    <tr>\n",
       "      <th>162539</th>\n",
       "      <td>4.647290</td>\n",
       "      <td>4.597991</td>\n",
       "      <td>4.588480</td>\n",
       "      <td>4.565579</td>\n",
       "      <td>4.636139</td>\n",
       "      <td>4.598313</td>\n",
       "      <td>4.580670</td>\n",
       "      <td>4.669381</td>\n",
       "      <td>4.621331</td>\n",
       "      <td>4.577431</td>\n",
       "      <td>...</td>\n",
       "      <td>4.580338</td>\n",
       "      <td>4.553925</td>\n",
       "      <td>4.559309</td>\n",
       "      <td>4.606147</td>\n",
       "      <td>4.591370</td>\n",
       "      <td>4.614391</td>\n",
       "      <td>4.575217</td>\n",
       "      <td>4.575791</td>\n",
       "      <td>4.589203</td>\n",
       "      <td>4.585104</td>\n",
       "    </tr>\n",
       "    <tr>\n",
       "      <th>162540</th>\n",
       "      <td>4.617756</td>\n",
       "      <td>4.646254</td>\n",
       "      <td>4.650792</td>\n",
       "      <td>4.652431</td>\n",
       "      <td>4.680240</td>\n",
       "      <td>4.645617</td>\n",
       "      <td>4.640807</td>\n",
       "      <td>4.626043</td>\n",
       "      <td>4.641262</td>\n",
       "      <td>4.655963</td>\n",
       "      <td>...</td>\n",
       "      <td>4.651915</td>\n",
       "      <td>4.668717</td>\n",
       "      <td>4.648396</td>\n",
       "      <td>4.645392</td>\n",
       "      <td>4.650820</td>\n",
       "      <td>4.642754</td>\n",
       "      <td>4.652945</td>\n",
       "      <td>4.667867</td>\n",
       "      <td>4.652398</td>\n",
       "      <td>4.658292</td>\n",
       "    </tr>\n",
       "    <tr>\n",
       "      <th>162541</th>\n",
       "      <td>4.058516</td>\n",
       "      <td>3.446321</td>\n",
       "      <td>3.931340</td>\n",
       "      <td>3.657890</td>\n",
       "      <td>2.704073</td>\n",
       "      <td>3.801836</td>\n",
       "      <td>4.168269</td>\n",
       "      <td>3.671386</td>\n",
       "      <td>3.603992</td>\n",
       "      <td>4.168836</td>\n",
       "      <td>...</td>\n",
       "      <td>3.930542</td>\n",
       "      <td>4.173294</td>\n",
       "      <td>3.974816</td>\n",
       "      <td>4.032851</td>\n",
       "      <td>3.918355</td>\n",
       "      <td>3.980387</td>\n",
       "      <td>3.890332</td>\n",
       "      <td>4.061903</td>\n",
       "      <td>3.902930</td>\n",
       "      <td>3.926373</td>\n",
       "    </tr>\n",
       "  </tbody>\n",
       "</table>\n",
       "<p>160543 rows × 200 columns</p>\n",
       "</div>"
      ],
      "text/plain": [
       "movieId    1         2         6         10        19        21        32      \\\n",
       "userId                                                                          \n",
       "1        4.018543  4.038481  4.107340  4.058426  4.061199  4.092247  4.166810   \n",
       "2        4.050903  3.898971  4.091391  4.018256  3.897075  3.994068  4.016774   \n",
       "3        3.881718  4.082500  4.241818  4.121169  4.324176  4.210300  4.388332   \n",
       "4        3.641528  3.709071  3.824334  3.761936  3.902777  3.796374  3.868736   \n",
       "5        3.890747  3.863692  4.070540  3.959278  3.797783  3.967364  4.101947   \n",
       "...           ...       ...       ...       ...       ...       ...       ...   \n",
       "162537   4.388929  4.360640  4.428592  4.360113  4.384779  4.382931  4.392531   \n",
       "162538   3.691497  3.660034  3.599185  3.562127  3.632882  3.612728  3.516895   \n",
       "162539   4.647290  4.597991  4.588480  4.565579  4.636139  4.598313  4.580670   \n",
       "162540   4.617756  4.646254  4.650792  4.652431  4.680240  4.645617  4.640807   \n",
       "162541   4.058516  3.446321  3.931340  3.657890  2.704073  3.801836  4.168269   \n",
       "\n",
       "movieId    34        39        47      ...    54286     58559     59315   \\\n",
       "userId                                 ...                                 \n",
       "1        4.037768  4.066772  4.184366  ...  4.077429  4.104732  4.054322   \n",
       "2        3.889286  3.908141  4.130045  ...  4.132395  4.336689  4.156806   \n",
       "3        4.030018  4.156042  4.462835  ...  4.146714  4.233758  4.048750   \n",
       "4        3.690143  3.768067  3.904990  ...  3.794419  3.905659  3.749717   \n",
       "5        3.792384  3.844609  4.254916  ...  4.047019  4.170577  4.047476   \n",
       "...           ...       ...       ...  ...       ...       ...       ...   \n",
       "162537   4.375309  4.345587  4.504356  ...  4.417493  4.449575  4.391497   \n",
       "162538   3.758974  3.643427  3.596837  ...  3.605741  3.556341  3.546106   \n",
       "162539   4.669381  4.621331  4.577431  ...  4.580338  4.553925  4.559309   \n",
       "162540   4.626043  4.641262  4.655963  ...  4.651915  4.668717  4.648396   \n",
       "162541   3.671386  3.603992  4.168836  ...  3.930542  4.173294  3.974816   \n",
       "\n",
       "movieId    60069     68157     68954     72998     79132     99114     109487  \n",
       "userId                                                                         \n",
       "1        4.084188  4.119172  4.076375  4.044859  4.112164  4.106785  4.096456  \n",
       "2        4.118491  4.062086  4.085712  4.147762  4.245409  4.082942  4.148173  \n",
       "3        4.158189  4.286303  4.136524  4.051950  4.286080  4.250971  4.228181  \n",
       "4        3.814575  3.841389  3.794497  3.758377  3.907929  3.831947  3.845422  \n",
       "5        3.989614  4.060205  3.961091  4.002368  4.113953  4.053622  4.062701  \n",
       "...           ...       ...       ...       ...       ...       ...       ...  \n",
       "162537   4.397622  4.421698  4.394624  4.402837  4.452497  4.422595  4.432991  \n",
       "162538   3.631290  3.599577  3.652366  3.634235  3.641107  3.608837  3.628736  \n",
       "162539   4.606147  4.591370  4.614391  4.575217  4.575791  4.589203  4.585104  \n",
       "162540   4.645392  4.650820  4.642754  4.652945  4.667867  4.652398  4.658292  \n",
       "162541   4.032851  3.918355  3.980387  3.890332  4.061903  3.902930  3.926373  \n",
       "\n",
       "[160543 rows x 200 columns]"
      ]
     },
     "execution_count": 176,
     "metadata": {},
     "output_type": "execute_result"
    }
   ],
   "source": [
    "ratings_pred"
   ]
  },
  {
   "cell_type": "markdown",
   "id": "67425b6e",
   "metadata": {},
   "source": [
    "We can use those predictions to suggest movies. Suppose we want to suggest a movie to User 36."
   ]
  },
  {
   "cell_type": "code",
   "execution_count": 195,
   "id": "0d31e011",
   "metadata": {
    "ExecuteTime": {
     "end_time": "2023-10-02T15:44:25.685152Z",
     "start_time": "2023-10-02T15:44:25.651434Z"
    }
   },
   "outputs": [
    {
     "data": {
      "text/html": [
       "<div>\n",
       "<style scoped>\n",
       "    .dataframe tbody tr th:only-of-type {\n",
       "        vertical-align: middle;\n",
       "    }\n",
       "\n",
       "    .dataframe tbody tr th {\n",
       "        vertical-align: top;\n",
       "    }\n",
       "\n",
       "    .dataframe thead th {\n",
       "        text-align: right;\n",
       "    }\n",
       "</style>\n",
       "<table border=\"1\" class=\"dataframe\">\n",
       "  <thead>\n",
       "    <tr style=\"text-align: right;\">\n",
       "      <th></th>\n",
       "      <th>userId</th>\n",
       "      <th>movieId</th>\n",
       "      <th>rating</th>\n",
       "      <th>1</th>\n",
       "    </tr>\n",
       "  </thead>\n",
       "  <tbody>\n",
       "    <tr>\n",
       "      <th>0</th>\n",
       "      <td>1</td>\n",
       "      <td>296</td>\n",
       "      <td>5.0</td>\n",
       "      <td>4.538241</td>\n",
       "    </tr>\n",
       "    <tr>\n",
       "      <th>1</th>\n",
       "      <td>1</td>\n",
       "      <td>1653</td>\n",
       "      <td>4.0</td>\n",
       "      <td>4.225166</td>\n",
       "    </tr>\n",
       "    <tr>\n",
       "      <th>2</th>\n",
       "      <td>1</td>\n",
       "      <td>2011</td>\n",
       "      <td>2.5</td>\n",
       "      <td>4.184169</td>\n",
       "    </tr>\n",
       "    <tr>\n",
       "      <th>3</th>\n",
       "      <td>1</td>\n",
       "      <td>2012</td>\n",
       "      <td>2.5</td>\n",
       "      <td>4.176138</td>\n",
       "    </tr>\n",
       "    <tr>\n",
       "      <th>4</th>\n",
       "      <td>1</td>\n",
       "      <td>2692</td>\n",
       "      <td>5.0</td>\n",
       "      <td>4.242883</td>\n",
       "    </tr>\n",
       "    <tr>\n",
       "      <th>5</th>\n",
       "      <td>1</td>\n",
       "      <td>3949</td>\n",
       "      <td>5.0</td>\n",
       "      <td>4.268816</td>\n",
       "    </tr>\n",
       "    <tr>\n",
       "      <th>6</th>\n",
       "      <td>1</td>\n",
       "      <td>4973</td>\n",
       "      <td>4.5</td>\n",
       "      <td>4.257407</td>\n",
       "    </tr>\n",
       "    <tr>\n",
       "      <th>7</th>\n",
       "      <td>1</td>\n",
       "      <td>5952</td>\n",
       "      <td>4.0</td>\n",
       "      <td>4.142865</td>\n",
       "    </tr>\n",
       "    <tr>\n",
       "      <th>8</th>\n",
       "      <td>1</td>\n",
       "      <td>6016</td>\n",
       "      <td>5.0</td>\n",
       "      <td>4.258554</td>\n",
       "    </tr>\n",
       "    <tr>\n",
       "      <th>9</th>\n",
       "      <td>1</td>\n",
       "      <td>6377</td>\n",
       "      <td>4.0</td>\n",
       "      <td>4.170931</td>\n",
       "    </tr>\n",
       "    <tr>\n",
       "      <th>10</th>\n",
       "      <td>1</td>\n",
       "      <td>6539</td>\n",
       "      <td>3.5</td>\n",
       "      <td>4.166651</td>\n",
       "    </tr>\n",
       "    <tr>\n",
       "      <th>11</th>\n",
       "      <td>1</td>\n",
       "      <td>6711</td>\n",
       "      <td>5.0</td>\n",
       "      <td>4.257800</td>\n",
       "    </tr>\n",
       "    <tr>\n",
       "      <th>12</th>\n",
       "      <td>1</td>\n",
       "      <td>7361</td>\n",
       "      <td>5.0</td>\n",
       "      <td>4.272603</td>\n",
       "    </tr>\n",
       "    <tr>\n",
       "      <th>13</th>\n",
       "      <td>1</td>\n",
       "      <td>8360</td>\n",
       "      <td>4.0</td>\n",
       "      <td>4.191226</td>\n",
       "    </tr>\n",
       "  </tbody>\n",
       "</table>\n",
       "</div>"
      ],
      "text/plain": [
       "    userId  movieId  rating         1\n",
       "0        1      296     5.0  4.538241\n",
       "1        1     1653     4.0  4.225166\n",
       "2        1     2011     2.5  4.184169\n",
       "3        1     2012     2.5  4.176138\n",
       "4        1     2692     5.0  4.242883\n",
       "5        1     3949     5.0  4.268816\n",
       "6        1     4973     4.5  4.257407\n",
       "7        1     5952     4.0  4.142865\n",
       "8        1     6016     5.0  4.258554\n",
       "9        1     6377     4.0  4.170931\n",
       "10       1     6539     3.5  4.166651\n",
       "11       1     6711     5.0  4.257800\n",
       "12       1     7361     5.0  4.272603\n",
       "13       1     8360     4.0  4.191226"
      ]
     },
     "execution_count": 195,
     "metadata": {},
     "output_type": "execute_result"
    }
   ],
   "source": [
    "# Comparing the true rating with the predicted\n",
    "\n",
    "user_1_ratings = ratings_pop[ratings_pop['userId'] == 1]\n",
    "user_1_ratings.merge(right=ratings_pred.loc[1], on=\"movieId\", how=\"left\")"
   ]
  },
  {
   "cell_type": "code",
   "execution_count": 250,
   "id": "6fb4949b",
   "metadata": {
    "ExecuteTime": {
     "end_time": "2023-10-02T16:10:47.363054Z",
     "start_time": "2023-10-02T16:10:47.343442Z"
    }
   },
   "outputs": [
    {
     "data": {
      "text/html": [
       "<div>\n",
       "<style scoped>\n",
       "    .dataframe tbody tr th:only-of-type {\n",
       "        vertical-align: middle;\n",
       "    }\n",
       "\n",
       "    .dataframe tbody tr th {\n",
       "        vertical-align: top;\n",
       "    }\n",
       "\n",
       "    .dataframe thead th {\n",
       "        text-align: right;\n",
       "    }\n",
       "</style>\n",
       "<table border=\"1\" class=\"dataframe\">\n",
       "  <thead>\n",
       "    <tr style=\"text-align: right;\">\n",
       "      <th></th>\n",
       "      <th>1</th>\n",
       "      <th>title</th>\n",
       "    </tr>\n",
       "    <tr>\n",
       "      <th>movieId</th>\n",
       "      <th></th>\n",
       "      <th></th>\n",
       "    </tr>\n",
       "  </thead>\n",
       "  <tbody>\n",
       "    <tr>\n",
       "      <th>608</th>\n",
       "      <td>4.347626</td>\n",
       "      <td>Fargo (1996)</td>\n",
       "    </tr>\n",
       "    <tr>\n",
       "      <th>2959</th>\n",
       "      <td>4.340570</td>\n",
       "      <td>Fight Club (1999)</td>\n",
       "    </tr>\n",
       "    <tr>\n",
       "      <th>593</th>\n",
       "      <td>4.333492</td>\n",
       "      <td>Silence of the Lambs, The (1991)</td>\n",
       "    </tr>\n",
       "    <tr>\n",
       "      <th>50</th>\n",
       "      <td>4.331087</td>\n",
       "      <td>Usual Suspects, The (1995)</td>\n",
       "    </tr>\n",
       "    <tr>\n",
       "      <th>2858</th>\n",
       "      <td>4.328004</td>\n",
       "      <td>American Beauty (1999)</td>\n",
       "    </tr>\n",
       "    <tr>\n",
       "      <th>1089</th>\n",
       "      <td>4.322177</td>\n",
       "      <td>Reservoir Dogs (1992)</td>\n",
       "    </tr>\n",
       "    <tr>\n",
       "      <th>1206</th>\n",
       "      <td>4.321655</td>\n",
       "      <td>Clockwork Orange, A (1971)</td>\n",
       "    </tr>\n",
       "    <tr>\n",
       "      <th>858</th>\n",
       "      <td>4.318681</td>\n",
       "      <td>Godfather, The (1972)</td>\n",
       "    </tr>\n",
       "    <tr>\n",
       "      <th>47</th>\n",
       "      <td>4.317243</td>\n",
       "      <td>Seven (a.k.a. Se7en) (1995)</td>\n",
       "    </tr>\n",
       "    <tr>\n",
       "      <th>111</th>\n",
       "      <td>4.307006</td>\n",
       "      <td>Taxi Driver (1976)</td>\n",
       "    </tr>\n",
       "  </tbody>\n",
       "</table>\n",
       "</div>"
      ],
      "text/plain": [
       "                1                             title\n",
       "movieId                                            \n",
       "608      4.347626                      Fargo (1996)\n",
       "2959     4.340570                 Fight Club (1999)\n",
       "593      4.333492  Silence of the Lambs, The (1991)\n",
       "50       4.331087        Usual Suspects, The (1995)\n",
       "2858     4.328004            American Beauty (1999)\n",
       "1089     4.322177             Reservoir Dogs (1992)\n",
       "1206     4.321655        Clockwork Orange, A (1971)\n",
       "858      4.318681             Godfather, The (1972)\n",
       "47       4.317243       Seven (a.k.a. Se7en) (1995)\n",
       "111      4.307006                Taxi Driver (1976)"
      ]
     },
     "execution_count": 250,
     "metadata": {},
     "output_type": "execute_result"
    }
   ],
   "source": [
    "# Suggesting movies that user 1 haven't watched\n",
    "\n",
    "user_1_pred = ratings_pred.loc[1]\n",
    "user_1_not_watched_pred = user_1_pred.loc[~user_1_pred.index.isin(user_movies)].sort_values(ascending=False)\n",
    "pd.DataFrame(user_1_not_watched_pred).join(movies[['title']]).head(10)"
   ]
  },
  {
   "cell_type": "markdown",
   "id": "1295fbd9",
   "metadata": {},
   "source": [
    "# Evaluating perfomance"
   ]
  },
  {
   "cell_type": "markdown",
   "id": "9c49e7ff",
   "metadata": {},
   "source": [
    "One way to predict the recommendation perfomance is to reserve an **holdout** dataset and calculate the **root mean squared error** when comparing the predictions to the true values. We are going to apply this procedure with SVD method described previously. "
   ]
  },
  {
   "cell_type": "code",
   "execution_count": 313,
   "id": "e2b5a877",
   "metadata": {
    "ExecuteTime": {
     "end_time": "2023-10-02T16:46:44.312072Z",
     "start_time": "2023-10-02T16:46:44.180220Z"
    }
   },
   "outputs": [
    {
     "data": {
      "text/html": [
       "<div>\n",
       "<style scoped>\n",
       "    .dataframe tbody tr th:only-of-type {\n",
       "        vertical-align: middle;\n",
       "    }\n",
       "\n",
       "    .dataframe tbody tr th {\n",
       "        vertical-align: top;\n",
       "    }\n",
       "\n",
       "    .dataframe thead th {\n",
       "        text-align: right;\n",
       "    }\n",
       "</style>\n",
       "<table border=\"1\" class=\"dataframe\">\n",
       "  <thead>\n",
       "    <tr style=\"text-align: right;\">\n",
       "      <th>movieId</th>\n",
       "      <th>1</th>\n",
       "      <th>2</th>\n",
       "      <th>6</th>\n",
       "      <th>10</th>\n",
       "      <th>11</th>\n",
       "      <th>16</th>\n",
       "      <th>17</th>\n",
       "      <th>19</th>\n",
       "      <th>21</th>\n",
       "      <th>25</th>\n",
       "      <th>...</th>\n",
       "      <th>72998</th>\n",
       "      <th>74458</th>\n",
       "      <th>79132</th>\n",
       "      <th>89745</th>\n",
       "      <th>91529</th>\n",
       "      <th>99114</th>\n",
       "      <th>106782</th>\n",
       "      <th>109487</th>\n",
       "      <th>112852</th>\n",
       "      <th>134130</th>\n",
       "    </tr>\n",
       "    <tr>\n",
       "      <th>userId</th>\n",
       "      <th></th>\n",
       "      <th></th>\n",
       "      <th></th>\n",
       "      <th></th>\n",
       "      <th></th>\n",
       "      <th></th>\n",
       "      <th></th>\n",
       "      <th></th>\n",
       "      <th></th>\n",
       "      <th></th>\n",
       "      <th></th>\n",
       "      <th></th>\n",
       "      <th></th>\n",
       "      <th></th>\n",
       "      <th></th>\n",
       "      <th></th>\n",
       "      <th></th>\n",
       "      <th></th>\n",
       "      <th></th>\n",
       "      <th></th>\n",
       "      <th></th>\n",
       "    </tr>\n",
       "  </thead>\n",
       "  <tbody>\n",
       "    <tr>\n",
       "      <th>1</th>\n",
       "      <td>NaN</td>\n",
       "      <td>NaN</td>\n",
       "      <td>NaN</td>\n",
       "      <td>NaN</td>\n",
       "      <td>NaN</td>\n",
       "      <td>NaN</td>\n",
       "      <td>NaN</td>\n",
       "      <td>NaN</td>\n",
       "      <td>NaN</td>\n",
       "      <td>NaN</td>\n",
       "      <td>...</td>\n",
       "      <td>NaN</td>\n",
       "      <td>NaN</td>\n",
       "      <td>NaN</td>\n",
       "      <td>NaN</td>\n",
       "      <td>NaN</td>\n",
       "      <td>NaN</td>\n",
       "      <td>NaN</td>\n",
       "      <td>NaN</td>\n",
       "      <td>NaN</td>\n",
       "      <td>NaN</td>\n",
       "    </tr>\n",
       "    <tr>\n",
       "      <th>2</th>\n",
       "      <td>3.5</td>\n",
       "      <td>NaN</td>\n",
       "      <td>NaN</td>\n",
       "      <td>NaN</td>\n",
       "      <td>NaN</td>\n",
       "      <td>NaN</td>\n",
       "      <td>NaN</td>\n",
       "      <td>NaN</td>\n",
       "      <td>NaN</td>\n",
       "      <td>NaN</td>\n",
       "      <td>...</td>\n",
       "      <td>NaN</td>\n",
       "      <td>NaN</td>\n",
       "      <td>NaN</td>\n",
       "      <td>NaN</td>\n",
       "      <td>NaN</td>\n",
       "      <td>NaN</td>\n",
       "      <td>NaN</td>\n",
       "      <td>NaN</td>\n",
       "      <td>NaN</td>\n",
       "      <td>NaN</td>\n",
       "    </tr>\n",
       "    <tr>\n",
       "      <th>3</th>\n",
       "      <td>4.0</td>\n",
       "      <td>NaN</td>\n",
       "      <td>NaN</td>\n",
       "      <td>NaN</td>\n",
       "      <td>NaN</td>\n",
       "      <td>NaN</td>\n",
       "      <td>NaN</td>\n",
       "      <td>NaN</td>\n",
       "      <td>NaN</td>\n",
       "      <td>NaN</td>\n",
       "      <td>...</td>\n",
       "      <td>4.0</td>\n",
       "      <td>4.0</td>\n",
       "      <td>5.0</td>\n",
       "      <td>4.0</td>\n",
       "      <td>4.0</td>\n",
       "      <td>4.0</td>\n",
       "      <td>4.5</td>\n",
       "      <td>4.0</td>\n",
       "      <td>4.0</td>\n",
       "      <td>4.0</td>\n",
       "    </tr>\n",
       "    <tr>\n",
       "      <th>4</th>\n",
       "      <td>3.0</td>\n",
       "      <td>NaN</td>\n",
       "      <td>NaN</td>\n",
       "      <td>NaN</td>\n",
       "      <td>NaN</td>\n",
       "      <td>NaN</td>\n",
       "      <td>NaN</td>\n",
       "      <td>NaN</td>\n",
       "      <td>NaN</td>\n",
       "      <td>NaN</td>\n",
       "      <td>...</td>\n",
       "      <td>2.5</td>\n",
       "      <td>5.0</td>\n",
       "      <td>4.5</td>\n",
       "      <td>2.5</td>\n",
       "      <td>4.5</td>\n",
       "      <td>4.0</td>\n",
       "      <td>NaN</td>\n",
       "      <td>5.0</td>\n",
       "      <td>3.0</td>\n",
       "      <td>4.0</td>\n",
       "    </tr>\n",
       "    <tr>\n",
       "      <th>5</th>\n",
       "      <td>4.0</td>\n",
       "      <td>NaN</td>\n",
       "      <td>NaN</td>\n",
       "      <td>NaN</td>\n",
       "      <td>NaN</td>\n",
       "      <td>NaN</td>\n",
       "      <td>NaN</td>\n",
       "      <td>4.0</td>\n",
       "      <td>NaN</td>\n",
       "      <td>NaN</td>\n",
       "      <td>...</td>\n",
       "      <td>NaN</td>\n",
       "      <td>NaN</td>\n",
       "      <td>NaN</td>\n",
       "      <td>NaN</td>\n",
       "      <td>NaN</td>\n",
       "      <td>NaN</td>\n",
       "      <td>NaN</td>\n",
       "      <td>NaN</td>\n",
       "      <td>NaN</td>\n",
       "      <td>NaN</td>\n",
       "    </tr>\n",
       "    <tr>\n",
       "      <th>...</th>\n",
       "      <td>...</td>\n",
       "      <td>...</td>\n",
       "      <td>...</td>\n",
       "      <td>...</td>\n",
       "      <td>...</td>\n",
       "      <td>...</td>\n",
       "      <td>...</td>\n",
       "      <td>...</td>\n",
       "      <td>...</td>\n",
       "      <td>...</td>\n",
       "      <td>...</td>\n",
       "      <td>...</td>\n",
       "      <td>...</td>\n",
       "      <td>...</td>\n",
       "      <td>...</td>\n",
       "      <td>...</td>\n",
       "      <td>...</td>\n",
       "      <td>...</td>\n",
       "      <td>...</td>\n",
       "      <td>...</td>\n",
       "      <td>...</td>\n",
       "    </tr>\n",
       "    <tr>\n",
       "      <th>162537</th>\n",
       "      <td>NaN</td>\n",
       "      <td>NaN</td>\n",
       "      <td>NaN</td>\n",
       "      <td>NaN</td>\n",
       "      <td>NaN</td>\n",
       "      <td>NaN</td>\n",
       "      <td>NaN</td>\n",
       "      <td>NaN</td>\n",
       "      <td>NaN</td>\n",
       "      <td>NaN</td>\n",
       "      <td>...</td>\n",
       "      <td>NaN</td>\n",
       "      <td>NaN</td>\n",
       "      <td>NaN</td>\n",
       "      <td>NaN</td>\n",
       "      <td>NaN</td>\n",
       "      <td>NaN</td>\n",
       "      <td>NaN</td>\n",
       "      <td>NaN</td>\n",
       "      <td>NaN</td>\n",
       "      <td>NaN</td>\n",
       "    </tr>\n",
       "    <tr>\n",
       "      <th>162538</th>\n",
       "      <td>2.0</td>\n",
       "      <td>NaN</td>\n",
       "      <td>NaN</td>\n",
       "      <td>NaN</td>\n",
       "      <td>NaN</td>\n",
       "      <td>NaN</td>\n",
       "      <td>4.0</td>\n",
       "      <td>NaN</td>\n",
       "      <td>NaN</td>\n",
       "      <td>NaN</td>\n",
       "      <td>...</td>\n",
       "      <td>2.0</td>\n",
       "      <td>3.0</td>\n",
       "      <td>4.0</td>\n",
       "      <td>NaN</td>\n",
       "      <td>NaN</td>\n",
       "      <td>4.0</td>\n",
       "      <td>NaN</td>\n",
       "      <td>NaN</td>\n",
       "      <td>NaN</td>\n",
       "      <td>NaN</td>\n",
       "    </tr>\n",
       "    <tr>\n",
       "      <th>162539</th>\n",
       "      <td>NaN</td>\n",
       "      <td>NaN</td>\n",
       "      <td>NaN</td>\n",
       "      <td>NaN</td>\n",
       "      <td>NaN</td>\n",
       "      <td>NaN</td>\n",
       "      <td>NaN</td>\n",
       "      <td>NaN</td>\n",
       "      <td>NaN</td>\n",
       "      <td>NaN</td>\n",
       "      <td>...</td>\n",
       "      <td>NaN</td>\n",
       "      <td>NaN</td>\n",
       "      <td>NaN</td>\n",
       "      <td>NaN</td>\n",
       "      <td>NaN</td>\n",
       "      <td>NaN</td>\n",
       "      <td>NaN</td>\n",
       "      <td>NaN</td>\n",
       "      <td>NaN</td>\n",
       "      <td>NaN</td>\n",
       "    </tr>\n",
       "    <tr>\n",
       "      <th>162540</th>\n",
       "      <td>NaN</td>\n",
       "      <td>NaN</td>\n",
       "      <td>NaN</td>\n",
       "      <td>NaN</td>\n",
       "      <td>NaN</td>\n",
       "      <td>NaN</td>\n",
       "      <td>NaN</td>\n",
       "      <td>NaN</td>\n",
       "      <td>NaN</td>\n",
       "      <td>NaN</td>\n",
       "      <td>...</td>\n",
       "      <td>NaN</td>\n",
       "      <td>NaN</td>\n",
       "      <td>NaN</td>\n",
       "      <td>NaN</td>\n",
       "      <td>NaN</td>\n",
       "      <td>NaN</td>\n",
       "      <td>NaN</td>\n",
       "      <td>NaN</td>\n",
       "      <td>NaN</td>\n",
       "      <td>NaN</td>\n",
       "    </tr>\n",
       "    <tr>\n",
       "      <th>162541</th>\n",
       "      <td>NaN</td>\n",
       "      <td>NaN</td>\n",
       "      <td>NaN</td>\n",
       "      <td>NaN</td>\n",
       "      <td>NaN</td>\n",
       "      <td>NaN</td>\n",
       "      <td>NaN</td>\n",
       "      <td>NaN</td>\n",
       "      <td>NaN</td>\n",
       "      <td>NaN</td>\n",
       "      <td>...</td>\n",
       "      <td>NaN</td>\n",
       "      <td>NaN</td>\n",
       "      <td>NaN</td>\n",
       "      <td>NaN</td>\n",
       "      <td>NaN</td>\n",
       "      <td>NaN</td>\n",
       "      <td>NaN</td>\n",
       "      <td>NaN</td>\n",
       "      <td>NaN</td>\n",
       "      <td>NaN</td>\n",
       "    </tr>\n",
       "  </tbody>\n",
       "</table>\n",
       "<p>161139 rows × 300 columns</p>\n",
       "</div>"
      ],
      "text/plain": [
       "movieId  1       2       6       10      11      16      17      19      \\\n",
       "userId                                                                    \n",
       "1           NaN     NaN     NaN     NaN     NaN     NaN     NaN     NaN   \n",
       "2           3.5     NaN     NaN     NaN     NaN     NaN     NaN     NaN   \n",
       "3           4.0     NaN     NaN     NaN     NaN     NaN     NaN     NaN   \n",
       "4           3.0     NaN     NaN     NaN     NaN     NaN     NaN     NaN   \n",
       "5           4.0     NaN     NaN     NaN     NaN     NaN     NaN     4.0   \n",
       "...         ...     ...     ...     ...     ...     ...     ...     ...   \n",
       "162537      NaN     NaN     NaN     NaN     NaN     NaN     NaN     NaN   \n",
       "162538      2.0     NaN     NaN     NaN     NaN     NaN     4.0     NaN   \n",
       "162539      NaN     NaN     NaN     NaN     NaN     NaN     NaN     NaN   \n",
       "162540      NaN     NaN     NaN     NaN     NaN     NaN     NaN     NaN   \n",
       "162541      NaN     NaN     NaN     NaN     NaN     NaN     NaN     NaN   \n",
       "\n",
       "movieId  21      25      ...  72998   74458   79132   89745   91529   99114   \\\n",
       "userId                   ...                                                   \n",
       "1           NaN     NaN  ...     NaN     NaN     NaN     NaN     NaN     NaN   \n",
       "2           NaN     NaN  ...     NaN     NaN     NaN     NaN     NaN     NaN   \n",
       "3           NaN     NaN  ...     4.0     4.0     5.0     4.0     4.0     4.0   \n",
       "4           NaN     NaN  ...     2.5     5.0     4.5     2.5     4.5     4.0   \n",
       "5           NaN     NaN  ...     NaN     NaN     NaN     NaN     NaN     NaN   \n",
       "...         ...     ...  ...     ...     ...     ...     ...     ...     ...   \n",
       "162537      NaN     NaN  ...     NaN     NaN     NaN     NaN     NaN     NaN   \n",
       "162538      NaN     NaN  ...     2.0     3.0     4.0     NaN     NaN     4.0   \n",
       "162539      NaN     NaN  ...     NaN     NaN     NaN     NaN     NaN     NaN   \n",
       "162540      NaN     NaN  ...     NaN     NaN     NaN     NaN     NaN     NaN   \n",
       "162541      NaN     NaN  ...     NaN     NaN     NaN     NaN     NaN     NaN   \n",
       "\n",
       "movieId  106782  109487  112852  134130  \n",
       "userId                                   \n",
       "1           NaN     NaN     NaN     NaN  \n",
       "2           NaN     NaN     NaN     NaN  \n",
       "3           4.5     4.0     4.0     4.0  \n",
       "4           NaN     5.0     3.0     4.0  \n",
       "5           NaN     NaN     NaN     NaN  \n",
       "...         ...     ...     ...     ...  \n",
       "162537      NaN     NaN     NaN     NaN  \n",
       "162538      NaN     NaN     NaN     NaN  \n",
       "162539      NaN     NaN     NaN     NaN  \n",
       "162540      NaN     NaN     NaN     NaN  \n",
       "162541      NaN     NaN     NaN     NaN  \n",
       "\n",
       "[161139 rows x 300 columns]"
      ]
     },
     "execution_count": 313,
     "metadata": {},
     "output_type": "execute_result"
    }
   ],
   "source": [
    "ratings_pop_pivot"
   ]
  },
  {
   "cell_type": "code",
   "execution_count": 331,
   "id": "cf9667d2",
   "metadata": {
    "ExecuteTime": {
     "end_time": "2023-10-02T16:55:36.314302Z",
     "start_time": "2023-10-02T16:55:35.543662Z"
    }
   },
   "outputs": [],
   "source": [
    "# Lets reserve 50x50 of the true values from our pivot \n",
    "actual_values = ratings_pop_pivot.iloc[:50, :50].values"
   ]
  },
  {
   "cell_type": "code",
   "execution_count": 339,
   "id": "4572124f",
   "metadata": {
    "ExecuteTime": {
     "end_time": "2023-10-02T17:00:44.620128Z",
     "start_time": "2023-10-02T17:00:43.814262Z"
    }
   },
   "outputs": [],
   "source": [
    "# Make a copy and turn those 50x50 into NaN. We will predict those.\n",
    "ratings_pop_pivot_removed = ratings_pop_pivot.copy()\n",
    "ratings_pop_pivot_removed.iloc[:50, :50] = np.nan"
   ]
  },
  {
   "cell_type": "code",
   "execution_count": 340,
   "id": "3a2acf22",
   "metadata": {
    "ExecuteTime": {
     "end_time": "2023-10-02T17:01:53.089991Z",
     "start_time": "2023-10-02T17:01:53.084524Z"
    }
   },
   "outputs": [],
   "source": [
    "def make_svd_predictions(pivot):\n",
    "    \"\"\"\n",
    "    Use SVD to predict ratings. \n",
    "    The function does center the matrix before decomposition.\n",
    "    \"\"\"\n",
    "    pivot_mean = pivot.mean(axis=1)\n",
    "    pivot_sub = pivot.sub(pivot_mean, axis=0).fillna(0)\n",
    "    \n",
    "    U, sigma, Vt = svds(pivot_sub)\n",
    "    sigma = np.diag(sigma)\n",
    "    \n",
    "    pivot_pred_centered = np.dot(np.dot(U, sigma), Vt)\n",
    "    pivot_pred = pivot_pred_centered + pivot_mean.values.reshape(-1,1)\n",
    "    pivot_pred = pd.DataFrame(pivot_pred, index=pivot_sub.index,\n",
    "                              columns=pivot_sub.columns)\n",
    "    return pivot_pred"
   ]
  },
  {
   "cell_type": "code",
   "execution_count": 341,
   "id": "ea99d824",
   "metadata": {
    "ExecuteTime": {
     "end_time": "2023-10-02T17:02:13.264374Z",
     "start_time": "2023-10-02T17:02:03.428499Z"
    }
   },
   "outputs": [],
   "source": [
    "# Make the predictions\n",
    "ratings_removed_pred = make_svd_predictions(ratings_pop_pivot_removed)"
   ]
  },
  {
   "cell_type": "code",
   "execution_count": 342,
   "id": "c668ed2d",
   "metadata": {
    "ExecuteTime": {
     "end_time": "2023-10-02T17:02:59.555013Z",
     "start_time": "2023-10-02T17:02:59.549690Z"
    }
   },
   "outputs": [],
   "source": [
    "# Compare the results, with the true values that were not NaN originally\n",
    "mask = ~np.isnan(actual_values)\n",
    "y_true = actual_values[mask]\n",
    "y_pred = list(ratings_removed_pred.iloc[:50,:50].values[mask])"
   ]
  },
  {
   "cell_type": "code",
   "execution_count": 343,
   "id": "b598f400",
   "metadata": {
    "ExecuteTime": {
     "end_time": "2023-10-02T17:03:02.725999Z",
     "start_time": "2023-10-02T17:03:02.717941Z"
    }
   },
   "outputs": [
    {
     "data": {
      "text/plain": [
       "0.8878402"
      ]
     },
     "execution_count": 343,
     "metadata": {},
     "output_type": "execute_result"
    }
   ],
   "source": [
    "from sklearn.metrics import mean_squared_error\n",
    "\n",
    "mean_squared_error(y_true, y_pred, squared=False)"
   ]
  },
  {
   "cell_type": "markdown",
   "id": "53f2ca90",
   "metadata": {},
   "source": [
    "Our mean error is around 0.88 rating points. Not too bad. "
   ]
  },
  {
   "cell_type": "markdown",
   "id": "044d836c",
   "metadata": {},
   "source": [
    "# Conclusions and perspectives"
   ]
  },
  {
   "cell_type": "markdown",
   "id": "83fa9fc1",
   "metadata": {
    "ExecuteTime": {
     "end_time": "2023-09-05T00:32:11.656537Z",
     "start_time": "2023-09-05T00:32:11.645079Z"
    }
   },
   "source": [
    "We've demonstrated applications of some recommendations systems models. There are other approachs that can be further examinated: item based recommendations with KNN, using SVD to predict ratings and validation tecniques. Nonetheless, the models presented here can with some adjustments be put in production in several situations."
   ]
  }
 ],
 "metadata": {
  "kernelspec": {
   "display_name": "Python 3",
   "language": "python",
   "name": "python3"
  },
  "language_info": {
   "codemirror_mode": {
    "name": "ipython",
    "version": 3
   },
   "file_extension": ".py",
   "mimetype": "text/x-python",
   "name": "python",
   "nbconvert_exporter": "python",
   "pygments_lexer": "ipython3",
   "version": "3.8.10"
  },
  "varInspector": {
   "cols": {
    "lenName": 16,
    "lenType": 16,
    "lenVar": 40
   },
   "kernels_config": {
    "python": {
     "delete_cmd_postfix": "",
     "delete_cmd_prefix": "del ",
     "library": "var_list.py",
     "varRefreshCmd": "print(var_dic_list())"
    },
    "r": {
     "delete_cmd_postfix": ") ",
     "delete_cmd_prefix": "rm(",
     "library": "var_list.r",
     "varRefreshCmd": "cat(var_dic_list()) "
    }
   },
   "position": {
    "height": "435.844px",
    "left": "1082.28px",
    "right": "20px",
    "top": "120px",
    "width": "350px"
   },
   "types_to_exclude": [
    "module",
    "function",
    "builtin_function_or_method",
    "instance",
    "_Feature"
   ],
   "window_display": false
  }
 },
 "nbformat": 4,
 "nbformat_minor": 5
}
