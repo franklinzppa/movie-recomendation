{
 "cells": [
  {
   "cell_type": "markdown",
   "id": "9f25ff24",
   "metadata": {},
   "source": [
    "# Movie Recommendations"
   ]
  },
  {
   "cell_type": "markdown",
   "id": "825d3f99",
   "metadata": {},
   "source": [
    "Recommendation systems are used to filter among a catalog of possibilities, which ones should be presented to the user. Those systems can be used to enhance the user experience by making the content available to user relavant. In this project, we're going to explore a <a href=\"https://grouplens.org/datasets/movielens/25m/\">movie dataset</a>, and present some of the key types of recommendations systems."
   ]
  },
  {
   "cell_type": "markdown",
   "id": "790befa8",
   "metadata": {},
   "source": [
    "## 1. Importing and inspecting data"
   ]
  },
  {
   "cell_type": "markdown",
   "id": "af912783",
   "metadata": {
    "ExecuteTime": {
     "end_time": "2023-09-10T16:36:35.116674Z",
     "start_time": "2023-09-10T16:36:35.113852Z"
    }
   },
   "source": [
    "### 1.1 Inspection"
   ]
  },
  {
   "cell_type": "code",
   "execution_count": 1,
   "id": "59964c8c",
   "metadata": {
    "ExecuteTime": {
     "end_time": "2023-09-10T16:40:17.654045Z",
     "start_time": "2023-09-10T16:40:16.004050Z"
    }
   },
   "outputs": [],
   "source": [
    "import pandas as pd\n",
    "import numpy as np\n",
    "import seaborn as sns\n",
    "import matplotlib.pyplot as plt"
   ]
  },
  {
   "cell_type": "markdown",
   "id": "9b626ec4",
   "metadata": {},
   "source": [
    "We start by importing and checking our data."
   ]
  },
  {
   "cell_type": "code",
   "execution_count": 2,
   "id": "537443be",
   "metadata": {
    "ExecuteTime": {
     "end_time": "2023-09-10T16:40:19.373788Z",
     "start_time": "2023-09-10T16:40:18.254684Z"
    }
   },
   "outputs": [],
   "source": [
    "movies = pd.read_parquet(\"../data/movies.parquet\")\n",
    "ratings = pd.read_parquet(\"../data/ratings.parquet\")"
   ]
  },
  {
   "cell_type": "code",
   "execution_count": 3,
   "id": "0841f0b9",
   "metadata": {
    "ExecuteTime": {
     "end_time": "2023-09-10T16:40:19.431962Z",
     "start_time": "2023-09-10T16:40:19.417786Z"
    }
   },
   "outputs": [
    {
     "data": {
      "text/html": [
       "<div>\n",
       "<style scoped>\n",
       "    .dataframe tbody tr th:only-of-type {\n",
       "        vertical-align: middle;\n",
       "    }\n",
       "\n",
       "    .dataframe tbody tr th {\n",
       "        vertical-align: top;\n",
       "    }\n",
       "\n",
       "    .dataframe thead th {\n",
       "        text-align: right;\n",
       "    }\n",
       "</style>\n",
       "<table border=\"1\" class=\"dataframe\">\n",
       "  <thead>\n",
       "    <tr style=\"text-align: right;\">\n",
       "      <th></th>\n",
       "      <th>movieId</th>\n",
       "      <th>title</th>\n",
       "      <th>genres</th>\n",
       "    </tr>\n",
       "  </thead>\n",
       "  <tbody>\n",
       "    <tr>\n",
       "      <th>0</th>\n",
       "      <td>1</td>\n",
       "      <td>Toy Story (1995)</td>\n",
       "      <td>Adventure|Animation|Children|Comedy|Fantasy</td>\n",
       "    </tr>\n",
       "    <tr>\n",
       "      <th>1</th>\n",
       "      <td>2</td>\n",
       "      <td>Jumanji (1995)</td>\n",
       "      <td>Adventure|Children|Fantasy</td>\n",
       "    </tr>\n",
       "    <tr>\n",
       "      <th>2</th>\n",
       "      <td>3</td>\n",
       "      <td>Grumpier Old Men (1995)</td>\n",
       "      <td>Comedy|Romance</td>\n",
       "    </tr>\n",
       "    <tr>\n",
       "      <th>3</th>\n",
       "      <td>4</td>\n",
       "      <td>Waiting to Exhale (1995)</td>\n",
       "      <td>Comedy|Drama|Romance</td>\n",
       "    </tr>\n",
       "    <tr>\n",
       "      <th>4</th>\n",
       "      <td>5</td>\n",
       "      <td>Father of the Bride Part II (1995)</td>\n",
       "      <td>Comedy</td>\n",
       "    </tr>\n",
       "  </tbody>\n",
       "</table>\n",
       "</div>"
      ],
      "text/plain": [
       "   movieId                               title  \\\n",
       "0        1                    Toy Story (1995)   \n",
       "1        2                      Jumanji (1995)   \n",
       "2        3             Grumpier Old Men (1995)   \n",
       "3        4            Waiting to Exhale (1995)   \n",
       "4        5  Father of the Bride Part II (1995)   \n",
       "\n",
       "                                        genres  \n",
       "0  Adventure|Animation|Children|Comedy|Fantasy  \n",
       "1                   Adventure|Children|Fantasy  \n",
       "2                               Comedy|Romance  \n",
       "3                         Comedy|Drama|Romance  \n",
       "4                                       Comedy  "
      ]
     },
     "execution_count": 3,
     "metadata": {},
     "output_type": "execute_result"
    }
   ],
   "source": [
    "movies.head()"
   ]
  },
  {
   "cell_type": "code",
   "execution_count": 4,
   "id": "2493950b",
   "metadata": {
    "ExecuteTime": {
     "end_time": "2023-09-10T16:40:19.475626Z",
     "start_time": "2023-09-10T16:40:19.462199Z"
    }
   },
   "outputs": [
    {
     "data": {
      "text/html": [
       "<div>\n",
       "<style scoped>\n",
       "    .dataframe tbody tr th:only-of-type {\n",
       "        vertical-align: middle;\n",
       "    }\n",
       "\n",
       "    .dataframe tbody tr th {\n",
       "        vertical-align: top;\n",
       "    }\n",
       "\n",
       "    .dataframe thead th {\n",
       "        text-align: right;\n",
       "    }\n",
       "</style>\n",
       "<table border=\"1\" class=\"dataframe\">\n",
       "  <thead>\n",
       "    <tr style=\"text-align: right;\">\n",
       "      <th></th>\n",
       "      <th>userId</th>\n",
       "      <th>movieId</th>\n",
       "      <th>rating</th>\n",
       "      <th>timestamp</th>\n",
       "    </tr>\n",
       "  </thead>\n",
       "  <tbody>\n",
       "    <tr>\n",
       "      <th>0</th>\n",
       "      <td>1</td>\n",
       "      <td>296</td>\n",
       "      <td>5.0</td>\n",
       "      <td>1147880044</td>\n",
       "    </tr>\n",
       "    <tr>\n",
       "      <th>1</th>\n",
       "      <td>1</td>\n",
       "      <td>306</td>\n",
       "      <td>3.5</td>\n",
       "      <td>1147868817</td>\n",
       "    </tr>\n",
       "    <tr>\n",
       "      <th>2</th>\n",
       "      <td>1</td>\n",
       "      <td>307</td>\n",
       "      <td>5.0</td>\n",
       "      <td>1147868828</td>\n",
       "    </tr>\n",
       "    <tr>\n",
       "      <th>3</th>\n",
       "      <td>1</td>\n",
       "      <td>665</td>\n",
       "      <td>5.0</td>\n",
       "      <td>1147878820</td>\n",
       "    </tr>\n",
       "    <tr>\n",
       "      <th>4</th>\n",
       "      <td>1</td>\n",
       "      <td>899</td>\n",
       "      <td>3.5</td>\n",
       "      <td>1147868510</td>\n",
       "    </tr>\n",
       "  </tbody>\n",
       "</table>\n",
       "</div>"
      ],
      "text/plain": [
       "   userId  movieId  rating   timestamp\n",
       "0       1      296     5.0  1147880044\n",
       "1       1      306     3.5  1147868817\n",
       "2       1      307     5.0  1147868828\n",
       "3       1      665     5.0  1147878820\n",
       "4       1      899     3.5  1147868510"
      ]
     },
     "execution_count": 4,
     "metadata": {},
     "output_type": "execute_result"
    }
   ],
   "source": [
    "ratings.head()"
   ]
  },
  {
   "cell_type": "code",
   "execution_count": 5,
   "id": "4029c7f8",
   "metadata": {
    "ExecuteTime": {
     "end_time": "2023-09-10T16:40:20.034339Z",
     "start_time": "2023-09-10T16:40:19.972169Z"
    }
   },
   "outputs": [
    {
     "name": "stdout",
     "output_type": "stream",
     "text": [
      "<class 'pandas.core.frame.DataFrame'>\n",
      "RangeIndex: 62423 entries, 0 to 62422\n",
      "Data columns (total 3 columns):\n",
      " #   Column   Non-Null Count  Dtype \n",
      "---  ------   --------------  ----- \n",
      " 0   movieId  62423 non-null  int64 \n",
      " 1   title    62423 non-null  object\n",
      " 2   genres   62423 non-null  object\n",
      "dtypes: int64(1), object(2)\n",
      "memory usage: 1.4+ MB\n"
     ]
    }
   ],
   "source": [
    "movies.info()"
   ]
  },
  {
   "cell_type": "code",
   "execution_count": 6,
   "id": "32f59f1c",
   "metadata": {
    "ExecuteTime": {
     "end_time": "2023-09-10T16:40:20.637289Z",
     "start_time": "2023-09-10T16:40:20.630036Z"
    },
    "scrolled": false
   },
   "outputs": [
    {
     "name": "stdout",
     "output_type": "stream",
     "text": [
      "<class 'pandas.core.frame.DataFrame'>\n",
      "RangeIndex: 25000095 entries, 0 to 25000094\n",
      "Data columns (total 4 columns):\n",
      " #   Column     Dtype  \n",
      "---  ------     -----  \n",
      " 0   userId     int64  \n",
      " 1   movieId    int64  \n",
      " 2   rating     float64\n",
      " 3   timestamp  int64  \n",
      "dtypes: float64(1), int64(3)\n",
      "memory usage: 762.9 MB\n"
     ]
    }
   ],
   "source": [
    "ratings.info()"
   ]
  },
  {
   "cell_type": "code",
   "execution_count": 7,
   "id": "9b11a67d",
   "metadata": {
    "ExecuteTime": {
     "end_time": "2023-09-10T16:40:22.168968Z",
     "start_time": "2023-09-10T16:40:22.155368Z"
    }
   },
   "outputs": [
    {
     "data": {
      "text/html": [
       "<div>\n",
       "<style scoped>\n",
       "    .dataframe tbody tr th:only-of-type {\n",
       "        vertical-align: middle;\n",
       "    }\n",
       "\n",
       "    .dataframe tbody tr th {\n",
       "        vertical-align: top;\n",
       "    }\n",
       "\n",
       "    .dataframe thead th {\n",
       "        text-align: right;\n",
       "    }\n",
       "</style>\n",
       "<table border=\"1\" class=\"dataframe\">\n",
       "  <thead>\n",
       "    <tr style=\"text-align: right;\">\n",
       "      <th></th>\n",
       "      <th>movieId</th>\n",
       "    </tr>\n",
       "  </thead>\n",
       "  <tbody>\n",
       "    <tr>\n",
       "      <th>count</th>\n",
       "      <td>62423.000000</td>\n",
       "    </tr>\n",
       "    <tr>\n",
       "      <th>mean</th>\n",
       "      <td>122220.387646</td>\n",
       "    </tr>\n",
       "    <tr>\n",
       "      <th>std</th>\n",
       "      <td>63264.744844</td>\n",
       "    </tr>\n",
       "    <tr>\n",
       "      <th>min</th>\n",
       "      <td>1.000000</td>\n",
       "    </tr>\n",
       "    <tr>\n",
       "      <th>25%</th>\n",
       "      <td>82146.500000</td>\n",
       "    </tr>\n",
       "    <tr>\n",
       "      <th>50%</th>\n",
       "      <td>138022.000000</td>\n",
       "    </tr>\n",
       "    <tr>\n",
       "      <th>75%</th>\n",
       "      <td>173222.000000</td>\n",
       "    </tr>\n",
       "    <tr>\n",
       "      <th>max</th>\n",
       "      <td>209171.000000</td>\n",
       "    </tr>\n",
       "  </tbody>\n",
       "</table>\n",
       "</div>"
      ],
      "text/plain": [
       "             movieId\n",
       "count   62423.000000\n",
       "mean   122220.387646\n",
       "std     63264.744844\n",
       "min         1.000000\n",
       "25%     82146.500000\n",
       "50%    138022.000000\n",
       "75%    173222.000000\n",
       "max    209171.000000"
      ]
     },
     "execution_count": 7,
     "metadata": {},
     "output_type": "execute_result"
    }
   ],
   "source": [
    "movies.describe()"
   ]
  },
  {
   "cell_type": "code",
   "execution_count": 8,
   "id": "7d53778e",
   "metadata": {
    "ExecuteTime": {
     "end_time": "2023-09-10T16:40:25.920946Z",
     "start_time": "2023-09-10T16:40:22.823944Z"
    },
    "scrolled": true
   },
   "outputs": [
    {
     "data": {
      "text/html": [
       "<div>\n",
       "<style scoped>\n",
       "    .dataframe tbody tr th:only-of-type {\n",
       "        vertical-align: middle;\n",
       "    }\n",
       "\n",
       "    .dataframe tbody tr th {\n",
       "        vertical-align: top;\n",
       "    }\n",
       "\n",
       "    .dataframe thead th {\n",
       "        text-align: right;\n",
       "    }\n",
       "</style>\n",
       "<table border=\"1\" class=\"dataframe\">\n",
       "  <thead>\n",
       "    <tr style=\"text-align: right;\">\n",
       "      <th></th>\n",
       "      <th>userId</th>\n",
       "      <th>movieId</th>\n",
       "      <th>rating</th>\n",
       "      <th>timestamp</th>\n",
       "    </tr>\n",
       "  </thead>\n",
       "  <tbody>\n",
       "    <tr>\n",
       "      <th>count</th>\n",
       "      <td>2.500010e+07</td>\n",
       "      <td>2.500010e+07</td>\n",
       "      <td>2.500010e+07</td>\n",
       "      <td>2.500010e+07</td>\n",
       "    </tr>\n",
       "    <tr>\n",
       "      <th>mean</th>\n",
       "      <td>8.118928e+04</td>\n",
       "      <td>2.138798e+04</td>\n",
       "      <td>3.533854e+00</td>\n",
       "      <td>1.215601e+09</td>\n",
       "    </tr>\n",
       "    <tr>\n",
       "      <th>std</th>\n",
       "      <td>4.679172e+04</td>\n",
       "      <td>3.919886e+04</td>\n",
       "      <td>1.060744e+00</td>\n",
       "      <td>2.268758e+08</td>\n",
       "    </tr>\n",
       "    <tr>\n",
       "      <th>min</th>\n",
       "      <td>1.000000e+00</td>\n",
       "      <td>1.000000e+00</td>\n",
       "      <td>5.000000e-01</td>\n",
       "      <td>7.896520e+08</td>\n",
       "    </tr>\n",
       "    <tr>\n",
       "      <th>25%</th>\n",
       "      <td>4.051000e+04</td>\n",
       "      <td>1.196000e+03</td>\n",
       "      <td>3.000000e+00</td>\n",
       "      <td>1.011747e+09</td>\n",
       "    </tr>\n",
       "    <tr>\n",
       "      <th>50%</th>\n",
       "      <td>8.091400e+04</td>\n",
       "      <td>2.947000e+03</td>\n",
       "      <td>3.500000e+00</td>\n",
       "      <td>1.198868e+09</td>\n",
       "    </tr>\n",
       "    <tr>\n",
       "      <th>75%</th>\n",
       "      <td>1.215570e+05</td>\n",
       "      <td>8.623000e+03</td>\n",
       "      <td>4.000000e+00</td>\n",
       "      <td>1.447205e+09</td>\n",
       "    </tr>\n",
       "    <tr>\n",
       "      <th>max</th>\n",
       "      <td>1.625410e+05</td>\n",
       "      <td>2.091710e+05</td>\n",
       "      <td>5.000000e+00</td>\n",
       "      <td>1.574328e+09</td>\n",
       "    </tr>\n",
       "  </tbody>\n",
       "</table>\n",
       "</div>"
      ],
      "text/plain": [
       "             userId       movieId        rating     timestamp\n",
       "count  2.500010e+07  2.500010e+07  2.500010e+07  2.500010e+07\n",
       "mean   8.118928e+04  2.138798e+04  3.533854e+00  1.215601e+09\n",
       "std    4.679172e+04  3.919886e+04  1.060744e+00  2.268758e+08\n",
       "min    1.000000e+00  1.000000e+00  5.000000e-01  7.896520e+08\n",
       "25%    4.051000e+04  1.196000e+03  3.000000e+00  1.011747e+09\n",
       "50%    8.091400e+04  2.947000e+03  3.500000e+00  1.198868e+09\n",
       "75%    1.215570e+05  8.623000e+03  4.000000e+00  1.447205e+09\n",
       "max    1.625410e+05  2.091710e+05  5.000000e+00  1.574328e+09"
      ]
     },
     "execution_count": 8,
     "metadata": {},
     "output_type": "execute_result"
    }
   ],
   "source": [
    "ratings.describe()"
   ]
  },
  {
   "cell_type": "code",
   "execution_count": 9,
   "id": "c26fa39f",
   "metadata": {
    "ExecuteTime": {
     "end_time": "2023-09-10T16:40:26.330017Z",
     "start_time": "2023-09-10T16:40:25.968716Z"
    }
   },
   "outputs": [
    {
     "data": {
      "text/plain": [
       "4.0    6639798\n",
       "3.0    4896928\n",
       "5.0    3612474\n",
       "3.5    3177318\n",
       "4.5    2200539\n",
       "2.0    1640868\n",
       "2.5    1262797\n",
       "1.0     776815\n",
       "1.5     399490\n",
       "0.5     393068\n",
       "Name: rating, dtype: int64"
      ]
     },
     "execution_count": 9,
     "metadata": {},
     "output_type": "execute_result"
    }
   ],
   "source": [
    "ratings['rating'].value_counts()"
   ]
  },
  {
   "cell_type": "markdown",
   "id": "0e619c5a",
   "metadata": {},
   "source": [
    "`dtype` for ratings seems to be a bit too much."
   ]
  },
  {
   "cell_type": "markdown",
   "id": "449645fc",
   "metadata": {},
   "source": [
    "Checking for missing data."
   ]
  },
  {
   "cell_type": "code",
   "execution_count": 10,
   "id": "ea66d1cc",
   "metadata": {
    "ExecuteTime": {
     "end_time": "2023-09-10T16:40:26.398063Z",
     "start_time": "2023-09-10T16:40:26.373472Z"
    }
   },
   "outputs": [
    {
     "data": {
      "text/plain": [
       "movieId    0\n",
       "title      0\n",
       "genres     0\n",
       "dtype: int64"
      ]
     },
     "execution_count": 10,
     "metadata": {},
     "output_type": "execute_result"
    }
   ],
   "source": [
    "movies.isna().sum()"
   ]
  },
  {
   "cell_type": "code",
   "execution_count": 11,
   "id": "2e4af4a1",
   "metadata": {
    "ExecuteTime": {
     "end_time": "2023-09-10T16:40:26.582888Z",
     "start_time": "2023-09-10T16:40:26.442907Z"
    }
   },
   "outputs": [
    {
     "data": {
      "text/plain": [
       "userId       0\n",
       "movieId      0\n",
       "rating       0\n",
       "timestamp    0\n",
       "dtype: int64"
      ]
     },
     "execution_count": 11,
     "metadata": {},
     "output_type": "execute_result"
    }
   ],
   "source": [
    "ratings.isna().sum()"
   ]
  },
  {
   "cell_type": "markdown",
   "id": "dde059b5",
   "metadata": {},
   "source": [
    "Checking duplicates."
   ]
  },
  {
   "cell_type": "code",
   "execution_count": 12,
   "id": "53059d23",
   "metadata": {
    "ExecuteTime": {
     "end_time": "2023-09-10T16:40:27.413318Z",
     "start_time": "2023-09-10T16:40:27.386948Z"
    }
   },
   "outputs": [
    {
     "data": {
      "text/plain": [
       "0"
      ]
     },
     "execution_count": 12,
     "metadata": {},
     "output_type": "execute_result"
    }
   ],
   "source": [
    "movies.duplicated().sum()"
   ]
  },
  {
   "cell_type": "code",
   "execution_count": 13,
   "id": "935a8ceb",
   "metadata": {
    "ExecuteTime": {
     "end_time": "2023-09-10T16:40:38.790562Z",
     "start_time": "2023-09-10T16:40:27.924089Z"
    }
   },
   "outputs": [
    {
     "data": {
      "text/plain": [
       "0"
      ]
     },
     "execution_count": 13,
     "metadata": {},
     "output_type": "execute_result"
    }
   ],
   "source": [
    "ratings.duplicated().sum()"
   ]
  },
  {
   "cell_type": "code",
   "execution_count": 14,
   "id": "f20340cb",
   "metadata": {
    "ExecuteTime": {
     "end_time": "2023-09-10T16:40:38.867040Z",
     "start_time": "2023-09-10T16:40:38.826595Z"
    }
   },
   "outputs": [
    {
     "data": {
      "text/plain": [
       "98"
      ]
     },
     "execution_count": 14,
     "metadata": {},
     "output_type": "execute_result"
    }
   ],
   "source": [
    "# There are duplicated titles\n",
    "movies['title'].duplicated().sum()"
   ]
  },
  {
   "cell_type": "markdown",
   "id": "0ea186cf",
   "metadata": {},
   "source": [
    "We don't have any nulls or duplicated data. But be mindful that there are duplicated movies titles."
   ]
  },
  {
   "cell_type": "markdown",
   "id": "b1b7b990",
   "metadata": {},
   "source": [
    "### 1.2 Preprocessing"
   ]
  },
  {
   "cell_type": "code",
   "execution_count": 15,
   "id": "97427cde",
   "metadata": {
    "ExecuteTime": {
     "end_time": "2023-09-10T16:40:40.008529Z",
     "start_time": "2023-09-10T16:40:40.002872Z"
    }
   },
   "outputs": [],
   "source": [
    "# We can set the movieId as index for the table\n",
    "\n",
    "movies = movies.set_index('movieId')"
   ]
  },
  {
   "cell_type": "code",
   "execution_count": 16,
   "id": "6d8b6cd3",
   "metadata": {
    "ExecuteTime": {
     "end_time": "2023-09-10T16:40:40.717825Z",
     "start_time": "2023-09-10T16:40:40.531327Z"
    }
   },
   "outputs": [],
   "source": [
    "# We won't be using the timestamp\n",
    "\n",
    "ratings = ratings.drop('timestamp', axis=1)"
   ]
  },
  {
   "cell_type": "code",
   "execution_count": 17,
   "id": "39dfeb1c",
   "metadata": {
    "ExecuteTime": {
     "end_time": "2023-09-10T16:40:43.747320Z",
     "start_time": "2023-09-10T16:40:43.576067Z"
    }
   },
   "outputs": [],
   "source": [
    "ratings['rating'] = ratings['rating'].astype(np.float16)"
   ]
  },
  {
   "cell_type": "code",
   "execution_count": 18,
   "id": "d5b910f2",
   "metadata": {
    "ExecuteTime": {
     "end_time": "2023-09-10T16:40:50.510707Z",
     "start_time": "2023-09-10T16:40:50.501675Z"
    }
   },
   "outputs": [
    {
     "data": {
      "text/html": [
       "<div>\n",
       "<style scoped>\n",
       "    .dataframe tbody tr th:only-of-type {\n",
       "        vertical-align: middle;\n",
       "    }\n",
       "\n",
       "    .dataframe tbody tr th {\n",
       "        vertical-align: top;\n",
       "    }\n",
       "\n",
       "    .dataframe thead th {\n",
       "        text-align: right;\n",
       "    }\n",
       "</style>\n",
       "<table border=\"1\" class=\"dataframe\">\n",
       "  <thead>\n",
       "    <tr style=\"text-align: right;\">\n",
       "      <th></th>\n",
       "      <th>title</th>\n",
       "      <th>genres</th>\n",
       "    </tr>\n",
       "    <tr>\n",
       "      <th>movieId</th>\n",
       "      <th></th>\n",
       "      <th></th>\n",
       "    </tr>\n",
       "  </thead>\n",
       "  <tbody>\n",
       "    <tr>\n",
       "      <th>1</th>\n",
       "      <td>Toy Story (1995)</td>\n",
       "      <td>Adventure|Animation|Children|Comedy|Fantasy</td>\n",
       "    </tr>\n",
       "    <tr>\n",
       "      <th>2</th>\n",
       "      <td>Jumanji (1995)</td>\n",
       "      <td>Adventure|Children|Fantasy</td>\n",
       "    </tr>\n",
       "    <tr>\n",
       "      <th>3</th>\n",
       "      <td>Grumpier Old Men (1995)</td>\n",
       "      <td>Comedy|Romance</td>\n",
       "    </tr>\n",
       "    <tr>\n",
       "      <th>4</th>\n",
       "      <td>Waiting to Exhale (1995)</td>\n",
       "      <td>Comedy|Drama|Romance</td>\n",
       "    </tr>\n",
       "    <tr>\n",
       "      <th>5</th>\n",
       "      <td>Father of the Bride Part II (1995)</td>\n",
       "      <td>Comedy</td>\n",
       "    </tr>\n",
       "  </tbody>\n",
       "</table>\n",
       "</div>"
      ],
      "text/plain": [
       "                                      title  \\\n",
       "movieId                                       \n",
       "1                          Toy Story (1995)   \n",
       "2                            Jumanji (1995)   \n",
       "3                   Grumpier Old Men (1995)   \n",
       "4                  Waiting to Exhale (1995)   \n",
       "5        Father of the Bride Part II (1995)   \n",
       "\n",
       "                                              genres  \n",
       "movieId                                               \n",
       "1        Adventure|Animation|Children|Comedy|Fantasy  \n",
       "2                         Adventure|Children|Fantasy  \n",
       "3                                     Comedy|Romance  \n",
       "4                               Comedy|Drama|Romance  \n",
       "5                                             Comedy  "
      ]
     },
     "execution_count": 18,
     "metadata": {},
     "output_type": "execute_result"
    }
   ],
   "source": [
    "movies.head()"
   ]
  },
  {
   "cell_type": "code",
   "execution_count": 19,
   "id": "56b3a348",
   "metadata": {
    "ExecuteTime": {
     "end_time": "2023-09-10T16:40:58.604175Z",
     "start_time": "2023-09-10T16:40:58.590502Z"
    }
   },
   "outputs": [
    {
     "data": {
      "text/html": [
       "<div>\n",
       "<style scoped>\n",
       "    .dataframe tbody tr th:only-of-type {\n",
       "        vertical-align: middle;\n",
       "    }\n",
       "\n",
       "    .dataframe tbody tr th {\n",
       "        vertical-align: top;\n",
       "    }\n",
       "\n",
       "    .dataframe thead th {\n",
       "        text-align: right;\n",
       "    }\n",
       "</style>\n",
       "<table border=\"1\" class=\"dataframe\">\n",
       "  <thead>\n",
       "    <tr style=\"text-align: right;\">\n",
       "      <th></th>\n",
       "      <th>userId</th>\n",
       "      <th>movieId</th>\n",
       "      <th>rating</th>\n",
       "    </tr>\n",
       "  </thead>\n",
       "  <tbody>\n",
       "    <tr>\n",
       "      <th>0</th>\n",
       "      <td>1</td>\n",
       "      <td>296</td>\n",
       "      <td>5.0</td>\n",
       "    </tr>\n",
       "    <tr>\n",
       "      <th>1</th>\n",
       "      <td>1</td>\n",
       "      <td>306</td>\n",
       "      <td>3.5</td>\n",
       "    </tr>\n",
       "    <tr>\n",
       "      <th>2</th>\n",
       "      <td>1</td>\n",
       "      <td>307</td>\n",
       "      <td>5.0</td>\n",
       "    </tr>\n",
       "    <tr>\n",
       "      <th>3</th>\n",
       "      <td>1</td>\n",
       "      <td>665</td>\n",
       "      <td>5.0</td>\n",
       "    </tr>\n",
       "    <tr>\n",
       "      <th>4</th>\n",
       "      <td>1</td>\n",
       "      <td>899</td>\n",
       "      <td>3.5</td>\n",
       "    </tr>\n",
       "  </tbody>\n",
       "</table>\n",
       "</div>"
      ],
      "text/plain": [
       "   userId  movieId  rating\n",
       "0       1      296     5.0\n",
       "1       1      306     3.5\n",
       "2       1      307     5.0\n",
       "3       1      665     5.0\n",
       "4       1      899     3.5"
      ]
     },
     "execution_count": 19,
     "metadata": {},
     "output_type": "execute_result"
    }
   ],
   "source": [
    "ratings.head()"
   ]
  },
  {
   "cell_type": "code",
   "execution_count": 20,
   "id": "68f1f34d",
   "metadata": {
    "ExecuteTime": {
     "end_time": "2023-09-10T16:41:12.384936Z",
     "start_time": "2023-09-10T16:41:12.368749Z"
    }
   },
   "outputs": [
    {
     "name": "stdout",
     "output_type": "stream",
     "text": [
      "<class 'pandas.core.frame.DataFrame'>\n",
      "RangeIndex: 25000095 entries, 0 to 25000094\n",
      "Data columns (total 3 columns):\n",
      " #   Column   Dtype  \n",
      "---  ------   -----  \n",
      " 0   userId   int64  \n",
      " 1   movieId  int64  \n",
      " 2   rating   float16\n",
      "dtypes: float16(1), int64(2)\n",
      "memory usage: 429.2 MB\n"
     ]
    }
   ],
   "source": [
    "ratings.info()"
   ]
  },
  {
   "cell_type": "markdown",
   "id": "b548bdf3",
   "metadata": {},
   "source": [
    "Reduced memory usage significantly without any loss."
   ]
  },
  {
   "cell_type": "markdown",
   "id": "c6e5d1f2",
   "metadata": {},
   "source": [
    "## 2. Feature extraction"
   ]
  },
  {
   "cell_type": "markdown",
   "id": "3adf6fdd",
   "metadata": {},
   "source": [
    "We are going to extract the year from the title of the movie and create genres columns."
   ]
  },
  {
   "cell_type": "code",
   "execution_count": 104,
   "id": "4c631647",
   "metadata": {
    "ExecuteTime": {
     "end_time": "2023-09-10T17:21:50.732546Z",
     "start_time": "2023-09-10T17:21:50.603641Z"
    }
   },
   "outputs": [
    {
     "data": {
      "text/html": [
       "<div>\n",
       "<style scoped>\n",
       "    .dataframe tbody tr th:only-of-type {\n",
       "        vertical-align: middle;\n",
       "    }\n",
       "\n",
       "    .dataframe tbody tr th {\n",
       "        vertical-align: top;\n",
       "    }\n",
       "\n",
       "    .dataframe thead th {\n",
       "        text-align: right;\n",
       "    }\n",
       "</style>\n",
       "<table border=\"1\" class=\"dataframe\">\n",
       "  <thead>\n",
       "    <tr style=\"text-align: right;\">\n",
       "      <th></th>\n",
       "      <th>year</th>\n",
       "    </tr>\n",
       "    <tr>\n",
       "      <th>movieId</th>\n",
       "      <th></th>\n",
       "    </tr>\n",
       "  </thead>\n",
       "  <tbody>\n",
       "    <tr>\n",
       "      <th>1</th>\n",
       "      <td>1995</td>\n",
       "    </tr>\n",
       "    <tr>\n",
       "      <th>2</th>\n",
       "      <td>1995</td>\n",
       "    </tr>\n",
       "    <tr>\n",
       "      <th>3</th>\n",
       "      <td>1995</td>\n",
       "    </tr>\n",
       "    <tr>\n",
       "      <th>4</th>\n",
       "      <td>1995</td>\n",
       "    </tr>\n",
       "    <tr>\n",
       "      <th>5</th>\n",
       "      <td>1995</td>\n",
       "    </tr>\n",
       "    <tr>\n",
       "      <th>...</th>\n",
       "      <td>...</td>\n",
       "    </tr>\n",
       "    <tr>\n",
       "      <th>209157</th>\n",
       "      <td>2018</td>\n",
       "    </tr>\n",
       "    <tr>\n",
       "      <th>209159</th>\n",
       "      <td>2001</td>\n",
       "    </tr>\n",
       "    <tr>\n",
       "      <th>209163</th>\n",
       "      <td>2018</td>\n",
       "    </tr>\n",
       "    <tr>\n",
       "      <th>209169</th>\n",
       "      <td>2001</td>\n",
       "    </tr>\n",
       "    <tr>\n",
       "      <th>209171</th>\n",
       "      <td>1962</td>\n",
       "    </tr>\n",
       "  </tbody>\n",
       "</table>\n",
       "<p>62423 rows × 1 columns</p>\n",
       "</div>"
      ],
      "text/plain": [
       "         year\n",
       "movieId      \n",
       "1        1995\n",
       "2        1995\n",
       "3        1995\n",
       "4        1995\n",
       "5        1995\n",
       "...       ...\n",
       "209157   2018\n",
       "209159   2001\n",
       "209163   2018\n",
       "209169   2001\n",
       "209171   1962\n",
       "\n",
       "[62423 rows x 1 columns]"
      ]
     },
     "execution_count": 104,
     "metadata": {},
     "output_type": "execute_result"
    }
   ],
   "source": [
    "# Extracting year from title with regex\n",
    "movies_year = movies['title'].str.extract(r'\\((\\d{4})\\)')\n",
    "movies_year.columns = ['year']\n",
    "movies_year"
   ]
  },
  {
   "cell_type": "code",
   "execution_count": 103,
   "id": "8104203e",
   "metadata": {
    "ExecuteTime": {
     "end_time": "2023-09-10T17:21:39.707099Z",
     "start_time": "2023-09-10T17:21:39.330239Z"
    }
   },
   "outputs": [
    {
     "data": {
      "text/html": [
       "<div>\n",
       "<style scoped>\n",
       "    .dataframe tbody tr th:only-of-type {\n",
       "        vertical-align: middle;\n",
       "    }\n",
       "\n",
       "    .dataframe tbody tr th {\n",
       "        vertical-align: top;\n",
       "    }\n",
       "\n",
       "    .dataframe thead th {\n",
       "        text-align: right;\n",
       "    }\n",
       "</style>\n",
       "<table border=\"1\" class=\"dataframe\">\n",
       "  <thead>\n",
       "    <tr style=\"text-align: right;\">\n",
       "      <th></th>\n",
       "      <th>(no genres listed)</th>\n",
       "      <th>Action</th>\n",
       "      <th>Adventure</th>\n",
       "      <th>Animation</th>\n",
       "      <th>Children</th>\n",
       "      <th>Comedy</th>\n",
       "      <th>Crime</th>\n",
       "      <th>Documentary</th>\n",
       "      <th>Drama</th>\n",
       "      <th>Fantasy</th>\n",
       "      <th>Film-Noir</th>\n",
       "      <th>Horror</th>\n",
       "      <th>IMAX</th>\n",
       "      <th>Musical</th>\n",
       "      <th>Mystery</th>\n",
       "      <th>Romance</th>\n",
       "      <th>Sci-Fi</th>\n",
       "      <th>Thriller</th>\n",
       "      <th>War</th>\n",
       "      <th>Western</th>\n",
       "    </tr>\n",
       "    <tr>\n",
       "      <th>movieId</th>\n",
       "      <th></th>\n",
       "      <th></th>\n",
       "      <th></th>\n",
       "      <th></th>\n",
       "      <th></th>\n",
       "      <th></th>\n",
       "      <th></th>\n",
       "      <th></th>\n",
       "      <th></th>\n",
       "      <th></th>\n",
       "      <th></th>\n",
       "      <th></th>\n",
       "      <th></th>\n",
       "      <th></th>\n",
       "      <th></th>\n",
       "      <th></th>\n",
       "      <th></th>\n",
       "      <th></th>\n",
       "      <th></th>\n",
       "      <th></th>\n",
       "    </tr>\n",
       "  </thead>\n",
       "  <tbody>\n",
       "    <tr>\n",
       "      <th>1</th>\n",
       "      <td>0</td>\n",
       "      <td>0</td>\n",
       "      <td>1</td>\n",
       "      <td>1</td>\n",
       "      <td>1</td>\n",
       "      <td>1</td>\n",
       "      <td>0</td>\n",
       "      <td>0</td>\n",
       "      <td>0</td>\n",
       "      <td>1</td>\n",
       "      <td>0</td>\n",
       "      <td>0</td>\n",
       "      <td>0</td>\n",
       "      <td>0</td>\n",
       "      <td>0</td>\n",
       "      <td>0</td>\n",
       "      <td>0</td>\n",
       "      <td>0</td>\n",
       "      <td>0</td>\n",
       "      <td>0</td>\n",
       "    </tr>\n",
       "    <tr>\n",
       "      <th>2</th>\n",
       "      <td>0</td>\n",
       "      <td>0</td>\n",
       "      <td>1</td>\n",
       "      <td>0</td>\n",
       "      <td>1</td>\n",
       "      <td>0</td>\n",
       "      <td>0</td>\n",
       "      <td>0</td>\n",
       "      <td>0</td>\n",
       "      <td>1</td>\n",
       "      <td>0</td>\n",
       "      <td>0</td>\n",
       "      <td>0</td>\n",
       "      <td>0</td>\n",
       "      <td>0</td>\n",
       "      <td>0</td>\n",
       "      <td>0</td>\n",
       "      <td>0</td>\n",
       "      <td>0</td>\n",
       "      <td>0</td>\n",
       "    </tr>\n",
       "    <tr>\n",
       "      <th>3</th>\n",
       "      <td>0</td>\n",
       "      <td>0</td>\n",
       "      <td>0</td>\n",
       "      <td>0</td>\n",
       "      <td>0</td>\n",
       "      <td>1</td>\n",
       "      <td>0</td>\n",
       "      <td>0</td>\n",
       "      <td>0</td>\n",
       "      <td>0</td>\n",
       "      <td>0</td>\n",
       "      <td>0</td>\n",
       "      <td>0</td>\n",
       "      <td>0</td>\n",
       "      <td>0</td>\n",
       "      <td>1</td>\n",
       "      <td>0</td>\n",
       "      <td>0</td>\n",
       "      <td>0</td>\n",
       "      <td>0</td>\n",
       "    </tr>\n",
       "    <tr>\n",
       "      <th>4</th>\n",
       "      <td>0</td>\n",
       "      <td>0</td>\n",
       "      <td>0</td>\n",
       "      <td>0</td>\n",
       "      <td>0</td>\n",
       "      <td>1</td>\n",
       "      <td>0</td>\n",
       "      <td>0</td>\n",
       "      <td>1</td>\n",
       "      <td>0</td>\n",
       "      <td>0</td>\n",
       "      <td>0</td>\n",
       "      <td>0</td>\n",
       "      <td>0</td>\n",
       "      <td>0</td>\n",
       "      <td>1</td>\n",
       "      <td>0</td>\n",
       "      <td>0</td>\n",
       "      <td>0</td>\n",
       "      <td>0</td>\n",
       "    </tr>\n",
       "    <tr>\n",
       "      <th>5</th>\n",
       "      <td>0</td>\n",
       "      <td>0</td>\n",
       "      <td>0</td>\n",
       "      <td>0</td>\n",
       "      <td>0</td>\n",
       "      <td>1</td>\n",
       "      <td>0</td>\n",
       "      <td>0</td>\n",
       "      <td>0</td>\n",
       "      <td>0</td>\n",
       "      <td>0</td>\n",
       "      <td>0</td>\n",
       "      <td>0</td>\n",
       "      <td>0</td>\n",
       "      <td>0</td>\n",
       "      <td>0</td>\n",
       "      <td>0</td>\n",
       "      <td>0</td>\n",
       "      <td>0</td>\n",
       "      <td>0</td>\n",
       "    </tr>\n",
       "    <tr>\n",
       "      <th>...</th>\n",
       "      <td>...</td>\n",
       "      <td>...</td>\n",
       "      <td>...</td>\n",
       "      <td>...</td>\n",
       "      <td>...</td>\n",
       "      <td>...</td>\n",
       "      <td>...</td>\n",
       "      <td>...</td>\n",
       "      <td>...</td>\n",
       "      <td>...</td>\n",
       "      <td>...</td>\n",
       "      <td>...</td>\n",
       "      <td>...</td>\n",
       "      <td>...</td>\n",
       "      <td>...</td>\n",
       "      <td>...</td>\n",
       "      <td>...</td>\n",
       "      <td>...</td>\n",
       "      <td>...</td>\n",
       "      <td>...</td>\n",
       "    </tr>\n",
       "    <tr>\n",
       "      <th>209157</th>\n",
       "      <td>0</td>\n",
       "      <td>0</td>\n",
       "      <td>0</td>\n",
       "      <td>0</td>\n",
       "      <td>0</td>\n",
       "      <td>0</td>\n",
       "      <td>0</td>\n",
       "      <td>0</td>\n",
       "      <td>1</td>\n",
       "      <td>0</td>\n",
       "      <td>0</td>\n",
       "      <td>0</td>\n",
       "      <td>0</td>\n",
       "      <td>0</td>\n",
       "      <td>0</td>\n",
       "      <td>0</td>\n",
       "      <td>0</td>\n",
       "      <td>0</td>\n",
       "      <td>0</td>\n",
       "      <td>0</td>\n",
       "    </tr>\n",
       "    <tr>\n",
       "      <th>209159</th>\n",
       "      <td>0</td>\n",
       "      <td>0</td>\n",
       "      <td>0</td>\n",
       "      <td>0</td>\n",
       "      <td>0</td>\n",
       "      <td>0</td>\n",
       "      <td>0</td>\n",
       "      <td>1</td>\n",
       "      <td>0</td>\n",
       "      <td>0</td>\n",
       "      <td>0</td>\n",
       "      <td>0</td>\n",
       "      <td>0</td>\n",
       "      <td>0</td>\n",
       "      <td>0</td>\n",
       "      <td>0</td>\n",
       "      <td>0</td>\n",
       "      <td>0</td>\n",
       "      <td>0</td>\n",
       "      <td>0</td>\n",
       "    </tr>\n",
       "    <tr>\n",
       "      <th>209163</th>\n",
       "      <td>0</td>\n",
       "      <td>0</td>\n",
       "      <td>0</td>\n",
       "      <td>0</td>\n",
       "      <td>0</td>\n",
       "      <td>1</td>\n",
       "      <td>0</td>\n",
       "      <td>0</td>\n",
       "      <td>1</td>\n",
       "      <td>0</td>\n",
       "      <td>0</td>\n",
       "      <td>0</td>\n",
       "      <td>0</td>\n",
       "      <td>0</td>\n",
       "      <td>0</td>\n",
       "      <td>0</td>\n",
       "      <td>0</td>\n",
       "      <td>0</td>\n",
       "      <td>0</td>\n",
       "      <td>0</td>\n",
       "    </tr>\n",
       "    <tr>\n",
       "      <th>209169</th>\n",
       "      <td>1</td>\n",
       "      <td>0</td>\n",
       "      <td>0</td>\n",
       "      <td>0</td>\n",
       "      <td>0</td>\n",
       "      <td>0</td>\n",
       "      <td>0</td>\n",
       "      <td>0</td>\n",
       "      <td>0</td>\n",
       "      <td>0</td>\n",
       "      <td>0</td>\n",
       "      <td>0</td>\n",
       "      <td>0</td>\n",
       "      <td>0</td>\n",
       "      <td>0</td>\n",
       "      <td>0</td>\n",
       "      <td>0</td>\n",
       "      <td>0</td>\n",
       "      <td>0</td>\n",
       "      <td>0</td>\n",
       "    </tr>\n",
       "    <tr>\n",
       "      <th>209171</th>\n",
       "      <td>0</td>\n",
       "      <td>1</td>\n",
       "      <td>1</td>\n",
       "      <td>0</td>\n",
       "      <td>0</td>\n",
       "      <td>0</td>\n",
       "      <td>0</td>\n",
       "      <td>0</td>\n",
       "      <td>1</td>\n",
       "      <td>0</td>\n",
       "      <td>0</td>\n",
       "      <td>0</td>\n",
       "      <td>0</td>\n",
       "      <td>0</td>\n",
       "      <td>0</td>\n",
       "      <td>0</td>\n",
       "      <td>0</td>\n",
       "      <td>0</td>\n",
       "      <td>0</td>\n",
       "      <td>0</td>\n",
       "    </tr>\n",
       "  </tbody>\n",
       "</table>\n",
       "<p>62423 rows × 20 columns</p>\n",
       "</div>"
      ],
      "text/plain": [
       "         (no genres listed)  Action  Adventure  Animation  Children  Comedy  \\\n",
       "movieId                                                                       \n",
       "1                         0       0          1          1         1       1   \n",
       "2                         0       0          1          0         1       0   \n",
       "3                         0       0          0          0         0       1   \n",
       "4                         0       0          0          0         0       1   \n",
       "5                         0       0          0          0         0       1   \n",
       "...                     ...     ...        ...        ...       ...     ...   \n",
       "209157                    0       0          0          0         0       0   \n",
       "209159                    0       0          0          0         0       0   \n",
       "209163                    0       0          0          0         0       1   \n",
       "209169                    1       0          0          0         0       0   \n",
       "209171                    0       1          1          0         0       0   \n",
       "\n",
       "         Crime  Documentary  Drama  Fantasy  Film-Noir  Horror  IMAX  Musical  \\\n",
       "movieId                                                                         \n",
       "1            0            0      0        1          0       0     0        0   \n",
       "2            0            0      0        1          0       0     0        0   \n",
       "3            0            0      0        0          0       0     0        0   \n",
       "4            0            0      1        0          0       0     0        0   \n",
       "5            0            0      0        0          0       0     0        0   \n",
       "...        ...          ...    ...      ...        ...     ...   ...      ...   \n",
       "209157       0            0      1        0          0       0     0        0   \n",
       "209159       0            1      0        0          0       0     0        0   \n",
       "209163       0            0      1        0          0       0     0        0   \n",
       "209169       0            0      0        0          0       0     0        0   \n",
       "209171       0            0      1        0          0       0     0        0   \n",
       "\n",
       "         Mystery  Romance  Sci-Fi  Thriller  War  Western  \n",
       "movieId                                                    \n",
       "1              0        0       0         0    0        0  \n",
       "2              0        0       0         0    0        0  \n",
       "3              0        1       0         0    0        0  \n",
       "4              0        1       0         0    0        0  \n",
       "5              0        0       0         0    0        0  \n",
       "...          ...      ...     ...       ...  ...      ...  \n",
       "209157         0        0       0         0    0        0  \n",
       "209159         0        0       0         0    0        0  \n",
       "209163         0        0       0         0    0        0  \n",
       "209169         0        0       0         0    0        0  \n",
       "209171         0        0       0         0    0        0  \n",
       "\n",
       "[62423 rows x 20 columns]"
      ]
     },
     "execution_count": 103,
     "metadata": {},
     "output_type": "execute_result"
    }
   ],
   "source": [
    "# Creating genres columns\n",
    "movies_genres = movies['genres'].str.get_dummies('|')\n",
    "movies_genres"
   ]
  },
  {
   "cell_type": "markdown",
   "id": "16a57801",
   "metadata": {
    "ExecuteTime": {
     "end_time": "2023-08-31T23:14:45.008862Z",
     "start_time": "2023-08-31T23:14:45.005479Z"
    }
   },
   "source": [
    "We could convert the timestamp to datetime to get temporal features. But for now, we stick to those features."
   ]
  },
  {
   "cell_type": "markdown",
   "id": "a8ee24b9",
   "metadata": {
    "ExecuteTime": {
     "end_time": "2023-08-31T21:19:41.115570Z",
     "start_time": "2023-08-31T21:19:41.109690Z"
    }
   },
   "source": [
    "## 3. EDA"
   ]
  },
  {
   "cell_type": "code",
   "execution_count": 49,
   "id": "94d2eae9",
   "metadata": {
    "ExecuteTime": {
     "end_time": "2023-09-10T16:51:43.713159Z",
     "start_time": "2023-09-10T16:51:43.709352Z"
    }
   },
   "outputs": [],
   "source": [
    "# Auxiliary functions\n",
    "\n",
    "def get_id_from_title(title):\n",
    "    return movies.loc[movies['title'] == title].index.item()\n",
    "\n",
    "def get_title_from_id(movieId):\n",
    "    return movies.loc[movieId].title"
   ]
  },
  {
   "cell_type": "markdown",
   "id": "f56d3dad",
   "metadata": {},
   "source": [
    "Let's explore the dataset to get some insights."
   ]
  },
  {
   "cell_type": "code",
   "execution_count": 50,
   "id": "a9d272d5",
   "metadata": {
    "ExecuteTime": {
     "end_time": "2023-09-10T16:51:48.278039Z",
     "start_time": "2023-09-10T16:51:47.927793Z"
    },
    "scrolled": true
   },
   "outputs": [
    {
     "data": {
      "image/png": "[encoded data removed]",
      "text/plain": [
       "<Figure size 432x288 with 1 Axes>"
      ]
     },
     "metadata": {
      "needs_background": "light"
     },
     "output_type": "display_data"
    }
   ],
   "source": [
    "# Most present genres\n",
    "movies_genres.sum().sort_values(ascending=False).plot(kind='bar')\n",
    "plt.title('Genres')\n",
    "plt.show()"
   ]
  },
  {
   "cell_type": "code",
   "execution_count": 55,
   "id": "6ea3bea0",
   "metadata": {
    "ExecuteTime": {
     "end_time": "2023-09-10T16:54:07.590616Z",
     "start_time": "2023-09-10T16:54:07.272328Z"
    },
    "scrolled": true
   },
   "outputs": [
    {
     "data": {
      "image/png": "[encoded data removed]",
      "text/plain": [
       "<Figure size 432x288 with 1 Axes>"
      ]
     },
     "metadata": {
      "needs_background": "light"
     },
     "output_type": "display_data"
    }
   ],
   "source": [
    "# Choose a movie, and check the rating distribution\n",
    "plt.hist(ratings.loc[ratings['movieId'] == get_id_from_title('Toy Story (1995)'), 'rating'])\n",
    "plt.xlabel('Rating')\n",
    "plt.title('Toy Story (1995) ratings')\n",
    "plt.show()"
   ]
  },
  {
   "cell_type": "code",
   "execution_count": 93,
   "id": "1c5f4ee7",
   "metadata": {
    "ExecuteTime": {
     "end_time": "2023-09-10T17:19:00.588606Z",
     "start_time": "2023-09-10T17:18:59.649841Z"
    },
    "scrolled": true
   },
   "outputs": [
    {
     "data": {
      "text/html": [
       "<div>\n",
       "<style scoped>\n",
       "    .dataframe tbody tr th:only-of-type {\n",
       "        vertical-align: middle;\n",
       "    }\n",
       "\n",
       "    .dataframe tbody tr th {\n",
       "        vertical-align: top;\n",
       "    }\n",
       "\n",
       "    .dataframe thead th {\n",
       "        text-align: right;\n",
       "    }\n",
       "</style>\n",
       "<table border=\"1\" class=\"dataframe\">\n",
       "  <thead>\n",
       "    <tr style=\"text-align: right;\">\n",
       "      <th></th>\n",
       "      <th>rating_percentage</th>\n",
       "      <th>title</th>\n",
       "      <th>rating_percentage_cum</th>\n",
       "    </tr>\n",
       "    <tr>\n",
       "      <th>movieId</th>\n",
       "      <th></th>\n",
       "      <th></th>\n",
       "      <th></th>\n",
       "    </tr>\n",
       "  </thead>\n",
       "  <tbody>\n",
       "    <tr>\n",
       "      <th>356</th>\n",
       "      <td>0.003260</td>\n",
       "      <td>Forrest Gump (1994)</td>\n",
       "      <td>0.003260</td>\n",
       "    </tr>\n",
       "    <tr>\n",
       "      <th>318</th>\n",
       "      <td>0.003259</td>\n",
       "      <td>Shawshank Redemption, The (1994)</td>\n",
       "      <td>0.006519</td>\n",
       "    </tr>\n",
       "    <tr>\n",
       "      <th>296</th>\n",
       "      <td>0.003187</td>\n",
       "      <td>Pulp Fiction (1994)</td>\n",
       "      <td>0.009706</td>\n",
       "    </tr>\n",
       "    <tr>\n",
       "      <th>593</th>\n",
       "      <td>0.002965</td>\n",
       "      <td>Silence of the Lambs, The (1991)</td>\n",
       "      <td>0.012671</td>\n",
       "    </tr>\n",
       "    <tr>\n",
       "      <th>2571</th>\n",
       "      <td>0.002907</td>\n",
       "      <td>Matrix, The (1999)</td>\n",
       "      <td>0.015578</td>\n",
       "    </tr>\n",
       "    <tr>\n",
       "      <th>260</th>\n",
       "      <td>0.002749</td>\n",
       "      <td>Star Wars: Episode IV - A New Hope (1977)</td>\n",
       "      <td>0.018326</td>\n",
       "    </tr>\n",
       "    <tr>\n",
       "      <th>480</th>\n",
       "      <td>0.002566</td>\n",
       "      <td>Jurassic Park (1993)</td>\n",
       "      <td>0.020892</td>\n",
       "    </tr>\n",
       "    <tr>\n",
       "      <th>527</th>\n",
       "      <td>0.002416</td>\n",
       "      <td>Schindler's List (1993)</td>\n",
       "      <td>0.023309</td>\n",
       "    </tr>\n",
       "    <tr>\n",
       "      <th>110</th>\n",
       "      <td>0.002367</td>\n",
       "      <td>Braveheart (1995)</td>\n",
       "      <td>0.025676</td>\n",
       "    </tr>\n",
       "    <tr>\n",
       "      <th>2959</th>\n",
       "      <td>0.002351</td>\n",
       "      <td>Fight Club (1999)</td>\n",
       "      <td>0.028027</td>\n",
       "    </tr>\n",
       "  </tbody>\n",
       "</table>\n",
       "</div>"
      ],
      "text/plain": [
       "         rating_percentage                                      title  \\\n",
       "movieId                                                                 \n",
       "356               0.003260                        Forrest Gump (1994)   \n",
       "318               0.003259           Shawshank Redemption, The (1994)   \n",
       "296               0.003187                        Pulp Fiction (1994)   \n",
       "593               0.002965           Silence of the Lambs, The (1991)   \n",
       "2571              0.002907                         Matrix, The (1999)   \n",
       "260               0.002749  Star Wars: Episode IV - A New Hope (1977)   \n",
       "480               0.002566                       Jurassic Park (1993)   \n",
       "527               0.002416                    Schindler's List (1993)   \n",
       "110               0.002367                          Braveheart (1995)   \n",
       "2959              0.002351                          Fight Club (1999)   \n",
       "\n",
       "         rating_percentage_cum  \n",
       "movieId                         \n",
       "356                   0.003260  \n",
       "318                   0.006519  \n",
       "296                   0.009706  \n",
       "593                   0.012671  \n",
       "2571                  0.015578  \n",
       "260                   0.018326  \n",
       "480                   0.020892  \n",
       "527                   0.023309  \n",
       "110                   0.025676  \n",
       "2959                  0.028027  "
      ]
     },
     "execution_count": 93,
     "metadata": {},
     "output_type": "execute_result"
    }
   ],
   "source": [
    "# Ratings count - What are the top 3% most rated movies?\n",
    "\n",
    "ratings_count_percentage = ratings['movieId'].value_counts(normalize=True)\n",
    "\n",
    "top_3_percent = ratings_count_percentage[ratings_count_percentage.cumsum() < 0.03]\n",
    "top_3_percent.rename('rating_percentage', inplace=True)\n",
    "top_3_percent = pd.merge(left=top_3_percent, right=movies['title'], left_index=True, right_on='movieId')\n",
    "\n",
    "top_3_percent['rating_percentage_cum'] = top_3_percent['rating_percentage'].cumsum()\n",
    "\n",
    "top_3_percent"
   ]
  },
  {
   "cell_type": "code",
   "execution_count": 109,
   "id": "b36be1c8",
   "metadata": {
    "ExecuteTime": {
     "end_time": "2023-09-10T17:22:35.942531Z",
     "start_time": "2023-09-10T17:22:35.667118Z"
    },
    "scrolled": true
   },
   "outputs": [
    {
     "data": {
      "image/png": "[encoded data removed]",
      "text/plain": [
       "<Figure size 432x288 with 1 Axes>"
      ]
     },
     "metadata": {
      "needs_background": "light"
     },
     "output_type": "display_data"
    }
   ],
   "source": [
    "# Movies per year\n",
    "\n",
    "movies_year.groupby('year').size().plot()\n",
    "plt.ylabel('# Movies')\n",
    "plt.title('Number of movies per year')\n",
    "plt.show()"
   ]
  },
  {
   "cell_type": "code",
   "execution_count": 18,
   "id": "cf3958f0",
   "metadata": {
    "ExecuteTime": {
     "end_time": "2023-09-10T15:56:22.909512Z",
     "start_time": "2023-09-10T15:56:22.902025Z"
    }
   },
   "outputs": [],
   "source": [
    "# We could explore more questions:\n",
    "# Movie time series per gender\n",
    "# What's the highest mean rating movie?"
   ]
  },
  {
   "cell_type": "markdown",
   "id": "07a669fa",
   "metadata": {},
   "source": [
    "## 4. Search engine"
   ]
  },
  {
   "cell_type": "markdown",
   "id": "06283fa8",
   "metadata": {},
   "source": [
    "Our first task is to make a **search engine**. When a user type a movie title, a function search the most similar rows in the database. First we clean our titles to get only letters and numbers and convert every instance in a vector using **TF-IDF**. Then, we compare those vectors using **cosine similarity** and return the best items."
   ]
  },
  {
   "cell_type": "code",
   "execution_count": 19,
   "id": "904bac65",
   "metadata": {
    "ExecuteTime": {
     "end_time": "2023-09-10T15:56:23.141738Z",
     "start_time": "2023-09-10T15:56:22.914509Z"
    }
   },
   "outputs": [],
   "source": [
    "# Cleaning titles with regex\n",
    "\n",
    "import re\n",
    "\n",
    "def clean(title):\n",
    "    return re.sub(\"[^a-zA-Z0-9 ]\", \"\", title)\n",
    "\n",
    "movies[\"clean_titles\"] = movies[\"title\"].apply(clean)"
   ]
  },
  {
   "cell_type": "code",
   "execution_count": 20,
   "id": "f163f3c1",
   "metadata": {
    "ExecuteTime": {
     "end_time": "2023-09-10T15:56:24.997405Z",
     "start_time": "2023-09-10T15:56:23.144461Z"
    }
   },
   "outputs": [],
   "source": [
    "# TF-IDF\n",
    "\n",
    "from sklearn.feature_extraction.text import TfidfVectorizer\n",
    "\n",
    "vec = TfidfVectorizer(ngram_range=(1, 3))\n",
    "\n",
    "titles_vec = vec.fit_transform(movies[\"clean_titles\"])"
   ]
  },
  {
   "cell_type": "code",
   "execution_count": 21,
   "id": "393ad898",
   "metadata": {
    "ExecuteTime": {
     "end_time": "2023-09-10T15:56:25.061857Z",
     "start_time": "2023-09-10T15:56:24.999485Z"
    }
   },
   "outputs": [],
   "source": [
    "from sklearn.metrics.pairwise import cosine_similarity\n",
    "\n",
    "def search(title):\n",
    "    title = clean(title)\n",
    "    query_vec = vec.transform([title])\n",
    "    similarity = cosine_similarity(query_vec, titles_vec).flatten()\n",
    "    \n",
    "    # Selecting top 5 movies\n",
    "    idx = np.argpartition(similarity, kth=-5)[-5:]\n",
    "\n",
    "    results = movies.iloc[idx][::-1]\n",
    "    return results"
   ]
  },
  {
   "cell_type": "code",
   "execution_count": 22,
   "id": "a2eb823f",
   "metadata": {
    "ExecuteTime": {
     "end_time": "2023-09-10T15:56:25.087253Z",
     "start_time": "2023-09-10T15:56:25.067620Z"
    }
   },
   "outputs": [],
   "source": [
    "import ipywidgets as widgets\n",
    "from IPython.display import display\n",
    "\n",
    "movie_input = widgets.Text(description=\"Movie title\", value=\"Toy Story 1995\", disabled=False)\n",
    "movie_output = widgets.Output()\n",
    "\n",
    "def when_type(data):\n",
    "    with movie_output:\n",
    "        movie_output.clear_output()\n",
    "        title = data[\"new\"]\n",
    "        if len(title) > 5:\n",
    "            display(search(title))\n",
    "\n",
    "movie_input.observe(when_type, names='value')"
   ]
  },
  {
   "cell_type": "code",
   "execution_count": 23,
   "id": "a30f28ef",
   "metadata": {
    "ExecuteTime": {
     "end_time": "2023-09-10T15:56:25.100499Z",
     "start_time": "2023-09-10T15:56:25.093213Z"
    }
   },
   "outputs": [
    {
     "data": {
      "application/vnd.jupyter.widget-view+json": {
       "model_id": "2c548b324454489c8b9cdc6cf740e503",
       "version_major": 2,
       "version_minor": 0
      },
      "text/plain": [
       "Text(value='Toy Story 1995', description='Movie title')"
      ]
     },
     "metadata": {},
     "output_type": "display_data"
    },
    {
     "data": {
      "application/vnd.jupyter.widget-view+json": {
       "model_id": "7a8f95b794c94fa994c7c1aa132e591b",
       "version_major": 2,
       "version_minor": 0
      },
      "text/plain": [
       "Output()"
      ]
     },
     "metadata": {},
     "output_type": "display_data"
    }
   ],
   "source": [
    "display(movie_input, movie_output)"
   ]
  },
  {
   "cell_type": "markdown",
   "id": "cc3bb2fe",
   "metadata": {
    "ExecuteTime": {
     "end_time": "2023-08-26T23:22:44.291870Z",
     "start_time": "2023-08-26T23:22:44.287906Z"
    }
   },
   "source": [
    "## 5. Recomendation systems"
   ]
  },
  {
   "cell_type": "markdown",
   "id": "7eb0b5e1",
   "metadata": {},
   "source": [
    "### 5.1 Non-personalized recomendations"
   ]
  },
  {
   "cell_type": "markdown",
   "id": "ef8a070f",
   "metadata": {},
   "source": [
    "Our first recommenders are **non-personalized** in the sense that they are not based on the individual user information. The information used can be the global watch rate, ratings, seem together movies or content based recommendations. Those systems are useful as product showcase."
   ]
  },
  {
   "cell_type": "markdown",
   "id": "e033fa28",
   "metadata": {},
   "source": [
    "#### 5.1.1 High rate/watch movies"
   ]
  },
  {
   "cell_type": "markdown",
   "id": "0b4be5dd",
   "metadata": {},
   "source": [
    "A first recommender can be made by ranking the best reviewed movies, but filtering by only movies with a certain number of reviews."
   ]
  },
  {
   "cell_type": "code",
   "execution_count": 24,
   "id": "96adf809",
   "metadata": {
    "ExecuteTime": {
     "end_time": "2023-09-10T15:56:26.685117Z",
     "start_time": "2023-09-10T15:56:25.104156Z"
    }
   },
   "outputs": [],
   "source": [
    "# Movies with more than 500 reviews\n",
    "\n",
    "review_count = ratings[\"movieId\"].value_counts()\n",
    "review_count_percentage = review_count / len(ratings[\"userId\"].unique())\n",
    "pop_movies_100 = review_count_percentage.iloc[:100].index"
   ]
  },
  {
   "cell_type": "code",
   "execution_count": 25,
   "id": "39af9c2d",
   "metadata": {
    "ExecuteTime": {
     "end_time": "2023-09-10T15:56:27.443027Z",
     "start_time": "2023-09-10T15:56:26.687350Z"
    }
   },
   "outputs": [],
   "source": [
    "# Best reviewed movies\n",
    "\n",
    "pop_movies_ratings = ratings[ratings[\"movieId\"].isin(pop_movies_100)]\n",
    "movie_rec = pop_movies_ratings[[\"rating\", \"movieId\"]].groupby(\"movieId\").mean().sort_values(by=\"rating\", \n",
    "                                                                           ascending=False).reset_index()\n"
   ]
  },
  {
   "cell_type": "code",
   "execution_count": 26,
   "id": "2f63f558",
   "metadata": {
    "ExecuteTime": {
     "end_time": "2023-09-10T15:56:27.504044Z",
     "start_time": "2023-09-10T15:56:27.446073Z"
    },
    "scrolled": false
   },
   "outputs": [
    {
     "data": {
      "text/html": [
       "<div>\n",
       "<style scoped>\n",
       "    .dataframe tbody tr th:only-of-type {\n",
       "        vertical-align: middle;\n",
       "    }\n",
       "\n",
       "    .dataframe tbody tr th {\n",
       "        vertical-align: top;\n",
       "    }\n",
       "\n",
       "    .dataframe thead th {\n",
       "        text-align: right;\n",
       "    }\n",
       "</style>\n",
       "<table border=\"1\" class=\"dataframe\">\n",
       "  <thead>\n",
       "    <tr style=\"text-align: right;\">\n",
       "      <th></th>\n",
       "      <th>movieId</th>\n",
       "      <th>rating</th>\n",
       "      <th>title</th>\n",
       "    </tr>\n",
       "  </thead>\n",
       "  <tbody>\n",
       "    <tr>\n",
       "      <th>0</th>\n",
       "      <td>318</td>\n",
       "      <td>4.413576</td>\n",
       "      <td>Shawshank Redemption, The (1994)</td>\n",
       "    </tr>\n",
       "    <tr>\n",
       "      <th>1</th>\n",
       "      <td>858</td>\n",
       "      <td>4.324336</td>\n",
       "      <td>Godfather, The (1972)</td>\n",
       "    </tr>\n",
       "    <tr>\n",
       "      <th>2</th>\n",
       "      <td>50</td>\n",
       "      <td>4.284353</td>\n",
       "      <td>Usual Suspects, The (1995)</td>\n",
       "    </tr>\n",
       "    <tr>\n",
       "      <th>3</th>\n",
       "      <td>1221</td>\n",
       "      <td>4.261759</td>\n",
       "      <td>Godfather: Part II, The (1974)</td>\n",
       "    </tr>\n",
       "    <tr>\n",
       "      <th>4</th>\n",
       "      <td>527</td>\n",
       "      <td>4.247579</td>\n",
       "      <td>Schindler's List (1993)</td>\n",
       "    </tr>\n",
       "    <tr>\n",
       "      <th>5</th>\n",
       "      <td>2959</td>\n",
       "      <td>4.228311</td>\n",
       "      <td>Fight Club (1999)</td>\n",
       "    </tr>\n",
       "    <tr>\n",
       "      <th>6</th>\n",
       "      <td>1193</td>\n",
       "      <td>4.218662</td>\n",
       "      <td>One Flew Over the Cuckoo's Nest (1975)</td>\n",
       "    </tr>\n",
       "    <tr>\n",
       "      <th>7</th>\n",
       "      <td>296</td>\n",
       "      <td>4.188912</td>\n",
       "      <td>Pulp Fiction (1994)</td>\n",
       "    </tr>\n",
       "    <tr>\n",
       "      <th>8</th>\n",
       "      <td>1213</td>\n",
       "      <td>4.180525</td>\n",
       "      <td>Goodfellas (1990)</td>\n",
       "    </tr>\n",
       "    <tr>\n",
       "      <th>9</th>\n",
       "      <td>58559</td>\n",
       "      <td>4.166538</td>\n",
       "      <td>Dark Knight, The (2008)</td>\n",
       "    </tr>\n",
       "  </tbody>\n",
       "</table>\n",
       "</div>"
      ],
      "text/plain": [
       "   movieId    rating                                   title\n",
       "0      318  4.413576        Shawshank Redemption, The (1994)\n",
       "1      858  4.324336                   Godfather, The (1972)\n",
       "2       50  4.284353              Usual Suspects, The (1995)\n",
       "3     1221  4.261759          Godfather: Part II, The (1974)\n",
       "4      527  4.247579                 Schindler's List (1993)\n",
       "5     2959  4.228311                       Fight Club (1999)\n",
       "6     1193  4.218662  One Flew Over the Cuckoo's Nest (1975)\n",
       "7      296  4.188912                     Pulp Fiction (1994)\n",
       "8     1213  4.180525                       Goodfellas (1990)\n",
       "9    58559  4.166538                 Dark Knight, The (2008)"
      ]
     },
     "execution_count": 26,
     "metadata": {},
     "output_type": "execute_result"
    }
   ],
   "source": [
    "movie_rec.merge(right=movies[[\"movieId\", \"title\"]], on=\"movieId\").head(10)"
   ]
  },
  {
   "cell_type": "markdown",
   "id": "a9de3696",
   "metadata": {},
   "source": [
    "It surelly works, but is *pretty generic*."
   ]
  },
  {
   "cell_type": "markdown",
   "id": "b209b97b",
   "metadata": {},
   "source": [
    "#### 5.1.2 Most seem together"
   ]
  },
  {
   "cell_type": "markdown",
   "id": "9e2630af",
   "metadata": {},
   "source": [
    "If a some users usually watch some movies together, those are probably a good recomendation for another user.\n",
    "The problem of this approach is the memory usage required to compute and store the permutations between the movies. The code used to generate a database with the permutations is commented due to time requirements, but once precomputed, our task is a simple query."
   ]
  },
  {
   "cell_type": "code",
   "execution_count": 27,
   "id": "c1de15d3",
   "metadata": {
    "ExecuteTime": {
     "end_time": "2023-09-10T15:56:27.511109Z",
     "start_time": "2023-09-10T15:56:27.506961Z"
    }
   },
   "outputs": [],
   "source": [
    "# from itertools import permutations\n",
    "\n",
    "# def create_pairs(x):\n",
    "#     pairs = pd.DataFrame(list(permutations(x.values, 2)), columns=[\"movie_a\", \"movie_b\"])\n",
    "#     return pairs\n",
    "\n",
    "# # Getting a smaller sample from ratings\n",
    "# n_users = 1000\n",
    "# selected_users = ratings['userId'].sample(n_users, replace=False).values\n",
    "# small_ratings = ratings.loc[ratings[\"userId\"].isin(selected_users), [\"userId\", \"movieId\"]]\n",
    "\n",
    "# # Get a smaller movie subset\n",
    "# small_ratings_count = small_ratings[\"movieId\"].value_counts()\n",
    "# small_ratings_count = small_ratings_count[small_ratings_count > 250]\n",
    "# smaller_ratings = small_ratings[small_ratings[\"movieId\"].isin(small_ratings_count.index)]\n",
    "\n",
    "# # Counting the pairs movies watched by the same user\n",
    "# pair_counts = smaller_ratings.groupby(\"userId\")[\"movieId\"].apply(create_pairs).reset_index(drop=True)\n",
    "\n",
    "# # Saving the results\n",
    "# pair_counts.to_parquet(\"../data/pair_counts.parquet\")"
   ]
  },
  {
   "cell_type": "code",
   "execution_count": 28,
   "id": "85c54b98",
   "metadata": {
    "ExecuteTime": {
     "end_time": "2023-09-10T15:56:31.415977Z",
     "start_time": "2023-09-10T15:56:27.514494Z"
    }
   },
   "outputs": [],
   "source": [
    "# Importing the permutations previously generated\n",
    "\n",
    "pair_counts = pd.read_parquet(\"../data/pair_counts.parquet\")\n",
    "pair_counts = pair_counts.groupby([\"movie_a\", \"movie_b\"]).size().to_frame(name='size').reset_index()\n",
    "\n",
    "# Getting movie_a titles\n",
    "\n",
    "pair_counts_a = pair_counts.merge(right=movies[[\"movieId\", \"title\"]], left_on=\"movie_a\", right_on=\"movieId\")[[\"title\", \"movie_b\", \"size\"]]\n",
    "pair_counts_a = pair_counts_a.rename(columns={\"title\":\"movie_a\"})\n",
    "\n",
    "# Getting movie_b titles\n",
    "pair_counts_b = pair_counts_a.merge(right=movies[[\"movieId\", \"title\"]], left_on=\"movie_b\", right_on=\"movieId\")[[\"movie_a\", \"title\", \"size\"]]\n",
    "pair_counts = pair_counts_b.rename(columns={\"title\":\"movie\"})"
   ]
  },
  {
   "cell_type": "code",
   "execution_count": 29,
   "id": "82d928c0",
   "metadata": {
    "ExecuteTime": {
     "end_time": "2023-09-10T15:56:31.425571Z",
     "start_time": "2023-09-10T15:56:31.418032Z"
    }
   },
   "outputs": [],
   "source": [
    "def seem_together_recommendation(movie):\n",
    "    pairs = pair_counts[pair_counts[\"movie_a\"] == movie]\n",
    "    pairs_sorted = pairs.sort_values(by=\"size\", ascending=False)[[\"movie\"]]\n",
    "    return pairs_sorted.head(10)"
   ]
  },
  {
   "cell_type": "code",
   "execution_count": 30,
   "id": "b1d129c4",
   "metadata": {
    "ExecuteTime": {
     "end_time": "2023-09-10T15:56:31.460108Z",
     "start_time": "2023-09-10T15:56:31.430043Z"
    },
    "scrolled": true
   },
   "outputs": [
    {
     "data": {
      "text/html": [
       "<div>\n",
       "<style scoped>\n",
       "    .dataframe tbody tr th:only-of-type {\n",
       "        vertical-align: middle;\n",
       "    }\n",
       "\n",
       "    .dataframe tbody tr th {\n",
       "        vertical-align: top;\n",
       "    }\n",
       "\n",
       "    .dataframe thead th {\n",
       "        text-align: right;\n",
       "    }\n",
       "</style>\n",
       "<table border=\"1\" class=\"dataframe\">\n",
       "  <thead>\n",
       "    <tr style=\"text-align: right;\">\n",
       "      <th></th>\n",
       "      <th>movie</th>\n",
       "    </tr>\n",
       "  </thead>\n",
       "  <tbody>\n",
       "    <tr>\n",
       "      <th>10624</th>\n",
       "      <td>Forrest Gump (1994)</td>\n",
       "    </tr>\n",
       "    <tr>\n",
       "      <th>8632</th>\n",
       "      <td>Pulp Fiction (1994)</td>\n",
       "    </tr>\n",
       "    <tr>\n",
       "      <th>61420</th>\n",
       "      <td>Matrix, The (1999)</td>\n",
       "    </tr>\n",
       "    <tr>\n",
       "      <th>7304</th>\n",
       "      <td>Star Wars: Episode IV - A New Hope (1977)</td>\n",
       "    </tr>\n",
       "    <tr>\n",
       "      <th>13944</th>\n",
       "      <td>Jurassic Park (1993)</td>\n",
       "    </tr>\n",
       "    <tr>\n",
       "      <th>18260</th>\n",
       "      <td>Silence of the Lambs, The (1991)</td>\n",
       "    </tr>\n",
       "    <tr>\n",
       "      <th>9296</th>\n",
       "      <td>Shawshank Redemption, The (1994)</td>\n",
       "    </tr>\n",
       "    <tr>\n",
       "      <th>37848</th>\n",
       "      <td>Back to the Future (1985)</td>\n",
       "    </tr>\n",
       "    <tr>\n",
       "      <th>30212</th>\n",
       "      <td>Raiders of the Lost Ark (Indiana Jones and the...</td>\n",
       "    </tr>\n",
       "    <tr>\n",
       "      <th>32536</th>\n",
       "      <td>Star Wars: Episode VI - Return of the Jedi (1983)</td>\n",
       "    </tr>\n",
       "  </tbody>\n",
       "</table>\n",
       "</div>"
      ],
      "text/plain": [
       "                                                   movie\n",
       "10624                                Forrest Gump (1994)\n",
       "8632                                 Pulp Fiction (1994)\n",
       "61420                                 Matrix, The (1999)\n",
       "7304           Star Wars: Episode IV - A New Hope (1977)\n",
       "13944                               Jurassic Park (1993)\n",
       "18260                   Silence of the Lambs, The (1991)\n",
       "9296                    Shawshank Redemption, The (1994)\n",
       "37848                          Back to the Future (1985)\n",
       "30212  Raiders of the Lost Ark (Indiana Jones and the...\n",
       "32536  Star Wars: Episode VI - Return of the Jedi (1983)"
      ]
     },
     "execution_count": 30,
     "metadata": {},
     "output_type": "execute_result"
    }
   ],
   "source": [
    "seem_together_recommendation(\"Toy Story (1995)\")"
   ]
  },
  {
   "cell_type": "markdown",
   "id": "c74afdff",
   "metadata": {},
   "source": [
    "Now we are going somewhere. Our recomendations to Toy Story are very non-trivial."
   ]
  },
  {
   "cell_type": "markdown",
   "id": "5edc3fc9",
   "metadata": {},
   "source": [
    "#### 5.1.3 Content-based recommendation"
   ]
  },
  {
   "cell_type": "markdown",
   "id": "addea9be",
   "metadata": {},
   "source": [
    "Since we have some information on our product, we can use our descriptors (in this case, the genres) to recommend similar products."
   ]
  },
  {
   "cell_type": "code",
   "execution_count": 31,
   "id": "fe897555",
   "metadata": {
    "ExecuteTime": {
     "end_time": "2023-09-10T15:56:31.469328Z",
     "start_time": "2023-09-10T15:56:31.462870Z"
    }
   },
   "outputs": [],
   "source": [
    "from sklearn.metrics import jaccard_score\n",
    "\n",
    "def jaccard_similarities_recomendation(movieId):\n",
    "    \"\"\"\n",
    "    Get the jaccard similarities between a movie and all others and sort them.\n",
    "    Then, get the top 10 recommendations.\n",
    "    \"\"\"\n",
    "    pop_movies_1000 = review_count_percentage.iloc[:1000].index\n",
    "    pop_movies = movies[movies['movieId'].isin(pop_movies_1000)]\n",
    "    movies_and_genres = pop_movies[['movieId']].join(genres).set_index('movieId')\n",
    "    movie_row = movies_and_genres.loc[movieId]\n",
    "    movies_and_genres['similarities'] = movies_and_genres.apply(lambda x: jaccard_score(movie_row, x), axis=1)\n",
    "    movies_and_genres = movies_and_genres.sort_values(by='similarities', ascending=False)\n",
    "    \n",
    "    return movies_and_genres.head(10).join(movies.set_index('movieId'))[['title', 'genres']]"
   ]
  },
  {
   "cell_type": "code",
   "execution_count": 32,
   "id": "4ccb8e1d",
   "metadata": {
    "ExecuteTime": {
     "end_time": "2023-09-10T15:56:33.246819Z",
     "start_time": "2023-09-10T15:56:31.472677Z"
    },
    "scrolled": false
   },
   "outputs": [
    {
     "data": {
      "text/html": [
       "<div>\n",
       "<style scoped>\n",
       "    .dataframe tbody tr th:only-of-type {\n",
       "        vertical-align: middle;\n",
       "    }\n",
       "\n",
       "    .dataframe tbody tr th {\n",
       "        vertical-align: top;\n",
       "    }\n",
       "\n",
       "    .dataframe thead th {\n",
       "        text-align: right;\n",
       "    }\n",
       "</style>\n",
       "<table border=\"1\" class=\"dataframe\">\n",
       "  <thead>\n",
       "    <tr style=\"text-align: right;\">\n",
       "      <th></th>\n",
       "      <th>title</th>\n",
       "      <th>genres</th>\n",
       "    </tr>\n",
       "    <tr>\n",
       "      <th>movieId</th>\n",
       "      <th></th>\n",
       "      <th></th>\n",
       "    </tr>\n",
       "  </thead>\n",
       "  <tbody>\n",
       "    <tr>\n",
       "      <th>1</th>\n",
       "      <td>Toy Story (1995)</td>\n",
       "      <td>Adventure|Animation|Children|Comedy|Fantasy</td>\n",
       "    </tr>\n",
       "    <tr>\n",
       "      <th>4016</th>\n",
       "      <td>Emperor's New Groove, The (2000)</td>\n",
       "      <td>Adventure|Animation|Children|Comedy|Fantasy</td>\n",
       "    </tr>\n",
       "    <tr>\n",
       "      <th>2294</th>\n",
       "      <td>Antz (1998)</td>\n",
       "      <td>Adventure|Animation|Children|Comedy|Fantasy</td>\n",
       "    </tr>\n",
       "    <tr>\n",
       "      <th>3114</th>\n",
       "      <td>Toy Story 2 (1999)</td>\n",
       "      <td>Adventure|Animation|Children|Comedy|Fantasy</td>\n",
       "    </tr>\n",
       "    <tr>\n",
       "      <th>4886</th>\n",
       "      <td>Monsters, Inc. (2001)</td>\n",
       "      <td>Adventure|Animation|Children|Comedy|Fantasy</td>\n",
       "    </tr>\n",
       "    <tr>\n",
       "      <th>673</th>\n",
       "      <td>Space Jam (1996)</td>\n",
       "      <td>Adventure|Animation|Children|Comedy|Fantasy|Sc...</td>\n",
       "    </tr>\n",
       "    <tr>\n",
       "      <th>4306</th>\n",
       "      <td>Shrek (2001)</td>\n",
       "      <td>Adventure|Animation|Children|Comedy|Fantasy|Ro...</td>\n",
       "    </tr>\n",
       "    <tr>\n",
       "      <th>108932</th>\n",
       "      <td>The Lego Movie (2014)</td>\n",
       "      <td>Action|Adventure|Animation|Children|Comedy|Fan...</td>\n",
       "    </tr>\n",
       "    <tr>\n",
       "      <th>78499</th>\n",
       "      <td>Toy Story 3 (2010)</td>\n",
       "      <td>Adventure|Animation|Children|Comedy|Fantasy|IMAX</td>\n",
       "    </tr>\n",
       "    <tr>\n",
       "      <th>134853</th>\n",
       "      <td>Inside Out (2015)</td>\n",
       "      <td>Adventure|Animation|Children|Comedy|Drama|Fantasy</td>\n",
       "    </tr>\n",
       "  </tbody>\n",
       "</table>\n",
       "</div>"
      ],
      "text/plain": [
       "                                    title  \\\n",
       "movieId                                     \n",
       "1                        Toy Story (1995)   \n",
       "4016     Emperor's New Groove, The (2000)   \n",
       "2294                          Antz (1998)   \n",
       "3114                   Toy Story 2 (1999)   \n",
       "4886                Monsters, Inc. (2001)   \n",
       "673                      Space Jam (1996)   \n",
       "4306                         Shrek (2001)   \n",
       "108932              The Lego Movie (2014)   \n",
       "78499                  Toy Story 3 (2010)   \n",
       "134853                  Inside Out (2015)   \n",
       "\n",
       "                                                    genres  \n",
       "movieId                                                     \n",
       "1              Adventure|Animation|Children|Comedy|Fantasy  \n",
       "4016           Adventure|Animation|Children|Comedy|Fantasy  \n",
       "2294           Adventure|Animation|Children|Comedy|Fantasy  \n",
       "3114           Adventure|Animation|Children|Comedy|Fantasy  \n",
       "4886           Adventure|Animation|Children|Comedy|Fantasy  \n",
       "673      Adventure|Animation|Children|Comedy|Fantasy|Sc...  \n",
       "4306     Adventure|Animation|Children|Comedy|Fantasy|Ro...  \n",
       "108932   Action|Adventure|Animation|Children|Comedy|Fan...  \n",
       "78499     Adventure|Animation|Children|Comedy|Fantasy|IMAX  \n",
       "134853   Adventure|Animation|Children|Comedy|Drama|Fantasy  "
      ]
     },
     "execution_count": 32,
     "metadata": {},
     "output_type": "execute_result"
    }
   ],
   "source": [
    "# Testing for the movieId = 1 (Toy Story 1995)\n",
    "jaccard_similarities_recomendation(1)"
   ]
  },
  {
   "cell_type": "markdown",
   "id": "bd528527",
   "metadata": {},
   "source": [
    "It works well when the user is searching for something similar to the watched movie."
   ]
  },
  {
   "cell_type": "markdown",
   "id": "88a4fb94",
   "metadata": {},
   "source": [
    "### 5.2 Colaborative filtering"
   ]
  },
  {
   "cell_type": "markdown",
   "id": "e9fff927",
   "metadata": {},
   "source": [
    "Now we are going to use user ratings to create recommendations. Our strategy is to find similar users that liked the movie we just watch. Next we find the movies they liked. With this, we can create a score that takes into account the popularity of the movie - we don't want movies to be recommended just because they are popular.\n",
    "\n",
    "First we begin by making a prototype and then pack it all in a function and interface."
   ]
  },
  {
   "cell_type": "code",
   "execution_count": 33,
   "id": "b6a007c9",
   "metadata": {
    "ExecuteTime": {
     "end_time": "2023-09-10T15:56:33.636166Z",
     "start_time": "2023-09-10T15:56:33.249102Z"
    }
   },
   "outputs": [
    {
     "data": {
      "text/plain": [
       "1      1.000000\n",
       "318    0.445607\n",
       "260    0.403770\n",
       "356    0.370215\n",
       "296    0.367295\n",
       "Name: movieId, dtype: float64"
      ]
     },
     "execution_count": 33,
     "metadata": {},
     "output_type": "execute_result"
    }
   ],
   "source": [
    "# Suppose we our user liked the movie with Id 1 (Toy Story)\n",
    "movie_id = 1\n",
    "\n",
    "# Users that watched our movie and rated > 4\n",
    "similar_users = ratings.loc[(ratings[\"movieId\"] == movie_id) & (ratings[\"rating\"] > 4.0), \"userId\"].unique()\n",
    "\n",
    "# High rated movies (>4) that our similiar users watched\n",
    "similar_users_rec = ratings.loc[(ratings[\"userId\"].isin(similar_users)) & (ratings[\"rating\"] > 4.0), \"movieId\"]\n",
    "\n",
    "# Counting how many users watched our recomendation. Getting the percentage from similar users\n",
    "similar_rec_movies_percentage = (similar_users_rec.value_counts() / len(similar_users))\n",
    "\n",
    "# Restricting ourselves to 10%\n",
    "similar_rec_movies_percentage = similar_rec_movies_percentage[similar_rec_movies_percentage > 0.1]\n",
    "\n",
    "similar_rec_movies_percentage.head(5)"
   ]
  },
  {
   "cell_type": "markdown",
   "id": "5b460738",
   "metadata": {},
   "source": [
    "44.56% of the similar users watched movie with ID 318."
   ]
  },
  {
   "cell_type": "code",
   "execution_count": 34,
   "id": "f7fad8b8",
   "metadata": {
    "ExecuteTime": {
     "end_time": "2023-09-10T15:56:34.238915Z",
     "start_time": "2023-09-10T15:56:33.639196Z"
    }
   },
   "outputs": [
    {
     "data": {
      "text/plain": [
       "318     0.342220\n",
       "296     0.284674\n",
       "2571    0.244033\n",
       "356     0.235266\n",
       "593     0.225909\n",
       "Name: movieId, dtype: float64"
      ]
     },
     "execution_count": 34,
     "metadata": {},
     "output_type": "execute_result"
    }
   ],
   "source": [
    "# We don't want movies that are there just because they are already popular\n",
    "\n",
    "all_users = ratings.loc[(ratings[\"movieId\"].isin(similar_rec_movies_percentage.index)&(ratings[\"rating\"]>4.0))]\n",
    "all_users_recs_percentage = all_users[\"movieId\"].value_counts() / len(all_users[\"userId\"].unique())\n",
    "all_users_recs_percentage.head(5)"
   ]
  },
  {
   "cell_type": "markdown",
   "id": "729e624d",
   "metadata": {
    "ExecuteTime": {
     "end_time": "2023-09-04T23:44:35.384663Z",
     "start_time": "2023-09-04T23:44:35.380242Z"
    }
   },
   "source": [
    "But from *all users*, movie 318 is already liked by 34.22%. Thats probably generic. We should create a score:"
   ]
  },
  {
   "cell_type": "markdown",
   "id": "351ae910",
   "metadata": {},
   "source": [
    "$$score = \\frac{\\text{percentage from similar users}}{\\text{percentage from all users}} $$"
   ]
  },
  {
   "cell_type": "code",
   "execution_count": 35,
   "id": "68c5e0d2",
   "metadata": {
    "ExecuteTime": {
     "end_time": "2023-09-10T15:56:34.276933Z",
     "start_time": "2023-09-10T15:56:34.242154Z"
    }
   },
   "outputs": [
    {
     "data": {
      "text/html": [
       "<div>\n",
       "<style scoped>\n",
       "    .dataframe tbody tr th:only-of-type {\n",
       "        vertical-align: middle;\n",
       "    }\n",
       "\n",
       "    .dataframe tbody tr th {\n",
       "        vertical-align: top;\n",
       "    }\n",
       "\n",
       "    .dataframe thead th {\n",
       "        text-align: right;\n",
       "    }\n",
       "</style>\n",
       "<table border=\"1\" class=\"dataframe\">\n",
       "  <thead>\n",
       "    <tr style=\"text-align: right;\">\n",
       "      <th></th>\n",
       "      <th>title</th>\n",
       "    </tr>\n",
       "  </thead>\n",
       "  <tbody>\n",
       "    <tr>\n",
       "      <th>0</th>\n",
       "      <td>Toy Story (1995)</td>\n",
       "    </tr>\n",
       "    <tr>\n",
       "      <th>3021</th>\n",
       "      <td>Toy Story 2 (1999)</td>\n",
       "    </tr>\n",
       "    <tr>\n",
       "      <th>2264</th>\n",
       "      <td>Bug's Life, A (1998)</td>\n",
       "    </tr>\n",
       "    <tr>\n",
       "      <th>14813</th>\n",
       "      <td>Toy Story 3 (2010)</td>\n",
       "    </tr>\n",
       "    <tr>\n",
       "      <th>4780</th>\n",
       "      <td>Monsters, Inc. (2001)</td>\n",
       "    </tr>\n",
       "    <tr>\n",
       "      <th>580</th>\n",
       "      <td>Aladdin (1992)</td>\n",
       "    </tr>\n",
       "    <tr>\n",
       "      <th>6258</th>\n",
       "      <td>Finding Nemo (2003)</td>\n",
       "    </tr>\n",
       "    <tr>\n",
       "      <th>587</th>\n",
       "      <td>Beauty and the Beast (1991)</td>\n",
       "    </tr>\n",
       "    <tr>\n",
       "      <th>8246</th>\n",
       "      <td>Incredibles, The (2004)</td>\n",
       "    </tr>\n",
       "  </tbody>\n",
       "</table>\n",
       "</div>"
      ],
      "text/plain": [
       "                             title\n",
       "0                 Toy Story (1995)\n",
       "3021            Toy Story 2 (1999)\n",
       "2264          Bug's Life, A (1998)\n",
       "14813           Toy Story 3 (2010)\n",
       "4780         Monsters, Inc. (2001)\n",
       "580                 Aladdin (1992)\n",
       "6258           Finding Nemo (2003)\n",
       "587    Beauty and the Beast (1991)\n",
       "8246       Incredibles, The (2004)"
      ]
     },
     "execution_count": 35,
     "metadata": {},
     "output_type": "execute_result"
    }
   ],
   "source": [
    "# Creating a score, sorting by it, and showing the top 10 recs\n",
    "\n",
    "rec_percentages = pd.concat([similar_rec_movies_percentage, all_users_recs_percentage], axis=1)\n",
    "rec_percentages.columns = [\"similar\", \"all\"]\n",
    "rec_percentages[\"score\"] = rec_percentages[\"similar\"] / rec_percentages[\"all\"]\n",
    "rec_percentages = rec_percentages.sort_values(\"score\", ascending=False).iloc[:9].merge(movies, left_index=True, right_on=\"movieId\")\n",
    "\n",
    "rec_percentages[['title']].head(10)"
   ]
  },
  {
   "cell_type": "code",
   "execution_count": 36,
   "id": "9d2a87ba",
   "metadata": {
    "ExecuteTime": {
     "end_time": "2023-09-10T15:56:34.297640Z",
     "start_time": "2023-09-10T15:56:34.280907Z"
    }
   },
   "outputs": [],
   "source": [
    "# Wrapping in a function\n",
    "\n",
    "def colab_recommendations(movieId):\n",
    "    similar_users = ratings.loc[(ratings[\"movieId\"] == movieId) & (ratings[\"rating\"] > 4.0), \"userId\"].unique()\n",
    "    similar_users_rec = ratings.loc[(ratings[\"userId\"].isin(similar_users)) & (ratings[\"rating\"] > 4.0), \"movieId\"]\n",
    "    similar_rec_movies_percentage = (similar_users_rec.value_counts() / len(similar_users))\n",
    "    similar_rec_movies_percentage = similar_rec_movies_percentage[similar_rec_movies_percentage > 0.1]\n",
    "    \n",
    "    all_users = ratings.loc[(ratings[\"movieId\"].isin(similar_rec_movies_percentage.index)&(ratings[\"rating\"]>4.0))]\n",
    "    all_users_recs_percentage = all_users[\"movieId\"].value_counts() / len(all_users[\"userId\"].unique())\n",
    "    rec_percentages = pd.concat([similar_rec_movies_percentage, all_users_recs_percentage], axis=1)\n",
    "    rec_percentages.columns = [\"similar\", \"all\"]\n",
    "    rec_percentages[\"score\"] = rec_percentages[\"similar\"] / rec_percentages[\"all\"]\n",
    "    rec_percentages = rec_percentages.sort_values(\"score\", ascending=False).iloc[:9].merge(movies, left_index=True, right_on=\"movieId\")\n",
    "    \n",
    "    return rec_percentages[['title']].head(10)"
   ]
  },
  {
   "cell_type": "code",
   "execution_count": 37,
   "id": "aadc6783",
   "metadata": {
    "ExecuteTime": {
     "end_time": "2023-09-10T15:56:34.336549Z",
     "start_time": "2023-09-10T15:56:34.300799Z"
    }
   },
   "outputs": [],
   "source": [
    "movie_input = widgets.Text(description=\"Movie title\", value=\"The Godfather\", disabled=False)\n",
    "movie_recommendation = widgets.Output()\n",
    "\n",
    "def when_type(data):\n",
    "    with movie_recommendation:\n",
    "        movie_recommendation.clear_output()\n",
    "        title = data[\"new\"]\n",
    "        if len(title) > 5:\n",
    "            results = search(title)\n",
    "            movie_id = results.iloc[0][\"movieId\"]\n",
    "            display(colab_recommendations(movie_id))\n",
    "\n",
    "movie_input.observe(when_type, names='value')"
   ]
  },
  {
   "cell_type": "code",
   "execution_count": 38,
   "id": "48fcb2ee",
   "metadata": {
    "ExecuteTime": {
     "end_time": "2023-09-10T15:56:34.350750Z",
     "start_time": "2023-09-10T15:56:34.341492Z"
    }
   },
   "outputs": [
    {
     "data": {
      "application/vnd.jupyter.widget-view+json": {
       "model_id": "d89a0a1e096049ec807c5c335efdceab",
       "version_major": 2,
       "version_minor": 0
      },
      "text/plain": [
       "Text(value='The Godfather', description='Movie title')"
      ]
     },
     "metadata": {},
     "output_type": "display_data"
    },
    {
     "data": {
      "application/vnd.jupyter.widget-view+json": {
       "model_id": "c12b73292ba54517ad92646c8709c9b4",
       "version_major": 2,
       "version_minor": 0
      },
      "text/plain": [
       "Output()"
      ]
     },
     "metadata": {},
     "output_type": "display_data"
    }
   ],
   "source": [
    "display(movie_input, movie_recommendation)"
   ]
  },
  {
   "cell_type": "markdown",
   "id": "4ca71689",
   "metadata": {},
   "source": [
    "## KNN"
   ]
  },
  {
   "cell_type": "markdown",
   "id": "0b4b737d",
   "metadata": {},
   "source": [
    "Suppose we want to suggest a new movie for `user 1` and predict its rating."
   ]
  },
  {
   "cell_type": "code",
   "execution_count": 60,
   "id": "bf0aedd8",
   "metadata": {
    "ExecuteTime": {
     "end_time": "2023-09-10T16:00:29.216227Z",
     "start_time": "2023-09-10T16:00:29.207729Z"
    }
   },
   "outputs": [],
   "source": [
    "def get_pop_movies(n):\n",
    "    \"\"\"Get the n-first top movies in terms of review counting.\"\"\"\n",
    "    return review_count_percentage.iloc[:n].index"
   ]
  },
  {
   "cell_type": "code",
   "execution_count": 70,
   "id": "9d534b31",
   "metadata": {
    "ExecuteTime": {
     "end_time": "2023-09-10T16:09:07.129122Z",
     "start_time": "2023-09-10T16:09:07.108793Z"
    }
   },
   "outputs": [
    {
     "data": {
      "text/html": [
       "<div>\n",
       "<style scoped>\n",
       "    .dataframe tbody tr th:only-of-type {\n",
       "        vertical-align: middle;\n",
       "    }\n",
       "\n",
       "    .dataframe tbody tr th {\n",
       "        vertical-align: top;\n",
       "    }\n",
       "\n",
       "    .dataframe thead th {\n",
       "        text-align: right;\n",
       "    }\n",
       "</style>\n",
       "<table border=\"1\" class=\"dataframe\">\n",
       "  <thead>\n",
       "    <tr style=\"text-align: right;\">\n",
       "      <th></th>\n",
       "      <th>movieId</th>\n",
       "      <th>title</th>\n",
       "      <th>genres</th>\n",
       "      <th>year</th>\n",
       "      <th>clean_titles</th>\n",
       "    </tr>\n",
       "  </thead>\n",
       "  <tbody>\n",
       "    <tr>\n",
       "      <th>0</th>\n",
       "      <td>1</td>\n",
       "      <td>Toy Story (1995)</td>\n",
       "      <td>Adventure|Animation|Children|Comedy|Fantasy</td>\n",
       "      <td>1995</td>\n",
       "      <td>Toy Story 1995</td>\n",
       "    </tr>\n",
       "    <tr>\n",
       "      <th>1</th>\n",
       "      <td>2</td>\n",
       "      <td>Jumanji (1995)</td>\n",
       "      <td>Adventure|Children|Fantasy</td>\n",
       "      <td>1995</td>\n",
       "      <td>Jumanji 1995</td>\n",
       "    </tr>\n",
       "    <tr>\n",
       "      <th>2</th>\n",
       "      <td>3</td>\n",
       "      <td>Grumpier Old Men (1995)</td>\n",
       "      <td>Comedy|Romance</td>\n",
       "      <td>1995</td>\n",
       "      <td>Grumpier Old Men 1995</td>\n",
       "    </tr>\n",
       "    <tr>\n",
       "      <th>3</th>\n",
       "      <td>4</td>\n",
       "      <td>Waiting to Exhale (1995)</td>\n",
       "      <td>Comedy|Drama|Romance</td>\n",
       "      <td>1995</td>\n",
       "      <td>Waiting to Exhale 1995</td>\n",
       "    </tr>\n",
       "    <tr>\n",
       "      <th>4</th>\n",
       "      <td>5</td>\n",
       "      <td>Father of the Bride Part II (1995)</td>\n",
       "      <td>Comedy</td>\n",
       "      <td>1995</td>\n",
       "      <td>Father of the Bride Part II 1995</td>\n",
       "    </tr>\n",
       "    <tr>\n",
       "      <th>...</th>\n",
       "      <td>...</td>\n",
       "      <td>...</td>\n",
       "      <td>...</td>\n",
       "      <td>...</td>\n",
       "      <td>...</td>\n",
       "    </tr>\n",
       "    <tr>\n",
       "      <th>62418</th>\n",
       "      <td>209157</td>\n",
       "      <td>We (2018)</td>\n",
       "      <td>Drama</td>\n",
       "      <td>2018</td>\n",
       "      <td>We 2018</td>\n",
       "    </tr>\n",
       "    <tr>\n",
       "      <th>62419</th>\n",
       "      <td>209159</td>\n",
       "      <td>Window of the Soul (2001)</td>\n",
       "      <td>Documentary</td>\n",
       "      <td>2001</td>\n",
       "      <td>Window of the Soul 2001</td>\n",
       "    </tr>\n",
       "    <tr>\n",
       "      <th>62420</th>\n",
       "      <td>209163</td>\n",
       "      <td>Bad Poems (2018)</td>\n",
       "      <td>Comedy|Drama</td>\n",
       "      <td>2018</td>\n",
       "      <td>Bad Poems 2018</td>\n",
       "    </tr>\n",
       "    <tr>\n",
       "      <th>62421</th>\n",
       "      <td>209169</td>\n",
       "      <td>A Girl Thing (2001)</td>\n",
       "      <td>(no genres listed)</td>\n",
       "      <td>2001</td>\n",
       "      <td>A Girl Thing 2001</td>\n",
       "    </tr>\n",
       "    <tr>\n",
       "      <th>62422</th>\n",
       "      <td>209171</td>\n",
       "      <td>Women of Devil's Island (1962)</td>\n",
       "      <td>Action|Adventure|Drama</td>\n",
       "      <td>1962</td>\n",
       "      <td>Women of Devils Island 1962</td>\n",
       "    </tr>\n",
       "  </tbody>\n",
       "</table>\n",
       "<p>62423 rows × 5 columns</p>\n",
       "</div>"
      ],
      "text/plain": [
       "       movieId                               title  \\\n",
       "0            1                    Toy Story (1995)   \n",
       "1            2                      Jumanji (1995)   \n",
       "2            3             Grumpier Old Men (1995)   \n",
       "3            4            Waiting to Exhale (1995)   \n",
       "4            5  Father of the Bride Part II (1995)   \n",
       "...        ...                                 ...   \n",
       "62418   209157                           We (2018)   \n",
       "62419   209159           Window of the Soul (2001)   \n",
       "62420   209163                    Bad Poems (2018)   \n",
       "62421   209169                 A Girl Thing (2001)   \n",
       "62422   209171      Women of Devil's Island (1962)   \n",
       "\n",
       "                                            genres  year  \\\n",
       "0      Adventure|Animation|Children|Comedy|Fantasy  1995   \n",
       "1                       Adventure|Children|Fantasy  1995   \n",
       "2                                   Comedy|Romance  1995   \n",
       "3                             Comedy|Drama|Romance  1995   \n",
       "4                                           Comedy  1995   \n",
       "...                                            ...   ...   \n",
       "62418                                        Drama  2018   \n",
       "62419                                  Documentary  2001   \n",
       "62420                                 Comedy|Drama  2018   \n",
       "62421                           (no genres listed)  2001   \n",
       "62422                       Action|Adventure|Drama  1962   \n",
       "\n",
       "                           clean_titles  \n",
       "0                        Toy Story 1995  \n",
       "1                          Jumanji 1995  \n",
       "2                 Grumpier Old Men 1995  \n",
       "3                Waiting to Exhale 1995  \n",
       "4      Father of the Bride Part II 1995  \n",
       "...                                 ...  \n",
       "62418                           We 2018  \n",
       "62419           Window of the Soul 2001  \n",
       "62420                    Bad Poems 2018  \n",
       "62421                 A Girl Thing 2001  \n",
       "62422       Women of Devils Island 1962  \n",
       "\n",
       "[62423 rows x 5 columns]"
      ]
     },
     "execution_count": 70,
     "metadata": {},
     "output_type": "execute_result"
    }
   ],
   "source": [
    "movies"
   ]
  },
  {
   "cell_type": "code",
   "execution_count": 61,
   "id": "87570844",
   "metadata": {
    "ExecuteTime": {
     "end_time": "2023-09-10T16:00:35.674442Z",
     "start_time": "2023-09-10T16:00:34.305919Z"
    }
   },
   "outputs": [],
   "source": [
    "# Restricting to movies that user 1 watched and pop movies 100\n",
    "user_movies = ratings.loc[ratings['userId'] == 1, 'movieId'].unique()\n",
    "pop_movies_200 = get_pop_movies(n=200)\n",
    "\n",
    "ratings_pop = ratings.loc[(ratings['movieId'].isin(pop_movies_200)) | (ratings['movieId'].isin(user_movies))]"
   ]
  },
  {
   "cell_type": "code",
   "execution_count": 64,
   "id": "b37dde70",
   "metadata": {
    "ExecuteTime": {
     "end_time": "2023-09-10T16:06:52.968749Z",
     "start_time": "2023-09-10T16:06:48.544015Z"
    }
   },
   "outputs": [],
   "source": [
    "# User based recommendations\n",
    "\n",
    "ratings_pivot_user = ratings_pop.pivot(index='userId',columns='movieId',values='rating')"
   ]
  },
  {
   "cell_type": "code",
   "execution_count": 66,
   "id": "6d88fabb",
   "metadata": {
    "ExecuteTime": {
     "end_time": "2023-09-10T16:07:31.697504Z",
     "start_time": "2023-09-10T16:07:31.694516Z"
    }
   },
   "outputs": [],
   "source": [
    "# Item based recommendations\n",
    "\n",
    "ratings_pivot_item = ratings_pivot_user.T"
   ]
  },
  {
   "cell_type": "code",
   "execution_count": 41,
   "id": "a6bb8514",
   "metadata": {
    "ExecuteTime": {
     "end_time": "2023-09-10T15:56:39.641323Z",
     "start_time": "2023-09-10T15:56:38.991791Z"
    }
   },
   "outputs": [],
   "source": [
    "ratings_user_mean = ratings_pivot.mean(axis=1)"
   ]
  },
  {
   "cell_type": "code",
   "execution_count": 42,
   "id": "84224d85",
   "metadata": {
    "ExecuteTime": {
     "end_time": "2023-09-10T15:56:40.904660Z",
     "start_time": "2023-09-10T15:56:39.643956Z"
    }
   },
   "outputs": [],
   "source": [
    "ratings_pivot_sub = ratings_pivot.sub(ratings_user_mean, axis=0).fillna(0)"
   ]
  },
  {
   "cell_type": "code",
   "execution_count": 43,
   "id": "27476877",
   "metadata": {
    "ExecuteTime": {
     "end_time": "2023-09-10T15:56:41.634689Z",
     "start_time": "2023-09-10T15:56:40.907286Z"
    }
   },
   "outputs": [],
   "source": [
    "ratings_pivot_sub['user_similarity'] = cosine_similarity(ratings_pivot_sub.iloc[0].values.reshape(1,-1), ratings_pivot_sub)[0]"
   ]
  },
  {
   "cell_type": "code",
   "execution_count": 44,
   "id": "53f6ecc0",
   "metadata": {
    "ExecuteTime": {
     "end_time": "2023-09-10T15:56:42.046262Z",
     "start_time": "2023-09-10T15:56:41.638426Z"
    }
   },
   "outputs": [],
   "source": [
    "ratings_small = ratings_pivot_sub.sort_values(by='user_similarity', ascending=False).head(5000)"
   ]
  },
  {
   "cell_type": "code",
   "execution_count": 45,
   "id": "4ffb4769",
   "metadata": {
    "ExecuteTime": {
     "end_time": "2023-09-10T15:56:42.080284Z",
     "start_time": "2023-09-10T15:56:42.049419Z"
    },
    "scrolled": false
   },
   "outputs": [
    {
     "data": {
      "text/html": [
       "<div>\n",
       "<style scoped>\n",
       "    .dataframe tbody tr th:only-of-type {\n",
       "        vertical-align: middle;\n",
       "    }\n",
       "\n",
       "    .dataframe tbody tr th {\n",
       "        vertical-align: top;\n",
       "    }\n",
       "\n",
       "    .dataframe thead th {\n",
       "        text-align: right;\n",
       "    }\n",
       "</style>\n",
       "<table border=\"1\" class=\"dataframe\">\n",
       "  <thead>\n",
       "    <tr style=\"text-align: right;\">\n",
       "      <th>movieId</th>\n",
       "      <th>1</th>\n",
       "      <th>2</th>\n",
       "      <th>6</th>\n",
       "      <th>10</th>\n",
       "      <th>19</th>\n",
       "      <th>21</th>\n",
       "      <th>32</th>\n",
       "      <th>34</th>\n",
       "      <th>39</th>\n",
       "      <th>47</th>\n",
       "      <th>...</th>\n",
       "      <th>58559</th>\n",
       "      <th>59315</th>\n",
       "      <th>60069</th>\n",
       "      <th>68157</th>\n",
       "      <th>68954</th>\n",
       "      <th>72998</th>\n",
       "      <th>79132</th>\n",
       "      <th>99114</th>\n",
       "      <th>109487</th>\n",
       "      <th>user_similarity</th>\n",
       "    </tr>\n",
       "    <tr>\n",
       "      <th>userId</th>\n",
       "      <th></th>\n",
       "      <th></th>\n",
       "      <th></th>\n",
       "      <th></th>\n",
       "      <th></th>\n",
       "      <th></th>\n",
       "      <th></th>\n",
       "      <th></th>\n",
       "      <th></th>\n",
       "      <th></th>\n",
       "      <th></th>\n",
       "      <th></th>\n",
       "      <th></th>\n",
       "      <th></th>\n",
       "      <th></th>\n",
       "      <th></th>\n",
       "      <th></th>\n",
       "      <th></th>\n",
       "      <th></th>\n",
       "      <th></th>\n",
       "      <th></th>\n",
       "    </tr>\n",
       "  </thead>\n",
       "  <tbody>\n",
       "    <tr>\n",
       "      <th>1</th>\n",
       "      <td>0.000000</td>\n",
       "      <td>0.000000</td>\n",
       "      <td>0.000000</td>\n",
       "      <td>0.000000</td>\n",
       "      <td>0.000000</td>\n",
       "      <td>0.000000</td>\n",
       "      <td>0.000000</td>\n",
       "      <td>0.000000</td>\n",
       "      <td>0.000000</td>\n",
       "      <td>0.000000</td>\n",
       "      <td>...</td>\n",
       "      <td>0.000000</td>\n",
       "      <td>0.000000</td>\n",
       "      <td>0.000000</td>\n",
       "      <td>0.000000</td>\n",
       "      <td>0.0</td>\n",
       "      <td>0.000000</td>\n",
       "      <td>0.000000</td>\n",
       "      <td>0.000000</td>\n",
       "      <td>0.000000</td>\n",
       "      <td>1.000000</td>\n",
       "    </tr>\n",
       "    <tr>\n",
       "      <th>77336</th>\n",
       "      <td>0.000000</td>\n",
       "      <td>0.000000</td>\n",
       "      <td>0.000000</td>\n",
       "      <td>0.000000</td>\n",
       "      <td>0.000000</td>\n",
       "      <td>0.000000</td>\n",
       "      <td>0.000000</td>\n",
       "      <td>0.000000</td>\n",
       "      <td>0.000000</td>\n",
       "      <td>0.000000</td>\n",
       "      <td>...</td>\n",
       "      <td>0.000000</td>\n",
       "      <td>0.000000</td>\n",
       "      <td>0.000000</td>\n",
       "      <td>0.000000</td>\n",
       "      <td>0.0</td>\n",
       "      <td>0.000000</td>\n",
       "      <td>0.000000</td>\n",
       "      <td>0.000000</td>\n",
       "      <td>0.000000</td>\n",
       "      <td>0.359302</td>\n",
       "    </tr>\n",
       "    <tr>\n",
       "      <th>137069</th>\n",
       "      <td>0.000000</td>\n",
       "      <td>0.000000</td>\n",
       "      <td>0.000000</td>\n",
       "      <td>0.000000</td>\n",
       "      <td>0.000000</td>\n",
       "      <td>0.000000</td>\n",
       "      <td>0.000000</td>\n",
       "      <td>0.000000</td>\n",
       "      <td>0.000000</td>\n",
       "      <td>0.000000</td>\n",
       "      <td>...</td>\n",
       "      <td>0.000000</td>\n",
       "      <td>0.000000</td>\n",
       "      <td>0.000000</td>\n",
       "      <td>0.000000</td>\n",
       "      <td>0.0</td>\n",
       "      <td>0.000000</td>\n",
       "      <td>0.000000</td>\n",
       "      <td>0.000000</td>\n",
       "      <td>0.000000</td>\n",
       "      <td>0.347178</td>\n",
       "    </tr>\n",
       "    <tr>\n",
       "      <th>112033</th>\n",
       "      <td>0.000000</td>\n",
       "      <td>0.000000</td>\n",
       "      <td>0.000000</td>\n",
       "      <td>0.000000</td>\n",
       "      <td>0.000000</td>\n",
       "      <td>0.000000</td>\n",
       "      <td>0.000000</td>\n",
       "      <td>0.000000</td>\n",
       "      <td>0.000000</td>\n",
       "      <td>0.000000</td>\n",
       "      <td>...</td>\n",
       "      <td>0.277778</td>\n",
       "      <td>0.000000</td>\n",
       "      <td>0.000000</td>\n",
       "      <td>0.000000</td>\n",
       "      <td>0.0</td>\n",
       "      <td>0.000000</td>\n",
       "      <td>1.277778</td>\n",
       "      <td>0.000000</td>\n",
       "      <td>0.000000</td>\n",
       "      <td>0.289921</td>\n",
       "    </tr>\n",
       "    <tr>\n",
       "      <th>43475</th>\n",
       "      <td>0.000000</td>\n",
       "      <td>0.000000</td>\n",
       "      <td>0.000000</td>\n",
       "      <td>0.000000</td>\n",
       "      <td>0.000000</td>\n",
       "      <td>0.000000</td>\n",
       "      <td>0.000000</td>\n",
       "      <td>0.000000</td>\n",
       "      <td>0.000000</td>\n",
       "      <td>0.000000</td>\n",
       "      <td>...</td>\n",
       "      <td>0.000000</td>\n",
       "      <td>0.000000</td>\n",
       "      <td>0.000000</td>\n",
       "      <td>0.000000</td>\n",
       "      <td>0.0</td>\n",
       "      <td>0.000000</td>\n",
       "      <td>0.000000</td>\n",
       "      <td>0.000000</td>\n",
       "      <td>0.000000</td>\n",
       "      <td>0.280941</td>\n",
       "    </tr>\n",
       "    <tr>\n",
       "      <th>...</th>\n",
       "      <td>...</td>\n",
       "      <td>...</td>\n",
       "      <td>...</td>\n",
       "      <td>...</td>\n",
       "      <td>...</td>\n",
       "      <td>...</td>\n",
       "      <td>...</td>\n",
       "      <td>...</td>\n",
       "      <td>...</td>\n",
       "      <td>...</td>\n",
       "      <td>...</td>\n",
       "      <td>...</td>\n",
       "      <td>...</td>\n",
       "      <td>...</td>\n",
       "      <td>...</td>\n",
       "      <td>...</td>\n",
       "      <td>...</td>\n",
       "      <td>...</td>\n",
       "      <td>...</td>\n",
       "      <td>...</td>\n",
       "      <td>...</td>\n",
       "    </tr>\n",
       "    <tr>\n",
       "      <th>141792</th>\n",
       "      <td>0.130435</td>\n",
       "      <td>0.000000</td>\n",
       "      <td>0.000000</td>\n",
       "      <td>0.000000</td>\n",
       "      <td>0.000000</td>\n",
       "      <td>0.000000</td>\n",
       "      <td>0.000000</td>\n",
       "      <td>0.000000</td>\n",
       "      <td>0.000000</td>\n",
       "      <td>0.000000</td>\n",
       "      <td>...</td>\n",
       "      <td>0.000000</td>\n",
       "      <td>0.000000</td>\n",
       "      <td>0.000000</td>\n",
       "      <td>0.000000</td>\n",
       "      <td>0.0</td>\n",
       "      <td>0.000000</td>\n",
       "      <td>0.000000</td>\n",
       "      <td>0.000000</td>\n",
       "      <td>0.000000</td>\n",
       "      <td>0.084272</td>\n",
       "    </tr>\n",
       "    <tr>\n",
       "      <th>26549</th>\n",
       "      <td>0.000000</td>\n",
       "      <td>0.000000</td>\n",
       "      <td>-0.432584</td>\n",
       "      <td>0.000000</td>\n",
       "      <td>0.000000</td>\n",
       "      <td>0.000000</td>\n",
       "      <td>0.000000</td>\n",
       "      <td>0.000000</td>\n",
       "      <td>0.000000</td>\n",
       "      <td>0.567416</td>\n",
       "      <td>...</td>\n",
       "      <td>-0.432584</td>\n",
       "      <td>-0.932584</td>\n",
       "      <td>0.000000</td>\n",
       "      <td>0.567416</td>\n",
       "      <td>0.0</td>\n",
       "      <td>0.000000</td>\n",
       "      <td>-0.432584</td>\n",
       "      <td>-0.432584</td>\n",
       "      <td>-0.932584</td>\n",
       "      <td>0.084271</td>\n",
       "    </tr>\n",
       "    <tr>\n",
       "      <th>137320</th>\n",
       "      <td>0.000000</td>\n",
       "      <td>0.000000</td>\n",
       "      <td>0.000000</td>\n",
       "      <td>0.000000</td>\n",
       "      <td>0.000000</td>\n",
       "      <td>0.000000</td>\n",
       "      <td>0.000000</td>\n",
       "      <td>0.000000</td>\n",
       "      <td>0.303571</td>\n",
       "      <td>0.000000</td>\n",
       "      <td>...</td>\n",
       "      <td>0.000000</td>\n",
       "      <td>0.000000</td>\n",
       "      <td>0.000000</td>\n",
       "      <td>0.000000</td>\n",
       "      <td>0.0</td>\n",
       "      <td>0.000000</td>\n",
       "      <td>0.000000</td>\n",
       "      <td>0.000000</td>\n",
       "      <td>0.000000</td>\n",
       "      <td>0.084268</td>\n",
       "    </tr>\n",
       "    <tr>\n",
       "      <th>37124</th>\n",
       "      <td>-0.563492</td>\n",
       "      <td>0.000000</td>\n",
       "      <td>1.436508</td>\n",
       "      <td>0.000000</td>\n",
       "      <td>-2.563492</td>\n",
       "      <td>0.436508</td>\n",
       "      <td>0.436508</td>\n",
       "      <td>-2.563492</td>\n",
       "      <td>0.000000</td>\n",
       "      <td>1.436508</td>\n",
       "      <td>...</td>\n",
       "      <td>0.000000</td>\n",
       "      <td>0.000000</td>\n",
       "      <td>0.000000</td>\n",
       "      <td>0.000000</td>\n",
       "      <td>0.0</td>\n",
       "      <td>0.000000</td>\n",
       "      <td>0.000000</td>\n",
       "      <td>0.000000</td>\n",
       "      <td>0.000000</td>\n",
       "      <td>0.084262</td>\n",
       "    </tr>\n",
       "    <tr>\n",
       "      <th>155575</th>\n",
       "      <td>0.006897</td>\n",
       "      <td>-0.493103</td>\n",
       "      <td>0.506897</td>\n",
       "      <td>-0.493103</td>\n",
       "      <td>-1.993103</td>\n",
       "      <td>0.000000</td>\n",
       "      <td>0.506897</td>\n",
       "      <td>0.000000</td>\n",
       "      <td>-0.493103</td>\n",
       "      <td>0.506897</td>\n",
       "      <td>...</td>\n",
       "      <td>1.506897</td>\n",
       "      <td>1.006897</td>\n",
       "      <td>0.506897</td>\n",
       "      <td>0.506897</td>\n",
       "      <td>0.0</td>\n",
       "      <td>-1.993103</td>\n",
       "      <td>-0.493103</td>\n",
       "      <td>0.000000</td>\n",
       "      <td>0.000000</td>\n",
       "      <td>0.084259</td>\n",
       "    </tr>\n",
       "  </tbody>\n",
       "</table>\n",
       "<p>5000 rows × 259 columns</p>\n",
       "</div>"
      ],
      "text/plain": [
       "movieId         1         2         6        10        19        21        32  \\\n",
       "userId                                                                          \n",
       "1        0.000000  0.000000  0.000000  0.000000  0.000000  0.000000  0.000000   \n",
       "77336    0.000000  0.000000  0.000000  0.000000  0.000000  0.000000  0.000000   \n",
       "137069   0.000000  0.000000  0.000000  0.000000  0.000000  0.000000  0.000000   \n",
       "112033   0.000000  0.000000  0.000000  0.000000  0.000000  0.000000  0.000000   \n",
       "43475    0.000000  0.000000  0.000000  0.000000  0.000000  0.000000  0.000000   \n",
       "...           ...       ...       ...       ...       ...       ...       ...   \n",
       "141792   0.130435  0.000000  0.000000  0.000000  0.000000  0.000000  0.000000   \n",
       "26549    0.000000  0.000000 -0.432584  0.000000  0.000000  0.000000  0.000000   \n",
       "137320   0.000000  0.000000  0.000000  0.000000  0.000000  0.000000  0.000000   \n",
       "37124   -0.563492  0.000000  1.436508  0.000000 -2.563492  0.436508  0.436508   \n",
       "155575   0.006897 -0.493103  0.506897 -0.493103 -1.993103  0.000000  0.506897   \n",
       "\n",
       "movieId        34        39        47  ...     58559     59315     60069  \\\n",
       "userId                                 ...                                 \n",
       "1        0.000000  0.000000  0.000000  ...  0.000000  0.000000  0.000000   \n",
       "77336    0.000000  0.000000  0.000000  ...  0.000000  0.000000  0.000000   \n",
       "137069   0.000000  0.000000  0.000000  ...  0.000000  0.000000  0.000000   \n",
       "112033   0.000000  0.000000  0.000000  ...  0.277778  0.000000  0.000000   \n",
       "43475    0.000000  0.000000  0.000000  ...  0.000000  0.000000  0.000000   \n",
       "...           ...       ...       ...  ...       ...       ...       ...   \n",
       "141792   0.000000  0.000000  0.000000  ...  0.000000  0.000000  0.000000   \n",
       "26549    0.000000  0.000000  0.567416  ... -0.432584 -0.932584  0.000000   \n",
       "137320   0.000000  0.303571  0.000000  ...  0.000000  0.000000  0.000000   \n",
       "37124   -2.563492  0.000000  1.436508  ...  0.000000  0.000000  0.000000   \n",
       "155575   0.000000 -0.493103  0.506897  ...  1.506897  1.006897  0.506897   \n",
       "\n",
       "movieId     68157  68954     72998     79132     99114    109487  \\\n",
       "userId                                                             \n",
       "1        0.000000    0.0  0.000000  0.000000  0.000000  0.000000   \n",
       "77336    0.000000    0.0  0.000000  0.000000  0.000000  0.000000   \n",
       "137069   0.000000    0.0  0.000000  0.000000  0.000000  0.000000   \n",
       "112033   0.000000    0.0  0.000000  1.277778  0.000000  0.000000   \n",
       "43475    0.000000    0.0  0.000000  0.000000  0.000000  0.000000   \n",
       "...           ...    ...       ...       ...       ...       ...   \n",
       "141792   0.000000    0.0  0.000000  0.000000  0.000000  0.000000   \n",
       "26549    0.567416    0.0  0.000000 -0.432584 -0.432584 -0.932584   \n",
       "137320   0.000000    0.0  0.000000  0.000000  0.000000  0.000000   \n",
       "37124    0.000000    0.0  0.000000  0.000000  0.000000  0.000000   \n",
       "155575   0.506897    0.0 -1.993103 -0.493103  0.000000  0.000000   \n",
       "\n",
       "movieId  user_similarity  \n",
       "userId                    \n",
       "1               1.000000  \n",
       "77336           0.359302  \n",
       "137069          0.347178  \n",
       "112033          0.289921  \n",
       "43475           0.280941  \n",
       "...                  ...  \n",
       "141792          0.084272  \n",
       "26549           0.084271  \n",
       "137320          0.084268  \n",
       "37124           0.084262  \n",
       "155575          0.084259  \n",
       "\n",
       "[5000 rows x 259 columns]"
      ]
     },
     "execution_count": 45,
     "metadata": {},
     "output_type": "execute_result"
    }
   ],
   "source": [
    "ratings_small"
   ]
  },
  {
   "cell_type": "code",
   "execution_count": null,
   "id": "317a32c3",
   "metadata": {},
   "outputs": [],
   "source": []
  },
  {
   "cell_type": "code",
   "execution_count": null,
   "id": "9aceb086",
   "metadata": {},
   "outputs": [],
   "source": []
  },
  {
   "cell_type": "code",
   "execution_count": null,
   "id": "809af970",
   "metadata": {},
   "outputs": [],
   "source": []
  },
  {
   "cell_type": "code",
   "execution_count": null,
   "id": "e1940317",
   "metadata": {},
   "outputs": [],
   "source": []
  },
  {
   "cell_type": "markdown",
   "id": "ccb74b63",
   "metadata": {},
   "source": [
    "# SVD"
   ]
  },
  {
   "cell_type": "code",
   "execution_count": 46,
   "id": "ca15fd4a",
   "metadata": {
    "ExecuteTime": {
     "end_time": "2023-09-10T15:56:42.654258Z",
     "start_time": "2023-09-10T15:56:42.083175Z"
    }
   },
   "outputs": [],
   "source": [
    "movie_id = 1\n",
    "\n",
    "similar_users = ratings.loc[(ratings['movieId'] == 1) & (ratings['rating'] > 4.5), 'userId'].unique()\n",
    "similar_users_movies = ratings.loc[(ratings['userId'].isin(similar_users)) & (ratings['rating'] > 4.5), 'movieId']\n",
    "similar_users_movies_percentage = similar_users_movies.value_counts() / len(similar_users)\n",
    "similar_users_movies_id = similar_users_movies_percentage[similar_users_movies_percentage > 0.05].index.to_numpy()"
   ]
  },
  {
   "cell_type": "code",
   "execution_count": 47,
   "id": "38481e27",
   "metadata": {
    "ExecuteTime": {
     "end_time": "2023-09-10T15:56:43.420987Z",
     "start_time": "2023-09-10T15:56:42.657130Z"
    }
   },
   "outputs": [],
   "source": [
    "ratings_small = ratings.loc[(ratings['userId'].isin(similar_users)) & (ratings['movieId'].isin(similar_users_movies_id))]"
   ]
  },
  {
   "cell_type": "code",
   "execution_count": 48,
   "id": "7da8ae52",
   "metadata": {
    "ExecuteTime": {
     "end_time": "2023-09-10T15:56:43.631588Z",
     "start_time": "2023-09-10T15:56:43.423108Z"
    }
   },
   "outputs": [],
   "source": [
    "ratings_pivot = ratings_small.pivot(index='userId',\n",
    "                                    columns='movieId',\n",
    "                                    values='rating').drop(1, axis=1)"
   ]
  },
  {
   "cell_type": "code",
   "execution_count": 49,
   "id": "ac07ff34",
   "metadata": {
    "ExecuteTime": {
     "end_time": "2023-09-10T15:56:43.646217Z",
     "start_time": "2023-09-10T15:56:43.635624Z"
    }
   },
   "outputs": [
    {
     "name": "stdout",
     "output_type": "stream",
     "text": [
      "73.97% are NaN values.\n"
     ]
    }
   ],
   "source": [
    "sparsity = ratings_pivot.count().sum() / ratings_pivot.size\n",
    "\n",
    "print(f\"{(1-sparsity)*100:.2f}% are NaN values.\")"
   ]
  },
  {
   "cell_type": "code",
   "execution_count": 50,
   "id": "332b93ec",
   "metadata": {
    "ExecuteTime": {
     "end_time": "2023-09-10T15:56:43.671172Z",
     "start_time": "2023-09-10T15:56:43.648574Z"
    }
   },
   "outputs": [],
   "source": [
    "rating_user_mean = ratings_pivot.mean(axis=1)"
   ]
  },
  {
   "cell_type": "code",
   "execution_count": 51,
   "id": "c44149a6",
   "metadata": {
    "ExecuteTime": {
     "end_time": "2023-09-10T15:56:43.771221Z",
     "start_time": "2023-09-10T15:56:43.673378Z"
    }
   },
   "outputs": [
    {
     "data": {
      "text/html": [
       "<div>\n",
       "<style scoped>\n",
       "    .dataframe tbody tr th:only-of-type {\n",
       "        vertical-align: middle;\n",
       "    }\n",
       "\n",
       "    .dataframe tbody tr th {\n",
       "        vertical-align: top;\n",
       "    }\n",
       "\n",
       "    .dataframe thead th {\n",
       "        text-align: right;\n",
       "    }\n",
       "</style>\n",
       "<table border=\"1\" class=\"dataframe\">\n",
       "  <thead>\n",
       "    <tr style=\"text-align: right;\">\n",
       "      <th>movieId</th>\n",
       "      <th>6</th>\n",
       "      <th>17</th>\n",
       "      <th>21</th>\n",
       "      <th>25</th>\n",
       "      <th>32</th>\n",
       "      <th>34</th>\n",
       "      <th>36</th>\n",
       "      <th>39</th>\n",
       "      <th>47</th>\n",
       "      <th>50</th>\n",
       "      <th>...</th>\n",
       "      <th>48516</th>\n",
       "      <th>50872</th>\n",
       "      <th>58559</th>\n",
       "      <th>59315</th>\n",
       "      <th>60069</th>\n",
       "      <th>68954</th>\n",
       "      <th>78499</th>\n",
       "      <th>79132</th>\n",
       "      <th>91529</th>\n",
       "      <th>134853</th>\n",
       "    </tr>\n",
       "    <tr>\n",
       "      <th>userId</th>\n",
       "      <th></th>\n",
       "      <th></th>\n",
       "      <th></th>\n",
       "      <th></th>\n",
       "      <th></th>\n",
       "      <th></th>\n",
       "      <th></th>\n",
       "      <th></th>\n",
       "      <th></th>\n",
       "      <th></th>\n",
       "      <th></th>\n",
       "      <th></th>\n",
       "      <th></th>\n",
       "      <th></th>\n",
       "      <th></th>\n",
       "      <th></th>\n",
       "      <th></th>\n",
       "      <th></th>\n",
       "      <th></th>\n",
       "      <th></th>\n",
       "      <th></th>\n",
       "    </tr>\n",
       "  </thead>\n",
       "  <tbody>\n",
       "    <tr>\n",
       "      <th>36</th>\n",
       "      <td>0.000000</td>\n",
       "      <td>0.000000</td>\n",
       "      <td>0.000000</td>\n",
       "      <td>0.000000</td>\n",
       "      <td>0.000000</td>\n",
       "      <td>1.026316</td>\n",
       "      <td>0.000000</td>\n",
       "      <td>0.000000</td>\n",
       "      <td>0.000000</td>\n",
       "      <td>0.000000</td>\n",
       "      <td>...</td>\n",
       "      <td>0.000000</td>\n",
       "      <td>0.000000</td>\n",
       "      <td>0.000000</td>\n",
       "      <td>0.000000</td>\n",
       "      <td>0.000000</td>\n",
       "      <td>0.000000</td>\n",
       "      <td>0.000000</td>\n",
       "      <td>0.000000</td>\n",
       "      <td>0.000000</td>\n",
       "      <td>0.000000</td>\n",
       "    </tr>\n",
       "    <tr>\n",
       "      <th>75</th>\n",
       "      <td>-0.654255</td>\n",
       "      <td>0.845745</td>\n",
       "      <td>0.000000</td>\n",
       "      <td>0.000000</td>\n",
       "      <td>0.000000</td>\n",
       "      <td>0.000000</td>\n",
       "      <td>0.000000</td>\n",
       "      <td>-0.654255</td>\n",
       "      <td>-0.154255</td>\n",
       "      <td>0.345745</td>\n",
       "      <td>...</td>\n",
       "      <td>0.000000</td>\n",
       "      <td>-1.154255</td>\n",
       "      <td>-0.654255</td>\n",
       "      <td>-0.654255</td>\n",
       "      <td>0.000000</td>\n",
       "      <td>-0.654255</td>\n",
       "      <td>0.345745</td>\n",
       "      <td>-0.654255</td>\n",
       "      <td>-0.654255</td>\n",
       "      <td>0.000000</td>\n",
       "    </tr>\n",
       "    <tr>\n",
       "      <th>86</th>\n",
       "      <td>0.000000</td>\n",
       "      <td>0.000000</td>\n",
       "      <td>-0.357143</td>\n",
       "      <td>0.000000</td>\n",
       "      <td>0.000000</td>\n",
       "      <td>-0.357143</td>\n",
       "      <td>0.000000</td>\n",
       "      <td>0.000000</td>\n",
       "      <td>0.000000</td>\n",
       "      <td>-0.357143</td>\n",
       "      <td>...</td>\n",
       "      <td>0.000000</td>\n",
       "      <td>0.000000</td>\n",
       "      <td>0.000000</td>\n",
       "      <td>0.000000</td>\n",
       "      <td>0.000000</td>\n",
       "      <td>0.000000</td>\n",
       "      <td>0.000000</td>\n",
       "      <td>0.000000</td>\n",
       "      <td>0.000000</td>\n",
       "      <td>0.000000</td>\n",
       "    </tr>\n",
       "    <tr>\n",
       "      <th>90</th>\n",
       "      <td>0.000000</td>\n",
       "      <td>0.363636</td>\n",
       "      <td>0.000000</td>\n",
       "      <td>-0.636364</td>\n",
       "      <td>0.000000</td>\n",
       "      <td>0.000000</td>\n",
       "      <td>0.000000</td>\n",
       "      <td>0.000000</td>\n",
       "      <td>0.000000</td>\n",
       "      <td>0.000000</td>\n",
       "      <td>...</td>\n",
       "      <td>0.000000</td>\n",
       "      <td>0.000000</td>\n",
       "      <td>0.000000</td>\n",
       "      <td>0.000000</td>\n",
       "      <td>0.000000</td>\n",
       "      <td>0.000000</td>\n",
       "      <td>0.000000</td>\n",
       "      <td>0.000000</td>\n",
       "      <td>0.000000</td>\n",
       "      <td>0.000000</td>\n",
       "    </tr>\n",
       "    <tr>\n",
       "      <th>93</th>\n",
       "      <td>0.000000</td>\n",
       "      <td>0.000000</td>\n",
       "      <td>0.000000</td>\n",
       "      <td>0.000000</td>\n",
       "      <td>0.000000</td>\n",
       "      <td>0.000000</td>\n",
       "      <td>0.000000</td>\n",
       "      <td>0.000000</td>\n",
       "      <td>0.000000</td>\n",
       "      <td>0.000000</td>\n",
       "      <td>...</td>\n",
       "      <td>0.000000</td>\n",
       "      <td>0.685185</td>\n",
       "      <td>0.000000</td>\n",
       "      <td>0.000000</td>\n",
       "      <td>0.185185</td>\n",
       "      <td>1.185185</td>\n",
       "      <td>0.185185</td>\n",
       "      <td>0.000000</td>\n",
       "      <td>0.000000</td>\n",
       "      <td>-0.814815</td>\n",
       "    </tr>\n",
       "    <tr>\n",
       "      <th>...</th>\n",
       "      <td>...</td>\n",
       "      <td>...</td>\n",
       "      <td>...</td>\n",
       "      <td>...</td>\n",
       "      <td>...</td>\n",
       "      <td>...</td>\n",
       "      <td>...</td>\n",
       "      <td>...</td>\n",
       "      <td>...</td>\n",
       "      <td>...</td>\n",
       "      <td>...</td>\n",
       "      <td>...</td>\n",
       "      <td>...</td>\n",
       "      <td>...</td>\n",
       "      <td>...</td>\n",
       "      <td>...</td>\n",
       "      <td>...</td>\n",
       "      <td>...</td>\n",
       "      <td>...</td>\n",
       "      <td>...</td>\n",
       "      <td>...</td>\n",
       "    </tr>\n",
       "    <tr>\n",
       "      <th>162491</th>\n",
       "      <td>0.000000</td>\n",
       "      <td>0.000000</td>\n",
       "      <td>0.000000</td>\n",
       "      <td>0.217391</td>\n",
       "      <td>0.000000</td>\n",
       "      <td>0.217391</td>\n",
       "      <td>0.000000</td>\n",
       "      <td>0.217391</td>\n",
       "      <td>0.000000</td>\n",
       "      <td>0.000000</td>\n",
       "      <td>...</td>\n",
       "      <td>0.000000</td>\n",
       "      <td>0.000000</td>\n",
       "      <td>0.000000</td>\n",
       "      <td>0.000000</td>\n",
       "      <td>0.000000</td>\n",
       "      <td>0.000000</td>\n",
       "      <td>0.000000</td>\n",
       "      <td>0.000000</td>\n",
       "      <td>0.000000</td>\n",
       "      <td>0.000000</td>\n",
       "    </tr>\n",
       "    <tr>\n",
       "      <th>162492</th>\n",
       "      <td>-0.683333</td>\n",
       "      <td>0.000000</td>\n",
       "      <td>0.000000</td>\n",
       "      <td>0.000000</td>\n",
       "      <td>0.316667</td>\n",
       "      <td>0.000000</td>\n",
       "      <td>0.000000</td>\n",
       "      <td>0.000000</td>\n",
       "      <td>0.316667</td>\n",
       "      <td>0.316667</td>\n",
       "      <td>...</td>\n",
       "      <td>0.316667</td>\n",
       "      <td>0.000000</td>\n",
       "      <td>0.316667</td>\n",
       "      <td>0.000000</td>\n",
       "      <td>-0.683333</td>\n",
       "      <td>0.000000</td>\n",
       "      <td>0.000000</td>\n",
       "      <td>0.316667</td>\n",
       "      <td>0.000000</td>\n",
       "      <td>0.000000</td>\n",
       "    </tr>\n",
       "    <tr>\n",
       "      <th>162518</th>\n",
       "      <td>-1.076923</td>\n",
       "      <td>0.000000</td>\n",
       "      <td>0.000000</td>\n",
       "      <td>0.000000</td>\n",
       "      <td>-1.076923</td>\n",
       "      <td>0.000000</td>\n",
       "      <td>0.000000</td>\n",
       "      <td>0.000000</td>\n",
       "      <td>0.000000</td>\n",
       "      <td>0.000000</td>\n",
       "      <td>...</td>\n",
       "      <td>0.000000</td>\n",
       "      <td>0.000000</td>\n",
       "      <td>0.000000</td>\n",
       "      <td>0.000000</td>\n",
       "      <td>0.000000</td>\n",
       "      <td>0.000000</td>\n",
       "      <td>0.000000</td>\n",
       "      <td>0.000000</td>\n",
       "      <td>0.000000</td>\n",
       "      <td>0.000000</td>\n",
       "    </tr>\n",
       "    <tr>\n",
       "      <th>162519</th>\n",
       "      <td>-2.168067</td>\n",
       "      <td>0.000000</td>\n",
       "      <td>-0.168067</td>\n",
       "      <td>0.000000</td>\n",
       "      <td>0.831933</td>\n",
       "      <td>-0.168067</td>\n",
       "      <td>-2.168067</td>\n",
       "      <td>-0.168067</td>\n",
       "      <td>-0.168067</td>\n",
       "      <td>0.831933</td>\n",
       "      <td>...</td>\n",
       "      <td>0.000000</td>\n",
       "      <td>0.000000</td>\n",
       "      <td>0.000000</td>\n",
       "      <td>0.000000</td>\n",
       "      <td>0.000000</td>\n",
       "      <td>0.000000</td>\n",
       "      <td>0.000000</td>\n",
       "      <td>0.000000</td>\n",
       "      <td>0.000000</td>\n",
       "      <td>0.000000</td>\n",
       "    </tr>\n",
       "    <tr>\n",
       "      <th>162530</th>\n",
       "      <td>0.000000</td>\n",
       "      <td>0.000000</td>\n",
       "      <td>0.000000</td>\n",
       "      <td>0.000000</td>\n",
       "      <td>0.000000</td>\n",
       "      <td>0.000000</td>\n",
       "      <td>-1.346154</td>\n",
       "      <td>0.000000</td>\n",
       "      <td>-0.346154</td>\n",
       "      <td>0.000000</td>\n",
       "      <td>...</td>\n",
       "      <td>0.000000</td>\n",
       "      <td>0.000000</td>\n",
       "      <td>0.000000</td>\n",
       "      <td>0.000000</td>\n",
       "      <td>0.000000</td>\n",
       "      <td>0.000000</td>\n",
       "      <td>0.000000</td>\n",
       "      <td>0.000000</td>\n",
       "      <td>0.000000</td>\n",
       "      <td>0.000000</td>\n",
       "    </tr>\n",
       "  </tbody>\n",
       "</table>\n",
       "<p>13506 rows × 194 columns</p>\n",
       "</div>"
      ],
      "text/plain": [
       "movieId    6         17        21        25        32        34        36      \\\n",
       "userId                                                                          \n",
       "36       0.000000  0.000000  0.000000  0.000000  0.000000  1.026316  0.000000   \n",
       "75      -0.654255  0.845745  0.000000  0.000000  0.000000  0.000000  0.000000   \n",
       "86       0.000000  0.000000 -0.357143  0.000000  0.000000 -0.357143  0.000000   \n",
       "90       0.000000  0.363636  0.000000 -0.636364  0.000000  0.000000  0.000000   \n",
       "93       0.000000  0.000000  0.000000  0.000000  0.000000  0.000000  0.000000   \n",
       "...           ...       ...       ...       ...       ...       ...       ...   \n",
       "162491   0.000000  0.000000  0.000000  0.217391  0.000000  0.217391  0.000000   \n",
       "162492  -0.683333  0.000000  0.000000  0.000000  0.316667  0.000000  0.000000   \n",
       "162518  -1.076923  0.000000  0.000000  0.000000 -1.076923  0.000000  0.000000   \n",
       "162519  -2.168067  0.000000 -0.168067  0.000000  0.831933 -0.168067 -2.168067   \n",
       "162530   0.000000  0.000000  0.000000  0.000000  0.000000  0.000000 -1.346154   \n",
       "\n",
       "movieId    39        47        50      ...    48516     50872     58559   \\\n",
       "userId                                 ...                                 \n",
       "36       0.000000  0.000000  0.000000  ...  0.000000  0.000000  0.000000   \n",
       "75      -0.654255 -0.154255  0.345745  ...  0.000000 -1.154255 -0.654255   \n",
       "86       0.000000  0.000000 -0.357143  ...  0.000000  0.000000  0.000000   \n",
       "90       0.000000  0.000000  0.000000  ...  0.000000  0.000000  0.000000   \n",
       "93       0.000000  0.000000  0.000000  ...  0.000000  0.685185  0.000000   \n",
       "...           ...       ...       ...  ...       ...       ...       ...   \n",
       "162491   0.217391  0.000000  0.000000  ...  0.000000  0.000000  0.000000   \n",
       "162492   0.000000  0.316667  0.316667  ...  0.316667  0.000000  0.316667   \n",
       "162518   0.000000  0.000000  0.000000  ...  0.000000  0.000000  0.000000   \n",
       "162519  -0.168067 -0.168067  0.831933  ...  0.000000  0.000000  0.000000   \n",
       "162530   0.000000 -0.346154  0.000000  ...  0.000000  0.000000  0.000000   \n",
       "\n",
       "movieId    59315     60069     68954     78499     79132     91529     134853  \n",
       "userId                                                                         \n",
       "36       0.000000  0.000000  0.000000  0.000000  0.000000  0.000000  0.000000  \n",
       "75      -0.654255  0.000000 -0.654255  0.345745 -0.654255 -0.654255  0.000000  \n",
       "86       0.000000  0.000000  0.000000  0.000000  0.000000  0.000000  0.000000  \n",
       "90       0.000000  0.000000  0.000000  0.000000  0.000000  0.000000  0.000000  \n",
       "93       0.000000  0.185185  1.185185  0.185185  0.000000  0.000000 -0.814815  \n",
       "...           ...       ...       ...       ...       ...       ...       ...  \n",
       "162491   0.000000  0.000000  0.000000  0.000000  0.000000  0.000000  0.000000  \n",
       "162492   0.000000 -0.683333  0.000000  0.000000  0.316667  0.000000  0.000000  \n",
       "162518   0.000000  0.000000  0.000000  0.000000  0.000000  0.000000  0.000000  \n",
       "162519   0.000000  0.000000  0.000000  0.000000  0.000000  0.000000  0.000000  \n",
       "162530   0.000000  0.000000  0.000000  0.000000  0.000000  0.000000  0.000000  \n",
       "\n",
       "[13506 rows x 194 columns]"
      ]
     },
     "execution_count": 51,
     "metadata": {},
     "output_type": "execute_result"
    }
   ],
   "source": [
    "ratings_pivot_sub = ratings_pivot.sub(rating_user_mean, axis=0).fillna(0)\n",
    "ratings_pivot_sub"
   ]
  },
  {
   "cell_type": "code",
   "execution_count": 52,
   "id": "400dfea6",
   "metadata": {
    "ExecuteTime": {
     "end_time": "2023-09-10T15:56:44.218140Z",
     "start_time": "2023-09-10T15:56:43.773576Z"
    }
   },
   "outputs": [],
   "source": [
    "from scipy.sparse.linalg import svds\n",
    "\n",
    "U, sigma, Vt = svds(ratings_pivot_sub)"
   ]
  },
  {
   "cell_type": "code",
   "execution_count": 53,
   "id": "45a50621",
   "metadata": {
    "ExecuteTime": {
     "end_time": "2023-09-10T15:56:44.224457Z",
     "start_time": "2023-09-10T15:56:44.220802Z"
    }
   },
   "outputs": [],
   "source": [
    "sigma = np.diag(sigma)"
   ]
  },
  {
   "cell_type": "code",
   "execution_count": 54,
   "id": "a2b77313",
   "metadata": {
    "ExecuteTime": {
     "end_time": "2023-09-10T15:56:44.274040Z",
     "start_time": "2023-09-10T15:56:44.227147Z"
    }
   },
   "outputs": [],
   "source": [
    "ratings_pred_centered = np.dot(np.dot(U, sigma), Vt)\n",
    "ratings_pred = ratings_pred_centered + rating_user_mean.values.reshape(-1,1)"
   ]
  },
  {
   "cell_type": "code",
   "execution_count": 55,
   "id": "a2c69132",
   "metadata": {
    "ExecuteTime": {
     "end_time": "2023-09-10T15:56:44.354829Z",
     "start_time": "2023-09-10T15:56:44.276996Z"
    }
   },
   "outputs": [
    {
     "data": {
      "text/html": [
       "<div>\n",
       "<style scoped>\n",
       "    .dataframe tbody tr th:only-of-type {\n",
       "        vertical-align: middle;\n",
       "    }\n",
       "\n",
       "    .dataframe tbody tr th {\n",
       "        vertical-align: top;\n",
       "    }\n",
       "\n",
       "    .dataframe thead th {\n",
       "        text-align: right;\n",
       "    }\n",
       "</style>\n",
       "<table border=\"1\" class=\"dataframe\">\n",
       "  <thead>\n",
       "    <tr style=\"text-align: right;\">\n",
       "      <th>movieId</th>\n",
       "      <th>6</th>\n",
       "      <th>17</th>\n",
       "      <th>21</th>\n",
       "      <th>25</th>\n",
       "      <th>32</th>\n",
       "      <th>34</th>\n",
       "      <th>36</th>\n",
       "      <th>39</th>\n",
       "      <th>47</th>\n",
       "      <th>50</th>\n",
       "      <th>...</th>\n",
       "      <th>48516</th>\n",
       "      <th>50872</th>\n",
       "      <th>58559</th>\n",
       "      <th>59315</th>\n",
       "      <th>60069</th>\n",
       "      <th>68954</th>\n",
       "      <th>78499</th>\n",
       "      <th>79132</th>\n",
       "      <th>91529</th>\n",
       "      <th>134853</th>\n",
       "    </tr>\n",
       "    <tr>\n",
       "      <th>userId</th>\n",
       "      <th></th>\n",
       "      <th></th>\n",
       "      <th></th>\n",
       "      <th></th>\n",
       "      <th></th>\n",
       "      <th></th>\n",
       "      <th></th>\n",
       "      <th></th>\n",
       "      <th></th>\n",
       "      <th></th>\n",
       "      <th></th>\n",
       "      <th></th>\n",
       "      <th></th>\n",
       "      <th></th>\n",
       "      <th></th>\n",
       "      <th></th>\n",
       "      <th></th>\n",
       "      <th></th>\n",
       "      <th></th>\n",
       "      <th></th>\n",
       "      <th></th>\n",
       "    </tr>\n",
       "  </thead>\n",
       "  <tbody>\n",
       "    <tr>\n",
       "      <th>36</th>\n",
       "      <td>3.867734</td>\n",
       "      <td>3.946114</td>\n",
       "      <td>3.770757</td>\n",
       "      <td>3.759569</td>\n",
       "      <td>3.724277</td>\n",
       "      <td>4.018324</td>\n",
       "      <td>3.919883</td>\n",
       "      <td>3.784648</td>\n",
       "      <td>3.873299</td>\n",
       "      <td>3.995423</td>\n",
       "      <td>...</td>\n",
       "      <td>3.946212</td>\n",
       "      <td>3.951160</td>\n",
       "      <td>3.984815</td>\n",
       "      <td>3.994753</td>\n",
       "      <td>3.970688</td>\n",
       "      <td>3.971703</td>\n",
       "      <td>3.988092</td>\n",
       "      <td>3.926250</td>\n",
       "      <td>3.932800</td>\n",
       "      <td>3.966830</td>\n",
       "    </tr>\n",
       "    <tr>\n",
       "      <th>75</th>\n",
       "      <td>3.566429</td>\n",
       "      <td>3.649482</td>\n",
       "      <td>3.572137</td>\n",
       "      <td>3.517426</td>\n",
       "      <td>3.436843</td>\n",
       "      <td>3.829572</td>\n",
       "      <td>3.614246</td>\n",
       "      <td>3.565893</td>\n",
       "      <td>3.432324</td>\n",
       "      <td>3.494033</td>\n",
       "      <td>...</td>\n",
       "      <td>3.617941</td>\n",
       "      <td>3.654780</td>\n",
       "      <td>3.650392</td>\n",
       "      <td>3.640579</td>\n",
       "      <td>3.639862</td>\n",
       "      <td>3.627458</td>\n",
       "      <td>3.602322</td>\n",
       "      <td>3.594186</td>\n",
       "      <td>3.600300</td>\n",
       "      <td>3.640740</td>\n",
       "    </tr>\n",
       "    <tr>\n",
       "      <th>86</th>\n",
       "      <td>4.332750</td>\n",
       "      <td>4.354836</td>\n",
       "      <td>4.249193</td>\n",
       "      <td>4.343142</td>\n",
       "      <td>4.427078</td>\n",
       "      <td>4.231735</td>\n",
       "      <td>4.393515</td>\n",
       "      <td>4.168250</td>\n",
       "      <td>4.533273</td>\n",
       "      <td>4.641515</td>\n",
       "      <td>...</td>\n",
       "      <td>4.394673</td>\n",
       "      <td>4.356725</td>\n",
       "      <td>4.424791</td>\n",
       "      <td>4.320314</td>\n",
       "      <td>4.390960</td>\n",
       "      <td>4.384508</td>\n",
       "      <td>4.402663</td>\n",
       "      <td>4.399633</td>\n",
       "      <td>4.358637</td>\n",
       "      <td>4.353567</td>\n",
       "    </tr>\n",
       "    <tr>\n",
       "      <th>90</th>\n",
       "      <td>3.559028</td>\n",
       "      <td>3.628233</td>\n",
       "      <td>3.513473</td>\n",
       "      <td>3.505225</td>\n",
       "      <td>3.529837</td>\n",
       "      <td>3.643320</td>\n",
       "      <td>3.600250</td>\n",
       "      <td>3.529422</td>\n",
       "      <td>3.559061</td>\n",
       "      <td>3.675706</td>\n",
       "      <td>...</td>\n",
       "      <td>3.611912</td>\n",
       "      <td>3.637421</td>\n",
       "      <td>3.647142</td>\n",
       "      <td>3.663085</td>\n",
       "      <td>3.657578</td>\n",
       "      <td>3.660427</td>\n",
       "      <td>3.670293</td>\n",
       "      <td>3.596504</td>\n",
       "      <td>3.604060</td>\n",
       "      <td>3.643950</td>\n",
       "    </tr>\n",
       "    <tr>\n",
       "      <th>93</th>\n",
       "      <td>3.816981</td>\n",
       "      <td>3.859605</td>\n",
       "      <td>3.915784</td>\n",
       "      <td>3.885900</td>\n",
       "      <td>3.933016</td>\n",
       "      <td>3.870732</td>\n",
       "      <td>3.822875</td>\n",
       "      <td>3.948141</td>\n",
       "      <td>3.704940</td>\n",
       "      <td>3.732928</td>\n",
       "      <td>...</td>\n",
       "      <td>3.791281</td>\n",
       "      <td>3.865662</td>\n",
       "      <td>3.795706</td>\n",
       "      <td>3.833737</td>\n",
       "      <td>3.856022</td>\n",
       "      <td>3.860488</td>\n",
       "      <td>3.837770</td>\n",
       "      <td>3.791500</td>\n",
       "      <td>3.805578</td>\n",
       "      <td>3.843863</td>\n",
       "    </tr>\n",
       "    <tr>\n",
       "      <th>...</th>\n",
       "      <td>...</td>\n",
       "      <td>...</td>\n",
       "      <td>...</td>\n",
       "      <td>...</td>\n",
       "      <td>...</td>\n",
       "      <td>...</td>\n",
       "      <td>...</td>\n",
       "      <td>...</td>\n",
       "      <td>...</td>\n",
       "      <td>...</td>\n",
       "      <td>...</td>\n",
       "      <td>...</td>\n",
       "      <td>...</td>\n",
       "      <td>...</td>\n",
       "      <td>...</td>\n",
       "      <td>...</td>\n",
       "      <td>...</td>\n",
       "      <td>...</td>\n",
       "      <td>...</td>\n",
       "      <td>...</td>\n",
       "      <td>...</td>\n",
       "    </tr>\n",
       "    <tr>\n",
       "      <th>162491</th>\n",
       "      <td>3.730204</td>\n",
       "      <td>3.828115</td>\n",
       "      <td>3.710807</td>\n",
       "      <td>3.715643</td>\n",
       "      <td>3.564927</td>\n",
       "      <td>4.030925</td>\n",
       "      <td>3.799954</td>\n",
       "      <td>3.774691</td>\n",
       "      <td>3.641057</td>\n",
       "      <td>3.692814</td>\n",
       "      <td>...</td>\n",
       "      <td>3.761127</td>\n",
       "      <td>3.796148</td>\n",
       "      <td>3.727846</td>\n",
       "      <td>3.773341</td>\n",
       "      <td>3.772533</td>\n",
       "      <td>3.787358</td>\n",
       "      <td>3.783303</td>\n",
       "      <td>3.756324</td>\n",
       "      <td>3.768820</td>\n",
       "      <td>3.791417</td>\n",
       "    </tr>\n",
       "    <tr>\n",
       "      <th>162492</th>\n",
       "      <td>4.711499</td>\n",
       "      <td>4.661114</td>\n",
       "      <td>4.723302</td>\n",
       "      <td>4.744070</td>\n",
       "      <td>4.819586</td>\n",
       "      <td>4.581623</td>\n",
       "      <td>4.701064</td>\n",
       "      <td>4.665244</td>\n",
       "      <td>4.803173</td>\n",
       "      <td>4.781832</td>\n",
       "      <td>...</td>\n",
       "      <td>4.710305</td>\n",
       "      <td>4.668465</td>\n",
       "      <td>4.708817</td>\n",
       "      <td>4.655453</td>\n",
       "      <td>4.677675</td>\n",
       "      <td>4.665045</td>\n",
       "      <td>4.664345</td>\n",
       "      <td>4.696003</td>\n",
       "      <td>4.681769</td>\n",
       "      <td>4.666933</td>\n",
       "    </tr>\n",
       "    <tr>\n",
       "      <th>162518</th>\n",
       "      <td>4.057182</td>\n",
       "      <td>4.061056</td>\n",
       "      <td>4.051740</td>\n",
       "      <td>4.008506</td>\n",
       "      <td>3.959578</td>\n",
       "      <td>4.126563</td>\n",
       "      <td>4.040340</td>\n",
       "      <td>4.085408</td>\n",
       "      <td>3.984893</td>\n",
       "      <td>3.966915</td>\n",
       "      <td>...</td>\n",
       "      <td>4.054935</td>\n",
       "      <td>4.063131</td>\n",
       "      <td>4.056128</td>\n",
       "      <td>4.099211</td>\n",
       "      <td>4.056195</td>\n",
       "      <td>4.058136</td>\n",
       "      <td>4.058185</td>\n",
       "      <td>4.048320</td>\n",
       "      <td>4.066204</td>\n",
       "      <td>4.072518</td>\n",
       "    </tr>\n",
       "    <tr>\n",
       "      <th>162519</th>\n",
       "      <td>4.188944</td>\n",
       "      <td>4.030524</td>\n",
       "      <td>4.138783</td>\n",
       "      <td>4.217745</td>\n",
       "      <td>4.508463</td>\n",
       "      <td>3.766486</td>\n",
       "      <td>4.192191</td>\n",
       "      <td>3.896078</td>\n",
       "      <td>4.615907</td>\n",
       "      <td>4.628981</td>\n",
       "      <td>...</td>\n",
       "      <td>4.263710</td>\n",
       "      <td>4.064755</td>\n",
       "      <td>4.282746</td>\n",
       "      <td>4.060783</td>\n",
       "      <td>4.123845</td>\n",
       "      <td>4.067844</td>\n",
       "      <td>4.084233</td>\n",
       "      <td>4.168683</td>\n",
       "      <td>4.115974</td>\n",
       "      <td>4.079610</td>\n",
       "    </tr>\n",
       "    <tr>\n",
       "      <th>162530</th>\n",
       "      <td>4.299578</td>\n",
       "      <td>4.311595</td>\n",
       "      <td>4.280141</td>\n",
       "      <td>4.229393</td>\n",
       "      <td>4.076644</td>\n",
       "      <td>4.542515</td>\n",
       "      <td>4.317299</td>\n",
       "      <td>4.292997</td>\n",
       "      <td>4.215632</td>\n",
       "      <td>4.174752</td>\n",
       "      <td>...</td>\n",
       "      <td>4.330009</td>\n",
       "      <td>4.295726</td>\n",
       "      <td>4.299032</td>\n",
       "      <td>4.317598</td>\n",
       "      <td>4.267935</td>\n",
       "      <td>4.258766</td>\n",
       "      <td>4.248846</td>\n",
       "      <td>4.286958</td>\n",
       "      <td>4.305053</td>\n",
       "      <td>4.305607</td>\n",
       "    </tr>\n",
       "  </tbody>\n",
       "</table>\n",
       "<p>13506 rows × 194 columns</p>\n",
       "</div>"
      ],
      "text/plain": [
       "movieId    6         17        21        25        32        34        36      \\\n",
       "userId                                                                          \n",
       "36       3.867734  3.946114  3.770757  3.759569  3.724277  4.018324  3.919883   \n",
       "75       3.566429  3.649482  3.572137  3.517426  3.436843  3.829572  3.614246   \n",
       "86       4.332750  4.354836  4.249193  4.343142  4.427078  4.231735  4.393515   \n",
       "90       3.559028  3.628233  3.513473  3.505225  3.529837  3.643320  3.600250   \n",
       "93       3.816981  3.859605  3.915784  3.885900  3.933016  3.870732  3.822875   \n",
       "...           ...       ...       ...       ...       ...       ...       ...   \n",
       "162491   3.730204  3.828115  3.710807  3.715643  3.564927  4.030925  3.799954   \n",
       "162492   4.711499  4.661114  4.723302  4.744070  4.819586  4.581623  4.701064   \n",
       "162518   4.057182  4.061056  4.051740  4.008506  3.959578  4.126563  4.040340   \n",
       "162519   4.188944  4.030524  4.138783  4.217745  4.508463  3.766486  4.192191   \n",
       "162530   4.299578  4.311595  4.280141  4.229393  4.076644  4.542515  4.317299   \n",
       "\n",
       "movieId    39        47        50      ...    48516     50872     58559   \\\n",
       "userId                                 ...                                 \n",
       "36       3.784648  3.873299  3.995423  ...  3.946212  3.951160  3.984815   \n",
       "75       3.565893  3.432324  3.494033  ...  3.617941  3.654780  3.650392   \n",
       "86       4.168250  4.533273  4.641515  ...  4.394673  4.356725  4.424791   \n",
       "90       3.529422  3.559061  3.675706  ...  3.611912  3.637421  3.647142   \n",
       "93       3.948141  3.704940  3.732928  ...  3.791281  3.865662  3.795706   \n",
       "...           ...       ...       ...  ...       ...       ...       ...   \n",
       "162491   3.774691  3.641057  3.692814  ...  3.761127  3.796148  3.727846   \n",
       "162492   4.665244  4.803173  4.781832  ...  4.710305  4.668465  4.708817   \n",
       "162518   4.085408  3.984893  3.966915  ...  4.054935  4.063131  4.056128   \n",
       "162519   3.896078  4.615907  4.628981  ...  4.263710  4.064755  4.282746   \n",
       "162530   4.292997  4.215632  4.174752  ...  4.330009  4.295726  4.299032   \n",
       "\n",
       "movieId    59315     60069     68954     78499     79132     91529     134853  \n",
       "userId                                                                         \n",
       "36       3.994753  3.970688  3.971703  3.988092  3.926250  3.932800  3.966830  \n",
       "75       3.640579  3.639862  3.627458  3.602322  3.594186  3.600300  3.640740  \n",
       "86       4.320314  4.390960  4.384508  4.402663  4.399633  4.358637  4.353567  \n",
       "90       3.663085  3.657578  3.660427  3.670293  3.596504  3.604060  3.643950  \n",
       "93       3.833737  3.856022  3.860488  3.837770  3.791500  3.805578  3.843863  \n",
       "...           ...       ...       ...       ...       ...       ...       ...  \n",
       "162491   3.773341  3.772533  3.787358  3.783303  3.756324  3.768820  3.791417  \n",
       "162492   4.655453  4.677675  4.665045  4.664345  4.696003  4.681769  4.666933  \n",
       "162518   4.099211  4.056195  4.058136  4.058185  4.048320  4.066204  4.072518  \n",
       "162519   4.060783  4.123845  4.067844  4.084233  4.168683  4.115974  4.079610  \n",
       "162530   4.317598  4.267935  4.258766  4.248846  4.286958  4.305053  4.305607  \n",
       "\n",
       "[13506 rows x 194 columns]"
      ]
     },
     "execution_count": 55,
     "metadata": {},
     "output_type": "execute_result"
    }
   ],
   "source": [
    "pd.DataFrame(ratings_pred, index=ratings_pivot_sub.index,\n",
    "            columns=ratings_pivot_sub.columns)"
   ]
  },
  {
   "cell_type": "code",
   "execution_count": 56,
   "id": "57d6515e",
   "metadata": {
    "ExecuteTime": {
     "end_time": "2023-09-10T15:56:44.397901Z",
     "start_time": "2023-09-10T15:56:44.357496Z"
    },
    "scrolled": false
   },
   "outputs": [
    {
     "data": {
      "text/html": [
       "<div>\n",
       "<style scoped>\n",
       "    .dataframe tbody tr th:only-of-type {\n",
       "        vertical-align: middle;\n",
       "    }\n",
       "\n",
       "    .dataframe tbody tr th {\n",
       "        vertical-align: top;\n",
       "    }\n",
       "\n",
       "    .dataframe thead th {\n",
       "        text-align: right;\n",
       "    }\n",
       "</style>\n",
       "<table border=\"1\" class=\"dataframe\">\n",
       "  <thead>\n",
       "    <tr style=\"text-align: right;\">\n",
       "      <th>movieId</th>\n",
       "      <th>6</th>\n",
       "      <th>17</th>\n",
       "      <th>21</th>\n",
       "      <th>25</th>\n",
       "      <th>32</th>\n",
       "      <th>34</th>\n",
       "      <th>36</th>\n",
       "      <th>39</th>\n",
       "      <th>47</th>\n",
       "      <th>50</th>\n",
       "      <th>...</th>\n",
       "      <th>48516</th>\n",
       "      <th>50872</th>\n",
       "      <th>58559</th>\n",
       "      <th>59315</th>\n",
       "      <th>60069</th>\n",
       "      <th>68954</th>\n",
       "      <th>78499</th>\n",
       "      <th>79132</th>\n",
       "      <th>91529</th>\n",
       "      <th>134853</th>\n",
       "    </tr>\n",
       "    <tr>\n",
       "      <th>userId</th>\n",
       "      <th></th>\n",
       "      <th></th>\n",
       "      <th></th>\n",
       "      <th></th>\n",
       "      <th></th>\n",
       "      <th></th>\n",
       "      <th></th>\n",
       "      <th></th>\n",
       "      <th></th>\n",
       "      <th></th>\n",
       "      <th></th>\n",
       "      <th></th>\n",
       "      <th></th>\n",
       "      <th></th>\n",
       "      <th></th>\n",
       "      <th></th>\n",
       "      <th></th>\n",
       "      <th></th>\n",
       "      <th></th>\n",
       "      <th></th>\n",
       "      <th></th>\n",
       "    </tr>\n",
       "  </thead>\n",
       "  <tbody>\n",
       "    <tr>\n",
       "      <th>36</th>\n",
       "      <td>NaN</td>\n",
       "      <td>NaN</td>\n",
       "      <td>NaN</td>\n",
       "      <td>NaN</td>\n",
       "      <td>NaN</td>\n",
       "      <td>5.0</td>\n",
       "      <td>NaN</td>\n",
       "      <td>NaN</td>\n",
       "      <td>NaN</td>\n",
       "      <td>NaN</td>\n",
       "      <td>...</td>\n",
       "      <td>NaN</td>\n",
       "      <td>NaN</td>\n",
       "      <td>NaN</td>\n",
       "      <td>NaN</td>\n",
       "      <td>NaN</td>\n",
       "      <td>NaN</td>\n",
       "      <td>NaN</td>\n",
       "      <td>NaN</td>\n",
       "      <td>NaN</td>\n",
       "      <td>NaN</td>\n",
       "    </tr>\n",
       "    <tr>\n",
       "      <th>75</th>\n",
       "      <td>3.0</td>\n",
       "      <td>4.5</td>\n",
       "      <td>NaN</td>\n",
       "      <td>NaN</td>\n",
       "      <td>NaN</td>\n",
       "      <td>NaN</td>\n",
       "      <td>NaN</td>\n",
       "      <td>3.0</td>\n",
       "      <td>3.5</td>\n",
       "      <td>4.0</td>\n",
       "      <td>...</td>\n",
       "      <td>NaN</td>\n",
       "      <td>2.5</td>\n",
       "      <td>3.0</td>\n",
       "      <td>3.0</td>\n",
       "      <td>NaN</td>\n",
       "      <td>3.0</td>\n",
       "      <td>4.0</td>\n",
       "      <td>3.0</td>\n",
       "      <td>3.0</td>\n",
       "      <td>NaN</td>\n",
       "    </tr>\n",
       "    <tr>\n",
       "      <th>86</th>\n",
       "      <td>NaN</td>\n",
       "      <td>NaN</td>\n",
       "      <td>4.0</td>\n",
       "      <td>NaN</td>\n",
       "      <td>NaN</td>\n",
       "      <td>4.0</td>\n",
       "      <td>NaN</td>\n",
       "      <td>NaN</td>\n",
       "      <td>NaN</td>\n",
       "      <td>4.0</td>\n",
       "      <td>...</td>\n",
       "      <td>NaN</td>\n",
       "      <td>NaN</td>\n",
       "      <td>NaN</td>\n",
       "      <td>NaN</td>\n",
       "      <td>NaN</td>\n",
       "      <td>NaN</td>\n",
       "      <td>NaN</td>\n",
       "      <td>NaN</td>\n",
       "      <td>NaN</td>\n",
       "      <td>NaN</td>\n",
       "    </tr>\n",
       "    <tr>\n",
       "      <th>90</th>\n",
       "      <td>NaN</td>\n",
       "      <td>4.0</td>\n",
       "      <td>NaN</td>\n",
       "      <td>3.0</td>\n",
       "      <td>NaN</td>\n",
       "      <td>NaN</td>\n",
       "      <td>NaN</td>\n",
       "      <td>NaN</td>\n",
       "      <td>NaN</td>\n",
       "      <td>NaN</td>\n",
       "      <td>...</td>\n",
       "      <td>NaN</td>\n",
       "      <td>NaN</td>\n",
       "      <td>NaN</td>\n",
       "      <td>NaN</td>\n",
       "      <td>NaN</td>\n",
       "      <td>NaN</td>\n",
       "      <td>NaN</td>\n",
       "      <td>NaN</td>\n",
       "      <td>NaN</td>\n",
       "      <td>NaN</td>\n",
       "    </tr>\n",
       "    <tr>\n",
       "      <th>93</th>\n",
       "      <td>NaN</td>\n",
       "      <td>NaN</td>\n",
       "      <td>NaN</td>\n",
       "      <td>NaN</td>\n",
       "      <td>NaN</td>\n",
       "      <td>NaN</td>\n",
       "      <td>NaN</td>\n",
       "      <td>NaN</td>\n",
       "      <td>NaN</td>\n",
       "      <td>NaN</td>\n",
       "      <td>...</td>\n",
       "      <td>NaN</td>\n",
       "      <td>4.5</td>\n",
       "      <td>NaN</td>\n",
       "      <td>NaN</td>\n",
       "      <td>4.0</td>\n",
       "      <td>5.0</td>\n",
       "      <td>4.0</td>\n",
       "      <td>NaN</td>\n",
       "      <td>NaN</td>\n",
       "      <td>3.0</td>\n",
       "    </tr>\n",
       "    <tr>\n",
       "      <th>...</th>\n",
       "      <td>...</td>\n",
       "      <td>...</td>\n",
       "      <td>...</td>\n",
       "      <td>...</td>\n",
       "      <td>...</td>\n",
       "      <td>...</td>\n",
       "      <td>...</td>\n",
       "      <td>...</td>\n",
       "      <td>...</td>\n",
       "      <td>...</td>\n",
       "      <td>...</td>\n",
       "      <td>...</td>\n",
       "      <td>...</td>\n",
       "      <td>...</td>\n",
       "      <td>...</td>\n",
       "      <td>...</td>\n",
       "      <td>...</td>\n",
       "      <td>...</td>\n",
       "      <td>...</td>\n",
       "      <td>...</td>\n",
       "      <td>...</td>\n",
       "    </tr>\n",
       "    <tr>\n",
       "      <th>162491</th>\n",
       "      <td>NaN</td>\n",
       "      <td>NaN</td>\n",
       "      <td>NaN</td>\n",
       "      <td>4.0</td>\n",
       "      <td>NaN</td>\n",
       "      <td>4.0</td>\n",
       "      <td>NaN</td>\n",
       "      <td>4.0</td>\n",
       "      <td>NaN</td>\n",
       "      <td>NaN</td>\n",
       "      <td>...</td>\n",
       "      <td>NaN</td>\n",
       "      <td>NaN</td>\n",
       "      <td>NaN</td>\n",
       "      <td>NaN</td>\n",
       "      <td>NaN</td>\n",
       "      <td>NaN</td>\n",
       "      <td>NaN</td>\n",
       "      <td>NaN</td>\n",
       "      <td>NaN</td>\n",
       "      <td>NaN</td>\n",
       "    </tr>\n",
       "    <tr>\n",
       "      <th>162492</th>\n",
       "      <td>4.0</td>\n",
       "      <td>NaN</td>\n",
       "      <td>NaN</td>\n",
       "      <td>NaN</td>\n",
       "      <td>5.0</td>\n",
       "      <td>NaN</td>\n",
       "      <td>NaN</td>\n",
       "      <td>NaN</td>\n",
       "      <td>5.0</td>\n",
       "      <td>5.0</td>\n",
       "      <td>...</td>\n",
       "      <td>5.0</td>\n",
       "      <td>NaN</td>\n",
       "      <td>5.0</td>\n",
       "      <td>NaN</td>\n",
       "      <td>4.0</td>\n",
       "      <td>NaN</td>\n",
       "      <td>NaN</td>\n",
       "      <td>5.0</td>\n",
       "      <td>NaN</td>\n",
       "      <td>NaN</td>\n",
       "    </tr>\n",
       "    <tr>\n",
       "      <th>162518</th>\n",
       "      <td>3.0</td>\n",
       "      <td>NaN</td>\n",
       "      <td>NaN</td>\n",
       "      <td>NaN</td>\n",
       "      <td>3.0</td>\n",
       "      <td>NaN</td>\n",
       "      <td>NaN</td>\n",
       "      <td>NaN</td>\n",
       "      <td>NaN</td>\n",
       "      <td>NaN</td>\n",
       "      <td>...</td>\n",
       "      <td>NaN</td>\n",
       "      <td>NaN</td>\n",
       "      <td>NaN</td>\n",
       "      <td>NaN</td>\n",
       "      <td>NaN</td>\n",
       "      <td>NaN</td>\n",
       "      <td>NaN</td>\n",
       "      <td>NaN</td>\n",
       "      <td>NaN</td>\n",
       "      <td>NaN</td>\n",
       "    </tr>\n",
       "    <tr>\n",
       "      <th>162519</th>\n",
       "      <td>2.0</td>\n",
       "      <td>NaN</td>\n",
       "      <td>4.0</td>\n",
       "      <td>NaN</td>\n",
       "      <td>5.0</td>\n",
       "      <td>4.0</td>\n",
       "      <td>2.0</td>\n",
       "      <td>4.0</td>\n",
       "      <td>4.0</td>\n",
       "      <td>5.0</td>\n",
       "      <td>...</td>\n",
       "      <td>NaN</td>\n",
       "      <td>NaN</td>\n",
       "      <td>NaN</td>\n",
       "      <td>NaN</td>\n",
       "      <td>NaN</td>\n",
       "      <td>NaN</td>\n",
       "      <td>NaN</td>\n",
       "      <td>NaN</td>\n",
       "      <td>NaN</td>\n",
       "      <td>NaN</td>\n",
       "    </tr>\n",
       "    <tr>\n",
       "      <th>162530</th>\n",
       "      <td>NaN</td>\n",
       "      <td>NaN</td>\n",
       "      <td>NaN</td>\n",
       "      <td>NaN</td>\n",
       "      <td>NaN</td>\n",
       "      <td>NaN</td>\n",
       "      <td>3.0</td>\n",
       "      <td>NaN</td>\n",
       "      <td>4.0</td>\n",
       "      <td>NaN</td>\n",
       "      <td>...</td>\n",
       "      <td>NaN</td>\n",
       "      <td>NaN</td>\n",
       "      <td>NaN</td>\n",
       "      <td>NaN</td>\n",
       "      <td>NaN</td>\n",
       "      <td>NaN</td>\n",
       "      <td>NaN</td>\n",
       "      <td>NaN</td>\n",
       "      <td>NaN</td>\n",
       "      <td>NaN</td>\n",
       "    </tr>\n",
       "  </tbody>\n",
       "</table>\n",
       "<p>13506 rows × 194 columns</p>\n",
       "</div>"
      ],
      "text/plain": [
       "movieId  6       17      21      25      32      34      36      39      \\\n",
       "userId                                                                    \n",
       "36          NaN     NaN     NaN     NaN     NaN     5.0     NaN     NaN   \n",
       "75          3.0     4.5     NaN     NaN     NaN     NaN     NaN     3.0   \n",
       "86          NaN     NaN     4.0     NaN     NaN     4.0     NaN     NaN   \n",
       "90          NaN     4.0     NaN     3.0     NaN     NaN     NaN     NaN   \n",
       "93          NaN     NaN     NaN     NaN     NaN     NaN     NaN     NaN   \n",
       "...         ...     ...     ...     ...     ...     ...     ...     ...   \n",
       "162491      NaN     NaN     NaN     4.0     NaN     4.0     NaN     4.0   \n",
       "162492      4.0     NaN     NaN     NaN     5.0     NaN     NaN     NaN   \n",
       "162518      3.0     NaN     NaN     NaN     3.0     NaN     NaN     NaN   \n",
       "162519      2.0     NaN     4.0     NaN     5.0     4.0     2.0     4.0   \n",
       "162530      NaN     NaN     NaN     NaN     NaN     NaN     3.0     NaN   \n",
       "\n",
       "movieId  47      50      ...  48516   50872   58559   59315   60069   68954   \\\n",
       "userId                   ...                                                   \n",
       "36          NaN     NaN  ...     NaN     NaN     NaN     NaN     NaN     NaN   \n",
       "75          3.5     4.0  ...     NaN     2.5     3.0     3.0     NaN     3.0   \n",
       "86          NaN     4.0  ...     NaN     NaN     NaN     NaN     NaN     NaN   \n",
       "90          NaN     NaN  ...     NaN     NaN     NaN     NaN     NaN     NaN   \n",
       "93          NaN     NaN  ...     NaN     4.5     NaN     NaN     4.0     5.0   \n",
       "...         ...     ...  ...     ...     ...     ...     ...     ...     ...   \n",
       "162491      NaN     NaN  ...     NaN     NaN     NaN     NaN     NaN     NaN   \n",
       "162492      5.0     5.0  ...     5.0     NaN     5.0     NaN     4.0     NaN   \n",
       "162518      NaN     NaN  ...     NaN     NaN     NaN     NaN     NaN     NaN   \n",
       "162519      4.0     5.0  ...     NaN     NaN     NaN     NaN     NaN     NaN   \n",
       "162530      4.0     NaN  ...     NaN     NaN     NaN     NaN     NaN     NaN   \n",
       "\n",
       "movieId  78499   79132   91529   134853  \n",
       "userId                                   \n",
       "36          NaN     NaN     NaN     NaN  \n",
       "75          4.0     3.0     3.0     NaN  \n",
       "86          NaN     NaN     NaN     NaN  \n",
       "90          NaN     NaN     NaN     NaN  \n",
       "93          4.0     NaN     NaN     3.0  \n",
       "...         ...     ...     ...     ...  \n",
       "162491      NaN     NaN     NaN     NaN  \n",
       "162492      NaN     5.0     NaN     NaN  \n",
       "162518      NaN     NaN     NaN     NaN  \n",
       "162519      NaN     NaN     NaN     NaN  \n",
       "162530      NaN     NaN     NaN     NaN  \n",
       "\n",
       "[13506 rows x 194 columns]"
      ]
     },
     "execution_count": 56,
     "metadata": {},
     "output_type": "execute_result"
    }
   ],
   "source": [
    "ratings_pivot"
   ]
  },
  {
   "cell_type": "code",
   "execution_count": 57,
   "id": "840fe945",
   "metadata": {
    "ExecuteTime": {
     "end_time": "2023-09-10T15:56:44.401985Z",
     "start_time": "2023-09-10T15:56:44.399844Z"
    }
   },
   "outputs": [],
   "source": [
    "# User and item based recommendations"
   ]
  },
  {
   "cell_type": "markdown",
   "id": "aec7422b",
   "metadata": {},
   "source": [
    "# Conclusions and perspectives"
   ]
  },
  {
   "cell_type": "markdown",
   "id": "e15e4512",
   "metadata": {
    "ExecuteTime": {
     "end_time": "2023-09-05T00:32:11.656537Z",
     "start_time": "2023-09-05T00:32:11.645079Z"
    }
   },
   "source": [
    "We've demonstrated applications of some recommendations systems models. There are other approachs that can be further examinated: item based recommendations with KNN, using SVD to predict ratings and validation tecniques. Nonetheless, the models presented here can with some adjustments be put in production in several situations."
   ]
  }
 ],
 "metadata": {
  "kernelspec": {
   "display_name": "Python 3",
   "language": "python",
   "name": "python3"
  },
  "language_info": {
   "codemirror_mode": {
    "name": "ipython",
    "version": 3
   },
   "file_extension": ".py",
   "mimetype": "text/x-python",
   "name": "python",
   "nbconvert_exporter": "python",
   "pygments_lexer": "ipython3",
   "version": "3.8.10"
  },
  "varInspector": {
   "cols": {
    "lenName": 16,
    "lenType": 16,
    "lenVar": 40
   },
   "kernels_config": {
    "python": {
     "delete_cmd_postfix": "",
     "delete_cmd_prefix": "del ",
     "library": "var_list.py",
     "varRefreshCmd": "print(var_dic_list())"
    },
    "r": {
     "delete_cmd_postfix": ") ",
     "delete_cmd_prefix": "rm(",
     "library": "var_list.r",
     "varRefreshCmd": "cat(var_dic_list()) "
    }
   },
   "position": {
    "height": "435.844px",
    "left": "1082.28px",
    "right": "20px",
    "top": "120px",
    "width": "350px"
   },
   "types_to_exclude": [
    "module",
    "function",
    "builtin_function_or_method",
    "instance",
    "_Feature"
   ],
   "window_display": false
  }
 },
 "nbformat": 4,
 "nbformat_minor": 5
}
