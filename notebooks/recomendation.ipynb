{
 "cells": [
  {
   "cell_type": "code",
   "execution_count": 2,
   "id": "17b8ac60",
   "metadata": {
    "ExecuteTime": {
     "end_time": "2023-08-29T18:30:42.944866Z",
     "start_time": "2023-08-29T18:30:42.937286Z"
    }
   },
   "outputs": [],
   "source": [
    "# Using https://www.youtube.com/watch?v=eyEabQRBMQA as a reference\n",
    "# Data is avaible at https://grouplens.org/datasets/movielens/25m/"
   ]
  },
  {
   "cell_type": "code",
   "execution_count": 3,
   "id": "22e3fa40",
   "metadata": {
    "ExecuteTime": {
     "end_time": "2023-08-29T18:30:44.965910Z",
     "start_time": "2023-08-29T18:30:44.295921Z"
    }
   },
   "outputs": [],
   "source": [
    "import pandas as pd\n",
    "import numpy as np"
   ]
  },
  {
   "cell_type": "markdown",
   "id": "55d6e932",
   "metadata": {},
   "source": [
    "# Importing and inspecting data"
   ]
  },
  {
   "cell_type": "code",
   "execution_count": 4,
   "id": "72fa1167",
   "metadata": {
    "ExecuteTime": {
     "end_time": "2023-08-29T18:30:46.365876Z",
     "start_time": "2023-08-29T18:30:44.992700Z"
    }
   },
   "outputs": [],
   "source": [
    "movies = pd.read_parquet(\"../data/movies.parquet\")\n",
    "ratings = pd.read_parquet(\"../data/ratings.parquet\")"
   ]
  },
  {
   "cell_type": "code",
   "execution_count": 5,
   "id": "828f5c4d",
   "metadata": {
    "ExecuteTime": {
     "end_time": "2023-08-29T18:30:46.458864Z",
     "start_time": "2023-08-29T18:30:46.438715Z"
    }
   },
   "outputs": [
    {
     "data": {
      "text/html": [
       "<div>\n",
       "<style scoped>\n",
       "    .dataframe tbody tr th:only-of-type {\n",
       "        vertical-align: middle;\n",
       "    }\n",
       "\n",
       "    .dataframe tbody tr th {\n",
       "        vertical-align: top;\n",
       "    }\n",
       "\n",
       "    .dataframe thead th {\n",
       "        text-align: right;\n",
       "    }\n",
       "</style>\n",
       "<table border=\"1\" class=\"dataframe\">\n",
       "  <thead>\n",
       "    <tr style=\"text-align: right;\">\n",
       "      <th></th>\n",
       "      <th>movieId</th>\n",
       "      <th>title</th>\n",
       "      <th>genres</th>\n",
       "    </tr>\n",
       "  </thead>\n",
       "  <tbody>\n",
       "    <tr>\n",
       "      <th>0</th>\n",
       "      <td>1</td>\n",
       "      <td>Toy Story (1995)</td>\n",
       "      <td>Adventure|Animation|Children|Comedy|Fantasy</td>\n",
       "    </tr>\n",
       "    <tr>\n",
       "      <th>1</th>\n",
       "      <td>2</td>\n",
       "      <td>Jumanji (1995)</td>\n",
       "      <td>Adventure|Children|Fantasy</td>\n",
       "    </tr>\n",
       "    <tr>\n",
       "      <th>2</th>\n",
       "      <td>3</td>\n",
       "      <td>Grumpier Old Men (1995)</td>\n",
       "      <td>Comedy|Romance</td>\n",
       "    </tr>\n",
       "    <tr>\n",
       "      <th>3</th>\n",
       "      <td>4</td>\n",
       "      <td>Waiting to Exhale (1995)</td>\n",
       "      <td>Comedy|Drama|Romance</td>\n",
       "    </tr>\n",
       "    <tr>\n",
       "      <th>4</th>\n",
       "      <td>5</td>\n",
       "      <td>Father of the Bride Part II (1995)</td>\n",
       "      <td>Comedy</td>\n",
       "    </tr>\n",
       "  </tbody>\n",
       "</table>\n",
       "</div>"
      ],
      "text/plain": [
       "   movieId                               title  \\\n",
       "0        1                    Toy Story (1995)   \n",
       "1        2                      Jumanji (1995)   \n",
       "2        3             Grumpier Old Men (1995)   \n",
       "3        4            Waiting to Exhale (1995)   \n",
       "4        5  Father of the Bride Part II (1995)   \n",
       "\n",
       "                                        genres  \n",
       "0  Adventure|Animation|Children|Comedy|Fantasy  \n",
       "1                   Adventure|Children|Fantasy  \n",
       "2                               Comedy|Romance  \n",
       "3                         Comedy|Drama|Romance  \n",
       "4                                       Comedy  "
      ]
     },
     "execution_count": 5,
     "metadata": {},
     "output_type": "execute_result"
    }
   ],
   "source": [
    "movies.head()"
   ]
  },
  {
   "cell_type": "code",
   "execution_count": 6,
   "id": "f823c262",
   "metadata": {
    "ExecuteTime": {
     "end_time": "2023-08-29T18:30:46.533140Z",
     "start_time": "2023-08-29T18:30:46.522487Z"
    }
   },
   "outputs": [
    {
     "data": {
      "text/html": [
       "<div>\n",
       "<style scoped>\n",
       "    .dataframe tbody tr th:only-of-type {\n",
       "        vertical-align: middle;\n",
       "    }\n",
       "\n",
       "    .dataframe tbody tr th {\n",
       "        vertical-align: top;\n",
       "    }\n",
       "\n",
       "    .dataframe thead th {\n",
       "        text-align: right;\n",
       "    }\n",
       "</style>\n",
       "<table border=\"1\" class=\"dataframe\">\n",
       "  <thead>\n",
       "    <tr style=\"text-align: right;\">\n",
       "      <th></th>\n",
       "      <th>userId</th>\n",
       "      <th>movieId</th>\n",
       "      <th>rating</th>\n",
       "      <th>timestamp</th>\n",
       "    </tr>\n",
       "  </thead>\n",
       "  <tbody>\n",
       "    <tr>\n",
       "      <th>0</th>\n",
       "      <td>1</td>\n",
       "      <td>296</td>\n",
       "      <td>5.0</td>\n",
       "      <td>1147880044</td>\n",
       "    </tr>\n",
       "    <tr>\n",
       "      <th>1</th>\n",
       "      <td>1</td>\n",
       "      <td>306</td>\n",
       "      <td>3.5</td>\n",
       "      <td>1147868817</td>\n",
       "    </tr>\n",
       "    <tr>\n",
       "      <th>2</th>\n",
       "      <td>1</td>\n",
       "      <td>307</td>\n",
       "      <td>5.0</td>\n",
       "      <td>1147868828</td>\n",
       "    </tr>\n",
       "    <tr>\n",
       "      <th>3</th>\n",
       "      <td>1</td>\n",
       "      <td>665</td>\n",
       "      <td>5.0</td>\n",
       "      <td>1147878820</td>\n",
       "    </tr>\n",
       "    <tr>\n",
       "      <th>4</th>\n",
       "      <td>1</td>\n",
       "      <td>899</td>\n",
       "      <td>3.5</td>\n",
       "      <td>1147868510</td>\n",
       "    </tr>\n",
       "  </tbody>\n",
       "</table>\n",
       "</div>"
      ],
      "text/plain": [
       "   userId  movieId  rating   timestamp\n",
       "0       1      296     5.0  1147880044\n",
       "1       1      306     3.5  1147868817\n",
       "2       1      307     5.0  1147868828\n",
       "3       1      665     5.0  1147878820\n",
       "4       1      899     3.5  1147868510"
      ]
     },
     "execution_count": 6,
     "metadata": {},
     "output_type": "execute_result"
    }
   ],
   "source": [
    "ratings.head()"
   ]
  },
  {
   "cell_type": "code",
   "execution_count": 7,
   "id": "fe967b36",
   "metadata": {
    "ExecuteTime": {
     "end_time": "2023-08-29T18:30:46.688566Z",
     "start_time": "2023-08-29T18:30:46.598989Z"
    }
   },
   "outputs": [
    {
     "name": "stdout",
     "output_type": "stream",
     "text": [
      "<class 'pandas.core.frame.DataFrame'>\n",
      "RangeIndex: 62423 entries, 0 to 62422\n",
      "Data columns (total 3 columns):\n",
      " #   Column   Non-Null Count  Dtype \n",
      "---  ------   --------------  ----- \n",
      " 0   movieId  62423 non-null  int64 \n",
      " 1   title    62423 non-null  object\n",
      " 2   genres   62423 non-null  object\n",
      "dtypes: int64(1), object(2)\n",
      "memory usage: 1.4+ MB\n"
     ]
    }
   ],
   "source": [
    "movies.info()"
   ]
  },
  {
   "cell_type": "code",
   "execution_count": 8,
   "id": "a6e81dee",
   "metadata": {
    "ExecuteTime": {
     "end_time": "2023-08-29T18:30:46.755343Z",
     "start_time": "2023-08-29T18:30:46.743425Z"
    }
   },
   "outputs": [
    {
     "name": "stdout",
     "output_type": "stream",
     "text": [
      "<class 'pandas.core.frame.DataFrame'>\n",
      "RangeIndex: 25000095 entries, 0 to 25000094\n",
      "Data columns (total 4 columns):\n",
      " #   Column     Dtype  \n",
      "---  ------     -----  \n",
      " 0   userId     int64  \n",
      " 1   movieId    int64  \n",
      " 2   rating     float64\n",
      " 3   timestamp  int64  \n",
      "dtypes: float64(1), int64(3)\n",
      "memory usage: 762.9 MB\n"
     ]
    }
   ],
   "source": [
    "ratings.info()"
   ]
  },
  {
   "cell_type": "code",
   "execution_count": 9,
   "id": "4c3591db",
   "metadata": {
    "ExecuteTime": {
     "end_time": "2023-08-29T18:30:47.259860Z",
     "start_time": "2023-08-29T18:30:47.255598Z"
    }
   },
   "outputs": [],
   "source": [
    "# Add more analysis"
   ]
  },
  {
   "cell_type": "code",
   "execution_count": 10,
   "id": "063aff84",
   "metadata": {
    "ExecuteTime": {
     "end_time": "2023-08-29T18:30:47.929965Z",
     "start_time": "2023-08-29T18:30:47.926633Z"
    }
   },
   "outputs": [],
   "source": [
    "# EDA"
   ]
  },
  {
   "cell_type": "markdown",
   "id": "ae74e066",
   "metadata": {},
   "source": [
    "# Data processing"
   ]
  },
  {
   "cell_type": "code",
   "execution_count": 11,
   "id": "b34abf6d",
   "metadata": {
    "ExecuteTime": {
     "end_time": "2023-08-29T18:30:49.317570Z",
     "start_time": "2023-08-29T18:30:49.183135Z"
    }
   },
   "outputs": [],
   "source": [
    "# Cleaning titles with regex\n",
    "\n",
    "import re\n",
    "\n",
    "def clean(title):\n",
    "    return re.sub(\"[^a-zA-Z0-9 ]\", \"\", title)\n",
    "\n",
    "movies[\"clean_titles\"] = movies[\"title\"].apply(clean)"
   ]
  },
  {
   "cell_type": "code",
   "execution_count": 12,
   "id": "4952aaa7",
   "metadata": {
    "ExecuteTime": {
     "end_time": "2023-08-29T18:30:49.580464Z",
     "start_time": "2023-08-29T18:30:49.577481Z"
    }
   },
   "outputs": [],
   "source": [
    "# Refine regex and cleaning"
   ]
  },
  {
   "cell_type": "code",
   "execution_count": 13,
   "id": "fab5f3f5",
   "metadata": {
    "ExecuteTime": {
     "end_time": "2023-08-29T18:30:52.063052Z",
     "start_time": "2023-08-29T18:30:50.123973Z"
    }
   },
   "outputs": [],
   "source": [
    "# TF-IDF\n",
    "\n",
    "from sklearn.feature_extraction.text import TfidfVectorizer\n",
    "\n",
    "vec = TfidfVectorizer(ngram_range=(1, 2))\n",
    "\n",
    "titles_vec = vec.fit_transform(movies[\"clean_titles\"])"
   ]
  },
  {
   "cell_type": "code",
   "execution_count": 14,
   "id": "be0f49d6",
   "metadata": {
    "ExecuteTime": {
     "end_time": "2023-08-29T18:30:52.132622Z",
     "start_time": "2023-08-29T18:30:52.128703Z"
    }
   },
   "outputs": [],
   "source": [
    "# Consider bigger ngrams"
   ]
  },
  {
   "cell_type": "markdown",
   "id": "6d72cb42",
   "metadata": {},
   "source": [
    "# Search engine"
   ]
  },
  {
   "cell_type": "code",
   "execution_count": 15,
   "id": "a2a20bc0",
   "metadata": {
    "ExecuteTime": {
     "end_time": "2023-08-29T18:30:52.261489Z",
     "start_time": "2023-08-29T18:30:52.203613Z"
    }
   },
   "outputs": [],
   "source": [
    "from sklearn.metrics.pairwise import cosine_similarity\n",
    "\n",
    "def search(title):\n",
    "    title = clean(title)\n",
    "    query_vec = vec.transform([title])\n",
    "    similarity = cosine_similarity(query_vec, titles_vec).flatten()\n",
    "    \n",
    "    # Selecting top 5 movies\n",
    "    idx = np.argpartition(similarity, kth=-5)[-5:]\n",
    "\n",
    "    results = movies.iloc[idx][::-1]\n",
    "    return results"
   ]
  },
  {
   "cell_type": "code",
   "execution_count": 16,
   "id": "3b095d34",
   "metadata": {
    "ExecuteTime": {
     "end_time": "2023-08-29T18:30:52.436613Z",
     "start_time": "2023-08-29T18:30:52.347610Z"
    }
   },
   "outputs": [
    {
     "data": {
      "application/vnd.jupyter.widget-view+json": {
       "model_id": "6578386698c649fca87199dd2e28d928",
       "version_major": 2,
       "version_minor": 0
      },
      "text/plain": [
       "Text(value='Toy Story 1995', description='Movie title')"
      ]
     },
     "metadata": {},
     "output_type": "display_data"
    },
    {
     "data": {
      "application/vnd.jupyter.widget-view+json": {
       "model_id": "4d2383afc94740b79d816673ecf61ef3",
       "version_major": 2,
       "version_minor": 0
      },
      "text/plain": [
       "Output()"
      ]
     },
     "metadata": {},
     "output_type": "display_data"
    }
   ],
   "source": [
    "import ipywidgets as widgets\n",
    "from IPython.display import display\n",
    "\n",
    "movie_input = widgets.Text(description=\"Movie title\", value=\"Toy Story 1995\", disabled=False)\n",
    "movie_output = widgets.Output()\n",
    "\n",
    "def when_type(data):\n",
    "    with movie_output:\n",
    "        movie_output.clear_output()\n",
    "        title = data[\"new\"]\n",
    "        if len(title) > 5:\n",
    "            display(search(title))\n",
    "\n",
    "movie_input.observe(when_type, names='value')\n",
    "\n",
    "display(movie_input, movie_output)"
   ]
  },
  {
   "cell_type": "markdown",
   "id": "13f6a0b9",
   "metadata": {
    "ExecuteTime": {
     "end_time": "2023-08-26T23:22:44.291870Z",
     "start_time": "2023-08-26T23:22:44.287906Z"
    }
   },
   "source": [
    "# Recomendation system"
   ]
  },
  {
   "cell_type": "markdown",
   "id": "312f4867",
   "metadata": {},
   "source": [
    "## Non-personalized recomendations"
   ]
  },
  {
   "cell_type": "markdown",
   "id": "9aad446e",
   "metadata": {},
   "source": [
    "### High rate/watch movies"
   ]
  },
  {
   "cell_type": "code",
   "execution_count": 17,
   "id": "4f327544",
   "metadata": {
    "ExecuteTime": {
     "end_time": "2023-08-29T18:30:57.961323Z",
     "start_time": "2023-08-29T18:30:56.790916Z"
    }
   },
   "outputs": [],
   "source": [
    "# Movies with more than 500 reviews\n",
    "\n",
    "review_count = ratings[\"movieId\"].value_counts()\n",
    "pop_movies = review_count[review_count > 3000].index"
   ]
  },
  {
   "cell_type": "code",
   "execution_count": 18,
   "id": "976892f8",
   "metadata": {
    "ExecuteTime": {
     "end_time": "2023-08-29T18:31:01.029152Z",
     "start_time": "2023-08-29T18:30:58.062454Z"
    }
   },
   "outputs": [],
   "source": [
    "# Best reviewed movies\n",
    "\n",
    "pop_movies_ratings = ratings[ratings[\"movieId\"].isin(pop_movies)]\n",
    "movie_rec = pop_movies_ratings[[\"rating\", \"movieId\"]].groupby(\"movieId\").mean().sort_values(by=\"rating\", \n",
    "                                                                           ascending=False).reset_index()\n"
   ]
  },
  {
   "cell_type": "code",
   "execution_count": 19,
   "id": "845910ce",
   "metadata": {
    "ExecuteTime": {
     "end_time": "2023-08-29T18:31:01.179167Z",
     "start_time": "2023-08-29T18:31:01.133518Z"
    },
    "scrolled": true
   },
   "outputs": [
    {
     "data": {
      "text/html": [
       "<div>\n",
       "<style scoped>\n",
       "    .dataframe tbody tr th:only-of-type {\n",
       "        vertical-align: middle;\n",
       "    }\n",
       "\n",
       "    .dataframe tbody tr th {\n",
       "        vertical-align: top;\n",
       "    }\n",
       "\n",
       "    .dataframe thead th {\n",
       "        text-align: right;\n",
       "    }\n",
       "</style>\n",
       "<table border=\"1\" class=\"dataframe\">\n",
       "  <thead>\n",
       "    <tr style=\"text-align: right;\">\n",
       "      <th></th>\n",
       "      <th>movieId</th>\n",
       "      <th>rating</th>\n",
       "      <th>title</th>\n",
       "    </tr>\n",
       "  </thead>\n",
       "  <tbody>\n",
       "    <tr>\n",
       "      <th>0</th>\n",
       "      <td>318</td>\n",
       "      <td>4.413576</td>\n",
       "      <td>Shawshank Redemption, The (1994)</td>\n",
       "    </tr>\n",
       "    <tr>\n",
       "      <th>1</th>\n",
       "      <td>858</td>\n",
       "      <td>4.324336</td>\n",
       "      <td>Godfather, The (1972)</td>\n",
       "    </tr>\n",
       "    <tr>\n",
       "      <th>2</th>\n",
       "      <td>50</td>\n",
       "      <td>4.284353</td>\n",
       "      <td>Usual Suspects, The (1995)</td>\n",
       "    </tr>\n",
       "    <tr>\n",
       "      <th>3</th>\n",
       "      <td>1221</td>\n",
       "      <td>4.261759</td>\n",
       "      <td>Godfather: Part II, The (1974)</td>\n",
       "    </tr>\n",
       "    <tr>\n",
       "      <th>4</th>\n",
       "      <td>2019</td>\n",
       "      <td>4.254769</td>\n",
       "      <td>Seven Samurai (Shichinin no samurai) (1954)</td>\n",
       "    </tr>\n",
       "    <tr>\n",
       "      <th>5</th>\n",
       "      <td>527</td>\n",
       "      <td>4.247579</td>\n",
       "      <td>Schindler's List (1993)</td>\n",
       "    </tr>\n",
       "    <tr>\n",
       "      <th>6</th>\n",
       "      <td>1203</td>\n",
       "      <td>4.243014</td>\n",
       "      <td>12 Angry Men (1957)</td>\n",
       "    </tr>\n",
       "    <tr>\n",
       "      <th>7</th>\n",
       "      <td>904</td>\n",
       "      <td>4.237948</td>\n",
       "      <td>Rear Window (1954)</td>\n",
       "    </tr>\n",
       "    <tr>\n",
       "      <th>8</th>\n",
       "      <td>2959</td>\n",
       "      <td>4.228311</td>\n",
       "      <td>Fight Club (1999)</td>\n",
       "    </tr>\n",
       "    <tr>\n",
       "      <th>9</th>\n",
       "      <td>1193</td>\n",
       "      <td>4.218662</td>\n",
       "      <td>One Flew Over the Cuckoo's Nest (1975)</td>\n",
       "    </tr>\n",
       "  </tbody>\n",
       "</table>\n",
       "</div>"
      ],
      "text/plain": [
       "   movieId    rating                                        title\n",
       "0      318  4.413576             Shawshank Redemption, The (1994)\n",
       "1      858  4.324336                        Godfather, The (1972)\n",
       "2       50  4.284353                   Usual Suspects, The (1995)\n",
       "3     1221  4.261759               Godfather: Part II, The (1974)\n",
       "4     2019  4.254769  Seven Samurai (Shichinin no samurai) (1954)\n",
       "5      527  4.247579                      Schindler's List (1993)\n",
       "6     1203  4.243014                          12 Angry Men (1957)\n",
       "7      904  4.237948                           Rear Window (1954)\n",
       "8     2959  4.228311                            Fight Club (1999)\n",
       "9     1193  4.218662       One Flew Over the Cuckoo's Nest (1975)"
      ]
     },
     "execution_count": 19,
     "metadata": {},
     "output_type": "execute_result"
    }
   ],
   "source": [
    "movie_rec.merge(right=movies[[\"movieId\", \"title\"]], on=\"movieId\").head(10)"
   ]
  },
  {
   "cell_type": "markdown",
   "id": "de0631ff",
   "metadata": {},
   "source": [
    "### Most seem together"
   ]
  },
  {
   "cell_type": "code",
   "execution_count": 69,
   "id": "bbe43ed3",
   "metadata": {
    "ExecuteTime": {
     "end_time": "2023-08-29T19:12:06.772158Z",
     "start_time": "2023-08-29T19:12:04.267662Z"
    }
   },
   "outputs": [],
   "source": [
    "# from itertools import permutations\n",
    "\n",
    "# def create_pairs(x):\n",
    "#     pairs = pd.DataFrame(list(permutations(x.values, 2)), columns=[\"movie_a\", \"movie_b\"])\n",
    "#     return pairs\n",
    "\n",
    "# # Getting a smaller sample from ratings\n",
    "# n_users = 1000\n",
    "# selected_users = ratings['userId'].sample(n_users, replace=False).values\n",
    "# small_ratings = ratings.loc[ratings[\"userId\"].isin(selected_users), [\"userId\", \"movieId\"]]\n",
    "\n",
    "# # Get a smaller movie subset\n",
    "# small_ratings_count = small_ratings[\"movieId\"].value_counts()\n",
    "# small_ratings_count = small_ratings_count[small_ratings_count > 250]\n",
    "# smaller_ratings = small_ratings[small_ratings[\"movieId\"].isin(small_ratings_count.index)]\n",
    "\n",
    "# # Counting the pairs movies watched by the same user\n",
    "# pair_counts = smaller_ratings.groupby(\"userId\")[\"movieId\"].apply(create_pairs).reset_index(drop=True)\n",
    "\n",
    "# # Saving the results\n",
    "# pair_counts.to_parquet(\"../data/pair_counts.parquet\")"
   ]
  },
  {
   "cell_type": "code",
   "execution_count": 74,
   "id": "8494d7e6",
   "metadata": {
    "ExecuteTime": {
     "end_time": "2023-08-29T19:17:34.660088Z",
     "start_time": "2023-08-29T19:17:32.985923Z"
    }
   },
   "outputs": [],
   "source": [
    "pair_counts = pd.read_parquet(\"../data/pair_counts.parquet\")"
   ]
  },
  {
   "cell_type": "code",
   "execution_count": 76,
   "id": "015472a8",
   "metadata": {
    "ExecuteTime": {
     "end_time": "2023-08-29T19:17:50.325484Z",
     "start_time": "2023-08-29T19:17:50.302107Z"
    }
   },
   "outputs": [
    {
     "name": "stdout",
     "output_type": "stream",
     "text": [
      "<class 'pandas.core.frame.DataFrame'>\n",
      "RangeIndex: 21876914 entries, 0 to 21876913\n",
      "Data columns (total 2 columns):\n",
      " #   Column   Dtype\n",
      "---  ------   -----\n",
      " 0   movie_a  int64\n",
      " 1   movie_b  int64\n",
      "dtypes: int64(2)\n",
      "memory usage: 333.8 MB\n"
     ]
    }
   ],
   "source": [
    "pair_counts"
   ]
  },
  {
   "cell_type": "code",
   "execution_count": null,
   "id": "27769ea6",
   "metadata": {},
   "outputs": [],
   "source": []
  },
  {
   "cell_type": "markdown",
   "id": "3565cbd3",
   "metadata": {},
   "source": [
    "## Colaborative filtering"
   ]
  },
  {
   "cell_type": "code",
   "execution_count": 181,
   "id": "73f57710",
   "metadata": {
    "ExecuteTime": {
     "end_time": "2023-08-27T00:31:58.822709Z",
     "start_time": "2023-08-27T00:31:58.310043Z"
    }
   },
   "outputs": [],
   "source": [
    "movie_id = 1\n",
    "\n",
    "# Users that watched our movie and rated >4\n",
    "similar_users = ratings.loc[(ratings[\"movieId\"] == movie_id) & (ratings[\"rating\"] > 4.0), \"userId\"].unique()\n",
    "\n",
    "# High rated movies (>4) that our similiar users watched\n",
    "similar_users_rec = ratings.loc[(ratings[\"userId\"].isin(similar_users)) & (ratings[\"rating\"] > 4.0), \"movieId\"]\n",
    "\n",
    "# Counting how many users watched our recomendation. Getting the percentage from similar users\n",
    "similar_rec_movies_percentage = (similar_users_rec.value_counts() / len(similar_users))\n",
    "\n",
    "# Restricting ourselves to 10%\n",
    "similar_rec_movies_percentage = similar_rec_movies_percentage[similar_rec_movies_percentage > 0.1]"
   ]
  },
  {
   "cell_type": "code",
   "execution_count": 198,
   "id": "bcb14cdb",
   "metadata": {
    "ExecuteTime": {
     "end_time": "2023-08-27T00:39:17.225627Z",
     "start_time": "2023-08-27T00:39:17.218759Z"
    }
   },
   "outputs": [
    {
     "data": {
      "text/plain": [
       "1        1.000000\n",
       "318      0.445607\n",
       "260      0.403770\n",
       "356      0.370215\n",
       "296      0.367295\n",
       "           ...   \n",
       "953      0.103053\n",
       "551      0.101195\n",
       "1222     0.100876\n",
       "745      0.100345\n",
       "48780    0.100186\n",
       "Name: movieId, Length: 113, dtype: float64"
      ]
     },
     "execution_count": 198,
     "metadata": {},
     "output_type": "execute_result"
    }
   ],
   "source": [
    "similar_rec_movies_percentage"
   ]
  },
  {
   "cell_type": "code",
   "execution_count": 199,
   "id": "b63a1645",
   "metadata": {
    "ExecuteTime": {
     "end_time": "2023-08-27T00:39:24.807881Z",
     "start_time": "2023-08-27T00:39:24.182175Z"
    }
   },
   "outputs": [],
   "source": [
    "# We don't want movies that are there just because they are already popular\n",
    "\n",
    "all_users = ratings.loc[(ratings[\"movieId\"].isin(similar_rec_movies_percentage.index)&(ratings[\"rating\"]>4.0))]\n",
    "all_users_recs_percentage = all_users[\"movieId\"].value_counts() / len(all_users[\"userId\"].unique())"
   ]
  },
  {
   "cell_type": "code",
   "execution_count": 200,
   "id": "edc4a22c",
   "metadata": {
    "ExecuteTime": {
     "end_time": "2023-08-27T00:39:31.358135Z",
     "start_time": "2023-08-27T00:39:31.350213Z"
    }
   },
   "outputs": [
    {
     "data": {
      "text/plain": [
       "318      0.342220\n",
       "296      0.284674\n",
       "2571     0.244033\n",
       "356      0.235266\n",
       "593      0.225909\n",
       "           ...   \n",
       "551      0.040918\n",
       "50872    0.039111\n",
       "745      0.037031\n",
       "78499    0.035131\n",
       "2355     0.025091\n",
       "Name: movieId, Length: 113, dtype: float64"
      ]
     },
     "execution_count": 200,
     "metadata": {},
     "output_type": "execute_result"
    }
   ],
   "source": [
    "all_users_recs_percentage"
   ]
  },
  {
   "cell_type": "code",
   "execution_count": 210,
   "id": "72890e2a",
   "metadata": {
    "ExecuteTime": {
     "end_time": "2023-08-27T00:47:08.223064Z",
     "start_time": "2023-08-27T00:47:08.187968Z"
    }
   },
   "outputs": [],
   "source": [
    "# Creating a score\n",
    "\n",
    "rec_percentages = pd.concat([similar_rec_movies_percentage, all_users_recs_percentage], axis=1)\n",
    "rec_percentages.columns = [\"similar\", \"all\"]\n",
    "rec_percentages[\"score\"] = rec_percentages[\"similar\"] / rec_percentages[\"all\"]\n",
    "rec_percentages = rec_percentages.sort_values(\"score\", ascending=False).iloc[:9].merge(movies, left_index=True, right_on=\"movieId\")"
   ]
  },
  {
   "cell_type": "code",
   "execution_count": 211,
   "id": "6dc8f6e2",
   "metadata": {
    "ExecuteTime": {
     "end_time": "2023-08-27T00:47:12.438709Z",
     "start_time": "2023-08-27T00:47:12.410067Z"
    }
   },
   "outputs": [
    {
     "data": {
      "text/html": [
       "<div>\n",
       "<style scoped>\n",
       "    .dataframe tbody tr th:only-of-type {\n",
       "        vertical-align: middle;\n",
       "    }\n",
       "\n",
       "    .dataframe tbody tr th {\n",
       "        vertical-align: top;\n",
       "    }\n",
       "\n",
       "    .dataframe thead th {\n",
       "        text-align: right;\n",
       "    }\n",
       "</style>\n",
       "<table border=\"1\" class=\"dataframe\">\n",
       "  <thead>\n",
       "    <tr style=\"text-align: right;\">\n",
       "      <th></th>\n",
       "      <th>similar</th>\n",
       "      <th>all</th>\n",
       "      <th>score</th>\n",
       "      <th>movieId</th>\n",
       "      <th>title</th>\n",
       "      <th>genres</th>\n",
       "      <th>clean_titles</th>\n",
       "    </tr>\n",
       "  </thead>\n",
       "  <tbody>\n",
       "    <tr>\n",
       "      <th>0</th>\n",
       "      <td>1.000000</td>\n",
       "      <td>0.124728</td>\n",
       "      <td>8.017414</td>\n",
       "      <td>1</td>\n",
       "      <td>Toy Story (1995)</td>\n",
       "      <td>Adventure|Animation|Children|Comedy|Fantasy</td>\n",
       "      <td>Toy Story 1995</td>\n",
       "    </tr>\n",
       "    <tr>\n",
       "      <th>3021</th>\n",
       "      <td>0.280648</td>\n",
       "      <td>0.053706</td>\n",
       "      <td>5.225654</td>\n",
       "      <td>3114</td>\n",
       "      <td>Toy Story 2 (1999)</td>\n",
       "      <td>Adventure|Animation|Children|Comedy|Fantasy</td>\n",
       "      <td>Toy Story 2 1999</td>\n",
       "    </tr>\n",
       "    <tr>\n",
       "      <th>2264</th>\n",
       "      <td>0.110539</td>\n",
       "      <td>0.025091</td>\n",
       "      <td>4.405452</td>\n",
       "      <td>2355</td>\n",
       "      <td>Bug's Life, A (1998)</td>\n",
       "      <td>Adventure|Animation|Children|Comedy</td>\n",
       "      <td>Bugs Life A 1998</td>\n",
       "    </tr>\n",
       "    <tr>\n",
       "      <th>14813</th>\n",
       "      <td>0.152960</td>\n",
       "      <td>0.035131</td>\n",
       "      <td>4.354038</td>\n",
       "      <td>78499</td>\n",
       "      <td>Toy Story 3 (2010)</td>\n",
       "      <td>Adventure|Animation|Children|Comedy|Fantasy|IMAX</td>\n",
       "      <td>Toy Story 3 2010</td>\n",
       "    </tr>\n",
       "    <tr>\n",
       "      <th>4780</th>\n",
       "      <td>0.235147</td>\n",
       "      <td>0.070811</td>\n",
       "      <td>3.320783</td>\n",
       "      <td>4886</td>\n",
       "      <td>Monsters, Inc. (2001)</td>\n",
       "      <td>Adventure|Animation|Children|Comedy|Fantasy</td>\n",
       "      <td>Monsters Inc 2001</td>\n",
       "    </tr>\n",
       "    <tr>\n",
       "      <th>580</th>\n",
       "      <td>0.216618</td>\n",
       "      <td>0.067513</td>\n",
       "      <td>3.208539</td>\n",
       "      <td>588</td>\n",
       "      <td>Aladdin (1992)</td>\n",
       "      <td>Adventure|Animation|Children|Comedy|Musical</td>\n",
       "      <td>Aladdin 1992</td>\n",
       "    </tr>\n",
       "    <tr>\n",
       "      <th>6258</th>\n",
       "      <td>0.228139</td>\n",
       "      <td>0.072268</td>\n",
       "      <td>3.156862</td>\n",
       "      <td>6377</td>\n",
       "      <td>Finding Nemo (2003)</td>\n",
       "      <td>Adventure|Animation|Children|Comedy</td>\n",
       "      <td>Finding Nemo 2003</td>\n",
       "    </tr>\n",
       "    <tr>\n",
       "      <th>587</th>\n",
       "      <td>0.179400</td>\n",
       "      <td>0.059977</td>\n",
       "      <td>2.991150</td>\n",
       "      <td>595</td>\n",
       "      <td>Beauty and the Beast (1991)</td>\n",
       "      <td>Animation|Children|Fantasy|Musical|Romance|IMAX</td>\n",
       "      <td>Beauty and the Beast 1991</td>\n",
       "    </tr>\n",
       "    <tr>\n",
       "      <th>8246</th>\n",
       "      <td>0.203504</td>\n",
       "      <td>0.068453</td>\n",
       "      <td>2.972889</td>\n",
       "      <td>8961</td>\n",
       "      <td>Incredibles, The (2004)</td>\n",
       "      <td>Action|Adventure|Animation|Children|Comedy</td>\n",
       "      <td>Incredibles The 2004</td>\n",
       "    </tr>\n",
       "  </tbody>\n",
       "</table>\n",
       "</div>"
      ],
      "text/plain": [
       "        similar       all     score  movieId                        title  \\\n",
       "0      1.000000  0.124728  8.017414        1             Toy Story (1995)   \n",
       "3021   0.280648  0.053706  5.225654     3114           Toy Story 2 (1999)   \n",
       "2264   0.110539  0.025091  4.405452     2355         Bug's Life, A (1998)   \n",
       "14813  0.152960  0.035131  4.354038    78499           Toy Story 3 (2010)   \n",
       "4780   0.235147  0.070811  3.320783     4886        Monsters, Inc. (2001)   \n",
       "580    0.216618  0.067513  3.208539      588               Aladdin (1992)   \n",
       "6258   0.228139  0.072268  3.156862     6377          Finding Nemo (2003)   \n",
       "587    0.179400  0.059977  2.991150      595  Beauty and the Beast (1991)   \n",
       "8246   0.203504  0.068453  2.972889     8961      Incredibles, The (2004)   \n",
       "\n",
       "                                                 genres  \\\n",
       "0           Adventure|Animation|Children|Comedy|Fantasy   \n",
       "3021        Adventure|Animation|Children|Comedy|Fantasy   \n",
       "2264                Adventure|Animation|Children|Comedy   \n",
       "14813  Adventure|Animation|Children|Comedy|Fantasy|IMAX   \n",
       "4780        Adventure|Animation|Children|Comedy|Fantasy   \n",
       "580         Adventure|Animation|Children|Comedy|Musical   \n",
       "6258                Adventure|Animation|Children|Comedy   \n",
       "587     Animation|Children|Fantasy|Musical|Romance|IMAX   \n",
       "8246         Action|Adventure|Animation|Children|Comedy   \n",
       "\n",
       "                    clean_titles  \n",
       "0                 Toy Story 1995  \n",
       "3021            Toy Story 2 1999  \n",
       "2264            Bugs Life A 1998  \n",
       "14813           Toy Story 3 2010  \n",
       "4780           Monsters Inc 2001  \n",
       "580                 Aladdin 1992  \n",
       "6258           Finding Nemo 2003  \n",
       "587    Beauty and the Beast 1991  \n",
       "8246        Incredibles The 2004  "
      ]
     },
     "execution_count": 211,
     "metadata": {},
     "output_type": "execute_result"
    }
   ],
   "source": [
    "rec_percentages"
   ]
  },
  {
   "cell_type": "code",
   "execution_count": null,
   "id": "02944e3c",
   "metadata": {},
   "outputs": [],
   "source": [
    "# Extract year and genres"
   ]
  }
 ],
 "metadata": {
  "kernelspec": {
   "display_name": "Python 3",
   "language": "python",
   "name": "python3"
  },
  "varInspector": {
   "cols": {
    "lenName": 16,
    "lenType": 16,
    "lenVar": 40
   },
   "kernels_config": {
    "python": {
     "delete_cmd_postfix": "",
     "delete_cmd_prefix": "del ",
     "library": "var_list.py",
     "varRefreshCmd": "print(var_dic_list())"
    },
    "r": {
     "delete_cmd_postfix": ") ",
     "delete_cmd_prefix": "rm(",
     "library": "var_list.r",
     "varRefreshCmd": "cat(var_dic_list()) "
    }
   },
   "types_to_exclude": [
    "module",
    "function",
    "builtin_function_or_method",
    "instance",
    "_Feature"
   ],
   "window_display": false
  }
 },
 "nbformat": 4,
 "nbformat_minor": 5
}
