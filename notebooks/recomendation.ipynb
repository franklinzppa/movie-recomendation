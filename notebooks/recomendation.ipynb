{
 "cells": [
  {
   "cell_type": "code",
   "execution_count": 1,
   "id": "ec475bdf",
   "metadata": {
    "ExecuteTime": {
     "end_time": "2023-08-31T23:14:28.013359Z",
     "start_time": "2023-08-31T23:14:28.010513Z"
    }
   },
   "outputs": [],
   "source": [
    "# Using https://www.youtube.com/watch?v=eyEabQRBMQA as a reference\n",
    "# Data is avaible at https://grouplens.org/datasets/movielens/25m/"
   ]
  },
  {
   "cell_type": "code",
   "execution_count": 2,
   "id": "54e09342",
   "metadata": {
    "ExecuteTime": {
     "end_time": "2023-08-31T23:14:29.734847Z",
     "start_time": "2023-08-31T23:14:28.017501Z"
    }
   },
   "outputs": [],
   "source": [
    "import pandas as pd\n",
    "import numpy as np\n",
    "import seaborn as sns\n",
    "import matplotlib.pyplot as plt"
   ]
  },
  {
   "cell_type": "markdown",
   "id": "bc69c992",
   "metadata": {},
   "source": [
    "# Importing and inspecting data"
   ]
  },
  {
   "cell_type": "markdown",
   "id": "424b840a",
   "metadata": {},
   "source": [
    "We start by importing and checking our data."
   ]
  },
  {
   "cell_type": "code",
   "execution_count": 3,
   "id": "3820b8b3",
   "metadata": {
    "ExecuteTime": {
     "end_time": "2023-08-31T23:14:31.197573Z",
     "start_time": "2023-08-31T23:14:29.738246Z"
    }
   },
   "outputs": [],
   "source": [
    "movies = pd.read_parquet(\"../data/movies.parquet\")\n",
    "ratings = pd.read_parquet(\"../data/ratings.parquet\")"
   ]
  },
  {
   "cell_type": "code",
   "execution_count": 4,
   "id": "fae44d82",
   "metadata": {
    "ExecuteTime": {
     "end_time": "2023-08-31T23:14:31.229757Z",
     "start_time": "2023-08-31T23:14:31.201225Z"
    }
   },
   "outputs": [
    {
     "data": {
      "text/html": [
       "<div>\n",
       "<style scoped>\n",
       "    .dataframe tbody tr th:only-of-type {\n",
       "        vertical-align: middle;\n",
       "    }\n",
       "\n",
       "    .dataframe tbody tr th {\n",
       "        vertical-align: top;\n",
       "    }\n",
       "\n",
       "    .dataframe thead th {\n",
       "        text-align: right;\n",
       "    }\n",
       "</style>\n",
       "<table border=\"1\" class=\"dataframe\">\n",
       "  <thead>\n",
       "    <tr style=\"text-align: right;\">\n",
       "      <th></th>\n",
       "      <th>movieId</th>\n",
       "      <th>title</th>\n",
       "      <th>genres</th>\n",
       "    </tr>\n",
       "  </thead>\n",
       "  <tbody>\n",
       "    <tr>\n",
       "      <th>0</th>\n",
       "      <td>1</td>\n",
       "      <td>Toy Story (1995)</td>\n",
       "      <td>Adventure|Animation|Children|Comedy|Fantasy</td>\n",
       "    </tr>\n",
       "    <tr>\n",
       "      <th>1</th>\n",
       "      <td>2</td>\n",
       "      <td>Jumanji (1995)</td>\n",
       "      <td>Adventure|Children|Fantasy</td>\n",
       "    </tr>\n",
       "    <tr>\n",
       "      <th>2</th>\n",
       "      <td>3</td>\n",
       "      <td>Grumpier Old Men (1995)</td>\n",
       "      <td>Comedy|Romance</td>\n",
       "    </tr>\n",
       "    <tr>\n",
       "      <th>3</th>\n",
       "      <td>4</td>\n",
       "      <td>Waiting to Exhale (1995)</td>\n",
       "      <td>Comedy|Drama|Romance</td>\n",
       "    </tr>\n",
       "    <tr>\n",
       "      <th>4</th>\n",
       "      <td>5</td>\n",
       "      <td>Father of the Bride Part II (1995)</td>\n",
       "      <td>Comedy</td>\n",
       "    </tr>\n",
       "  </tbody>\n",
       "</table>\n",
       "</div>"
      ],
      "text/plain": [
       "   movieId                               title  \\\n",
       "0        1                    Toy Story (1995)   \n",
       "1        2                      Jumanji (1995)   \n",
       "2        3             Grumpier Old Men (1995)   \n",
       "3        4            Waiting to Exhale (1995)   \n",
       "4        5  Father of the Bride Part II (1995)   \n",
       "\n",
       "                                        genres  \n",
       "0  Adventure|Animation|Children|Comedy|Fantasy  \n",
       "1                   Adventure|Children|Fantasy  \n",
       "2                               Comedy|Romance  \n",
       "3                         Comedy|Drama|Romance  \n",
       "4                                       Comedy  "
      ]
     },
     "execution_count": 4,
     "metadata": {},
     "output_type": "execute_result"
    }
   ],
   "source": [
    "movies.head()"
   ]
  },
  {
   "cell_type": "code",
   "execution_count": 5,
   "id": "3a497322",
   "metadata": {
    "ExecuteTime": {
     "end_time": "2023-08-31T23:14:31.246500Z",
     "start_time": "2023-08-31T23:14:31.234134Z"
    }
   },
   "outputs": [
    {
     "data": {
      "text/html": [
       "<div>\n",
       "<style scoped>\n",
       "    .dataframe tbody tr th:only-of-type {\n",
       "        vertical-align: middle;\n",
       "    }\n",
       "\n",
       "    .dataframe tbody tr th {\n",
       "        vertical-align: top;\n",
       "    }\n",
       "\n",
       "    .dataframe thead th {\n",
       "        text-align: right;\n",
       "    }\n",
       "</style>\n",
       "<table border=\"1\" class=\"dataframe\">\n",
       "  <thead>\n",
       "    <tr style=\"text-align: right;\">\n",
       "      <th></th>\n",
       "      <th>userId</th>\n",
       "      <th>movieId</th>\n",
       "      <th>rating</th>\n",
       "      <th>timestamp</th>\n",
       "    </tr>\n",
       "  </thead>\n",
       "  <tbody>\n",
       "    <tr>\n",
       "      <th>0</th>\n",
       "      <td>1</td>\n",
       "      <td>296</td>\n",
       "      <td>5.0</td>\n",
       "      <td>1147880044</td>\n",
       "    </tr>\n",
       "    <tr>\n",
       "      <th>1</th>\n",
       "      <td>1</td>\n",
       "      <td>306</td>\n",
       "      <td>3.5</td>\n",
       "      <td>1147868817</td>\n",
       "    </tr>\n",
       "    <tr>\n",
       "      <th>2</th>\n",
       "      <td>1</td>\n",
       "      <td>307</td>\n",
       "      <td>5.0</td>\n",
       "      <td>1147868828</td>\n",
       "    </tr>\n",
       "    <tr>\n",
       "      <th>3</th>\n",
       "      <td>1</td>\n",
       "      <td>665</td>\n",
       "      <td>5.0</td>\n",
       "      <td>1147878820</td>\n",
       "    </tr>\n",
       "    <tr>\n",
       "      <th>4</th>\n",
       "      <td>1</td>\n",
       "      <td>899</td>\n",
       "      <td>3.5</td>\n",
       "      <td>1147868510</td>\n",
       "    </tr>\n",
       "  </tbody>\n",
       "</table>\n",
       "</div>"
      ],
      "text/plain": [
       "   userId  movieId  rating   timestamp\n",
       "0       1      296     5.0  1147880044\n",
       "1       1      306     3.5  1147868817\n",
       "2       1      307     5.0  1147868828\n",
       "3       1      665     5.0  1147878820\n",
       "4       1      899     3.5  1147868510"
      ]
     },
     "execution_count": 5,
     "metadata": {},
     "output_type": "execute_result"
    }
   ],
   "source": [
    "ratings.head()"
   ]
  },
  {
   "cell_type": "code",
   "execution_count": 6,
   "id": "3169c9a7",
   "metadata": {
    "ExecuteTime": {
     "end_time": "2023-08-31T23:14:31.296891Z",
     "start_time": "2023-08-31T23:14:31.248824Z"
    }
   },
   "outputs": [
    {
     "name": "stdout",
     "output_type": "stream",
     "text": [
      "<class 'pandas.core.frame.DataFrame'>\n",
      "RangeIndex: 62423 entries, 0 to 62422\n",
      "Data columns (total 3 columns):\n",
      " #   Column   Non-Null Count  Dtype \n",
      "---  ------   --------------  ----- \n",
      " 0   movieId  62423 non-null  int64 \n",
      " 1   title    62423 non-null  object\n",
      " 2   genres   62423 non-null  object\n",
      "dtypes: int64(1), object(2)\n",
      "memory usage: 1.4+ MB\n"
     ]
    }
   ],
   "source": [
    "movies.info()"
   ]
  },
  {
   "cell_type": "code",
   "execution_count": 7,
   "id": "ef8580e6",
   "metadata": {
    "ExecuteTime": {
     "end_time": "2023-08-31T23:14:31.319317Z",
     "start_time": "2023-08-31T23:14:31.300496Z"
    },
    "scrolled": true
   },
   "outputs": [
    {
     "name": "stdout",
     "output_type": "stream",
     "text": [
      "<class 'pandas.core.frame.DataFrame'>\n",
      "RangeIndex: 25000095 entries, 0 to 25000094\n",
      "Data columns (total 4 columns):\n",
      " #   Column     Dtype  \n",
      "---  ------     -----  \n",
      " 0   userId     int64  \n",
      " 1   movieId    int64  \n",
      " 2   rating     float64\n",
      " 3   timestamp  int64  \n",
      "dtypes: float64(1), int64(3)\n",
      "memory usage: 762.9 MB\n"
     ]
    }
   ],
   "source": [
    "ratings.info()"
   ]
  },
  {
   "cell_type": "code",
   "execution_count": 8,
   "id": "c88c4bb1",
   "metadata": {
    "ExecuteTime": {
     "end_time": "2023-08-31T23:14:31.378865Z",
     "start_time": "2023-08-31T23:14:31.324152Z"
    }
   },
   "outputs": [
    {
     "data": {
      "text/plain": [
       "movieId    0\n",
       "title      0\n",
       "genres     0\n",
       "dtype: int64"
      ]
     },
     "execution_count": 8,
     "metadata": {},
     "output_type": "execute_result"
    }
   ],
   "source": [
    "movies.isna().sum()"
   ]
  },
  {
   "cell_type": "code",
   "execution_count": 9,
   "id": "6816aa21",
   "metadata": {
    "ExecuteTime": {
     "end_time": "2023-08-31T23:14:31.540474Z",
     "start_time": "2023-08-31T23:14:31.383779Z"
    }
   },
   "outputs": [
    {
     "data": {
      "text/plain": [
       "userId       0\n",
       "movieId      0\n",
       "rating       0\n",
       "timestamp    0\n",
       "dtype: int64"
      ]
     },
     "execution_count": 9,
     "metadata": {},
     "output_type": "execute_result"
    }
   ],
   "source": [
    "ratings.isna().sum()"
   ]
  },
  {
   "cell_type": "code",
   "execution_count": 10,
   "id": "a72ce1a6",
   "metadata": {
    "ExecuteTime": {
     "end_time": "2023-08-31T23:14:31.588276Z",
     "start_time": "2023-08-31T23:14:31.543581Z"
    }
   },
   "outputs": [
    {
     "data": {
      "text/plain": [
       "0"
      ]
     },
     "execution_count": 10,
     "metadata": {},
     "output_type": "execute_result"
    }
   ],
   "source": [
    "movies.duplicated().sum()"
   ]
  },
  {
   "cell_type": "code",
   "execution_count": 11,
   "id": "a2540b09",
   "metadata": {
    "ExecuteTime": {
     "end_time": "2023-08-31T23:14:44.484830Z",
     "start_time": "2023-08-31T23:14:31.594115Z"
    }
   },
   "outputs": [
    {
     "data": {
      "text/plain": [
       "0"
      ]
     },
     "execution_count": 11,
     "metadata": {},
     "output_type": "execute_result"
    }
   ],
   "source": [
    "ratings.duplicated().sum()"
   ]
  },
  {
   "cell_type": "code",
   "execution_count": 12,
   "id": "6c74fdec",
   "metadata": {
    "ExecuteTime": {
     "end_time": "2023-08-31T23:14:44.500615Z",
     "start_time": "2023-08-31T23:14:44.487535Z"
    }
   },
   "outputs": [
    {
     "data": {
      "text/plain": [
       "98"
      ]
     },
     "execution_count": 12,
     "metadata": {},
     "output_type": "execute_result"
    }
   ],
   "source": [
    "# There are duplicated titles\n",
    "movies['title'].duplicated().sum()"
   ]
  },
  {
   "cell_type": "markdown",
   "id": "f47d60d2",
   "metadata": {},
   "source": [
    "We don't have any nulls or duplicated data. But mind that there are duplicated movies titles."
   ]
  },
  {
   "cell_type": "markdown",
   "id": "bf602081",
   "metadata": {},
   "source": [
    "# Feature extraction"
   ]
  },
  {
   "cell_type": "markdown",
   "id": "9d276e92",
   "metadata": {},
   "source": [
    "We are going to extract the year from the title of the movie and create genres columns."
   ]
  },
  {
   "cell_type": "code",
   "execution_count": 13,
   "id": "71e21782",
   "metadata": {
    "ExecuteTime": {
     "end_time": "2023-08-31T23:14:44.628127Z",
     "start_time": "2023-08-31T23:14:44.504245Z"
    }
   },
   "outputs": [],
   "source": [
    "# Extracting year from title with regex\n",
    "movies[\"year\"] = movies['title'].str.extract(r'\\((\\d{4})\\)')"
   ]
  },
  {
   "cell_type": "code",
   "execution_count": 14,
   "id": "4f87d3c6",
   "metadata": {
    "ExecuteTime": {
     "end_time": "2023-08-31T23:14:45.003179Z",
     "start_time": "2023-08-31T23:14:44.630334Z"
    }
   },
   "outputs": [],
   "source": [
    "# Creating genres columns\n",
    "genres = movies['genres'].str.get_dummies('|')"
   ]
  },
  {
   "cell_type": "code",
   "execution_count": 15,
   "id": "5ec14bcd",
   "metadata": {
    "ExecuteTime": {
     "end_time": "2023-08-31T23:14:45.008862Z",
     "start_time": "2023-08-31T23:14:45.005479Z"
    }
   },
   "outputs": [],
   "source": [
    "# We could convert the timestamp to datetime to get temporal features"
   ]
  },
  {
   "cell_type": "markdown",
   "id": "96885ddf",
   "metadata": {
    "ExecuteTime": {
     "end_time": "2023-08-31T21:19:41.115570Z",
     "start_time": "2023-08-31T21:19:41.109690Z"
    }
   },
   "source": [
    "# EDA"
   ]
  },
  {
   "cell_type": "code",
   "execution_count": 16,
   "id": "69618e37",
   "metadata": {
    "ExecuteTime": {
     "end_time": "2023-08-31T23:14:45.393077Z",
     "start_time": "2023-08-31T23:14:45.012876Z"
    },
    "scrolled": false
   },
   "outputs": [
    {
     "data": {
      "image/png": "[encoded data removed]",
      "text/plain": [
       "<Figure size 432x288 with 1 Axes>"
      ]
     },
     "metadata": {
      "needs_background": "light"
     },
     "output_type": "display_data"
    }
   ],
   "source": [
    "# Most present genres\n",
    "genres.sum().sort_values(ascending=False).plot(kind='bar')\n",
    "plt.title('Genres')\n",
    "plt.show()"
   ]
  },
  {
   "cell_type": "code",
   "execution_count": 17,
   "id": "568d90e2",
   "metadata": {
    "ExecuteTime": {
     "end_time": "2023-08-31T23:14:45.767453Z",
     "start_time": "2023-08-31T23:14:45.395500Z"
    }
   },
   "outputs": [
    {
     "data": {
      "image/png": "[encoded data removed]",
      "text/plain": [
       "<Figure size 432x288 with 1 Axes>"
      ]
     },
     "metadata": {
      "needs_background": "light"
     },
     "output_type": "display_data"
    }
   ],
   "source": [
    "toy_id = movies.loc[movies['title'] == 'Toy Story (1995)', 'movieId'].values[0]\n",
    "toy_ratings = ratings.loc[ratings['movieId'] == toy_id, 'rating']\n",
    "\n",
    "plt.hist(toy_ratings)\n",
    "plt.xlabel('Rating')\n",
    "plt.title('Toy Story (1995) ratings')\n",
    "plt.show()"
   ]
  },
  {
   "cell_type": "code",
   "execution_count": 18,
   "id": "6675b532",
   "metadata": {
    "ExecuteTime": {
     "end_time": "2023-08-31T23:14:46.381128Z",
     "start_time": "2023-08-31T23:14:45.772042Z"
    }
   },
   "outputs": [
    {
     "data": {
      "text/html": [
       "<div>\n",
       "<style scoped>\n",
       "    .dataframe tbody tr th:only-of-type {\n",
       "        vertical-align: middle;\n",
       "    }\n",
       "\n",
       "    .dataframe tbody tr th {\n",
       "        vertical-align: top;\n",
       "    }\n",
       "\n",
       "    .dataframe thead th {\n",
       "        text-align: right;\n",
       "    }\n",
       "</style>\n",
       "<table border=\"1\" class=\"dataframe\">\n",
       "  <thead>\n",
       "    <tr style=\"text-align: right;\">\n",
       "      <th></th>\n",
       "      <th>title</th>\n",
       "      <th>rating</th>\n",
       "    </tr>\n",
       "  </thead>\n",
       "  <tbody>\n",
       "    <tr>\n",
       "      <th>351</th>\n",
       "      <td>Forrest Gump (1994)</td>\n",
       "      <td>0.003260</td>\n",
       "    </tr>\n",
       "    <tr>\n",
       "      <th>314</th>\n",
       "      <td>Shawshank Redemption, The (1994)</td>\n",
       "      <td>0.003259</td>\n",
       "    </tr>\n",
       "    <tr>\n",
       "      <th>292</th>\n",
       "      <td>Pulp Fiction (1994)</td>\n",
       "      <td>0.003187</td>\n",
       "    </tr>\n",
       "    <tr>\n",
       "      <th>585</th>\n",
       "      <td>Silence of the Lambs, The (1991)</td>\n",
       "      <td>0.002965</td>\n",
       "    </tr>\n",
       "    <tr>\n",
       "      <th>2480</th>\n",
       "      <td>Matrix, The (1999)</td>\n",
       "      <td>0.002907</td>\n",
       "    </tr>\n",
       "    <tr>\n",
       "      <th>257</th>\n",
       "      <td>Star Wars: Episode IV - A New Hope (1977)</td>\n",
       "      <td>0.002749</td>\n",
       "    </tr>\n",
       "    <tr>\n",
       "      <th>475</th>\n",
       "      <td>Jurassic Park (1993)</td>\n",
       "      <td>0.002566</td>\n",
       "    </tr>\n",
       "    <tr>\n",
       "      <th>522</th>\n",
       "      <td>Schindler's List (1993)</td>\n",
       "      <td>0.002416</td>\n",
       "    </tr>\n",
       "    <tr>\n",
       "      <th>108</th>\n",
       "      <td>Braveheart (1995)</td>\n",
       "      <td>0.002367</td>\n",
       "    </tr>\n",
       "    <tr>\n",
       "      <th>2867</th>\n",
       "      <td>Fight Club (1999)</td>\n",
       "      <td>0.002351</td>\n",
       "    </tr>\n",
       "    <tr>\n",
       "      <th>581</th>\n",
       "      <td>Terminator 2: Judgment Day (1991)</td>\n",
       "      <td>0.002295</td>\n",
       "    </tr>\n",
       "    <tr>\n",
       "      <th>1166</th>\n",
       "      <td>Star Wars: Episode V - The Empire Strikes Back...</td>\n",
       "      <td>0.002294</td>\n",
       "    </tr>\n",
       "    <tr>\n",
       "      <th>0</th>\n",
       "      <td>Toy Story (1995)</td>\n",
       "      <td>0.002292</td>\n",
       "    </tr>\n",
       "    <tr>\n",
       "      <th>4887</th>\n",
       "      <td>Lord of the Rings: The Fellowship of the Ring,...</td>\n",
       "      <td>0.002229</td>\n",
       "    </tr>\n",
       "    <tr>\n",
       "      <th>49</th>\n",
       "      <td>Usual Suspects, The (1995)</td>\n",
       "      <td>0.002215</td>\n",
       "    </tr>\n",
       "    <tr>\n",
       "      <th>1179</th>\n",
       "      <td>Star Wars: Episode VI - Return of the Jedi (1983)</td>\n",
       "      <td>0.002197</td>\n",
       "    </tr>\n",
       "    <tr>\n",
       "      <th>1168</th>\n",
       "      <td>Raiders of the Lost Ark (Indiana Jones and the...</td>\n",
       "      <td>0.002187</td>\n",
       "    </tr>\n",
       "    <tr>\n",
       "      <th>2766</th>\n",
       "      <td>American Beauty (1999)</td>\n",
       "      <td>0.002148</td>\n",
       "    </tr>\n",
       "    <tr>\n",
       "      <th>840</th>\n",
       "      <td>Godfather, The (1972)</td>\n",
       "      <td>0.002100</td>\n",
       "    </tr>\n",
       "  </tbody>\n",
       "</table>\n",
       "</div>"
      ],
      "text/plain": [
       "                                                  title    rating\n",
       "351                                 Forrest Gump (1994)  0.003260\n",
       "314                    Shawshank Redemption, The (1994)  0.003259\n",
       "292                                 Pulp Fiction (1994)  0.003187\n",
       "585                    Silence of the Lambs, The (1991)  0.002965\n",
       "2480                                 Matrix, The (1999)  0.002907\n",
       "257           Star Wars: Episode IV - A New Hope (1977)  0.002749\n",
       "475                                Jurassic Park (1993)  0.002566\n",
       "522                             Schindler's List (1993)  0.002416\n",
       "108                                   Braveheart (1995)  0.002367\n",
       "2867                                  Fight Club (1999)  0.002351\n",
       "581                   Terminator 2: Judgment Day (1991)  0.002295\n",
       "1166  Star Wars: Episode V - The Empire Strikes Back...  0.002294\n",
       "0                                      Toy Story (1995)  0.002292\n",
       "4887  Lord of the Rings: The Fellowship of the Ring,...  0.002229\n",
       "49                           Usual Suspects, The (1995)  0.002215\n",
       "1179  Star Wars: Episode VI - Return of the Jedi (1983)  0.002197\n",
       "1168  Raiders of the Lost Ark (Indiana Jones and the...  0.002187\n",
       "2766                             American Beauty (1999)  0.002148\n",
       "840                               Godfather, The (1972)  0.002100"
      ]
     },
     "execution_count": 18,
     "metadata": {},
     "output_type": "execute_result"
    }
   ],
   "source": [
    "# Ratings count - Top 5% most rated movies\n",
    "\n",
    "ratings_count = ratings.groupby('movieId')['rating'].count().sort_values(ascending=False)\n",
    "ratings_count_norm = ratings_count / ratings_count.sum()\n",
    "top_5 = ratings_count_norm[ratings_count_norm.cumsum() < 0.05].to_frame()\n",
    "top_5.merge(right=movies[['movieId', 'title']], left_index=True, right_on='movieId')[['title', 'rating']]"
   ]
  },
  {
   "cell_type": "code",
   "execution_count": 19,
   "id": "43484521",
   "metadata": {
    "ExecuteTime": {
     "end_time": "2023-08-31T23:14:46.386517Z",
     "start_time": "2023-08-31T23:14:46.383197Z"
    }
   },
   "outputs": [],
   "source": [
    "# What's the highest mean rating movie?"
   ]
  },
  {
   "cell_type": "markdown",
   "id": "ab551f23",
   "metadata": {},
   "source": [
    "# Data processing"
   ]
  },
  {
   "cell_type": "code",
   "execution_count": 20,
   "id": "c476e064",
   "metadata": {
    "ExecuteTime": {
     "end_time": "2023-08-31T23:14:46.529199Z",
     "start_time": "2023-08-31T23:14:46.393423Z"
    }
   },
   "outputs": [],
   "source": [
    "# Cleaning titles with regex\n",
    "\n",
    "import re\n",
    "\n",
    "def clean(title):\n",
    "    return re.sub(\"[^a-zA-Z0-9 ]\", \"\", title)\n",
    "\n",
    "movies[\"clean_titles\"] = movies[\"title\"].apply(clean)"
   ]
  },
  {
   "cell_type": "code",
   "execution_count": 21,
   "id": "03adca1b",
   "metadata": {
    "ExecuteTime": {
     "end_time": "2023-08-31T23:14:47.808129Z",
     "start_time": "2023-08-31T23:14:46.531180Z"
    }
   },
   "outputs": [],
   "source": [
    "# TF-IDF\n",
    "\n",
    "from sklearn.feature_extraction.text import TfidfVectorizer\n",
    "\n",
    "vec = TfidfVectorizer(ngram_range=(1, 2))\n",
    "\n",
    "titles_vec = vec.fit_transform(movies[\"clean_titles\"])"
   ]
  },
  {
   "cell_type": "code",
   "execution_count": 22,
   "id": "9322ede8",
   "metadata": {
    "ExecuteTime": {
     "end_time": "2023-08-31T23:14:47.814006Z",
     "start_time": "2023-08-31T23:14:47.810580Z"
    }
   },
   "outputs": [],
   "source": [
    "# Refine regex and cleaning"
   ]
  },
  {
   "cell_type": "code",
   "execution_count": 23,
   "id": "b767b343",
   "metadata": {
    "ExecuteTime": {
     "end_time": "2023-08-31T23:14:47.821983Z",
     "start_time": "2023-08-31T23:14:47.817879Z"
    }
   },
   "outputs": [],
   "source": [
    "# Consider bigger ngrams"
   ]
  },
  {
   "cell_type": "markdown",
   "id": "90f27dd0",
   "metadata": {},
   "source": [
    "# Search engine"
   ]
  },
  {
   "cell_type": "code",
   "execution_count": 24,
   "id": "4ed078da",
   "metadata": {
    "ExecuteTime": {
     "end_time": "2023-08-31T23:14:47.895697Z",
     "start_time": "2023-08-31T23:14:47.833765Z"
    }
   },
   "outputs": [],
   "source": [
    "from sklearn.metrics.pairwise import cosine_similarity\n",
    "\n",
    "def search(title):\n",
    "    title = clean(title)\n",
    "    query_vec = vec.transform([title])\n",
    "    similarity = cosine_similarity(query_vec, titles_vec).flatten()\n",
    "    \n",
    "    # Selecting top 5 movies\n",
    "    idx = np.argpartition(similarity, kth=-5)[-5:]\n",
    "\n",
    "    results = movies.iloc[idx][::-1]\n",
    "    return results"
   ]
  },
  {
   "cell_type": "code",
   "execution_count": 25,
   "id": "3c9b1e9f",
   "metadata": {
    "ExecuteTime": {
     "end_time": "2023-08-31T23:14:47.930561Z",
     "start_time": "2023-08-31T23:14:47.901166Z"
    }
   },
   "outputs": [
    {
     "data": {
      "application/vnd.jupyter.widget-view+json": {
       "model_id": "c8615d19b5844fde98f157c224a7af28",
       "version_major": 2,
       "version_minor": 0
      },
      "text/plain": [
       "Text(value='Toy Story 1995', description='Movie title')"
      ]
     },
     "metadata": {},
     "output_type": "display_data"
    },
    {
     "data": {
      "application/vnd.jupyter.widget-view+json": {
       "model_id": "32f834ee382844c0ab5c27df728ccc77",
       "version_major": 2,
       "version_minor": 0
      },
      "text/plain": [
       "Output()"
      ]
     },
     "metadata": {},
     "output_type": "display_data"
    }
   ],
   "source": [
    "import ipywidgets as widgets\n",
    "from IPython.display import display\n",
    "\n",
    "movie_input = widgets.Text(description=\"Movie title\", value=\"Toy Story 1995\", disabled=False)\n",
    "movie_output = widgets.Output()\n",
    "\n",
    "def when_type(data):\n",
    "    with movie_output:\n",
    "        movie_output.clear_output()\n",
    "        title = data[\"new\"]\n",
    "        if len(title) > 5:\n",
    "            display(search(title))\n",
    "\n",
    "movie_input.observe(when_type, names='value')\n",
    "\n",
    "display(movie_input, movie_output)"
   ]
  },
  {
   "cell_type": "markdown",
   "id": "6dd78b44",
   "metadata": {
    "ExecuteTime": {
     "end_time": "2023-08-26T23:22:44.291870Z",
     "start_time": "2023-08-26T23:22:44.287906Z"
    }
   },
   "source": [
    "# Recomendation systems"
   ]
  },
  {
   "cell_type": "markdown",
   "id": "8e98f50f",
   "metadata": {},
   "source": [
    "## Non-personalized recomendations"
   ]
  },
  {
   "cell_type": "markdown",
   "id": "7491570f",
   "metadata": {},
   "source": [
    "### High rate/watch movies"
   ]
  },
  {
   "cell_type": "code",
   "execution_count": 26,
   "id": "f3a21a99",
   "metadata": {
    "ExecuteTime": {
     "end_time": "2023-08-31T23:14:48.960563Z",
     "start_time": "2023-08-31T23:14:47.933972Z"
    }
   },
   "outputs": [],
   "source": [
    "# Movies with more than 500 reviews\n",
    "\n",
    "review_count = ratings[\"movieId\"].value_counts()\n",
    "pop_movies = review_count[review_count > 3000].index"
   ]
  },
  {
   "cell_type": "code",
   "execution_count": 27,
   "id": "f78b0fb4",
   "metadata": {
    "ExecuteTime": {
     "end_time": "2023-08-31T23:14:51.733216Z",
     "start_time": "2023-08-31T23:14:48.962729Z"
    }
   },
   "outputs": [],
   "source": [
    "# Best reviewed movies\n",
    "\n",
    "pop_movies_ratings = ratings[ratings[\"movieId\"].isin(pop_movies)]\n",
    "movie_rec = pop_movies_ratings[[\"rating\", \"movieId\"]].groupby(\"movieId\").mean().sort_values(by=\"rating\", \n",
    "                                                                           ascending=False).reset_index()\n"
   ]
  },
  {
   "cell_type": "code",
   "execution_count": 28,
   "id": "023238f7",
   "metadata": {
    "ExecuteTime": {
     "end_time": "2023-08-31T23:14:51.780766Z",
     "start_time": "2023-08-31T23:14:51.736154Z"
    },
    "scrolled": true
   },
   "outputs": [
    {
     "data": {
      "text/html": [
       "<div>\n",
       "<style scoped>\n",
       "    .dataframe tbody tr th:only-of-type {\n",
       "        vertical-align: middle;\n",
       "    }\n",
       "\n",
       "    .dataframe tbody tr th {\n",
       "        vertical-align: top;\n",
       "    }\n",
       "\n",
       "    .dataframe thead th {\n",
       "        text-align: right;\n",
       "    }\n",
       "</style>\n",
       "<table border=\"1\" class=\"dataframe\">\n",
       "  <thead>\n",
       "    <tr style=\"text-align: right;\">\n",
       "      <th></th>\n",
       "      <th>movieId</th>\n",
       "      <th>rating</th>\n",
       "      <th>title</th>\n",
       "    </tr>\n",
       "  </thead>\n",
       "  <tbody>\n",
       "    <tr>\n",
       "      <th>0</th>\n",
       "      <td>318</td>\n",
       "      <td>4.413576</td>\n",
       "      <td>Shawshank Redemption, The (1994)</td>\n",
       "    </tr>\n",
       "    <tr>\n",
       "      <th>1</th>\n",
       "      <td>858</td>\n",
       "      <td>4.324336</td>\n",
       "      <td>Godfather, The (1972)</td>\n",
       "    </tr>\n",
       "    <tr>\n",
       "      <th>2</th>\n",
       "      <td>50</td>\n",
       "      <td>4.284353</td>\n",
       "      <td>Usual Suspects, The (1995)</td>\n",
       "    </tr>\n",
       "    <tr>\n",
       "      <th>3</th>\n",
       "      <td>1221</td>\n",
       "      <td>4.261759</td>\n",
       "      <td>Godfather: Part II, The (1974)</td>\n",
       "    </tr>\n",
       "    <tr>\n",
       "      <th>4</th>\n",
       "      <td>2019</td>\n",
       "      <td>4.254769</td>\n",
       "      <td>Seven Samurai (Shichinin no samurai) (1954)</td>\n",
       "    </tr>\n",
       "    <tr>\n",
       "      <th>5</th>\n",
       "      <td>527</td>\n",
       "      <td>4.247579</td>\n",
       "      <td>Schindler's List (1993)</td>\n",
       "    </tr>\n",
       "    <tr>\n",
       "      <th>6</th>\n",
       "      <td>1203</td>\n",
       "      <td>4.243014</td>\n",
       "      <td>12 Angry Men (1957)</td>\n",
       "    </tr>\n",
       "    <tr>\n",
       "      <th>7</th>\n",
       "      <td>904</td>\n",
       "      <td>4.237948</td>\n",
       "      <td>Rear Window (1954)</td>\n",
       "    </tr>\n",
       "    <tr>\n",
       "      <th>8</th>\n",
       "      <td>2959</td>\n",
       "      <td>4.228311</td>\n",
       "      <td>Fight Club (1999)</td>\n",
       "    </tr>\n",
       "    <tr>\n",
       "      <th>9</th>\n",
       "      <td>1193</td>\n",
       "      <td>4.218662</td>\n",
       "      <td>One Flew Over the Cuckoo's Nest (1975)</td>\n",
       "    </tr>\n",
       "  </tbody>\n",
       "</table>\n",
       "</div>"
      ],
      "text/plain": [
       "   movieId    rating                                        title\n",
       "0      318  4.413576             Shawshank Redemption, The (1994)\n",
       "1      858  4.324336                        Godfather, The (1972)\n",
       "2       50  4.284353                   Usual Suspects, The (1995)\n",
       "3     1221  4.261759               Godfather: Part II, The (1974)\n",
       "4     2019  4.254769  Seven Samurai (Shichinin no samurai) (1954)\n",
       "5      527  4.247579                      Schindler's List (1993)\n",
       "6     1203  4.243014                          12 Angry Men (1957)\n",
       "7      904  4.237948                           Rear Window (1954)\n",
       "8     2959  4.228311                            Fight Club (1999)\n",
       "9     1193  4.218662       One Flew Over the Cuckoo's Nest (1975)"
      ]
     },
     "execution_count": 28,
     "metadata": {},
     "output_type": "execute_result"
    }
   ],
   "source": [
    "movie_rec.merge(right=movies[[\"movieId\", \"title\"]], on=\"movieId\").head(10)"
   ]
  },
  {
   "cell_type": "markdown",
   "id": "33d9d49d",
   "metadata": {},
   "source": [
    "### Most seem together"
   ]
  },
  {
   "cell_type": "code",
   "execution_count": 29,
   "id": "d03e2b4b",
   "metadata": {
    "ExecuteTime": {
     "end_time": "2023-08-31T23:14:51.787462Z",
     "start_time": "2023-08-31T23:14:51.783945Z"
    }
   },
   "outputs": [],
   "source": [
    "# from itertools import permutations\n",
    "\n",
    "# def create_pairs(x):\n",
    "#     pairs = pd.DataFrame(list(permutations(x.values, 2)), columns=[\"movie_a\", \"movie_b\"])\n",
    "#     return pairs\n",
    "\n",
    "# # Getting a smaller sample from ratings\n",
    "# n_users = 1000\n",
    "# selected_users = ratings['userId'].sample(n_users, replace=False).values\n",
    "# small_ratings = ratings.loc[ratings[\"userId\"].isin(selected_users), [\"userId\", \"movieId\"]]\n",
    "\n",
    "# # Get a smaller movie subset\n",
    "# small_ratings_count = small_ratings[\"movieId\"].value_counts()\n",
    "# small_ratings_count = small_ratings_count[small_ratings_count > 250]\n",
    "# smaller_ratings = small_ratings[small_ratings[\"movieId\"].isin(small_ratings_count.index)]\n",
    "\n",
    "# # Counting the pairs movies watched by the same user\n",
    "# pair_counts = smaller_ratings.groupby(\"userId\")[\"movieId\"].apply(create_pairs).reset_index(drop=True)\n",
    "\n",
    "# # Saving the results\n",
    "# pair_counts.to_parquet(\"../data/pair_counts.parquet\")"
   ]
  },
  {
   "cell_type": "code",
   "execution_count": 30,
   "id": "6298ac58",
   "metadata": {
    "ExecuteTime": {
     "end_time": "2023-08-31T23:14:52.139283Z",
     "start_time": "2023-08-31T23:14:51.791244Z"
    }
   },
   "outputs": [],
   "source": [
    "pair_counts = pd.read_parquet(\"../data/pair_counts.parquet\")"
   ]
  },
  {
   "cell_type": "code",
   "execution_count": 31,
   "id": "176996ec",
   "metadata": {
    "ExecuteTime": {
     "end_time": "2023-08-31T23:14:55.693964Z",
     "start_time": "2023-08-31T23:14:52.142441Z"
    }
   },
   "outputs": [],
   "source": [
    "pair_counts = pair_counts.groupby([\"movie_a\", \"movie_b\"]).size().to_frame(name='size').reset_index()"
   ]
  },
  {
   "cell_type": "code",
   "execution_count": 32,
   "id": "2740ae88",
   "metadata": {
    "ExecuteTime": {
     "end_time": "2023-08-31T23:14:55.729989Z",
     "start_time": "2023-08-31T23:14:55.696293Z"
    }
   },
   "outputs": [],
   "source": [
    "pair_counts_a = pair_counts.merge(right=movies[[\"movieId\", \"title\"]], left_on=\"movie_a\", right_on=\"movieId\")[[\"title\", \"movie_b\", \"size\"]]\n",
    "pair_counts_a = pair_counts_a.rename(columns={\"title\":\"movie_a\"})"
   ]
  },
  {
   "cell_type": "code",
   "execution_count": 33,
   "id": "c6a8dade",
   "metadata": {
    "ExecuteTime": {
     "end_time": "2023-08-31T23:14:55.772872Z",
     "start_time": "2023-08-31T23:14:55.733955Z"
    }
   },
   "outputs": [
    {
     "data": {
      "text/html": [
       "<div>\n",
       "<style scoped>\n",
       "    .dataframe tbody tr th:only-of-type {\n",
       "        vertical-align: middle;\n",
       "    }\n",
       "\n",
       "    .dataframe tbody tr th {\n",
       "        vertical-align: top;\n",
       "    }\n",
       "\n",
       "    .dataframe thead th {\n",
       "        text-align: right;\n",
       "    }\n",
       "</style>\n",
       "<table border=\"1\" class=\"dataframe\">\n",
       "  <thead>\n",
       "    <tr style=\"text-align: right;\">\n",
       "      <th></th>\n",
       "      <th>movie_a</th>\n",
       "      <th>movie_b</th>\n",
       "      <th>size</th>\n",
       "    </tr>\n",
       "  </thead>\n",
       "  <tbody>\n",
       "    <tr>\n",
       "      <th>0</th>\n",
       "      <td>Toy Story (1995)</td>\n",
       "      <td>Jumanji (1995)</td>\n",
       "      <td>290</td>\n",
       "    </tr>\n",
       "    <tr>\n",
       "      <th>1</th>\n",
       "      <td>Heat (1995)</td>\n",
       "      <td>Jumanji (1995)</td>\n",
       "      <td>167</td>\n",
       "    </tr>\n",
       "    <tr>\n",
       "      <th>2</th>\n",
       "      <td>GoldenEye (1995)</td>\n",
       "      <td>Jumanji (1995)</td>\n",
       "      <td>185</td>\n",
       "    </tr>\n",
       "    <tr>\n",
       "      <th>3</th>\n",
       "      <td>Casino (1995)</td>\n",
       "      <td>Jumanji (1995)</td>\n",
       "      <td>154</td>\n",
       "    </tr>\n",
       "    <tr>\n",
       "      <th>4</th>\n",
       "      <td>Ace Ventura: When Nature Calls (1995)</td>\n",
       "      <td>Jumanji (1995)</td>\n",
       "      <td>194</td>\n",
       "    </tr>\n",
       "  </tbody>\n",
       "</table>\n",
       "</div>"
      ],
      "text/plain": [
       "                                 movie_a         movie_b  size\n",
       "0                       Toy Story (1995)  Jumanji (1995)   290\n",
       "1                            Heat (1995)  Jumanji (1995)   167\n",
       "2                       GoldenEye (1995)  Jumanji (1995)   185\n",
       "3                          Casino (1995)  Jumanji (1995)   154\n",
       "4  Ace Ventura: When Nature Calls (1995)  Jumanji (1995)   194"
      ]
     },
     "execution_count": 33,
     "metadata": {},
     "output_type": "execute_result"
    }
   ],
   "source": [
    "pair_counts_b = pair_counts_a.merge(right=movies[[\"movieId\", \"title\"]], left_on=\"movie_b\", right_on=\"movieId\")[[\"movie_a\", \"title\", \"size\"]]\n",
    "pair_counts = pair_counts_b.rename(columns={\"title\":\"movie_b\"})\n",
    "pair_counts.head()"
   ]
  },
  {
   "cell_type": "code",
   "execution_count": 34,
   "id": "0e3b60cf",
   "metadata": {
    "ExecuteTime": {
     "end_time": "2023-08-31T23:14:55.803265Z",
     "start_time": "2023-08-31T23:14:55.775483Z"
    }
   },
   "outputs": [
    {
     "data": {
      "text/html": [
       "<div>\n",
       "<style scoped>\n",
       "    .dataframe tbody tr th:only-of-type {\n",
       "        vertical-align: middle;\n",
       "    }\n",
       "\n",
       "    .dataframe tbody tr th {\n",
       "        vertical-align: top;\n",
       "    }\n",
       "\n",
       "    .dataframe thead th {\n",
       "        text-align: right;\n",
       "    }\n",
       "</style>\n",
       "<table border=\"1\" class=\"dataframe\">\n",
       "  <thead>\n",
       "    <tr style=\"text-align: right;\">\n",
       "      <th></th>\n",
       "      <th>movie_a</th>\n",
       "      <th>movie_b</th>\n",
       "      <th>size</th>\n",
       "    </tr>\n",
       "  </thead>\n",
       "  <tbody>\n",
       "    <tr>\n",
       "      <th>10624</th>\n",
       "      <td>Toy Story (1995)</td>\n",
       "      <td>Forrest Gump (1994)</td>\n",
       "      <td>500</td>\n",
       "    </tr>\n",
       "    <tr>\n",
       "      <th>8632</th>\n",
       "      <td>Toy Story (1995)</td>\n",
       "      <td>Pulp Fiction (1994)</td>\n",
       "      <td>472</td>\n",
       "    </tr>\n",
       "    <tr>\n",
       "      <th>61420</th>\n",
       "      <td>Toy Story (1995)</td>\n",
       "      <td>Matrix, The (1999)</td>\n",
       "      <td>469</td>\n",
       "    </tr>\n",
       "    <tr>\n",
       "      <th>7304</th>\n",
       "      <td>Toy Story (1995)</td>\n",
       "      <td>Star Wars: Episode IV - A New Hope (1977)</td>\n",
       "      <td>467</td>\n",
       "    </tr>\n",
       "    <tr>\n",
       "      <th>13944</th>\n",
       "      <td>Toy Story (1995)</td>\n",
       "      <td>Jurassic Park (1993)</td>\n",
       "      <td>465</td>\n",
       "    </tr>\n",
       "    <tr>\n",
       "      <th>18260</th>\n",
       "      <td>Toy Story (1995)</td>\n",
       "      <td>Silence of the Lambs, The (1991)</td>\n",
       "      <td>465</td>\n",
       "    </tr>\n",
       "    <tr>\n",
       "      <th>9296</th>\n",
       "      <td>Toy Story (1995)</td>\n",
       "      <td>Shawshank Redemption, The (1994)</td>\n",
       "      <td>458</td>\n",
       "    </tr>\n",
       "    <tr>\n",
       "      <th>37848</th>\n",
       "      <td>Toy Story (1995)</td>\n",
       "      <td>Back to the Future (1985)</td>\n",
       "      <td>458</td>\n",
       "    </tr>\n",
       "    <tr>\n",
       "      <th>30212</th>\n",
       "      <td>Toy Story (1995)</td>\n",
       "      <td>Raiders of the Lost Ark (Indiana Jones and the...</td>\n",
       "      <td>443</td>\n",
       "    </tr>\n",
       "    <tr>\n",
       "      <th>32536</th>\n",
       "      <td>Toy Story (1995)</td>\n",
       "      <td>Star Wars: Episode VI - Return of the Jedi (1983)</td>\n",
       "      <td>438</td>\n",
       "    </tr>\n",
       "  </tbody>\n",
       "</table>\n",
       "</div>"
      ],
      "text/plain": [
       "                movie_a                                            movie_b  \\\n",
       "10624  Toy Story (1995)                                Forrest Gump (1994)   \n",
       "8632   Toy Story (1995)                                Pulp Fiction (1994)   \n",
       "61420  Toy Story (1995)                                 Matrix, The (1999)   \n",
       "7304   Toy Story (1995)          Star Wars: Episode IV - A New Hope (1977)   \n",
       "13944  Toy Story (1995)                               Jurassic Park (1993)   \n",
       "18260  Toy Story (1995)                   Silence of the Lambs, The (1991)   \n",
       "9296   Toy Story (1995)                   Shawshank Redemption, The (1994)   \n",
       "37848  Toy Story (1995)                          Back to the Future (1985)   \n",
       "30212  Toy Story (1995)  Raiders of the Lost Ark (Indiana Jones and the...   \n",
       "32536  Toy Story (1995)  Star Wars: Episode VI - Return of the Jedi (1983)   \n",
       "\n",
       "       size  \n",
       "10624   500  \n",
       "8632    472  \n",
       "61420   469  \n",
       "7304    467  \n",
       "13944   465  \n",
       "18260   465  \n",
       "9296    458  \n",
       "37848   458  \n",
       "30212   443  \n",
       "32536   438  "
      ]
     },
     "execution_count": 34,
     "metadata": {},
     "output_type": "execute_result"
    }
   ],
   "source": [
    "pair_counts[pair_counts[\"movie_a\"] == \"Toy Story (1995)\"].sort_values(by=\"size\", ascending=False).head(10)"
   ]
  },
  {
   "cell_type": "markdown",
   "id": "a82aebee",
   "metadata": {},
   "source": [
    "### Content-based recommendation"
   ]
  },
  {
   "cell_type": "code",
   "execution_count": 73,
   "id": "e25b07c0",
   "metadata": {
    "ExecuteTime": {
     "end_time": "2023-08-31T23:25:40.720479Z",
     "start_time": "2023-08-31T23:25:40.632123Z"
    }
   },
   "outputs": [],
   "source": [
    "movies_and_genres = movies[['movieId']].join(genres).set_index('movieId')"
   ]
  },
  {
   "cell_type": "code",
   "execution_count": 102,
   "id": "c57bd49d",
   "metadata": {
    "ExecuteTime": {
     "end_time": "2023-08-31T23:56:19.364486Z",
     "start_time": "2023-08-31T23:54:14.444217Z"
    }
   },
   "outputs": [],
   "source": [
    "from sklearn.metrics import jaccard_score\n",
    "\n",
    "def get_similarities(movieId):\n",
    "    movie_row = movies_and_genres.loc[movieId]\n",
    "    movies_and_genres['similarities'] = movies_and_genres.apply(lambda x: jaccard_score(movie_row, x), axis=1)\n",
    "    return movies_and_genres.sort_values(by='similarities', ascending=False)\n",
    "\n",
    "movies_similarities = get_similarities(1)"
   ]
  },
  {
   "cell_type": "code",
   "execution_count": 111,
   "id": "5fab3b8c",
   "metadata": {
    "ExecuteTime": {
     "end_time": "2023-08-31T23:59:40.132524Z",
     "start_time": "2023-08-31T23:59:40.098603Z"
    }
   },
   "outputs": [
    {
     "data": {
      "text/html": [
       "<div>\n",
       "<style scoped>\n",
       "    .dataframe tbody tr th:only-of-type {\n",
       "        vertical-align: middle;\n",
       "    }\n",
       "\n",
       "    .dataframe tbody tr th {\n",
       "        vertical-align: top;\n",
       "    }\n",
       "\n",
       "    .dataframe thead th {\n",
       "        text-align: right;\n",
       "    }\n",
       "</style>\n",
       "<table border=\"1\" class=\"dataframe\">\n",
       "  <thead>\n",
       "    <tr style=\"text-align: right;\">\n",
       "      <th></th>\n",
       "      <th>title</th>\n",
       "      <th>genres</th>\n",
       "    </tr>\n",
       "    <tr>\n",
       "      <th>movieId</th>\n",
       "      <th></th>\n",
       "      <th></th>\n",
       "    </tr>\n",
       "  </thead>\n",
       "  <tbody>\n",
       "    <tr>\n",
       "      <th>1</th>\n",
       "      <td>Toy Story (1995)</td>\n",
       "      <td>Adventure|Animation|Children|Comedy|Fantasy</td>\n",
       "    </tr>\n",
       "    <tr>\n",
       "      <th>177037</th>\n",
       "      <td>Puss in Book: Trapped in an Epic Tale (2017)</td>\n",
       "      <td>Adventure|Animation|Children|Comedy|Fantasy</td>\n",
       "    </tr>\n",
       "    <tr>\n",
       "      <th>175625</th>\n",
       "      <td>The Dragon Spell (2016)</td>\n",
       "      <td>Adventure|Animation|Children|Comedy|Fantasy</td>\n",
       "    </tr>\n",
       "    <tr>\n",
       "      <th>136016</th>\n",
       "      <td>The Good Dinosaur (2015)</td>\n",
       "      <td>Adventure|Animation|Children|Comedy|Fantasy</td>\n",
       "    </tr>\n",
       "    <tr>\n",
       "      <th>136361</th>\n",
       "      <td>Scooby-Doo! Mask of the Blue Falcon (2012)</td>\n",
       "      <td>Adventure|Animation|Children|Comedy|Fantasy</td>\n",
       "    </tr>\n",
       "    <tr>\n",
       "      <th>4016</th>\n",
       "      <td>Emperor's New Groove, The (2000)</td>\n",
       "      <td>Adventure|Animation|Children|Comedy|Fantasy</td>\n",
       "    </tr>\n",
       "    <tr>\n",
       "      <th>186159</th>\n",
       "      <td>Tangled: Before Ever After (2017)</td>\n",
       "      <td>Adventure|Animation|Children|Comedy|Fantasy</td>\n",
       "    </tr>\n",
       "    <tr>\n",
       "      <th>186177</th>\n",
       "      <td>Trolls Holiday (2017)</td>\n",
       "      <td>Adventure|Animation|Children|Comedy|Fantasy</td>\n",
       "    </tr>\n",
       "    <tr>\n",
       "      <th>196693</th>\n",
       "      <td>Dragons: Dawn Of The Dragon Racers (2014)</td>\n",
       "      <td>Adventure|Animation|Children|Comedy|Fantasy</td>\n",
       "    </tr>\n",
       "    <tr>\n",
       "      <th>45074</th>\n",
       "      <td>Wild, The (2006)</td>\n",
       "      <td>Adventure|Animation|Children|Comedy|Fantasy</td>\n",
       "    </tr>\n",
       "  </tbody>\n",
       "</table>\n",
       "</div>"
      ],
      "text/plain": [
       "                                                title  \\\n",
       "movieId                                                 \n",
       "1                                    Toy Story (1995)   \n",
       "177037   Puss in Book: Trapped in an Epic Tale (2017)   \n",
       "175625                        The Dragon Spell (2016)   \n",
       "136016                       The Good Dinosaur (2015)   \n",
       "136361     Scooby-Doo! Mask of the Blue Falcon (2012)   \n",
       "4016                 Emperor's New Groove, The (2000)   \n",
       "186159              Tangled: Before Ever After (2017)   \n",
       "186177                          Trolls Holiday (2017)   \n",
       "196693      Dragons: Dawn Of The Dragon Racers (2014)   \n",
       "45074                                Wild, The (2006)   \n",
       "\n",
       "                                              genres  \n",
       "movieId                                               \n",
       "1        Adventure|Animation|Children|Comedy|Fantasy  \n",
       "177037   Adventure|Animation|Children|Comedy|Fantasy  \n",
       "175625   Adventure|Animation|Children|Comedy|Fantasy  \n",
       "136016   Adventure|Animation|Children|Comedy|Fantasy  \n",
       "136361   Adventure|Animation|Children|Comedy|Fantasy  \n",
       "4016     Adventure|Animation|Children|Comedy|Fantasy  \n",
       "186159   Adventure|Animation|Children|Comedy|Fantasy  \n",
       "186177   Adventure|Animation|Children|Comedy|Fantasy  \n",
       "196693   Adventure|Animation|Children|Comedy|Fantasy  \n",
       "45074    Adventure|Animation|Children|Comedy|Fantasy  "
      ]
     },
     "execution_count": 111,
     "metadata": {},
     "output_type": "execute_result"
    }
   ],
   "source": [
    "movies_similarities.head(10).join(movies.set_index('movieId'))[['title', 'genres']]"
   ]
  },
  {
   "cell_type": "markdown",
   "id": "1f3dbaad",
   "metadata": {},
   "source": [
    "## Colaborative filtering"
   ]
  },
  {
   "cell_type": "code",
   "execution_count": 181,
   "id": "76da7751",
   "metadata": {
    "ExecuteTime": {
     "end_time": "2023-08-27T00:31:58.822709Z",
     "start_time": "2023-08-27T00:31:58.310043Z"
    }
   },
   "outputs": [],
   "source": [
    "movie_id = 1\n",
    "\n",
    "# Users that watched our movie and rated >4\n",
    "similar_users = ratings.loc[(ratings[\"movieId\"] == movie_id) & (ratings[\"rating\"] > 4.0), \"userId\"].unique()\n",
    "\n",
    "# High rated movies (>4) that our similiar users watched\n",
    "similar_users_rec = ratings.loc[(ratings[\"userId\"].isin(similar_users)) & (ratings[\"rating\"] > 4.0), \"movieId\"]\n",
    "\n",
    "# Counting how many users watched our recomendation. Getting the percentage from similar users\n",
    "similar_rec_movies_percentage = (similar_users_rec.value_counts() / len(similar_users))\n",
    "\n",
    "# Restricting ourselves to 10%\n",
    "similar_rec_movies_percentage = similar_rec_movies_percentage[similar_rec_movies_percentage > 0.1]"
   ]
  },
  {
   "cell_type": "code",
   "execution_count": 198,
   "id": "22ff3725",
   "metadata": {
    "ExecuteTime": {
     "end_time": "2023-08-27T00:39:17.225627Z",
     "start_time": "2023-08-27T00:39:17.218759Z"
    }
   },
   "outputs": [
    {
     "data": {
      "text/plain": [
       "1        1.000000\n",
       "318      0.445607\n",
       "260      0.403770\n",
       "356      0.370215\n",
       "296      0.367295\n",
       "           ...   \n",
       "953      0.103053\n",
       "551      0.101195\n",
       "1222     0.100876\n",
       "745      0.100345\n",
       "48780    0.100186\n",
       "Name: movieId, Length: 113, dtype: float64"
      ]
     },
     "execution_count": 198,
     "metadata": {},
     "output_type": "execute_result"
    }
   ],
   "source": [
    "similar_rec_movies_percentage"
   ]
  },
  {
   "cell_type": "code",
   "execution_count": 199,
   "id": "3306fdf8",
   "metadata": {
    "ExecuteTime": {
     "end_time": "2023-08-27T00:39:24.807881Z",
     "start_time": "2023-08-27T00:39:24.182175Z"
    }
   },
   "outputs": [],
   "source": [
    "# We don't want movies that are there just because they are already popular\n",
    "\n",
    "all_users = ratings.loc[(ratings[\"movieId\"].isin(similar_rec_movies_percentage.index)&(ratings[\"rating\"]>4.0))]\n",
    "all_users_recs_percentage = all_users[\"movieId\"].value_counts() / len(all_users[\"userId\"].unique())"
   ]
  },
  {
   "cell_type": "code",
   "execution_count": 200,
   "id": "f62357eb",
   "metadata": {
    "ExecuteTime": {
     "end_time": "2023-08-27T00:39:31.358135Z",
     "start_time": "2023-08-27T00:39:31.350213Z"
    }
   },
   "outputs": [
    {
     "data": {
      "text/plain": [
       "318      0.342220\n",
       "296      0.284674\n",
       "2571     0.244033\n",
       "356      0.235266\n",
       "593      0.225909\n",
       "           ...   \n",
       "551      0.040918\n",
       "50872    0.039111\n",
       "745      0.037031\n",
       "78499    0.035131\n",
       "2355     0.025091\n",
       "Name: movieId, Length: 113, dtype: float64"
      ]
     },
     "execution_count": 200,
     "metadata": {},
     "output_type": "execute_result"
    }
   ],
   "source": [
    "all_users_recs_percentage"
   ]
  },
  {
   "cell_type": "code",
   "execution_count": 210,
   "id": "e9fd247c",
   "metadata": {
    "ExecuteTime": {
     "end_time": "2023-08-27T00:47:08.223064Z",
     "start_time": "2023-08-27T00:47:08.187968Z"
    }
   },
   "outputs": [],
   "source": [
    "# Creating a score\n",
    "\n",
    "rec_percentages = pd.concat([similar_rec_movies_percentage, all_users_recs_percentage], axis=1)\n",
    "rec_percentages.columns = [\"similar\", \"all\"]\n",
    "rec_percentages[\"score\"] = rec_percentages[\"similar\"] / rec_percentages[\"all\"]\n",
    "rec_percentages = rec_percentages.sort_values(\"score\", ascending=False).iloc[:9].merge(movies, left_index=True, right_on=\"movieId\")"
   ]
  },
  {
   "cell_type": "code",
   "execution_count": 211,
   "id": "9d692797",
   "metadata": {
    "ExecuteTime": {
     "end_time": "2023-08-27T00:47:12.438709Z",
     "start_time": "2023-08-27T00:47:12.410067Z"
    },
    "scrolled": true
   },
   "outputs": [
    {
     "data": {
      "text/html": [
       "<div>\n",
       "<style scoped>\n",
       "    .dataframe tbody tr th:only-of-type {\n",
       "        vertical-align: middle;\n",
       "    }\n",
       "\n",
       "    .dataframe tbody tr th {\n",
       "        vertical-align: top;\n",
       "    }\n",
       "\n",
       "    .dataframe thead th {\n",
       "        text-align: right;\n",
       "    }\n",
       "</style>\n",
       "<table border=\"1\" class=\"dataframe\">\n",
       "  <thead>\n",
       "    <tr style=\"text-align: right;\">\n",
       "      <th></th>\n",
       "      <th>similar</th>\n",
       "      <th>all</th>\n",
       "      <th>score</th>\n",
       "      <th>movieId</th>\n",
       "      <th>title</th>\n",
       "      <th>genres</th>\n",
       "      <th>clean_titles</th>\n",
       "    </tr>\n",
       "  </thead>\n",
       "  <tbody>\n",
       "    <tr>\n",
       "      <th>0</th>\n",
       "      <td>1.000000</td>\n",
       "      <td>0.124728</td>\n",
       "      <td>8.017414</td>\n",
       "      <td>1</td>\n",
       "      <td>Toy Story (1995)</td>\n",
       "      <td>Adventure|Animation|Children|Comedy|Fantasy</td>\n",
       "      <td>Toy Story 1995</td>\n",
       "    </tr>\n",
       "    <tr>\n",
       "      <th>3021</th>\n",
       "      <td>0.280648</td>\n",
       "      <td>0.053706</td>\n",
       "      <td>5.225654</td>\n",
       "      <td>3114</td>\n",
       "      <td>Toy Story 2 (1999)</td>\n",
       "      <td>Adventure|Animation|Children|Comedy|Fantasy</td>\n",
       "      <td>Toy Story 2 1999</td>\n",
       "    </tr>\n",
       "    <tr>\n",
       "      <th>2264</th>\n",
       "      <td>0.110539</td>\n",
       "      <td>0.025091</td>\n",
       "      <td>4.405452</td>\n",
       "      <td>2355</td>\n",
       "      <td>Bug's Life, A (1998)</td>\n",
       "      <td>Adventure|Animation|Children|Comedy</td>\n",
       "      <td>Bugs Life A 1998</td>\n",
       "    </tr>\n",
       "    <tr>\n",
       "      <th>14813</th>\n",
       "      <td>0.152960</td>\n",
       "      <td>0.035131</td>\n",
       "      <td>4.354038</td>\n",
       "      <td>78499</td>\n",
       "      <td>Toy Story 3 (2010)</td>\n",
       "      <td>Adventure|Animation|Children|Comedy|Fantasy|IMAX</td>\n",
       "      <td>Toy Story 3 2010</td>\n",
       "    </tr>\n",
       "    <tr>\n",
       "      <th>4780</th>\n",
       "      <td>0.235147</td>\n",
       "      <td>0.070811</td>\n",
       "      <td>3.320783</td>\n",
       "      <td>4886</td>\n",
       "      <td>Monsters, Inc. (2001)</td>\n",
       "      <td>Adventure|Animation|Children|Comedy|Fantasy</td>\n",
       "      <td>Monsters Inc 2001</td>\n",
       "    </tr>\n",
       "    <tr>\n",
       "      <th>580</th>\n",
       "      <td>0.216618</td>\n",
       "      <td>0.067513</td>\n",
       "      <td>3.208539</td>\n",
       "      <td>588</td>\n",
       "      <td>Aladdin (1992)</td>\n",
       "      <td>Adventure|Animation|Children|Comedy|Musical</td>\n",
       "      <td>Aladdin 1992</td>\n",
       "    </tr>\n",
       "    <tr>\n",
       "      <th>6258</th>\n",
       "      <td>0.228139</td>\n",
       "      <td>0.072268</td>\n",
       "      <td>3.156862</td>\n",
       "      <td>6377</td>\n",
       "      <td>Finding Nemo (2003)</td>\n",
       "      <td>Adventure|Animation|Children|Comedy</td>\n",
       "      <td>Finding Nemo 2003</td>\n",
       "    </tr>\n",
       "    <tr>\n",
       "      <th>587</th>\n",
       "      <td>0.179400</td>\n",
       "      <td>0.059977</td>\n",
       "      <td>2.991150</td>\n",
       "      <td>595</td>\n",
       "      <td>Beauty and the Beast (1991)</td>\n",
       "      <td>Animation|Children|Fantasy|Musical|Romance|IMAX</td>\n",
       "      <td>Beauty and the Beast 1991</td>\n",
       "    </tr>\n",
       "    <tr>\n",
       "      <th>8246</th>\n",
       "      <td>0.203504</td>\n",
       "      <td>0.068453</td>\n",
       "      <td>2.972889</td>\n",
       "      <td>8961</td>\n",
       "      <td>Incredibles, The (2004)</td>\n",
       "      <td>Action|Adventure|Animation|Children|Comedy</td>\n",
       "      <td>Incredibles The 2004</td>\n",
       "    </tr>\n",
       "  </tbody>\n",
       "</table>\n",
       "</div>"
      ],
      "text/plain": [
       "        similar       all     score  movieId                        title  \\\n",
       "0      1.000000  0.124728  8.017414        1             Toy Story (1995)   \n",
       "3021   0.280648  0.053706  5.225654     3114           Toy Story 2 (1999)   \n",
       "2264   0.110539  0.025091  4.405452     2355         Bug's Life, A (1998)   \n",
       "14813  0.152960  0.035131  4.354038    78499           Toy Story 3 (2010)   \n",
       "4780   0.235147  0.070811  3.320783     4886        Monsters, Inc. (2001)   \n",
       "580    0.216618  0.067513  3.208539      588               Aladdin (1992)   \n",
       "6258   0.228139  0.072268  3.156862     6377          Finding Nemo (2003)   \n",
       "587    0.179400  0.059977  2.991150      595  Beauty and the Beast (1991)   \n",
       "8246   0.203504  0.068453  2.972889     8961      Incredibles, The (2004)   \n",
       "\n",
       "                                                 genres  \\\n",
       "0           Adventure|Animation|Children|Comedy|Fantasy   \n",
       "3021        Adventure|Animation|Children|Comedy|Fantasy   \n",
       "2264                Adventure|Animation|Children|Comedy   \n",
       "14813  Adventure|Animation|Children|Comedy|Fantasy|IMAX   \n",
       "4780        Adventure|Animation|Children|Comedy|Fantasy   \n",
       "580         Adventure|Animation|Children|Comedy|Musical   \n",
       "6258                Adventure|Animation|Children|Comedy   \n",
       "587     Animation|Children|Fantasy|Musical|Romance|IMAX   \n",
       "8246         Action|Adventure|Animation|Children|Comedy   \n",
       "\n",
       "                    clean_titles  \n",
       "0                 Toy Story 1995  \n",
       "3021            Toy Story 2 1999  \n",
       "2264            Bugs Life A 1998  \n",
       "14813           Toy Story 3 2010  \n",
       "4780           Monsters Inc 2001  \n",
       "580                 Aladdin 1992  \n",
       "6258           Finding Nemo 2003  \n",
       "587    Beauty and the Beast 1991  \n",
       "8246        Incredibles The 2004  "
      ]
     },
     "execution_count": 211,
     "metadata": {},
     "output_type": "execute_result"
    }
   ],
   "source": [
    "rec_percentages"
   ]
  },
  {
   "cell_type": "code",
   "execution_count": null,
   "id": "0ccc16f1",
   "metadata": {},
   "outputs": [],
   "source": [
    "# KMeans: Genres, year, mean rating, number of ratings"
   ]
  }
 ],
 "metadata": {
  "kernelspec": {
   "display_name": "Python 3",
   "language": "python",
   "name": "python3"
  },
  "language_info": {
   "codemirror_mode": {
    "name": "ipython",
    "version": 3
   },
   "file_extension": ".py",
   "mimetype": "text/x-python",
   "name": "python",
   "nbconvert_exporter": "python",
   "pygments_lexer": "ipython3",
   "version": "3.8.10"
  },
  "varInspector": {
   "cols": {
    "lenName": 16,
    "lenType": 16,
    "lenVar": 40
   },
   "kernels_config": {
    "python": {
     "delete_cmd_postfix": "",
     "delete_cmd_prefix": "del ",
     "library": "var_list.py",
     "varRefreshCmd": "print(var_dic_list())"
    },
    "r": {
     "delete_cmd_postfix": ") ",
     "delete_cmd_prefix": "rm(",
     "library": "var_list.r",
     "varRefreshCmd": "cat(var_dic_list()) "
    }
   },
   "position": {
    "height": "435.844px",
    "left": "1082.28px",
    "right": "20px",
    "top": "120px",
    "width": "350px"
   },
   "types_to_exclude": [
    "module",
    "function",
    "builtin_function_or_method",
    "instance",
    "_Feature"
   ],
   "window_display": false
  }
 },
 "nbformat": 4,
 "nbformat_minor": 5
}
