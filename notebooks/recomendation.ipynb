{
 "cells": [
  {
   "cell_type": "markdown",
   "id": "9b26629f",
   "metadata": {},
   "source": [
    "# Movie Recommendations"
   ]
  },
  {
   "cell_type": "markdown",
   "id": "443490c0",
   "metadata": {},
   "source": [
    "Recommendation systems are used to filter among a catalog of possibilities, which ones should be presented to the user. Those systems can be used to enhance the user experience by making the content available to user relavant. In this project, we're going to explore a <a href=\"https://grouplens.org/datasets/movielens/25m/\">movie dataset</a>, and present some of the key types of recommendations systems."
   ]
  },
  {
   "cell_type": "markdown",
   "id": "fe00b462",
   "metadata": {},
   "source": [
    "## 1. Importing and inspecting data"
   ]
  },
  {
   "cell_type": "code",
   "execution_count": 1,
   "id": "5097e128",
   "metadata": {
    "ExecuteTime": {
     "end_time": "2023-09-05T16:20:40.275975Z",
     "start_time": "2023-09-05T16:20:39.137146Z"
    }
   },
   "outputs": [],
   "source": [
    "import pandas as pd\n",
    "import numpy as np\n",
    "import seaborn as sns\n",
    "import matplotlib.pyplot as plt"
   ]
  },
  {
   "cell_type": "markdown",
   "id": "5f183b0d",
   "metadata": {},
   "source": [
    "We start by importing and checking our data."
   ]
  },
  {
   "cell_type": "code",
   "execution_count": 2,
   "id": "bf579394",
   "metadata": {
    "ExecuteTime": {
     "end_time": "2023-09-05T16:20:41.795056Z",
     "start_time": "2023-09-05T16:20:40.278429Z"
    }
   },
   "outputs": [],
   "source": [
    "movies = pd.read_parquet(\"../data/movies.parquet\")\n",
    "ratings = pd.read_parquet(\"../data/ratings.parquet\")"
   ]
  },
  {
   "cell_type": "code",
   "execution_count": 3,
   "id": "b3d39eae",
   "metadata": {
    "ExecuteTime": {
     "end_time": "2023-09-05T16:20:41.836828Z",
     "start_time": "2023-09-05T16:20:41.797223Z"
    }
   },
   "outputs": [
    {
     "data": {
      "text/html": [
       "<div>\n",
       "<style scoped>\n",
       "    .dataframe tbody tr th:only-of-type {\n",
       "        vertical-align: middle;\n",
       "    }\n",
       "\n",
       "    .dataframe tbody tr th {\n",
       "        vertical-align: top;\n",
       "    }\n",
       "\n",
       "    .dataframe thead th {\n",
       "        text-align: right;\n",
       "    }\n",
       "</style>\n",
       "<table border=\"1\" class=\"dataframe\">\n",
       "  <thead>\n",
       "    <tr style=\"text-align: right;\">\n",
       "      <th></th>\n",
       "      <th>movieId</th>\n",
       "      <th>title</th>\n",
       "      <th>genres</th>\n",
       "    </tr>\n",
       "  </thead>\n",
       "  <tbody>\n",
       "    <tr>\n",
       "      <th>0</th>\n",
       "      <td>1</td>\n",
       "      <td>Toy Story (1995)</td>\n",
       "      <td>Adventure|Animation|Children|Comedy|Fantasy</td>\n",
       "    </tr>\n",
       "    <tr>\n",
       "      <th>1</th>\n",
       "      <td>2</td>\n",
       "      <td>Jumanji (1995)</td>\n",
       "      <td>Adventure|Children|Fantasy</td>\n",
       "    </tr>\n",
       "    <tr>\n",
       "      <th>2</th>\n",
       "      <td>3</td>\n",
       "      <td>Grumpier Old Men (1995)</td>\n",
       "      <td>Comedy|Romance</td>\n",
       "    </tr>\n",
       "    <tr>\n",
       "      <th>3</th>\n",
       "      <td>4</td>\n",
       "      <td>Waiting to Exhale (1995)</td>\n",
       "      <td>Comedy|Drama|Romance</td>\n",
       "    </tr>\n",
       "    <tr>\n",
       "      <th>4</th>\n",
       "      <td>5</td>\n",
       "      <td>Father of the Bride Part II (1995)</td>\n",
       "      <td>Comedy</td>\n",
       "    </tr>\n",
       "  </tbody>\n",
       "</table>\n",
       "</div>"
      ],
      "text/plain": [
       "   movieId                               title  \\\n",
       "0        1                    Toy Story (1995)   \n",
       "1        2                      Jumanji (1995)   \n",
       "2        3             Grumpier Old Men (1995)   \n",
       "3        4            Waiting to Exhale (1995)   \n",
       "4        5  Father of the Bride Part II (1995)   \n",
       "\n",
       "                                        genres  \n",
       "0  Adventure|Animation|Children|Comedy|Fantasy  \n",
       "1                   Adventure|Children|Fantasy  \n",
       "2                               Comedy|Romance  \n",
       "3                         Comedy|Drama|Romance  \n",
       "4                                       Comedy  "
      ]
     },
     "execution_count": 3,
     "metadata": {},
     "output_type": "execute_result"
    }
   ],
   "source": [
    "movies.head()"
   ]
  },
  {
   "cell_type": "code",
   "execution_count": 4,
   "id": "86e0da73",
   "metadata": {
    "ExecuteTime": {
     "end_time": "2023-09-05T16:20:41.861755Z",
     "start_time": "2023-09-05T16:20:41.842085Z"
    }
   },
   "outputs": [
    {
     "data": {
      "text/html": [
       "<div>\n",
       "<style scoped>\n",
       "    .dataframe tbody tr th:only-of-type {\n",
       "        vertical-align: middle;\n",
       "    }\n",
       "\n",
       "    .dataframe tbody tr th {\n",
       "        vertical-align: top;\n",
       "    }\n",
       "\n",
       "    .dataframe thead th {\n",
       "        text-align: right;\n",
       "    }\n",
       "</style>\n",
       "<table border=\"1\" class=\"dataframe\">\n",
       "  <thead>\n",
       "    <tr style=\"text-align: right;\">\n",
       "      <th></th>\n",
       "      <th>userId</th>\n",
       "      <th>movieId</th>\n",
       "      <th>rating</th>\n",
       "      <th>timestamp</th>\n",
       "    </tr>\n",
       "  </thead>\n",
       "  <tbody>\n",
       "    <tr>\n",
       "      <th>0</th>\n",
       "      <td>1</td>\n",
       "      <td>296</td>\n",
       "      <td>5.0</td>\n",
       "      <td>1147880044</td>\n",
       "    </tr>\n",
       "    <tr>\n",
       "      <th>1</th>\n",
       "      <td>1</td>\n",
       "      <td>306</td>\n",
       "      <td>3.5</td>\n",
       "      <td>1147868817</td>\n",
       "    </tr>\n",
       "    <tr>\n",
       "      <th>2</th>\n",
       "      <td>1</td>\n",
       "      <td>307</td>\n",
       "      <td>5.0</td>\n",
       "      <td>1147868828</td>\n",
       "    </tr>\n",
       "    <tr>\n",
       "      <th>3</th>\n",
       "      <td>1</td>\n",
       "      <td>665</td>\n",
       "      <td>5.0</td>\n",
       "      <td>1147878820</td>\n",
       "    </tr>\n",
       "    <tr>\n",
       "      <th>4</th>\n",
       "      <td>1</td>\n",
       "      <td>899</td>\n",
       "      <td>3.5</td>\n",
       "      <td>1147868510</td>\n",
       "    </tr>\n",
       "  </tbody>\n",
       "</table>\n",
       "</div>"
      ],
      "text/plain": [
       "   userId  movieId  rating   timestamp\n",
       "0       1      296     5.0  1147880044\n",
       "1       1      306     3.5  1147868817\n",
       "2       1      307     5.0  1147868828\n",
       "3       1      665     5.0  1147878820\n",
       "4       1      899     3.5  1147868510"
      ]
     },
     "execution_count": 4,
     "metadata": {},
     "output_type": "execute_result"
    }
   ],
   "source": [
    "ratings.head()"
   ]
  },
  {
   "cell_type": "code",
   "execution_count": 5,
   "id": "66b04cbe",
   "metadata": {
    "ExecuteTime": {
     "end_time": "2023-09-05T16:20:41.949874Z",
     "start_time": "2023-09-05T16:20:41.867341Z"
    }
   },
   "outputs": [
    {
     "name": "stdout",
     "output_type": "stream",
     "text": [
      "<class 'pandas.core.frame.DataFrame'>\n",
      "RangeIndex: 62423 entries, 0 to 62422\n",
      "Data columns (total 3 columns):\n",
      " #   Column   Non-Null Count  Dtype \n",
      "---  ------   --------------  ----- \n",
      " 0   movieId  62423 non-null  int64 \n",
      " 1   title    62423 non-null  object\n",
      " 2   genres   62423 non-null  object\n",
      "dtypes: int64(1), object(2)\n",
      "memory usage: 1.4+ MB\n"
     ]
    }
   ],
   "source": [
    "movies.info()"
   ]
  },
  {
   "cell_type": "code",
   "execution_count": 6,
   "id": "ef450708",
   "metadata": {
    "ExecuteTime": {
     "end_time": "2023-09-05T16:20:42.070193Z",
     "start_time": "2023-09-05T16:20:41.957622Z"
    },
    "scrolled": true
   },
   "outputs": [
    {
     "name": "stdout",
     "output_type": "stream",
     "text": [
      "<class 'pandas.core.frame.DataFrame'>\n",
      "RangeIndex: 25000095 entries, 0 to 25000094\n",
      "Data columns (total 4 columns):\n",
      " #   Column     Dtype  \n",
      "---  ------     -----  \n",
      " 0   userId     int64  \n",
      " 1   movieId    int64  \n",
      " 2   rating     float64\n",
      " 3   timestamp  int64  \n",
      "dtypes: float64(1), int64(3)\n",
      "memory usage: 762.9 MB\n"
     ]
    }
   ],
   "source": [
    "ratings.info()"
   ]
  },
  {
   "cell_type": "code",
   "execution_count": 7,
   "id": "772799ae",
   "metadata": {
    "ExecuteTime": {
     "end_time": "2023-09-05T16:20:42.136427Z",
     "start_time": "2023-09-05T16:20:42.072778Z"
    }
   },
   "outputs": [
    {
     "data": {
      "text/plain": [
       "movieId    0\n",
       "title      0\n",
       "genres     0\n",
       "dtype: int64"
      ]
     },
     "execution_count": 7,
     "metadata": {},
     "output_type": "execute_result"
    }
   ],
   "source": [
    "movies.isna().sum()"
   ]
  },
  {
   "cell_type": "code",
   "execution_count": 8,
   "id": "275783b2",
   "metadata": {
    "ExecuteTime": {
     "end_time": "2023-09-05T16:20:42.340380Z",
     "start_time": "2023-09-05T16:20:42.149881Z"
    }
   },
   "outputs": [
    {
     "data": {
      "text/plain": [
       "userId       0\n",
       "movieId      0\n",
       "rating       0\n",
       "timestamp    0\n",
       "dtype: int64"
      ]
     },
     "execution_count": 8,
     "metadata": {},
     "output_type": "execute_result"
    }
   ],
   "source": [
    "ratings.isna().sum()"
   ]
  },
  {
   "cell_type": "code",
   "execution_count": 9,
   "id": "9bcb7bc5",
   "metadata": {
    "ExecuteTime": {
     "end_time": "2023-09-05T16:20:42.408764Z",
     "start_time": "2023-09-05T16:20:42.344800Z"
    }
   },
   "outputs": [
    {
     "data": {
      "text/plain": [
       "0"
      ]
     },
     "execution_count": 9,
     "metadata": {},
     "output_type": "execute_result"
    }
   ],
   "source": [
    "movies.duplicated().sum()"
   ]
  },
  {
   "cell_type": "code",
   "execution_count": 10,
   "id": "53d55904",
   "metadata": {
    "ExecuteTime": {
     "end_time": "2023-09-05T16:20:54.204758Z",
     "start_time": "2023-09-05T16:20:42.412102Z"
    }
   },
   "outputs": [
    {
     "data": {
      "text/plain": [
       "0"
      ]
     },
     "execution_count": 10,
     "metadata": {},
     "output_type": "execute_result"
    }
   ],
   "source": [
    "ratings.duplicated().sum()"
   ]
  },
  {
   "cell_type": "code",
   "execution_count": 11,
   "id": "d9fe49d3",
   "metadata": {
    "ExecuteTime": {
     "end_time": "2023-09-05T16:20:54.225528Z",
     "start_time": "2023-09-05T16:20:54.206875Z"
    }
   },
   "outputs": [
    {
     "data": {
      "text/plain": [
       "98"
      ]
     },
     "execution_count": 11,
     "metadata": {},
     "output_type": "execute_result"
    }
   ],
   "source": [
    "# There are duplicated titles\n",
    "movies['title'].duplicated().sum()"
   ]
  },
  {
   "cell_type": "markdown",
   "id": "d1ec0152",
   "metadata": {},
   "source": [
    "We don't have any nulls or duplicated data. But be mindful that there are duplicated movies titles."
   ]
  },
  {
   "cell_type": "markdown",
   "id": "87ee4374",
   "metadata": {},
   "source": [
    "## 2. Feature extraction"
   ]
  },
  {
   "cell_type": "markdown",
   "id": "e5fb22ed",
   "metadata": {},
   "source": [
    "We are going to extract the year from the title of the movie and create genres columns."
   ]
  },
  {
   "cell_type": "code",
   "execution_count": 12,
   "id": "27056fa9",
   "metadata": {
    "ExecuteTime": {
     "end_time": "2023-09-05T16:20:54.408040Z",
     "start_time": "2023-09-05T16:20:54.227535Z"
    }
   },
   "outputs": [],
   "source": [
    "# Extracting year from title with regex\n",
    "movies[\"year\"] = movies['title'].str.extract(r'\\((\\d{4})\\)')"
   ]
  },
  {
   "cell_type": "code",
   "execution_count": 13,
   "id": "15ed9249",
   "metadata": {
    "ExecuteTime": {
     "end_time": "2023-09-05T16:20:54.939222Z",
     "start_time": "2023-09-05T16:20:54.410153Z"
    }
   },
   "outputs": [],
   "source": [
    "# Creating genres columns\n",
    "genres = movies['genres'].str.get_dummies('|')"
   ]
  },
  {
   "cell_type": "markdown",
   "id": "87be7b96",
   "metadata": {
    "ExecuteTime": {
     "end_time": "2023-08-31T23:14:45.008862Z",
     "start_time": "2023-08-31T23:14:45.005479Z"
    }
   },
   "source": [
    "We could convert the timestamp to datetime to get temporal features. But for now, we stick to those features."
   ]
  },
  {
   "cell_type": "markdown",
   "id": "a38b008c",
   "metadata": {
    "ExecuteTime": {
     "end_time": "2023-08-31T21:19:41.115570Z",
     "start_time": "2023-08-31T21:19:41.109690Z"
    }
   },
   "source": [
    "## 3. EDA"
   ]
  },
  {
   "cell_type": "markdown",
   "id": "a3cf45b8",
   "metadata": {},
   "source": [
    "Let's explore the dataset to get some insights."
   ]
  },
  {
   "cell_type": "code",
   "execution_count": 14,
   "id": "e77de582",
   "metadata": {
    "ExecuteTime": {
     "end_time": "2023-09-05T16:20:55.404457Z",
     "start_time": "2023-09-05T16:20:54.941574Z"
    },
    "scrolled": false
   },
   "outputs": [
    {
     "data": {
      "image/png": "[encoded data removed]",
      "text/plain": [
       "<Figure size 432x288 with 1 Axes>"
      ]
     },
     "metadata": {
      "needs_background": "light"
     },
     "output_type": "display_data"
    }
   ],
   "source": [
    "# Most present genres\n",
    "genres.sum().sort_values(ascending=False).plot(kind='bar')\n",
    "plt.title('Genres')\n",
    "plt.show()"
   ]
  },
  {
   "cell_type": "code",
   "execution_count": 15,
   "id": "40521cb5",
   "metadata": {
    "ExecuteTime": {
     "end_time": "2023-09-05T16:20:55.835478Z",
     "start_time": "2023-09-05T16:20:55.406680Z"
    }
   },
   "outputs": [
    {
     "data": {
      "image/png": "[encoded data removed]",
      "text/plain": [
       "<Figure size 432x288 with 1 Axes>"
      ]
     },
     "metadata": {
      "needs_background": "light"
     },
     "output_type": "display_data"
    }
   ],
   "source": [
    "# Choose a movie, and check the rating distribution\n",
    "toy_id = movies.loc[movies['title'] == 'Toy Story (1995)', 'movieId'].values[0]\n",
    "toy_ratings = ratings.loc[ratings['movieId'] == toy_id, 'rating']\n",
    "\n",
    "plt.hist(toy_ratings)\n",
    "plt.xlabel('Rating')\n",
    "plt.title('Toy Story (1995) ratings')\n",
    "plt.show()"
   ]
  },
  {
   "cell_type": "code",
   "execution_count": 16,
   "id": "bc394e25",
   "metadata": {
    "ExecuteTime": {
     "end_time": "2023-09-05T16:20:56.501975Z",
     "start_time": "2023-09-05T16:20:55.838013Z"
    },
    "scrolled": false
   },
   "outputs": [
    {
     "data": {
      "text/html": [
       "<div>\n",
       "<style scoped>\n",
       "    .dataframe tbody tr th:only-of-type {\n",
       "        vertical-align: middle;\n",
       "    }\n",
       "\n",
       "    .dataframe tbody tr th {\n",
       "        vertical-align: top;\n",
       "    }\n",
       "\n",
       "    .dataframe thead th {\n",
       "        text-align: right;\n",
       "    }\n",
       "</style>\n",
       "<table border=\"1\" class=\"dataframe\">\n",
       "  <thead>\n",
       "    <tr style=\"text-align: right;\">\n",
       "      <th></th>\n",
       "      <th>title</th>\n",
       "    </tr>\n",
       "  </thead>\n",
       "  <tbody>\n",
       "    <tr>\n",
       "      <th>351</th>\n",
       "      <td>Forrest Gump (1994)</td>\n",
       "    </tr>\n",
       "    <tr>\n",
       "      <th>314</th>\n",
       "      <td>Shawshank Redemption, The (1994)</td>\n",
       "    </tr>\n",
       "    <tr>\n",
       "      <th>292</th>\n",
       "      <td>Pulp Fiction (1994)</td>\n",
       "    </tr>\n",
       "    <tr>\n",
       "      <th>585</th>\n",
       "      <td>Silence of the Lambs, The (1991)</td>\n",
       "    </tr>\n",
       "    <tr>\n",
       "      <th>2480</th>\n",
       "      <td>Matrix, The (1999)</td>\n",
       "    </tr>\n",
       "    <tr>\n",
       "      <th>257</th>\n",
       "      <td>Star Wars: Episode IV - A New Hope (1977)</td>\n",
       "    </tr>\n",
       "    <tr>\n",
       "      <th>475</th>\n",
       "      <td>Jurassic Park (1993)</td>\n",
       "    </tr>\n",
       "    <tr>\n",
       "      <th>522</th>\n",
       "      <td>Schindler's List (1993)</td>\n",
       "    </tr>\n",
       "    <tr>\n",
       "      <th>108</th>\n",
       "      <td>Braveheart (1995)</td>\n",
       "    </tr>\n",
       "    <tr>\n",
       "      <th>2867</th>\n",
       "      <td>Fight Club (1999)</td>\n",
       "    </tr>\n",
       "    <tr>\n",
       "      <th>581</th>\n",
       "      <td>Terminator 2: Judgment Day (1991)</td>\n",
       "    </tr>\n",
       "    <tr>\n",
       "      <th>1166</th>\n",
       "      <td>Star Wars: Episode V - The Empire Strikes Back...</td>\n",
       "    </tr>\n",
       "    <tr>\n",
       "      <th>0</th>\n",
       "      <td>Toy Story (1995)</td>\n",
       "    </tr>\n",
       "    <tr>\n",
       "      <th>4887</th>\n",
       "      <td>Lord of the Rings: The Fellowship of the Ring,...</td>\n",
       "    </tr>\n",
       "    <tr>\n",
       "      <th>49</th>\n",
       "      <td>Usual Suspects, The (1995)</td>\n",
       "    </tr>\n",
       "    <tr>\n",
       "      <th>1179</th>\n",
       "      <td>Star Wars: Episode VI - Return of the Jedi (1983)</td>\n",
       "    </tr>\n",
       "    <tr>\n",
       "      <th>1168</th>\n",
       "      <td>Raiders of the Lost Ark (Indiana Jones and the...</td>\n",
       "    </tr>\n",
       "    <tr>\n",
       "      <th>2766</th>\n",
       "      <td>American Beauty (1999)</td>\n",
       "    </tr>\n",
       "    <tr>\n",
       "      <th>840</th>\n",
       "      <td>Godfather, The (1972)</td>\n",
       "    </tr>\n",
       "  </tbody>\n",
       "</table>\n",
       "</div>"
      ],
      "text/plain": [
       "                                                  title\n",
       "351                                 Forrest Gump (1994)\n",
       "314                    Shawshank Redemption, The (1994)\n",
       "292                                 Pulp Fiction (1994)\n",
       "585                    Silence of the Lambs, The (1991)\n",
       "2480                                 Matrix, The (1999)\n",
       "257           Star Wars: Episode IV - A New Hope (1977)\n",
       "475                                Jurassic Park (1993)\n",
       "522                             Schindler's List (1993)\n",
       "108                                   Braveheart (1995)\n",
       "2867                                  Fight Club (1999)\n",
       "581                   Terminator 2: Judgment Day (1991)\n",
       "1166  Star Wars: Episode V - The Empire Strikes Back...\n",
       "0                                      Toy Story (1995)\n",
       "4887  Lord of the Rings: The Fellowship of the Ring,...\n",
       "49                           Usual Suspects, The (1995)\n",
       "1179  Star Wars: Episode VI - Return of the Jedi (1983)\n",
       "1168  Raiders of the Lost Ark (Indiana Jones and the...\n",
       "2766                             American Beauty (1999)\n",
       "840                               Godfather, The (1972)"
      ]
     },
     "execution_count": 16,
     "metadata": {},
     "output_type": "execute_result"
    }
   ],
   "source": [
    "# Ratings count - What are the top 5% most rated movies?\n",
    "\n",
    "ratings_count = ratings.groupby('movieId')['rating'].count().sort_values(ascending=False)\n",
    "ratings_count_norm = ratings_count / ratings_count.sum()\n",
    "top_5 = ratings_count_norm[ratings_count_norm.cumsum() < 0.05].to_frame()\n",
    "top_5.merge(right=movies[['movieId', 'title']], left_index=True, right_on='movieId')[['title']]"
   ]
  },
  {
   "cell_type": "code",
   "execution_count": 17,
   "id": "698741fd",
   "metadata": {
    "ExecuteTime": {
     "end_time": "2023-09-05T16:20:56.749373Z",
     "start_time": "2023-09-05T16:20:56.504330Z"
    }
   },
   "outputs": [
    {
     "data": {
      "image/png": "[encoded data removed]",
      "text/plain": [
       "<Figure size 432x288 with 1 Axes>"
      ]
     },
     "metadata": {
      "needs_background": "light"
     },
     "output_type": "display_data"
    }
   ],
   "source": [
    "# Movies per year\n",
    "\n",
    "movies.groupby('year').size().plot()\n",
    "plt.ylabel('# Movies')\n",
    "plt.title('Number of movies per year')\n",
    "plt.show()"
   ]
  },
  {
   "cell_type": "code",
   "execution_count": 18,
   "id": "ec780583",
   "metadata": {
    "ExecuteTime": {
     "end_time": "2023-09-05T16:20:56.754787Z",
     "start_time": "2023-09-05T16:20:56.751581Z"
    }
   },
   "outputs": [],
   "source": [
    "# We could explore more questions:\n",
    "# Movie time series per gender\n",
    "# What's the highest mean rating movie?"
   ]
  },
  {
   "cell_type": "markdown",
   "id": "6341ac5c",
   "metadata": {},
   "source": [
    "## 4. Search engine"
   ]
  },
  {
   "cell_type": "markdown",
   "id": "4df17397",
   "metadata": {},
   "source": [
    "Our first task is to make a **search engine**. When a user type a movie title, a function search the most similar rows in the database. First we clean our titles to get only letters and numbers and convert every instance in a vector using **TF-IDF**. Then, we compare those vectors using **cosine similarity** and return the best items."
   ]
  },
  {
   "cell_type": "code",
   "execution_count": 19,
   "id": "c683fd02",
   "metadata": {
    "ExecuteTime": {
     "end_time": "2023-09-05T16:20:56.947828Z",
     "start_time": "2023-09-05T16:20:56.757738Z"
    }
   },
   "outputs": [],
   "source": [
    "# Cleaning titles with regex\n",
    "\n",
    "import re\n",
    "\n",
    "def clean(title):\n",
    "    return re.sub(\"[^a-zA-Z0-9 ]\", \"\", title)\n",
    "\n",
    "movies[\"clean_titles\"] = movies[\"title\"].apply(clean)"
   ]
  },
  {
   "cell_type": "code",
   "execution_count": 20,
   "id": "ffa6466c",
   "metadata": {
    "ExecuteTime": {
     "end_time": "2023-09-05T16:20:58.987568Z",
     "start_time": "2023-09-05T16:20:56.950209Z"
    }
   },
   "outputs": [],
   "source": [
    "# TF-IDF\n",
    "\n",
    "from sklearn.feature_extraction.text import TfidfVectorizer\n",
    "\n",
    "vec = TfidfVectorizer(ngram_range=(1, 3))\n",
    "\n",
    "titles_vec = vec.fit_transform(movies[\"clean_titles\"])"
   ]
  },
  {
   "cell_type": "code",
   "execution_count": 21,
   "id": "4a9a4880",
   "metadata": {
    "ExecuteTime": {
     "end_time": "2023-09-05T16:20:59.052486Z",
     "start_time": "2023-09-05T16:20:58.990212Z"
    }
   },
   "outputs": [],
   "source": [
    "from sklearn.metrics.pairwise import cosine_similarity\n",
    "\n",
    "def search(title):\n",
    "    title = clean(title)\n",
    "    query_vec = vec.transform([title])\n",
    "    similarity = cosine_similarity(query_vec, titles_vec).flatten()\n",
    "    \n",
    "    # Selecting top 5 movies\n",
    "    idx = np.argpartition(similarity, kth=-5)[-5:]\n",
    "\n",
    "    results = movies.iloc[idx][::-1]\n",
    "    return results"
   ]
  },
  {
   "cell_type": "code",
   "execution_count": 22,
   "id": "94a64fc4",
   "metadata": {
    "ExecuteTime": {
     "end_time": "2023-09-05T16:20:59.078868Z",
     "start_time": "2023-09-05T16:20:59.055575Z"
    }
   },
   "outputs": [],
   "source": [
    "import ipywidgets as widgets\n",
    "from IPython.display import display\n",
    "\n",
    "movie_input = widgets.Text(description=\"Movie title\", value=\"Toy Story 1995\", disabled=False)\n",
    "movie_output = widgets.Output()\n",
    "\n",
    "def when_type(data):\n",
    "    with movie_output:\n",
    "        movie_output.clear_output()\n",
    "        title = data[\"new\"]\n",
    "        if len(title) > 5:\n",
    "            display(search(title))\n",
    "\n",
    "movie_input.observe(when_type, names='value')"
   ]
  },
  {
   "cell_type": "code",
   "execution_count": 23,
   "id": "3ff789b2",
   "metadata": {
    "ExecuteTime": {
     "end_time": "2023-09-05T16:20:59.096656Z",
     "start_time": "2023-09-05T16:20:59.089504Z"
    }
   },
   "outputs": [
    {
     "data": {
      "application/vnd.jupyter.widget-view+json": {
       "model_id": "1748f39ab5794a3c952c05e84e2503fd",
       "version_major": 2,
       "version_minor": 0
      },
      "text/plain": [
       "Text(value='Toy Story 1995', description='Movie title')"
      ]
     },
     "metadata": {},
     "output_type": "display_data"
    },
    {
     "data": {
      "application/vnd.jupyter.widget-view+json": {
       "model_id": "345376ad29f9466883591ba78b729fee",
       "version_major": 2,
       "version_minor": 0
      },
      "text/plain": [
       "Output()"
      ]
     },
     "metadata": {},
     "output_type": "display_data"
    }
   ],
   "source": [
    "display(movie_input, movie_output)"
   ]
  },
  {
   "cell_type": "markdown",
   "id": "9a60cfb1",
   "metadata": {
    "ExecuteTime": {
     "end_time": "2023-08-26T23:22:44.291870Z",
     "start_time": "2023-08-26T23:22:44.287906Z"
    }
   },
   "source": [
    "## 5. Recomendation systems"
   ]
  },
  {
   "cell_type": "markdown",
   "id": "e7a604f4",
   "metadata": {},
   "source": [
    "### 5.1 Non-personalized recomendations"
   ]
  },
  {
   "cell_type": "markdown",
   "id": "f650200c",
   "metadata": {},
   "source": [
    "Our first recommenders are **non-personalized** in the sense that they are not based on the individual user information. The information used can be the global watch rate, ratings, seem together movies or content based recommendations. Those systems are useful as product showcase."
   ]
  },
  {
   "cell_type": "markdown",
   "id": "d8fc6c83",
   "metadata": {},
   "source": [
    "#### 5.1.1 High rate/watch movies"
   ]
  },
  {
   "cell_type": "markdown",
   "id": "005e5596",
   "metadata": {},
   "source": [
    "A first recommender can be made by ranking the best reviewed movies, but filtering by only movies with a certain number of reviews."
   ]
  },
  {
   "cell_type": "code",
   "execution_count": 24,
   "id": "6d8c2c99",
   "metadata": {
    "ExecuteTime": {
     "end_time": "2023-09-05T16:21:00.116003Z",
     "start_time": "2023-09-05T16:20:59.102195Z"
    }
   },
   "outputs": [],
   "source": [
    "# Movies with more than 500 reviews\n",
    "\n",
    "review_count = ratings[\"movieId\"].value_counts()\n",
    "pop_movies = review_count[review_count > 3000].index"
   ]
  },
  {
   "cell_type": "code",
   "execution_count": 25,
   "id": "f3f256f4",
   "metadata": {
    "ExecuteTime": {
     "end_time": "2023-09-05T16:21:01.748441Z",
     "start_time": "2023-09-05T16:21:00.118217Z"
    }
   },
   "outputs": [],
   "source": [
    "# Best reviewed movies\n",
    "\n",
    "pop_movies_ratings = ratings[ratings[\"movieId\"].isin(pop_movies)]\n",
    "movie_rec = pop_movies_ratings[[\"rating\", \"movieId\"]].groupby(\"movieId\").mean().sort_values(by=\"rating\", \n",
    "                                                                           ascending=False).reset_index()\n"
   ]
  },
  {
   "cell_type": "code",
   "execution_count": 26,
   "id": "a6e054c5",
   "metadata": {
    "ExecuteTime": {
     "end_time": "2023-09-05T16:21:01.799517Z",
     "start_time": "2023-09-05T16:21:01.750540Z"
    },
    "scrolled": false
   },
   "outputs": [
    {
     "data": {
      "text/html": [
       "<div>\n",
       "<style scoped>\n",
       "    .dataframe tbody tr th:only-of-type {\n",
       "        vertical-align: middle;\n",
       "    }\n",
       "\n",
       "    .dataframe tbody tr th {\n",
       "        vertical-align: top;\n",
       "    }\n",
       "\n",
       "    .dataframe thead th {\n",
       "        text-align: right;\n",
       "    }\n",
       "</style>\n",
       "<table border=\"1\" class=\"dataframe\">\n",
       "  <thead>\n",
       "    <tr style=\"text-align: right;\">\n",
       "      <th></th>\n",
       "      <th>movieId</th>\n",
       "      <th>rating</th>\n",
       "      <th>title</th>\n",
       "    </tr>\n",
       "  </thead>\n",
       "  <tbody>\n",
       "    <tr>\n",
       "      <th>0</th>\n",
       "      <td>318</td>\n",
       "      <td>4.413576</td>\n",
       "      <td>Shawshank Redemption, The (1994)</td>\n",
       "    </tr>\n",
       "    <tr>\n",
       "      <th>1</th>\n",
       "      <td>858</td>\n",
       "      <td>4.324336</td>\n",
       "      <td>Godfather, The (1972)</td>\n",
       "    </tr>\n",
       "    <tr>\n",
       "      <th>2</th>\n",
       "      <td>50</td>\n",
       "      <td>4.284353</td>\n",
       "      <td>Usual Suspects, The (1995)</td>\n",
       "    </tr>\n",
       "    <tr>\n",
       "      <th>3</th>\n",
       "      <td>1221</td>\n",
       "      <td>4.261759</td>\n",
       "      <td>Godfather: Part II, The (1974)</td>\n",
       "    </tr>\n",
       "    <tr>\n",
       "      <th>4</th>\n",
       "      <td>2019</td>\n",
       "      <td>4.254769</td>\n",
       "      <td>Seven Samurai (Shichinin no samurai) (1954)</td>\n",
       "    </tr>\n",
       "    <tr>\n",
       "      <th>5</th>\n",
       "      <td>527</td>\n",
       "      <td>4.247579</td>\n",
       "      <td>Schindler's List (1993)</td>\n",
       "    </tr>\n",
       "    <tr>\n",
       "      <th>6</th>\n",
       "      <td>1203</td>\n",
       "      <td>4.243014</td>\n",
       "      <td>12 Angry Men (1957)</td>\n",
       "    </tr>\n",
       "    <tr>\n",
       "      <th>7</th>\n",
       "      <td>904</td>\n",
       "      <td>4.237948</td>\n",
       "      <td>Rear Window (1954)</td>\n",
       "    </tr>\n",
       "    <tr>\n",
       "      <th>8</th>\n",
       "      <td>2959</td>\n",
       "      <td>4.228311</td>\n",
       "      <td>Fight Club (1999)</td>\n",
       "    </tr>\n",
       "    <tr>\n",
       "      <th>9</th>\n",
       "      <td>1193</td>\n",
       "      <td>4.218662</td>\n",
       "      <td>One Flew Over the Cuckoo's Nest (1975)</td>\n",
       "    </tr>\n",
       "  </tbody>\n",
       "</table>\n",
       "</div>"
      ],
      "text/plain": [
       "   movieId    rating                                        title\n",
       "0      318  4.413576             Shawshank Redemption, The (1994)\n",
       "1      858  4.324336                        Godfather, The (1972)\n",
       "2       50  4.284353                   Usual Suspects, The (1995)\n",
       "3     1221  4.261759               Godfather: Part II, The (1974)\n",
       "4     2019  4.254769  Seven Samurai (Shichinin no samurai) (1954)\n",
       "5      527  4.247579                      Schindler's List (1993)\n",
       "6     1203  4.243014                          12 Angry Men (1957)\n",
       "7      904  4.237948                           Rear Window (1954)\n",
       "8     2959  4.228311                            Fight Club (1999)\n",
       "9     1193  4.218662       One Flew Over the Cuckoo's Nest (1975)"
      ]
     },
     "execution_count": 26,
     "metadata": {},
     "output_type": "execute_result"
    }
   ],
   "source": [
    "movie_rec.merge(right=movies[[\"movieId\", \"title\"]], on=\"movieId\").head(10)"
   ]
  },
  {
   "cell_type": "markdown",
   "id": "34a31292",
   "metadata": {},
   "source": [
    "It surelly works, but is *pretty generic*."
   ]
  },
  {
   "cell_type": "markdown",
   "id": "c229c69c",
   "metadata": {},
   "source": [
    "#### 5.1.2 Most seem together"
   ]
  },
  {
   "cell_type": "markdown",
   "id": "eb56caeb",
   "metadata": {},
   "source": [
    "If a some users usually watch some movies together, those are probably a good recomendation for another user.\n",
    "The problem of this approach is the memory usage required to compute and store the permutations between the movies. The code used to generate a database with the permutations is commented due to time requirements, but once precomputed, our task is a simple query."
   ]
  },
  {
   "cell_type": "code",
   "execution_count": 27,
   "id": "6773f368",
   "metadata": {
    "ExecuteTime": {
     "end_time": "2023-09-05T16:21:01.812845Z",
     "start_time": "2023-09-05T16:21:01.802782Z"
    }
   },
   "outputs": [],
   "source": [
    "# from itertools import permutations\n",
    "\n",
    "# def create_pairs(x):\n",
    "#     pairs = pd.DataFrame(list(permutations(x.values, 2)), columns=[\"movie_a\", \"movie_b\"])\n",
    "#     return pairs\n",
    "\n",
    "# # Getting a smaller sample from ratings\n",
    "# n_users = 1000\n",
    "# selected_users = ratings['userId'].sample(n_users, replace=False).values\n",
    "# small_ratings = ratings.loc[ratings[\"userId\"].isin(selected_users), [\"userId\", \"movieId\"]]\n",
    "\n",
    "# # Get a smaller movie subset\n",
    "# small_ratings_count = small_ratings[\"movieId\"].value_counts()\n",
    "# small_ratings_count = small_ratings_count[small_ratings_count > 250]\n",
    "# smaller_ratings = small_ratings[small_ratings[\"movieId\"].isin(small_ratings_count.index)]\n",
    "\n",
    "# # Counting the pairs movies watched by the same user\n",
    "# pair_counts = smaller_ratings.groupby(\"userId\")[\"movieId\"].apply(create_pairs).reset_index(drop=True)\n",
    "\n",
    "# # Saving the results\n",
    "# pair_counts.to_parquet(\"../data/pair_counts.parquet\")"
   ]
  },
  {
   "cell_type": "code",
   "execution_count": 28,
   "id": "7b2d91a2",
   "metadata": {
    "ExecuteTime": {
     "end_time": "2023-09-05T16:21:05.749347Z",
     "start_time": "2023-09-05T16:21:01.816558Z"
    }
   },
   "outputs": [],
   "source": [
    "# Importing the permutations previously generated\n",
    "\n",
    "pair_counts = pd.read_parquet(\"../data/pair_counts.parquet\")\n",
    "pair_counts = pair_counts.groupby([\"movie_a\", \"movie_b\"]).size().to_frame(name='size').reset_index()\n",
    "\n",
    "# Getting movie_a titles\n",
    "\n",
    "pair_counts_a = pair_counts.merge(right=movies[[\"movieId\", \"title\"]], left_on=\"movie_a\", right_on=\"movieId\")[[\"title\", \"movie_b\", \"size\"]]\n",
    "pair_counts_a = pair_counts_a.rename(columns={\"title\":\"movie_a\"})\n",
    "\n",
    "# Getting movie_b titles\n",
    "pair_counts_b = pair_counts_a.merge(right=movies[[\"movieId\", \"title\"]], left_on=\"movie_b\", right_on=\"movieId\")[[\"movie_a\", \"title\", \"size\"]]\n",
    "pair_counts = pair_counts_b.rename(columns={\"title\":\"movie\"})"
   ]
  },
  {
   "cell_type": "code",
   "execution_count": 29,
   "id": "629a21be",
   "metadata": {
    "ExecuteTime": {
     "end_time": "2023-09-05T16:21:05.756743Z",
     "start_time": "2023-09-05T16:21:05.751693Z"
    }
   },
   "outputs": [],
   "source": [
    "def seem_together_recommendation(movie):\n",
    "    pairs = pair_counts[pair_counts[\"movie_a\"] == movie]\n",
    "    pairs_sorted = pairs.sort_values(by=\"size\", ascending=False)[[\"movie\"]]\n",
    "    return pairs_sorted.head(10)"
   ]
  },
  {
   "cell_type": "code",
   "execution_count": 30,
   "id": "16537a43",
   "metadata": {
    "ExecuteTime": {
     "end_time": "2023-09-05T16:21:05.940155Z",
     "start_time": "2023-09-05T16:21:05.759186Z"
    },
    "scrolled": true
   },
   "outputs": [
    {
     "data": {
      "text/html": [
       "<div>\n",
       "<style scoped>\n",
       "    .dataframe tbody tr th:only-of-type {\n",
       "        vertical-align: middle;\n",
       "    }\n",
       "\n",
       "    .dataframe tbody tr th {\n",
       "        vertical-align: top;\n",
       "    }\n",
       "\n",
       "    .dataframe thead th {\n",
       "        text-align: right;\n",
       "    }\n",
       "</style>\n",
       "<table border=\"1\" class=\"dataframe\">\n",
       "  <thead>\n",
       "    <tr style=\"text-align: right;\">\n",
       "      <th></th>\n",
       "      <th>movie</th>\n",
       "    </tr>\n",
       "  </thead>\n",
       "  <tbody>\n",
       "    <tr>\n",
       "      <th>10624</th>\n",
       "      <td>Forrest Gump (1994)</td>\n",
       "    </tr>\n",
       "    <tr>\n",
       "      <th>8632</th>\n",
       "      <td>Pulp Fiction (1994)</td>\n",
       "    </tr>\n",
       "    <tr>\n",
       "      <th>61420</th>\n",
       "      <td>Matrix, The (1999)</td>\n",
       "    </tr>\n",
       "    <tr>\n",
       "      <th>7304</th>\n",
       "      <td>Star Wars: Episode IV - A New Hope (1977)</td>\n",
       "    </tr>\n",
       "    <tr>\n",
       "      <th>13944</th>\n",
       "      <td>Jurassic Park (1993)</td>\n",
       "    </tr>\n",
       "    <tr>\n",
       "      <th>18260</th>\n",
       "      <td>Silence of the Lambs, The (1991)</td>\n",
       "    </tr>\n",
       "    <tr>\n",
       "      <th>9296</th>\n",
       "      <td>Shawshank Redemption, The (1994)</td>\n",
       "    </tr>\n",
       "    <tr>\n",
       "      <th>37848</th>\n",
       "      <td>Back to the Future (1985)</td>\n",
       "    </tr>\n",
       "    <tr>\n",
       "      <th>30212</th>\n",
       "      <td>Raiders of the Lost Ark (Indiana Jones and the...</td>\n",
       "    </tr>\n",
       "    <tr>\n",
       "      <th>32536</th>\n",
       "      <td>Star Wars: Episode VI - Return of the Jedi (1983)</td>\n",
       "    </tr>\n",
       "  </tbody>\n",
       "</table>\n",
       "</div>"
      ],
      "text/plain": [
       "                                                   movie\n",
       "10624                                Forrest Gump (1994)\n",
       "8632                                 Pulp Fiction (1994)\n",
       "61420                                 Matrix, The (1999)\n",
       "7304           Star Wars: Episode IV - A New Hope (1977)\n",
       "13944                               Jurassic Park (1993)\n",
       "18260                   Silence of the Lambs, The (1991)\n",
       "9296                    Shawshank Redemption, The (1994)\n",
       "37848                          Back to the Future (1985)\n",
       "30212  Raiders of the Lost Ark (Indiana Jones and the...\n",
       "32536  Star Wars: Episode VI - Return of the Jedi (1983)"
      ]
     },
     "execution_count": 30,
     "metadata": {},
     "output_type": "execute_result"
    }
   ],
   "source": [
    "seem_together_recommendation(\"Toy Story (1995)\")"
   ]
  },
  {
   "cell_type": "markdown",
   "id": "bc22ee16",
   "metadata": {},
   "source": [
    "Now we are going somewhere. Our recomendations to Toy Story are very non-trivial."
   ]
  },
  {
   "cell_type": "markdown",
   "id": "a4927d72",
   "metadata": {},
   "source": [
    "#### 5.1.3 Content-based recommendation"
   ]
  },
  {
   "cell_type": "markdown",
   "id": "4ef98826",
   "metadata": {},
   "source": [
    "Since we have some information on our product, we can use our descriptors (in this case, the genres) to recommend similar products."
   ]
  },
  {
   "cell_type": "code",
   "execution_count": 31,
   "id": "482f7101",
   "metadata": {
    "ExecuteTime": {
     "end_time": "2023-09-05T16:21:06.191614Z",
     "start_time": "2023-09-05T16:21:05.942374Z"
    }
   },
   "outputs": [],
   "source": [
    "from sklearn.metrics import jaccard_score\n",
    "\n",
    "def jaccard_similarities_recomendation(movieId):\n",
    "    \"\"\"\n",
    "    Get the jaccard similarities between a movie and all others and sort them.\n",
    "    Then, get the top 10 recommendations.\n",
    "    \"\"\"\n",
    "    movies_and_genres = movies[['movieId']].join(genres).set_index('movieId')\n",
    "    movie_row = movies_and_genres.loc[movieId]\n",
    "    movies_and_genres['similarities'] = movies_and_genres.apply(lambda x: jaccard_score(movie_row, x), axis=1)\n",
    "    movies_and_genres = movies_and_genres.sort_values(by='similarities', ascending=False)\n",
    "    \n",
    "    return movies_and_genres.head(10).join(movies.set_index('movieId'))[['title', 'genres']]"
   ]
  },
  {
   "cell_type": "code",
   "execution_count": 32,
   "id": "fa872608",
   "metadata": {
    "ExecuteTime": {
     "end_time": "2023-09-05T16:23:00.582398Z",
     "start_time": "2023-09-05T16:21:06.194256Z"
    },
    "scrolled": false
   },
   "outputs": [
    {
     "data": {
      "text/html": [
       "<div>\n",
       "<style scoped>\n",
       "    .dataframe tbody tr th:only-of-type {\n",
       "        vertical-align: middle;\n",
       "    }\n",
       "\n",
       "    .dataframe tbody tr th {\n",
       "        vertical-align: top;\n",
       "    }\n",
       "\n",
       "    .dataframe thead th {\n",
       "        text-align: right;\n",
       "    }\n",
       "</style>\n",
       "<table border=\"1\" class=\"dataframe\">\n",
       "  <thead>\n",
       "    <tr style=\"text-align: right;\">\n",
       "      <th></th>\n",
       "      <th>title</th>\n",
       "      <th>genres</th>\n",
       "    </tr>\n",
       "    <tr>\n",
       "      <th>movieId</th>\n",
       "      <th></th>\n",
       "      <th></th>\n",
       "    </tr>\n",
       "  </thead>\n",
       "  <tbody>\n",
       "    <tr>\n",
       "      <th>1</th>\n",
       "      <td>Toy Story (1995)</td>\n",
       "      <td>Adventure|Animation|Children|Comedy|Fantasy</td>\n",
       "    </tr>\n",
       "    <tr>\n",
       "      <th>177037</th>\n",
       "      <td>Puss in Book: Trapped in an Epic Tale (2017)</td>\n",
       "      <td>Adventure|Animation|Children|Comedy|Fantasy</td>\n",
       "    </tr>\n",
       "    <tr>\n",
       "      <th>175625</th>\n",
       "      <td>The Dragon Spell (2016)</td>\n",
       "      <td>Adventure|Animation|Children|Comedy|Fantasy</td>\n",
       "    </tr>\n",
       "    <tr>\n",
       "      <th>136016</th>\n",
       "      <td>The Good Dinosaur (2015)</td>\n",
       "      <td>Adventure|Animation|Children|Comedy|Fantasy</td>\n",
       "    </tr>\n",
       "    <tr>\n",
       "      <th>136361</th>\n",
       "      <td>Scooby-Doo! Mask of the Blue Falcon (2012)</td>\n",
       "      <td>Adventure|Animation|Children|Comedy|Fantasy</td>\n",
       "    </tr>\n",
       "    <tr>\n",
       "      <th>4016</th>\n",
       "      <td>Emperor's New Groove, The (2000)</td>\n",
       "      <td>Adventure|Animation|Children|Comedy|Fantasy</td>\n",
       "    </tr>\n",
       "    <tr>\n",
       "      <th>186159</th>\n",
       "      <td>Tangled: Before Ever After (2017)</td>\n",
       "      <td>Adventure|Animation|Children|Comedy|Fantasy</td>\n",
       "    </tr>\n",
       "    <tr>\n",
       "      <th>186177</th>\n",
       "      <td>Trolls Holiday (2017)</td>\n",
       "      <td>Adventure|Animation|Children|Comedy|Fantasy</td>\n",
       "    </tr>\n",
       "    <tr>\n",
       "      <th>196693</th>\n",
       "      <td>Dragons: Dawn Of The Dragon Racers (2014)</td>\n",
       "      <td>Adventure|Animation|Children|Comedy|Fantasy</td>\n",
       "    </tr>\n",
       "    <tr>\n",
       "      <th>45074</th>\n",
       "      <td>Wild, The (2006)</td>\n",
       "      <td>Adventure|Animation|Children|Comedy|Fantasy</td>\n",
       "    </tr>\n",
       "  </tbody>\n",
       "</table>\n",
       "</div>"
      ],
      "text/plain": [
       "                                                title  \\\n",
       "movieId                                                 \n",
       "1                                    Toy Story (1995)   \n",
       "177037   Puss in Book: Trapped in an Epic Tale (2017)   \n",
       "175625                        The Dragon Spell (2016)   \n",
       "136016                       The Good Dinosaur (2015)   \n",
       "136361     Scooby-Doo! Mask of the Blue Falcon (2012)   \n",
       "4016                 Emperor's New Groove, The (2000)   \n",
       "186159              Tangled: Before Ever After (2017)   \n",
       "186177                          Trolls Holiday (2017)   \n",
       "196693      Dragons: Dawn Of The Dragon Racers (2014)   \n",
       "45074                                Wild, The (2006)   \n",
       "\n",
       "                                              genres  \n",
       "movieId                                               \n",
       "1        Adventure|Animation|Children|Comedy|Fantasy  \n",
       "177037   Adventure|Animation|Children|Comedy|Fantasy  \n",
       "175625   Adventure|Animation|Children|Comedy|Fantasy  \n",
       "136016   Adventure|Animation|Children|Comedy|Fantasy  \n",
       "136361   Adventure|Animation|Children|Comedy|Fantasy  \n",
       "4016     Adventure|Animation|Children|Comedy|Fantasy  \n",
       "186159   Adventure|Animation|Children|Comedy|Fantasy  \n",
       "186177   Adventure|Animation|Children|Comedy|Fantasy  \n",
       "196693   Adventure|Animation|Children|Comedy|Fantasy  \n",
       "45074    Adventure|Animation|Children|Comedy|Fantasy  "
      ]
     },
     "execution_count": 32,
     "metadata": {},
     "output_type": "execute_result"
    }
   ],
   "source": [
    "# Testing for the movieId = 1 (Toy Story 1995)\n",
    "jaccard_similarities_recomendation(1)"
   ]
  },
  {
   "cell_type": "markdown",
   "id": "17bf4991",
   "metadata": {},
   "source": [
    "It works well when the user is searching for something similar to the watched movie."
   ]
  },
  {
   "cell_type": "markdown",
   "id": "e45d19ae",
   "metadata": {},
   "source": [
    "### 5.2 Colaborative filtering"
   ]
  },
  {
   "cell_type": "markdown",
   "id": "d0414d3a",
   "metadata": {},
   "source": [
    "Now we are going to use user ratings to create recommendations. Our strategy is to find similar users that liked the movie we just watch. Next we find the movies they liked. With this, we can create a score that takes into account the popularity of the movie - we don't want movies to be recommended just because they are popular.\n",
    "\n",
    "First we begin by making a prototype and then pack it all in a function and interface."
   ]
  },
  {
   "cell_type": "code",
   "execution_count": 33,
   "id": "bbd24146",
   "metadata": {
    "ExecuteTime": {
     "end_time": "2023-09-05T16:23:00.984465Z",
     "start_time": "2023-09-05T16:23:00.584726Z"
    }
   },
   "outputs": [
    {
     "data": {
      "text/plain": [
       "1      1.000000\n",
       "318    0.445607\n",
       "260    0.403770\n",
       "356    0.370215\n",
       "296    0.367295\n",
       "Name: movieId, dtype: float64"
      ]
     },
     "execution_count": 33,
     "metadata": {},
     "output_type": "execute_result"
    }
   ],
   "source": [
    "# Suppose we our user liked the movie with Id 1 (Toy Story)\n",
    "movie_id = 1\n",
    "\n",
    "# Users that watched our movie and rated > 4\n",
    "similar_users = ratings.loc[(ratings[\"movieId\"] == movie_id) & (ratings[\"rating\"] > 4.0), \"userId\"].unique()\n",
    "\n",
    "# High rated movies (>4) that our similiar users watched\n",
    "similar_users_rec = ratings.loc[(ratings[\"userId\"].isin(similar_users)) & (ratings[\"rating\"] > 4.0), \"movieId\"]\n",
    "\n",
    "# Counting how many users watched our recomendation. Getting the percentage from similar users\n",
    "similar_rec_movies_percentage = (similar_users_rec.value_counts() / len(similar_users))\n",
    "\n",
    "# Restricting ourselves to 10%\n",
    "similar_rec_movies_percentage = similar_rec_movies_percentage[similar_rec_movies_percentage > 0.1]\n",
    "\n",
    "similar_rec_movies_percentage.head(5)"
   ]
  },
  {
   "cell_type": "markdown",
   "id": "87bd5f06",
   "metadata": {},
   "source": [
    "44.56% of the similar users watched movie with ID 318."
   ]
  },
  {
   "cell_type": "code",
   "execution_count": 34,
   "id": "9bd8e802",
   "metadata": {
    "ExecuteTime": {
     "end_time": "2023-09-05T16:23:01.585283Z",
     "start_time": "2023-09-05T16:23:00.986651Z"
    }
   },
   "outputs": [
    {
     "data": {
      "text/plain": [
       "318     0.342220\n",
       "296     0.284674\n",
       "2571    0.244033\n",
       "356     0.235266\n",
       "593     0.225909\n",
       "Name: movieId, dtype: float64"
      ]
     },
     "execution_count": 34,
     "metadata": {},
     "output_type": "execute_result"
    }
   ],
   "source": [
    "# We don't want movies that are there just because they are already popular\n",
    "\n",
    "all_users = ratings.loc[(ratings[\"movieId\"].isin(similar_rec_movies_percentage.index)&(ratings[\"rating\"]>4.0))]\n",
    "all_users_recs_percentage = all_users[\"movieId\"].value_counts() / len(all_users[\"userId\"].unique())\n",
    "all_users_recs_percentage.head(5)"
   ]
  },
  {
   "cell_type": "markdown",
   "id": "ff6a7f84",
   "metadata": {
    "ExecuteTime": {
     "end_time": "2023-09-04T23:44:35.384663Z",
     "start_time": "2023-09-04T23:44:35.380242Z"
    }
   },
   "source": [
    "But from *all users*, movie 318 is already liked by 34.22%. Thats probably generic. We should create a score:"
   ]
  },
  {
   "cell_type": "markdown",
   "id": "920280c0",
   "metadata": {},
   "source": [
    "$$score = \\frac{\\text{percentage from similar users}}{\\text{percentage from all users}} $$"
   ]
  },
  {
   "cell_type": "code",
   "execution_count": 35,
   "id": "3df2590b",
   "metadata": {
    "ExecuteTime": {
     "end_time": "2023-09-05T16:23:01.619433Z",
     "start_time": "2023-09-05T16:23:01.589969Z"
    }
   },
   "outputs": [
    {
     "data": {
      "text/html": [
       "<div>\n",
       "<style scoped>\n",
       "    .dataframe tbody tr th:only-of-type {\n",
       "        vertical-align: middle;\n",
       "    }\n",
       "\n",
       "    .dataframe tbody tr th {\n",
       "        vertical-align: top;\n",
       "    }\n",
       "\n",
       "    .dataframe thead th {\n",
       "        text-align: right;\n",
       "    }\n",
       "</style>\n",
       "<table border=\"1\" class=\"dataframe\">\n",
       "  <thead>\n",
       "    <tr style=\"text-align: right;\">\n",
       "      <th></th>\n",
       "      <th>title</th>\n",
       "    </tr>\n",
       "  </thead>\n",
       "  <tbody>\n",
       "    <tr>\n",
       "      <th>0</th>\n",
       "      <td>Toy Story (1995)</td>\n",
       "    </tr>\n",
       "    <tr>\n",
       "      <th>3021</th>\n",
       "      <td>Toy Story 2 (1999)</td>\n",
       "    </tr>\n",
       "    <tr>\n",
       "      <th>2264</th>\n",
       "      <td>Bug's Life, A (1998)</td>\n",
       "    </tr>\n",
       "    <tr>\n",
       "      <th>14813</th>\n",
       "      <td>Toy Story 3 (2010)</td>\n",
       "    </tr>\n",
       "    <tr>\n",
       "      <th>4780</th>\n",
       "      <td>Monsters, Inc. (2001)</td>\n",
       "    </tr>\n",
       "    <tr>\n",
       "      <th>580</th>\n",
       "      <td>Aladdin (1992)</td>\n",
       "    </tr>\n",
       "    <tr>\n",
       "      <th>6258</th>\n",
       "      <td>Finding Nemo (2003)</td>\n",
       "    </tr>\n",
       "    <tr>\n",
       "      <th>587</th>\n",
       "      <td>Beauty and the Beast (1991)</td>\n",
       "    </tr>\n",
       "    <tr>\n",
       "      <th>8246</th>\n",
       "      <td>Incredibles, The (2004)</td>\n",
       "    </tr>\n",
       "  </tbody>\n",
       "</table>\n",
       "</div>"
      ],
      "text/plain": [
       "                             title\n",
       "0                 Toy Story (1995)\n",
       "3021            Toy Story 2 (1999)\n",
       "2264          Bug's Life, A (1998)\n",
       "14813           Toy Story 3 (2010)\n",
       "4780         Monsters, Inc. (2001)\n",
       "580                 Aladdin (1992)\n",
       "6258           Finding Nemo (2003)\n",
       "587    Beauty and the Beast (1991)\n",
       "8246       Incredibles, The (2004)"
      ]
     },
     "execution_count": 35,
     "metadata": {},
     "output_type": "execute_result"
    }
   ],
   "source": [
    "# Creating a score, sorting by it, and showing the top 10 recs\n",
    "\n",
    "rec_percentages = pd.concat([similar_rec_movies_percentage, all_users_recs_percentage], axis=1)\n",
    "rec_percentages.columns = [\"similar\", \"all\"]\n",
    "rec_percentages[\"score\"] = rec_percentages[\"similar\"] / rec_percentages[\"all\"]\n",
    "rec_percentages = rec_percentages.sort_values(\"score\", ascending=False).iloc[:9].merge(movies, left_index=True, right_on=\"movieId\")\n",
    "\n",
    "rec_percentages[['title']].head(10)"
   ]
  },
  {
   "cell_type": "code",
   "execution_count": 36,
   "id": "b29cf557",
   "metadata": {
    "ExecuteTime": {
     "end_time": "2023-09-05T16:23:01.633747Z",
     "start_time": "2023-09-05T16:23:01.621926Z"
    }
   },
   "outputs": [],
   "source": [
    "# Wrapping in a function\n",
    "\n",
    "def colab_recommendations(movieId):\n",
    "    similar_users = ratings.loc[(ratings[\"movieId\"] == movieId) & (ratings[\"rating\"] > 4.0), \"userId\"].unique()\n",
    "    similar_users_rec = ratings.loc[(ratings[\"userId\"].isin(similar_users)) & (ratings[\"rating\"] > 4.0), \"movieId\"]\n",
    "    similar_rec_movies_percentage = (similar_users_rec.value_counts() / len(similar_users))\n",
    "    similar_rec_movies_percentage = similar_rec_movies_percentage[similar_rec_movies_percentage > 0.1]\n",
    "    \n",
    "    all_users = ratings.loc[(ratings[\"movieId\"].isin(similar_rec_movies_percentage.index)&(ratings[\"rating\"]>4.0))]\n",
    "    all_users_recs_percentage = all_users[\"movieId\"].value_counts() / len(all_users[\"userId\"].unique())\n",
    "    rec_percentages = pd.concat([similar_rec_movies_percentage, all_users_recs_percentage], axis=1)\n",
    "    rec_percentages.columns = [\"similar\", \"all\"]\n",
    "    rec_percentages[\"score\"] = rec_percentages[\"similar\"] / rec_percentages[\"all\"]\n",
    "    rec_percentages = rec_percentages.sort_values(\"score\", ascending=False).iloc[:9].merge(movies, left_index=True, right_on=\"movieId\")\n",
    "    \n",
    "    return rec_percentages[['title']].head(10)"
   ]
  },
  {
   "cell_type": "code",
   "execution_count": 37,
   "id": "7081060c",
   "metadata": {
    "ExecuteTime": {
     "end_time": "2023-09-05T16:23:01.652860Z",
     "start_time": "2023-09-05T16:23:01.635990Z"
    }
   },
   "outputs": [],
   "source": [
    "movie_input = widgets.Text(description=\"Movie title\", value=\"The Godfather\", disabled=False)\n",
    "movie_recommendation = widgets.Output()\n",
    "\n",
    "def when_type(data):\n",
    "    with movie_recommendation:\n",
    "        movie_recommendation.clear_output()\n",
    "        title = data[\"new\"]\n",
    "        if len(title) > 5:\n",
    "            results = search(title)\n",
    "            movie_id = results.iloc[0][\"movieId\"]\n",
    "            display(colab_recommendations(movie_id))\n",
    "\n",
    "movie_input.observe(when_type, names='value')"
   ]
  },
  {
   "cell_type": "code",
   "execution_count": 38,
   "id": "10b76787",
   "metadata": {
    "ExecuteTime": {
     "end_time": "2023-09-05T16:23:01.663338Z",
     "start_time": "2023-09-05T16:23:01.655858Z"
    }
   },
   "outputs": [
    {
     "data": {
      "application/vnd.jupyter.widget-view+json": {
       "model_id": "39a6b5b11fa2421a9a38587e353986a7",
       "version_major": 2,
       "version_minor": 0
      },
      "text/plain": [
       "Text(value='Toy Story 1995', description='Movie title')"
      ]
     },
     "metadata": {},
     "output_type": "display_data"
    },
    {
     "data": {
      "application/vnd.jupyter.widget-view+json": {
       "model_id": "ff1fcf1284a64325a4332bd9d68a2395",
       "version_major": 2,
       "version_minor": 0
      },
      "text/plain": [
       "Output()"
      ]
     },
     "metadata": {},
     "output_type": "display_data"
    }
   ],
   "source": [
    "display(movie_input, movie_recommendation)"
   ]
  },
  {
   "cell_type": "markdown",
   "id": "30bd0c80",
   "metadata": {},
   "source": [
    "# Conclusions and perspectives"
   ]
  },
  {
   "cell_type": "markdown",
   "id": "591d8245",
   "metadata": {
    "ExecuteTime": {
     "end_time": "2023-09-05T00:32:11.656537Z",
     "start_time": "2023-09-05T00:32:11.645079Z"
    }
   },
   "source": [
    "We've demonstrated applications of some recommendations systems models. There are other approachs that can be further examinated: item based recommendations with KNN, using SVD to predict ratings and validation tecniques. Nonetheless, the models presented here can with some adjustments be put in production in several situations."
   ]
  }
 ],
 "metadata": {
  "kernelspec": {
   "display_name": "Python 3",
   "language": "python",
   "name": "python3"
  },
  "language_info": {
   "codemirror_mode": {
    "name": "ipython",
    "version": 3
   },
   "file_extension": ".py",
   "mimetype": "text/x-python",
   "name": "python",
   "nbconvert_exporter": "python",
   "pygments_lexer": "ipython3",
   "version": "3.8.10"
  },
  "varInspector": {
   "cols": {
    "lenName": 16,
    "lenType": 16,
    "lenVar": 40
   },
   "kernels_config": {
    "python": {
     "delete_cmd_postfix": "",
     "delete_cmd_prefix": "del ",
     "library": "var_list.py",
     "varRefreshCmd": "print(var_dic_list())"
    },
    "r": {
     "delete_cmd_postfix": ") ",
     "delete_cmd_prefix": "rm(",
     "library": "var_list.r",
     "varRefreshCmd": "cat(var_dic_list()) "
    }
   },
   "position": {
    "height": "435.844px",
    "left": "1082.28px",
    "right": "20px",
    "top": "120px",
    "width": "350px"
   },
   "types_to_exclude": [
    "module",
    "function",
    "builtin_function_or_method",
    "instance",
    "_Feature"
   ],
   "window_display": false
  }
 },
 "nbformat": 4,
 "nbformat_minor": 5
}
