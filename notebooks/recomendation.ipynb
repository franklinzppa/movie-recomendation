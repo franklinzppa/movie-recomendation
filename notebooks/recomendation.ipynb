{
 "cells": [
  {
   "cell_type": "code",
   "execution_count": 1,
   "id": "c7109290",
   "metadata": {
    "ExecuteTime": {
     "end_time": "2023-08-29T22:06:33.542273Z",
     "start_time": "2023-08-29T22:06:33.539860Z"
    }
   },
   "outputs": [],
   "source": [
    "# Using https://www.youtube.com/watch?v=eyEabQRBMQA as a reference\n",
    "# Data is avaible at https://grouplens.org/datasets/movielens/25m/"
   ]
  },
  {
   "cell_type": "code",
   "execution_count": 2,
   "id": "b33657a7",
   "metadata": {
    "ExecuteTime": {
     "end_time": "2023-08-29T22:06:34.382462Z",
     "start_time": "2023-08-29T22:06:33.742226Z"
    }
   },
   "outputs": [],
   "source": [
    "import pandas as pd\n",
    "import numpy as np"
   ]
  },
  {
   "cell_type": "markdown",
   "id": "f4ec762a",
   "metadata": {
    "heading_collapsed": true
   },
   "source": [
    "# Importing and inspecting data"
   ]
  },
  {
   "cell_type": "code",
   "execution_count": 3,
   "id": "222d7189",
   "metadata": {
    "ExecuteTime": {
     "end_time": "2023-08-29T22:06:35.868275Z",
     "start_time": "2023-08-29T22:06:34.398946Z"
    },
    "hidden": true
   },
   "outputs": [],
   "source": [
    "movies = pd.read_parquet(\"../data/movies.parquet\")\n",
    "ratings = pd.read_parquet(\"../data/ratings.parquet\")"
   ]
  },
  {
   "cell_type": "code",
   "execution_count": 4,
   "id": "03cf45e5",
   "metadata": {
    "ExecuteTime": {
     "end_time": "2023-08-29T22:06:35.954103Z",
     "start_time": "2023-08-29T22:06:35.923358Z"
    },
    "hidden": true
   },
   "outputs": [
    {
     "data": {
      "text/html": [
       "<div>\n",
       "<style scoped>\n",
       "    .dataframe tbody tr th:only-of-type {\n",
       "        vertical-align: middle;\n",
       "    }\n",
       "\n",
       "    .dataframe tbody tr th {\n",
       "        vertical-align: top;\n",
       "    }\n",
       "\n",
       "    .dataframe thead th {\n",
       "        text-align: right;\n",
       "    }\n",
       "</style>\n",
       "<table border=\"1\" class=\"dataframe\">\n",
       "  <thead>\n",
       "    <tr style=\"text-align: right;\">\n",
       "      <th></th>\n",
       "      <th>movieId</th>\n",
       "      <th>title</th>\n",
       "      <th>genres</th>\n",
       "    </tr>\n",
       "  </thead>\n",
       "  <tbody>\n",
       "    <tr>\n",
       "      <th>0</th>\n",
       "      <td>1</td>\n",
       "      <td>Toy Story (1995)</td>\n",
       "      <td>Adventure|Animation|Children|Comedy|Fantasy</td>\n",
       "    </tr>\n",
       "    <tr>\n",
       "      <th>1</th>\n",
       "      <td>2</td>\n",
       "      <td>Jumanji (1995)</td>\n",
       "      <td>Adventure|Children|Fantasy</td>\n",
       "    </tr>\n",
       "    <tr>\n",
       "      <th>2</th>\n",
       "      <td>3</td>\n",
       "      <td>Grumpier Old Men (1995)</td>\n",
       "      <td>Comedy|Romance</td>\n",
       "    </tr>\n",
       "    <tr>\n",
       "      <th>3</th>\n",
       "      <td>4</td>\n",
       "      <td>Waiting to Exhale (1995)</td>\n",
       "      <td>Comedy|Drama|Romance</td>\n",
       "    </tr>\n",
       "    <tr>\n",
       "      <th>4</th>\n",
       "      <td>5</td>\n",
       "      <td>Father of the Bride Part II (1995)</td>\n",
       "      <td>Comedy</td>\n",
       "    </tr>\n",
       "  </tbody>\n",
       "</table>\n",
       "</div>"
      ],
      "text/plain": [
       "   movieId                               title  \\\n",
       "0        1                    Toy Story (1995)   \n",
       "1        2                      Jumanji (1995)   \n",
       "2        3             Grumpier Old Men (1995)   \n",
       "3        4            Waiting to Exhale (1995)   \n",
       "4        5  Father of the Bride Part II (1995)   \n",
       "\n",
       "                                        genres  \n",
       "0  Adventure|Animation|Children|Comedy|Fantasy  \n",
       "1                   Adventure|Children|Fantasy  \n",
       "2                               Comedy|Romance  \n",
       "3                         Comedy|Drama|Romance  \n",
       "4                                       Comedy  "
      ]
     },
     "execution_count": 4,
     "metadata": {},
     "output_type": "execute_result"
    }
   ],
   "source": [
    "movies.head()"
   ]
  },
  {
   "cell_type": "code",
   "execution_count": 5,
   "id": "d35dde52",
   "metadata": {
    "ExecuteTime": {
     "end_time": "2023-08-29T22:06:36.013216Z",
     "start_time": "2023-08-29T22:06:36.002967Z"
    },
    "hidden": true
   },
   "outputs": [
    {
     "data": {
      "text/html": [
       "<div>\n",
       "<style scoped>\n",
       "    .dataframe tbody tr th:only-of-type {\n",
       "        vertical-align: middle;\n",
       "    }\n",
       "\n",
       "    .dataframe tbody tr th {\n",
       "        vertical-align: top;\n",
       "    }\n",
       "\n",
       "    .dataframe thead th {\n",
       "        text-align: right;\n",
       "    }\n",
       "</style>\n",
       "<table border=\"1\" class=\"dataframe\">\n",
       "  <thead>\n",
       "    <tr style=\"text-align: right;\">\n",
       "      <th></th>\n",
       "      <th>userId</th>\n",
       "      <th>movieId</th>\n",
       "      <th>rating</th>\n",
       "      <th>timestamp</th>\n",
       "    </tr>\n",
       "  </thead>\n",
       "  <tbody>\n",
       "    <tr>\n",
       "      <th>0</th>\n",
       "      <td>1</td>\n",
       "      <td>296</td>\n",
       "      <td>5.0</td>\n",
       "      <td>1147880044</td>\n",
       "    </tr>\n",
       "    <tr>\n",
       "      <th>1</th>\n",
       "      <td>1</td>\n",
       "      <td>306</td>\n",
       "      <td>3.5</td>\n",
       "      <td>1147868817</td>\n",
       "    </tr>\n",
       "    <tr>\n",
       "      <th>2</th>\n",
       "      <td>1</td>\n",
       "      <td>307</td>\n",
       "      <td>5.0</td>\n",
       "      <td>1147868828</td>\n",
       "    </tr>\n",
       "    <tr>\n",
       "      <th>3</th>\n",
       "      <td>1</td>\n",
       "      <td>665</td>\n",
       "      <td>5.0</td>\n",
       "      <td>1147878820</td>\n",
       "    </tr>\n",
       "    <tr>\n",
       "      <th>4</th>\n",
       "      <td>1</td>\n",
       "      <td>899</td>\n",
       "      <td>3.5</td>\n",
       "      <td>1147868510</td>\n",
       "    </tr>\n",
       "  </tbody>\n",
       "</table>\n",
       "</div>"
      ],
      "text/plain": [
       "   userId  movieId  rating   timestamp\n",
       "0       1      296     5.0  1147880044\n",
       "1       1      306     3.5  1147868817\n",
       "2       1      307     5.0  1147868828\n",
       "3       1      665     5.0  1147878820\n",
       "4       1      899     3.5  1147868510"
      ]
     },
     "execution_count": 5,
     "metadata": {},
     "output_type": "execute_result"
    }
   ],
   "source": [
    "ratings.head()"
   ]
  },
  {
   "cell_type": "code",
   "execution_count": 6,
   "id": "59ab51ca",
   "metadata": {
    "ExecuteTime": {
     "end_time": "2023-08-29T22:06:36.117108Z",
     "start_time": "2023-08-29T22:06:36.053977Z"
    },
    "hidden": true
   },
   "outputs": [
    {
     "name": "stdout",
     "output_type": "stream",
     "text": [
      "<class 'pandas.core.frame.DataFrame'>\n",
      "RangeIndex: 62423 entries, 0 to 62422\n",
      "Data columns (total 3 columns):\n",
      " #   Column   Non-Null Count  Dtype \n",
      "---  ------   --------------  ----- \n",
      " 0   movieId  62423 non-null  int64 \n",
      " 1   title    62423 non-null  object\n",
      " 2   genres   62423 non-null  object\n",
      "dtypes: int64(1), object(2)\n",
      "memory usage: 1.4+ MB\n"
     ]
    }
   ],
   "source": [
    "movies.info()"
   ]
  },
  {
   "cell_type": "code",
   "execution_count": 7,
   "id": "8c950ee1",
   "metadata": {
    "ExecuteTime": {
     "end_time": "2023-08-29T22:06:36.201412Z",
     "start_time": "2023-08-29T22:06:36.184733Z"
    },
    "hidden": true
   },
   "outputs": [
    {
     "name": "stdout",
     "output_type": "stream",
     "text": [
      "<class 'pandas.core.frame.DataFrame'>\n",
      "RangeIndex: 25000095 entries, 0 to 25000094\n",
      "Data columns (total 4 columns):\n",
      " #   Column     Dtype  \n",
      "---  ------     -----  \n",
      " 0   userId     int64  \n",
      " 1   movieId    int64  \n",
      " 2   rating     float64\n",
      " 3   timestamp  int64  \n",
      "dtypes: float64(1), int64(3)\n",
      "memory usage: 762.9 MB\n"
     ]
    }
   ],
   "source": [
    "ratings.info()"
   ]
  },
  {
   "cell_type": "code",
   "execution_count": 8,
   "id": "3141196d",
   "metadata": {
    "ExecuteTime": {
     "end_time": "2023-08-29T22:06:36.246228Z",
     "start_time": "2023-08-29T22:06:36.240615Z"
    },
    "hidden": true
   },
   "outputs": [],
   "source": [
    "# Add more analysis"
   ]
  },
  {
   "cell_type": "code",
   "execution_count": 9,
   "id": "d7534e2e",
   "metadata": {
    "ExecuteTime": {
     "end_time": "2023-08-29T22:06:36.307520Z",
     "start_time": "2023-08-29T22:06:36.304718Z"
    },
    "hidden": true
   },
   "outputs": [],
   "source": [
    "# EDA"
   ]
  },
  {
   "cell_type": "markdown",
   "id": "38b11bc3",
   "metadata": {
    "heading_collapsed": true
   },
   "source": [
    "# Data processing"
   ]
  },
  {
   "cell_type": "code",
   "execution_count": 10,
   "id": "d02acad1",
   "metadata": {
    "ExecuteTime": {
     "end_time": "2023-08-29T22:06:38.887170Z",
     "start_time": "2023-08-29T22:06:38.731625Z"
    },
    "hidden": true
   },
   "outputs": [],
   "source": [
    "# Cleaning titles with regex\n",
    "\n",
    "import re\n",
    "\n",
    "def clean(title):\n",
    "    return re.sub(\"[^a-zA-Z0-9 ]\", \"\", title)\n",
    "\n",
    "movies[\"clean_titles\"] = movies[\"title\"].apply(clean)"
   ]
  },
  {
   "cell_type": "code",
   "execution_count": 11,
   "id": "2ec3302b",
   "metadata": {
    "ExecuteTime": {
     "end_time": "2023-08-29T22:06:38.930514Z",
     "start_time": "2023-08-29T22:06:38.927657Z"
    },
    "hidden": true
   },
   "outputs": [],
   "source": [
    "# Refine regex and cleaning"
   ]
  },
  {
   "cell_type": "code",
   "execution_count": 12,
   "id": "03417536",
   "metadata": {
    "ExecuteTime": {
     "end_time": "2023-08-29T22:06:41.050886Z",
     "start_time": "2023-08-29T22:06:39.101535Z"
    },
    "hidden": true
   },
   "outputs": [],
   "source": [
    "# TF-IDF\n",
    "\n",
    "from sklearn.feature_extraction.text import TfidfVectorizer\n",
    "\n",
    "vec = TfidfVectorizer(ngram_range=(1, 2))\n",
    "\n",
    "titles_vec = vec.fit_transform(movies[\"clean_titles\"])"
   ]
  },
  {
   "cell_type": "code",
   "execution_count": 13,
   "id": "ee2e3dac",
   "metadata": {
    "ExecuteTime": {
     "end_time": "2023-08-29T22:06:41.093765Z",
     "start_time": "2023-08-29T22:06:41.091229Z"
    },
    "hidden": true
   },
   "outputs": [],
   "source": [
    "# Consider bigger ngrams"
   ]
  },
  {
   "cell_type": "markdown",
   "id": "6de22be2",
   "metadata": {
    "heading_collapsed": true
   },
   "source": [
    "# Search engine"
   ]
  },
  {
   "cell_type": "code",
   "execution_count": 14,
   "id": "552ef793",
   "metadata": {
    "ExecuteTime": {
     "end_time": "2023-08-29T22:06:41.202061Z",
     "start_time": "2023-08-29T22:06:41.139666Z"
    },
    "hidden": true
   },
   "outputs": [],
   "source": [
    "from sklearn.metrics.pairwise import cosine_similarity\n",
    "\n",
    "def search(title):\n",
    "    title = clean(title)\n",
    "    query_vec = vec.transform([title])\n",
    "    similarity = cosine_similarity(query_vec, titles_vec).flatten()\n",
    "    \n",
    "    # Selecting top 5 movies\n",
    "    idx = np.argpartition(similarity, kth=-5)[-5:]\n",
    "\n",
    "    results = movies.iloc[idx][::-1]\n",
    "    return results"
   ]
  },
  {
   "cell_type": "code",
   "execution_count": 15,
   "id": "1cb26706",
   "metadata": {
    "ExecuteTime": {
     "end_time": "2023-08-29T22:06:42.039336Z",
     "start_time": "2023-08-29T22:06:41.922535Z"
    },
    "hidden": true
   },
   "outputs": [
    {
     "data": {
      "application/vnd.jupyter.widget-view+json": {
       "model_id": "8b32d797a5d345ccb2fa5573b647fc17",
       "version_major": 2,
       "version_minor": 0
      },
      "text/plain": [
       "Text(value='Toy Story 1995', description='Movie title')"
      ]
     },
     "metadata": {},
     "output_type": "display_data"
    },
    {
     "data": {
      "application/vnd.jupyter.widget-view+json": {
       "model_id": "f9f6228fc38d47b6a1e7c3406002bf60",
       "version_major": 2,
       "version_minor": 0
      },
      "text/plain": [
       "Output()"
      ]
     },
     "metadata": {},
     "output_type": "display_data"
    }
   ],
   "source": [
    "import ipywidgets as widgets\n",
    "from IPython.display import display\n",
    "\n",
    "movie_input = widgets.Text(description=\"Movie title\", value=\"Toy Story 1995\", disabled=False)\n",
    "movie_output = widgets.Output()\n",
    "\n",
    "def when_type(data):\n",
    "    with movie_output:\n",
    "        movie_output.clear_output()\n",
    "        title = data[\"new\"]\n",
    "        if len(title) > 5:\n",
    "            display(search(title))\n",
    "\n",
    "movie_input.observe(when_type, names='value')\n",
    "\n",
    "display(movie_input, movie_output)"
   ]
  },
  {
   "cell_type": "markdown",
   "id": "f6251d39",
   "metadata": {
    "ExecuteTime": {
     "end_time": "2023-08-26T23:22:44.291870Z",
     "start_time": "2023-08-26T23:22:44.287906Z"
    }
   },
   "source": [
    "# Recomendation system"
   ]
  },
  {
   "cell_type": "markdown",
   "id": "ad14d33d",
   "metadata": {},
   "source": [
    "## Non-personalized recomendations"
   ]
  },
  {
   "cell_type": "markdown",
   "id": "f81700eb",
   "metadata": {
    "heading_collapsed": true
   },
   "source": [
    "### High rate/watch movies"
   ]
  },
  {
   "cell_type": "code",
   "execution_count": 17,
   "id": "5b96a9fe",
   "metadata": {
    "ExecuteTime": {
     "end_time": "2023-08-29T18:30:57.961323Z",
     "start_time": "2023-08-29T18:30:56.790916Z"
    },
    "hidden": true
   },
   "outputs": [],
   "source": [
    "# Movies with more than 500 reviews\n",
    "\n",
    "review_count = ratings[\"movieId\"].value_counts()\n",
    "pop_movies = review_count[review_count > 3000].index"
   ]
  },
  {
   "cell_type": "code",
   "execution_count": 18,
   "id": "8be7f303",
   "metadata": {
    "ExecuteTime": {
     "end_time": "2023-08-29T18:31:01.029152Z",
     "start_time": "2023-08-29T18:30:58.062454Z"
    },
    "hidden": true
   },
   "outputs": [],
   "source": [
    "# Best reviewed movies\n",
    "\n",
    "pop_movies_ratings = ratings[ratings[\"movieId\"].isin(pop_movies)]\n",
    "movie_rec = pop_movies_ratings[[\"rating\", \"movieId\"]].groupby(\"movieId\").mean().sort_values(by=\"rating\", \n",
    "                                                                           ascending=False).reset_index()\n"
   ]
  },
  {
   "cell_type": "code",
   "execution_count": 19,
   "id": "2463019d",
   "metadata": {
    "ExecuteTime": {
     "end_time": "2023-08-29T18:31:01.179167Z",
     "start_time": "2023-08-29T18:31:01.133518Z"
    },
    "hidden": true,
    "scrolled": true
   },
   "outputs": [
    {
     "data": {
      "text/html": [
       "<div>\n",
       "<style scoped>\n",
       "    .dataframe tbody tr th:only-of-type {\n",
       "        vertical-align: middle;\n",
       "    }\n",
       "\n",
       "    .dataframe tbody tr th {\n",
       "        vertical-align: top;\n",
       "    }\n",
       "\n",
       "    .dataframe thead th {\n",
       "        text-align: right;\n",
       "    }\n",
       "</style>\n",
       "<table border=\"1\" class=\"dataframe\">\n",
       "  <thead>\n",
       "    <tr style=\"text-align: right;\">\n",
       "      <th></th>\n",
       "      <th>movieId</th>\n",
       "      <th>rating</th>\n",
       "      <th>title</th>\n",
       "    </tr>\n",
       "  </thead>\n",
       "  <tbody>\n",
       "    <tr>\n",
       "      <th>0</th>\n",
       "      <td>318</td>\n",
       "      <td>4.413576</td>\n",
       "      <td>Shawshank Redemption, The (1994)</td>\n",
       "    </tr>\n",
       "    <tr>\n",
       "      <th>1</th>\n",
       "      <td>858</td>\n",
       "      <td>4.324336</td>\n",
       "      <td>Godfather, The (1972)</td>\n",
       "    </tr>\n",
       "    <tr>\n",
       "      <th>2</th>\n",
       "      <td>50</td>\n",
       "      <td>4.284353</td>\n",
       "      <td>Usual Suspects, The (1995)</td>\n",
       "    </tr>\n",
       "    <tr>\n",
       "      <th>3</th>\n",
       "      <td>1221</td>\n",
       "      <td>4.261759</td>\n",
       "      <td>Godfather: Part II, The (1974)</td>\n",
       "    </tr>\n",
       "    <tr>\n",
       "      <th>4</th>\n",
       "      <td>2019</td>\n",
       "      <td>4.254769</td>\n",
       "      <td>Seven Samurai (Shichinin no samurai) (1954)</td>\n",
       "    </tr>\n",
       "    <tr>\n",
       "      <th>5</th>\n",
       "      <td>527</td>\n",
       "      <td>4.247579</td>\n",
       "      <td>Schindler's List (1993)</td>\n",
       "    </tr>\n",
       "    <tr>\n",
       "      <th>6</th>\n",
       "      <td>1203</td>\n",
       "      <td>4.243014</td>\n",
       "      <td>12 Angry Men (1957)</td>\n",
       "    </tr>\n",
       "    <tr>\n",
       "      <th>7</th>\n",
       "      <td>904</td>\n",
       "      <td>4.237948</td>\n",
       "      <td>Rear Window (1954)</td>\n",
       "    </tr>\n",
       "    <tr>\n",
       "      <th>8</th>\n",
       "      <td>2959</td>\n",
       "      <td>4.228311</td>\n",
       "      <td>Fight Club (1999)</td>\n",
       "    </tr>\n",
       "    <tr>\n",
       "      <th>9</th>\n",
       "      <td>1193</td>\n",
       "      <td>4.218662</td>\n",
       "      <td>One Flew Over the Cuckoo's Nest (1975)</td>\n",
       "    </tr>\n",
       "  </tbody>\n",
       "</table>\n",
       "</div>"
      ],
      "text/plain": [
       "   movieId    rating                                        title\n",
       "0      318  4.413576             Shawshank Redemption, The (1994)\n",
       "1      858  4.324336                        Godfather, The (1972)\n",
       "2       50  4.284353                   Usual Suspects, The (1995)\n",
       "3     1221  4.261759               Godfather: Part II, The (1974)\n",
       "4     2019  4.254769  Seven Samurai (Shichinin no samurai) (1954)\n",
       "5      527  4.247579                      Schindler's List (1993)\n",
       "6     1203  4.243014                          12 Angry Men (1957)\n",
       "7      904  4.237948                           Rear Window (1954)\n",
       "8     2959  4.228311                            Fight Club (1999)\n",
       "9     1193  4.218662       One Flew Over the Cuckoo's Nest (1975)"
      ]
     },
     "execution_count": 19,
     "metadata": {},
     "output_type": "execute_result"
    }
   ],
   "source": [
    "movie_rec.merge(right=movies[[\"movieId\", \"title\"]], on=\"movieId\").head(10)"
   ]
  },
  {
   "cell_type": "markdown",
   "id": "738fa682",
   "metadata": {},
   "source": [
    "### Most seem together"
   ]
  },
  {
   "cell_type": "code",
   "execution_count": 69,
   "id": "a703a573",
   "metadata": {
    "ExecuteTime": {
     "end_time": "2023-08-29T19:12:06.772158Z",
     "start_time": "2023-08-29T19:12:04.267662Z"
    }
   },
   "outputs": [],
   "source": [
    "# from itertools import permutations\n",
    "\n",
    "# def create_pairs(x):\n",
    "#     pairs = pd.DataFrame(list(permutations(x.values, 2)), columns=[\"movie_a\", \"movie_b\"])\n",
    "#     return pairs\n",
    "\n",
    "# # Getting a smaller sample from ratings\n",
    "# n_users = 1000\n",
    "# selected_users = ratings['userId'].sample(n_users, replace=False).values\n",
    "# small_ratings = ratings.loc[ratings[\"userId\"].isin(selected_users), [\"userId\", \"movieId\"]]\n",
    "\n",
    "# # Get a smaller movie subset\n",
    "# small_ratings_count = small_ratings[\"movieId\"].value_counts()\n",
    "# small_ratings_count = small_ratings_count[small_ratings_count > 250]\n",
    "# smaller_ratings = small_ratings[small_ratings[\"movieId\"].isin(small_ratings_count.index)]\n",
    "\n",
    "# # Counting the pairs movies watched by the same user\n",
    "# pair_counts = smaller_ratings.groupby(\"userId\")[\"movieId\"].apply(create_pairs).reset_index(drop=True)\n",
    "\n",
    "# # Saving the results\n",
    "# pair_counts.to_parquet(\"../data/pair_counts.parquet\")"
   ]
  },
  {
   "cell_type": "code",
   "execution_count": 55,
   "id": "b384399d",
   "metadata": {
    "ExecuteTime": {
     "end_time": "2023-08-29T22:27:55.480194Z",
     "start_time": "2023-08-29T22:27:55.067176Z"
    }
   },
   "outputs": [],
   "source": [
    "pair_counts = pd.read_parquet(\"../data/pair_counts.parquet\")"
   ]
  },
  {
   "cell_type": "code",
   "execution_count": 56,
   "id": "1707beaf",
   "metadata": {
    "ExecuteTime": {
     "end_time": "2023-08-29T22:27:58.273897Z",
     "start_time": "2023-08-29T22:27:55.562342Z"
    }
   },
   "outputs": [],
   "source": [
    "pair_counts = pair_counts.groupby([\"movie_a\", \"movie_b\"]).size().to_frame(name='size').reset_index()"
   ]
  },
  {
   "cell_type": "code",
   "execution_count": 57,
   "id": "0d57c8c7",
   "metadata": {
    "ExecuteTime": {
     "end_time": "2023-08-29T22:27:58.364710Z",
     "start_time": "2023-08-29T22:27:58.335466Z"
    }
   },
   "outputs": [],
   "source": [
    "pair_counts_a = pair_counts.merge(right=movies[[\"movieId\", \"title\"]], left_on=\"movie_a\", right_on=\"movieId\")[[\"title\", \"movie_b\", \"size\"]]\n",
    "pair_counts_a = pair_counts_a.rename(columns={\"title\":\"movie_a\"})"
   ]
  },
  {
   "cell_type": "code",
   "execution_count": 59,
   "id": "ea3ccc1f",
   "metadata": {
    "ExecuteTime": {
     "end_time": "2023-08-29T22:28:05.946203Z",
     "start_time": "2023-08-29T22:28:05.878361Z"
    }
   },
   "outputs": [
    {
     "data": {
      "text/html": [
       "<div>\n",
       "<style scoped>\n",
       "    .dataframe tbody tr th:only-of-type {\n",
       "        vertical-align: middle;\n",
       "    }\n",
       "\n",
       "    .dataframe tbody tr th {\n",
       "        vertical-align: top;\n",
       "    }\n",
       "\n",
       "    .dataframe thead th {\n",
       "        text-align: right;\n",
       "    }\n",
       "</style>\n",
       "<table border=\"1\" class=\"dataframe\">\n",
       "  <thead>\n",
       "    <tr style=\"text-align: right;\">\n",
       "      <th></th>\n",
       "      <th>movie_a</th>\n",
       "      <th>movie_b</th>\n",
       "      <th>size</th>\n",
       "    </tr>\n",
       "  </thead>\n",
       "  <tbody>\n",
       "    <tr>\n",
       "      <th>0</th>\n",
       "      <td>Toy Story (1995)</td>\n",
       "      <td>Jumanji (1995)</td>\n",
       "      <td>290</td>\n",
       "    </tr>\n",
       "    <tr>\n",
       "      <th>1</th>\n",
       "      <td>Heat (1995)</td>\n",
       "      <td>Jumanji (1995)</td>\n",
       "      <td>167</td>\n",
       "    </tr>\n",
       "    <tr>\n",
       "      <th>2</th>\n",
       "      <td>GoldenEye (1995)</td>\n",
       "      <td>Jumanji (1995)</td>\n",
       "      <td>185</td>\n",
       "    </tr>\n",
       "    <tr>\n",
       "      <th>3</th>\n",
       "      <td>Casino (1995)</td>\n",
       "      <td>Jumanji (1995)</td>\n",
       "      <td>154</td>\n",
       "    </tr>\n",
       "    <tr>\n",
       "      <th>4</th>\n",
       "      <td>Ace Ventura: When Nature Calls (1995)</td>\n",
       "      <td>Jumanji (1995)</td>\n",
       "      <td>194</td>\n",
       "    </tr>\n",
       "  </tbody>\n",
       "</table>\n",
       "</div>"
      ],
      "text/plain": [
       "                                 movie_a         movie_b  size\n",
       "0                       Toy Story (1995)  Jumanji (1995)   290\n",
       "1                            Heat (1995)  Jumanji (1995)   167\n",
       "2                       GoldenEye (1995)  Jumanji (1995)   185\n",
       "3                          Casino (1995)  Jumanji (1995)   154\n",
       "4  Ace Ventura: When Nature Calls (1995)  Jumanji (1995)   194"
      ]
     },
     "execution_count": 59,
     "metadata": {},
     "output_type": "execute_result"
    }
   ],
   "source": [
    "pair_counts_b = pair_counts_a.merge(right=movies[[\"movieId\", \"title\"]], left_on=\"movie_b\", right_on=\"movieId\")[[\"movie_a\", \"title\", \"size\"]]\n",
    "pair_counts = pair_counts_b.rename(columns={\"title\":\"movie_b\"})\n",
    "pair_counts.head()"
   ]
  },
  {
   "cell_type": "code",
   "execution_count": 63,
   "id": "c8ab233a",
   "metadata": {
    "ExecuteTime": {
     "end_time": "2023-08-29T22:29:25.976316Z",
     "start_time": "2023-08-29T22:29:25.951392Z"
    }
   },
   "outputs": [
    {
     "data": {
      "text/html": [
       "<div>\n",
       "<style scoped>\n",
       "    .dataframe tbody tr th:only-of-type {\n",
       "        vertical-align: middle;\n",
       "    }\n",
       "\n",
       "    .dataframe tbody tr th {\n",
       "        vertical-align: top;\n",
       "    }\n",
       "\n",
       "    .dataframe thead th {\n",
       "        text-align: right;\n",
       "    }\n",
       "</style>\n",
       "<table border=\"1\" class=\"dataframe\">\n",
       "  <thead>\n",
       "    <tr style=\"text-align: right;\">\n",
       "      <th></th>\n",
       "      <th>movie_a</th>\n",
       "      <th>movie_b</th>\n",
       "      <th>size</th>\n",
       "    </tr>\n",
       "  </thead>\n",
       "  <tbody>\n",
       "    <tr>\n",
       "      <th>10624</th>\n",
       "      <td>Toy Story (1995)</td>\n",
       "      <td>Forrest Gump (1994)</td>\n",
       "      <td>500</td>\n",
       "    </tr>\n",
       "    <tr>\n",
       "      <th>8632</th>\n",
       "      <td>Toy Story (1995)</td>\n",
       "      <td>Pulp Fiction (1994)</td>\n",
       "      <td>472</td>\n",
       "    </tr>\n",
       "    <tr>\n",
       "      <th>61420</th>\n",
       "      <td>Toy Story (1995)</td>\n",
       "      <td>Matrix, The (1999)</td>\n",
       "      <td>469</td>\n",
       "    </tr>\n",
       "    <tr>\n",
       "      <th>7304</th>\n",
       "      <td>Toy Story (1995)</td>\n",
       "      <td>Star Wars: Episode IV - A New Hope (1977)</td>\n",
       "      <td>467</td>\n",
       "    </tr>\n",
       "    <tr>\n",
       "      <th>13944</th>\n",
       "      <td>Toy Story (1995)</td>\n",
       "      <td>Jurassic Park (1993)</td>\n",
       "      <td>465</td>\n",
       "    </tr>\n",
       "    <tr>\n",
       "      <th>18260</th>\n",
       "      <td>Toy Story (1995)</td>\n",
       "      <td>Silence of the Lambs, The (1991)</td>\n",
       "      <td>465</td>\n",
       "    </tr>\n",
       "    <tr>\n",
       "      <th>9296</th>\n",
       "      <td>Toy Story (1995)</td>\n",
       "      <td>Shawshank Redemption, The (1994)</td>\n",
       "      <td>458</td>\n",
       "    </tr>\n",
       "    <tr>\n",
       "      <th>37848</th>\n",
       "      <td>Toy Story (1995)</td>\n",
       "      <td>Back to the Future (1985)</td>\n",
       "      <td>458</td>\n",
       "    </tr>\n",
       "    <tr>\n",
       "      <th>30212</th>\n",
       "      <td>Toy Story (1995)</td>\n",
       "      <td>Raiders of the Lost Ark (Indiana Jones and the...</td>\n",
       "      <td>443</td>\n",
       "    </tr>\n",
       "    <tr>\n",
       "      <th>32536</th>\n",
       "      <td>Toy Story (1995)</td>\n",
       "      <td>Star Wars: Episode VI - Return of the Jedi (1983)</td>\n",
       "      <td>438</td>\n",
       "    </tr>\n",
       "  </tbody>\n",
       "</table>\n",
       "</div>"
      ],
      "text/plain": [
       "                movie_a                                            movie_b  \\\n",
       "10624  Toy Story (1995)                                Forrest Gump (1994)   \n",
       "8632   Toy Story (1995)                                Pulp Fiction (1994)   \n",
       "61420  Toy Story (1995)                                 Matrix, The (1999)   \n",
       "7304   Toy Story (1995)          Star Wars: Episode IV - A New Hope (1977)   \n",
       "13944  Toy Story (1995)                               Jurassic Park (1993)   \n",
       "18260  Toy Story (1995)                   Silence of the Lambs, The (1991)   \n",
       "9296   Toy Story (1995)                   Shawshank Redemption, The (1994)   \n",
       "37848  Toy Story (1995)                          Back to the Future (1985)   \n",
       "30212  Toy Story (1995)  Raiders of the Lost Ark (Indiana Jones and the...   \n",
       "32536  Toy Story (1995)  Star Wars: Episode VI - Return of the Jedi (1983)   \n",
       "\n",
       "       size  \n",
       "10624   500  \n",
       "8632    472  \n",
       "61420   469  \n",
       "7304    467  \n",
       "13944   465  \n",
       "18260   465  \n",
       "9296    458  \n",
       "37848   458  \n",
       "30212   443  \n",
       "32536   438  "
      ]
     },
     "execution_count": 63,
     "metadata": {},
     "output_type": "execute_result"
    }
   ],
   "source": [
    "pair_counts[pair_counts[\"movie_a\"] == \"Toy Story (1995)\"].sort_values(by=\"size\", ascending=False).head(10)"
   ]
  },
  {
   "cell_type": "markdown",
   "id": "544a557e",
   "metadata": {},
   "source": [
    "## Colaborative filtering"
   ]
  },
  {
   "cell_type": "code",
   "execution_count": 181,
   "id": "6d119954",
   "metadata": {
    "ExecuteTime": {
     "end_time": "2023-08-27T00:31:58.822709Z",
     "start_time": "2023-08-27T00:31:58.310043Z"
    }
   },
   "outputs": [],
   "source": [
    "movie_id = 1\n",
    "\n",
    "# Users that watched our movie and rated >4\n",
    "similar_users = ratings.loc[(ratings[\"movieId\"] == movie_id) & (ratings[\"rating\"] > 4.0), \"userId\"].unique()\n",
    "\n",
    "# High rated movies (>4) that our similiar users watched\n",
    "similar_users_rec = ratings.loc[(ratings[\"userId\"].isin(similar_users)) & (ratings[\"rating\"] > 4.0), \"movieId\"]\n",
    "\n",
    "# Counting how many users watched our recomendation. Getting the percentage from similar users\n",
    "similar_rec_movies_percentage = (similar_users_rec.value_counts() / len(similar_users))\n",
    "\n",
    "# Restricting ourselves to 10%\n",
    "similar_rec_movies_percentage = similar_rec_movies_percentage[similar_rec_movies_percentage > 0.1]"
   ]
  },
  {
   "cell_type": "code",
   "execution_count": 198,
   "id": "7c963b56",
   "metadata": {
    "ExecuteTime": {
     "end_time": "2023-08-27T00:39:17.225627Z",
     "start_time": "2023-08-27T00:39:17.218759Z"
    }
   },
   "outputs": [
    {
     "data": {
      "text/plain": [
       "1        1.000000\n",
       "318      0.445607\n",
       "260      0.403770\n",
       "356      0.370215\n",
       "296      0.367295\n",
       "           ...   \n",
       "953      0.103053\n",
       "551      0.101195\n",
       "1222     0.100876\n",
       "745      0.100345\n",
       "48780    0.100186\n",
       "Name: movieId, Length: 113, dtype: float64"
      ]
     },
     "execution_count": 198,
     "metadata": {},
     "output_type": "execute_result"
    }
   ],
   "source": [
    "similar_rec_movies_percentage"
   ]
  },
  {
   "cell_type": "code",
   "execution_count": 199,
   "id": "a8df6a7f",
   "metadata": {
    "ExecuteTime": {
     "end_time": "2023-08-27T00:39:24.807881Z",
     "start_time": "2023-08-27T00:39:24.182175Z"
    }
   },
   "outputs": [],
   "source": [
    "# We don't want movies that are there just because they are already popular\n",
    "\n",
    "all_users = ratings.loc[(ratings[\"movieId\"].isin(similar_rec_movies_percentage.index)&(ratings[\"rating\"]>4.0))]\n",
    "all_users_recs_percentage = all_users[\"movieId\"].value_counts() / len(all_users[\"userId\"].unique())"
   ]
  },
  {
   "cell_type": "code",
   "execution_count": 200,
   "id": "19761058",
   "metadata": {
    "ExecuteTime": {
     "end_time": "2023-08-27T00:39:31.358135Z",
     "start_time": "2023-08-27T00:39:31.350213Z"
    }
   },
   "outputs": [
    {
     "data": {
      "text/plain": [
       "318      0.342220\n",
       "296      0.284674\n",
       "2571     0.244033\n",
       "356      0.235266\n",
       "593      0.225909\n",
       "           ...   \n",
       "551      0.040918\n",
       "50872    0.039111\n",
       "745      0.037031\n",
       "78499    0.035131\n",
       "2355     0.025091\n",
       "Name: movieId, Length: 113, dtype: float64"
      ]
     },
     "execution_count": 200,
     "metadata": {},
     "output_type": "execute_result"
    }
   ],
   "source": [
    "all_users_recs_percentage"
   ]
  },
  {
   "cell_type": "code",
   "execution_count": 210,
   "id": "b8c00ca2",
   "metadata": {
    "ExecuteTime": {
     "end_time": "2023-08-27T00:47:08.223064Z",
     "start_time": "2023-08-27T00:47:08.187968Z"
    }
   },
   "outputs": [],
   "source": [
    "# Creating a score\n",
    "\n",
    "rec_percentages = pd.concat([similar_rec_movies_percentage, all_users_recs_percentage], axis=1)\n",
    "rec_percentages.columns = [\"similar\", \"all\"]\n",
    "rec_percentages[\"score\"] = rec_percentages[\"similar\"] / rec_percentages[\"all\"]\n",
    "rec_percentages = rec_percentages.sort_values(\"score\", ascending=False).iloc[:9].merge(movies, left_index=True, right_on=\"movieId\")"
   ]
  },
  {
   "cell_type": "code",
   "execution_count": 211,
   "id": "82125944",
   "metadata": {
    "ExecuteTime": {
     "end_time": "2023-08-27T00:47:12.438709Z",
     "start_time": "2023-08-27T00:47:12.410067Z"
    }
   },
   "outputs": [
    {
     "data": {
      "text/html": [
       "<div>\n",
       "<style scoped>\n",
       "    .dataframe tbody tr th:only-of-type {\n",
       "        vertical-align: middle;\n",
       "    }\n",
       "\n",
       "    .dataframe tbody tr th {\n",
       "        vertical-align: top;\n",
       "    }\n",
       "\n",
       "    .dataframe thead th {\n",
       "        text-align: right;\n",
       "    }\n",
       "</style>\n",
       "<table border=\"1\" class=\"dataframe\">\n",
       "  <thead>\n",
       "    <tr style=\"text-align: right;\">\n",
       "      <th></th>\n",
       "      <th>similar</th>\n",
       "      <th>all</th>\n",
       "      <th>score</th>\n",
       "      <th>movieId</th>\n",
       "      <th>title</th>\n",
       "      <th>genres</th>\n",
       "      <th>clean_titles</th>\n",
       "    </tr>\n",
       "  </thead>\n",
       "  <tbody>\n",
       "    <tr>\n",
       "      <th>0</th>\n",
       "      <td>1.000000</td>\n",
       "      <td>0.124728</td>\n",
       "      <td>8.017414</td>\n",
       "      <td>1</td>\n",
       "      <td>Toy Story (1995)</td>\n",
       "      <td>Adventure|Animation|Children|Comedy|Fantasy</td>\n",
       "      <td>Toy Story 1995</td>\n",
       "    </tr>\n",
       "    <tr>\n",
       "      <th>3021</th>\n",
       "      <td>0.280648</td>\n",
       "      <td>0.053706</td>\n",
       "      <td>5.225654</td>\n",
       "      <td>3114</td>\n",
       "      <td>Toy Story 2 (1999)</td>\n",
       "      <td>Adventure|Animation|Children|Comedy|Fantasy</td>\n",
       "      <td>Toy Story 2 1999</td>\n",
       "    </tr>\n",
       "    <tr>\n",
       "      <th>2264</th>\n",
       "      <td>0.110539</td>\n",
       "      <td>0.025091</td>\n",
       "      <td>4.405452</td>\n",
       "      <td>2355</td>\n",
       "      <td>Bug's Life, A (1998)</td>\n",
       "      <td>Adventure|Animation|Children|Comedy</td>\n",
       "      <td>Bugs Life A 1998</td>\n",
       "    </tr>\n",
       "    <tr>\n",
       "      <th>14813</th>\n",
       "      <td>0.152960</td>\n",
       "      <td>0.035131</td>\n",
       "      <td>4.354038</td>\n",
       "      <td>78499</td>\n",
       "      <td>Toy Story 3 (2010)</td>\n",
       "      <td>Adventure|Animation|Children|Comedy|Fantasy|IMAX</td>\n",
       "      <td>Toy Story 3 2010</td>\n",
       "    </tr>\n",
       "    <tr>\n",
       "      <th>4780</th>\n",
       "      <td>0.235147</td>\n",
       "      <td>0.070811</td>\n",
       "      <td>3.320783</td>\n",
       "      <td>4886</td>\n",
       "      <td>Monsters, Inc. (2001)</td>\n",
       "      <td>Adventure|Animation|Children|Comedy|Fantasy</td>\n",
       "      <td>Monsters Inc 2001</td>\n",
       "    </tr>\n",
       "    <tr>\n",
       "      <th>580</th>\n",
       "      <td>0.216618</td>\n",
       "      <td>0.067513</td>\n",
       "      <td>3.208539</td>\n",
       "      <td>588</td>\n",
       "      <td>Aladdin (1992)</td>\n",
       "      <td>Adventure|Animation|Children|Comedy|Musical</td>\n",
       "      <td>Aladdin 1992</td>\n",
       "    </tr>\n",
       "    <tr>\n",
       "      <th>6258</th>\n",
       "      <td>0.228139</td>\n",
       "      <td>0.072268</td>\n",
       "      <td>3.156862</td>\n",
       "      <td>6377</td>\n",
       "      <td>Finding Nemo (2003)</td>\n",
       "      <td>Adventure|Animation|Children|Comedy</td>\n",
       "      <td>Finding Nemo 2003</td>\n",
       "    </tr>\n",
       "    <tr>\n",
       "      <th>587</th>\n",
       "      <td>0.179400</td>\n",
       "      <td>0.059977</td>\n",
       "      <td>2.991150</td>\n",
       "      <td>595</td>\n",
       "      <td>Beauty and the Beast (1991)</td>\n",
       "      <td>Animation|Children|Fantasy|Musical|Romance|IMAX</td>\n",
       "      <td>Beauty and the Beast 1991</td>\n",
       "    </tr>\n",
       "    <tr>\n",
       "      <th>8246</th>\n",
       "      <td>0.203504</td>\n",
       "      <td>0.068453</td>\n",
       "      <td>2.972889</td>\n",
       "      <td>8961</td>\n",
       "      <td>Incredibles, The (2004)</td>\n",
       "      <td>Action|Adventure|Animation|Children|Comedy</td>\n",
       "      <td>Incredibles The 2004</td>\n",
       "    </tr>\n",
       "  </tbody>\n",
       "</table>\n",
       "</div>"
      ],
      "text/plain": [
       "        similar       all     score  movieId                        title  \\\n",
       "0      1.000000  0.124728  8.017414        1             Toy Story (1995)   \n",
       "3021   0.280648  0.053706  5.225654     3114           Toy Story 2 (1999)   \n",
       "2264   0.110539  0.025091  4.405452     2355         Bug's Life, A (1998)   \n",
       "14813  0.152960  0.035131  4.354038    78499           Toy Story 3 (2010)   \n",
       "4780   0.235147  0.070811  3.320783     4886        Monsters, Inc. (2001)   \n",
       "580    0.216618  0.067513  3.208539      588               Aladdin (1992)   \n",
       "6258   0.228139  0.072268  3.156862     6377          Finding Nemo (2003)   \n",
       "587    0.179400  0.059977  2.991150      595  Beauty and the Beast (1991)   \n",
       "8246   0.203504  0.068453  2.972889     8961      Incredibles, The (2004)   \n",
       "\n",
       "                                                 genres  \\\n",
       "0           Adventure|Animation|Children|Comedy|Fantasy   \n",
       "3021        Adventure|Animation|Children|Comedy|Fantasy   \n",
       "2264                Adventure|Animation|Children|Comedy   \n",
       "14813  Adventure|Animation|Children|Comedy|Fantasy|IMAX   \n",
       "4780        Adventure|Animation|Children|Comedy|Fantasy   \n",
       "580         Adventure|Animation|Children|Comedy|Musical   \n",
       "6258                Adventure|Animation|Children|Comedy   \n",
       "587     Animation|Children|Fantasy|Musical|Romance|IMAX   \n",
       "8246         Action|Adventure|Animation|Children|Comedy   \n",
       "\n",
       "                    clean_titles  \n",
       "0                 Toy Story 1995  \n",
       "3021            Toy Story 2 1999  \n",
       "2264            Bugs Life A 1998  \n",
       "14813           Toy Story 3 2010  \n",
       "4780           Monsters Inc 2001  \n",
       "580                 Aladdin 1992  \n",
       "6258           Finding Nemo 2003  \n",
       "587    Beauty and the Beast 1991  \n",
       "8246        Incredibles The 2004  "
      ]
     },
     "execution_count": 211,
     "metadata": {},
     "output_type": "execute_result"
    }
   ],
   "source": [
    "rec_percentages"
   ]
  },
  {
   "cell_type": "code",
   "execution_count": null,
   "id": "c83f6bd2",
   "metadata": {},
   "outputs": [],
   "source": [
    "# Extract year and genres"
   ]
  }
 ],
 "metadata": {
  "kernelspec": {
   "display_name": "Python 3",
   "language": "python",
   "name": "python3"
  },
  "language_info": {
   "codemirror_mode": {
    "name": "ipython",
    "version": 3
   },
   "file_extension": ".py",
   "mimetype": "text/x-python",
   "name": "python",
   "nbconvert_exporter": "python",
   "pygments_lexer": "ipython3",
   "version": "3.8.10"
  },
  "varInspector": {
   "cols": {
    "lenName": 16,
    "lenType": 16,
    "lenVar": 40
   },
   "kernels_config": {
    "python": {
     "delete_cmd_postfix": "",
     "delete_cmd_prefix": "del ",
     "library": "var_list.py",
     "varRefreshCmd": "print(var_dic_list())"
    },
    "r": {
     "delete_cmd_postfix": ") ",
     "delete_cmd_prefix": "rm(",
     "library": "var_list.r",
     "varRefreshCmd": "cat(var_dic_list()) "
    }
   },
   "types_to_exclude": [
    "module",
    "function",
    "builtin_function_or_method",
    "instance",
    "_Feature"
   ],
   "window_display": false
  }
 },
 "nbformat": 4,
 "nbformat_minor": 5
}
